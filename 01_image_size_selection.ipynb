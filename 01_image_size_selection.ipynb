{
 "cells": [
  {
   "cell_type": "code",
   "execution_count": 1,
   "metadata": {
    "ExecuteTime": {
     "end_time": "2018-01-05T12:06:55.084190Z",
     "start_time": "2018-01-05T12:06:54.882179Z"
    },
    "collapsed": true
   },
   "outputs": [],
   "source": [
    "import matplotlib.pyplot as plt\n",
    "import numpy as np\n",
    "import os\n"
   ]
  },
  {
   "cell_type": "code",
   "execution_count": 2,
   "metadata": {
    "ExecuteTime": {
     "end_time": "2018-01-05T12:06:55.642217Z",
     "start_time": "2018-01-05T12:06:55.637153Z"
    },
    "collapsed": true
   },
   "outputs": [],
   "source": [
    "from PIL import Image"
   ]
  },
  {
   "cell_type": "code",
   "execution_count": 3,
   "metadata": {
    "ExecuteTime": {
     "end_time": "2018-01-04T17:23:47.774337Z",
     "start_time": "2018-01-04T17:23:47.743823Z"
    },
    "collapsed": true
   },
   "outputs": [],
   "source": [
    "im = Image.open('train/Black-grass/0050f38b3.png')"
   ]
  },
  {
   "cell_type": "code",
   "execution_count": 5,
   "metadata": {
    "ExecuteTime": {
     "end_time": "2018-01-04T17:24:00.625552Z",
     "start_time": "2018-01-04T17:24:00.622489Z"
    }
   },
   "outputs": [
    {
     "data": {
      "text/plain": [
       "196"
      ]
     },
     "execution_count": 5,
     "metadata": {},
     "output_type": "execute_result"
    }
   ],
   "source": [
    "im.size[0]"
   ]
  },
  {
   "cell_type": "code",
   "execution_count": 19,
   "metadata": {
    "ExecuteTime": {
     "end_time": "2018-01-05T12:09:13.602036Z",
     "start_time": "2018-01-05T12:08:45.161042Z"
    }
   },
   "outputs": [],
   "source": [
    "img_size_list = []\n",
    "for i in os.listdir('train'):\n",
    "    for j in os.listdir('train/' + i):\n",
    "        im = Image.open('train/' + i + '/'+j)\n",
    "        img_size_list.append(im.size[0])\n",
    "        "
   ]
  },
  {
   "cell_type": "code",
   "execution_count": 20,
   "metadata": {
    "ExecuteTime": {
     "end_time": "2018-01-05T12:09:13.614254Z",
     "start_time": "2018-01-05T12:09:13.606224Z"
    }
   },
   "outputs": [
    {
     "data": {
      "text/plain": [
       "3820"
      ]
     },
     "execution_count": 20,
     "metadata": {},
     "output_type": "execute_result"
    }
   ],
   "source": [
    "len(img_size_list)"
   ]
  },
  {
   "cell_type": "code",
   "execution_count": 21,
   "metadata": {
    "ExecuteTime": {
     "end_time": "2018-01-05T12:09:13.704795Z",
     "start_time": "2018-01-05T12:09:13.616533Z"
    },
    "collapsed": true
   },
   "outputs": [],
   "source": [
    "img_size_arr = np.array(img_size_list)"
   ]
  },
  {
   "cell_type": "code",
   "execution_count": 22,
   "metadata": {
    "ExecuteTime": {
     "end_time": "2018-01-05T12:09:13.818999Z",
     "start_time": "2018-01-05T12:09:13.708914Z"
    }
   },
   "outputs": [
    {
     "data": {
      "text/plain": [
       "3820"
      ]
     },
     "execution_count": 22,
     "metadata": {},
     "output_type": "execute_result"
    }
   ],
   "source": [
    "len(img_size_arr)"
   ]
  },
  {
   "cell_type": "code",
   "execution_count": 23,
   "metadata": {
    "ExecuteTime": {
     "end_time": "2018-01-05T12:09:13.962362Z",
     "start_time": "2018-01-05T12:09:13.823747Z"
    }
   },
   "outputs": [
    {
     "data": {
      "text/plain": [
       "(array([  2.62000000e+03,   8.92000000e+02,   2.25000000e+02,\n",
       "          5.70000000e+01,   1.30000000e+01,   6.00000000e+00,\n",
       "          2.00000000e+00,   3.00000000e+00,   0.00000000e+00,\n",
       "          2.00000000e+00]),\n",
       " array([   49. ,   443.2,   837.4,  1231.6,  1625.8,  2020. ,  2414.2,\n",
       "         2808.4,  3202.6,  3596.8,  3991. ]),\n",
       " <a list of 10 Patch objects>)"
      ]
     },
     "execution_count": 23,
     "metadata": {},
     "output_type": "execute_result"
    }
   ],
   "source": [
    "plt.hist(img_size_arr,)\n"
   ]
  },
  {
   "cell_type": "code",
   "execution_count": 24,
   "metadata": {
    "ExecuteTime": {
     "end_time": "2018-01-05T12:09:14.081251Z",
     "start_time": "2018-01-05T12:09:13.964073Z"
    }
   },
   "outputs": [
    {
     "data": {
      "image/png": "[encoded data removed]",
      "text/plain": [
       "<matplotlib.figure.Figure at 0x7ff7bffd64e0>"
      ]
     },
     "metadata": {},
     "output_type": "display_data"
    }
   ],
   "source": [
    "plt.show()"
   ]
  },
  {
   "cell_type": "code",
   "execution_count": null,
   "metadata": {
    "collapsed": true
   },
   "outputs": [],
   "source": []
  }
 ],
 "metadata": {
  "kernelspec": {
   "display_name": "Python 3",
   "language": "python",
   "name": "python3"
  },
  "language_info": {
   "codemirror_mode": {
    "name": "ipython",
    "version": 3
   },
   "file_extension": ".py",
   "mimetype": "text/x-python",
   "name": "python",
   "nbconvert_exporter": "python",
   "pygments_lexer": "ipython3",
   "version": "3.5.4"
  },
  "toc": {
   "nav_menu": {},
   "number_sections": true,
   "sideBar": true,
   "skip_h1_title": false,
   "toc_cell": false,
   "toc_position": {},
   "toc_section_display": "block",
   "toc_window_display": false
  }
 },
 "nbformat": 4,
 "nbformat_minor": 2
}
