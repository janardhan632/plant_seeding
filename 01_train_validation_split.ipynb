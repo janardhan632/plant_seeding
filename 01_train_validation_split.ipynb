{
 "cells": [
  {
   "cell_type": "code",
   "execution_count": 1,
   "metadata": {
    "ExecuteTime": {
     "end_time": "2018-01-07T08:02:53.628995Z",
     "start_time": "2018-01-07T08:02:53.403925Z"
    },
    "collapsed": true
   },
   "outputs": [],
   "source": [
    "import os\n",
    "import pandas as pd\n",
    "import numpy as np\n",
    "import shutil\n"
   ]
  },
  {
   "cell_type": "code",
   "execution_count": 24,
   "metadata": {
    "collapsed": true
   },
   "outputs": [],
   "source": [
    "os.makedirs('validation')\n"
   ]
  },
  {
   "cell_type": "code",
   "execution_count": 25,
   "metadata": {
    "collapsed": true
   },
   "outputs": [],
   "source": [
    "subfolders = [f.path for f in os.scandir('train') if f.is_dir() ] "
   ]
  },
  {
   "cell_type": "code",
   "execution_count": 26,
   "metadata": {},
   "outputs": [
    {
     "data": {
      "text/plain": [
       "['train/Scentless Mayweed',\n",
       " 'train/Sugar beet',\n",
       " 'train/Charlock',\n",
       " 'train/Black-grass',\n",
       " 'train/Fat Hen',\n",
       " 'train/Cleavers',\n",
       " 'train/Common wheat',\n",
       " 'train/Common Chickweed',\n",
       " 'train/Shepherds Purse',\n",
       " 'train/Small-flowered Cranesbill',\n",
       " 'train/Loose Silky-bent',\n",
       " 'train/Maize']"
      ]
     },
     "execution_count": 26,
     "metadata": {},
     "output_type": "execute_result"
    }
   ],
   "source": [
    "subfolders"
   ]
  },
  {
   "cell_type": "code",
   "execution_count": 27,
   "metadata": {},
   "outputs": [
    {
     "data": {
      "text/plain": [
       "['Scentless Mayweed',\n",
       " 'Sugar beet',\n",
       " 'Charlock',\n",
       " 'Black-grass',\n",
       " 'Fat Hen',\n",
       " 'Cleavers',\n",
       " 'Common wheat',\n",
       " 'Common Chickweed',\n",
       " 'Shepherds Purse',\n",
       " 'Small-flowered Cranesbill',\n",
       " 'Loose Silky-bent',\n",
       " 'Maize']"
      ]
     },
     "execution_count": 27,
     "metadata": {},
     "output_type": "execute_result"
    }
   ],
   "source": [
    "os.listdir('train')"
   ]
  },
  {
   "cell_type": "code",
   "execution_count": 31,
   "metadata": {
    "collapsed": true
   },
   "outputs": [],
   "source": [
    "for i in os.listdir('train'):\n",
    "    os.makedirs('validation/'+i)"
   ]
  },
  {
   "cell_type": "code",
   "execution_count": 7,
   "metadata": {},
   "outputs": [],
   "source": [
    "import re\n",
    "\n",
    "k =[]\n",
    "for i in os.listdir('validation'):\n",
    "    for j in os.scandir('validation/' + i):\n",
    "        k.append(re.sub(r'validation\\/(.*)\\/.*',r'\\1',j.path))\n",
    "        "
   ]
  },
  {
   "cell_type": "code",
   "execution_count": 32,
   "metadata": {
    "collapsed": true
   },
   "outputs": [],
   "source": [
    "for i in os.listdir('train'):\n",
    "    for j in os.listdir('train/' + i):\n",
    "        train_or_valid = np.random.choice(['train','valid'], size=1, p=[0.80,0.20])[0]\n",
    "        if(train_or_valid == 'valid'):\n",
    "            os.rename('train/'+i+'/'+j, 'validation/'+i+'/'+j)\n",
    "\n"
   ]
  },
  {
   "cell_type": "code",
   "execution_count": 2,
   "metadata": {
    "collapsed": true
   },
   "outputs": [],
   "source": [
    "os.makedirs('validation_temp')"
   ]
  },
  {
   "cell_type": "code",
   "execution_count": 4,
   "metadata": {
    "collapsed": true
   },
   "outputs": [],
   "source": [
    "for i in os.listdir('validation'):\n",
    "    os.makedirs('validation_temp/'+i)\n",
    "for i in os.listdir('validation'):\n",
    "    os.makedirs('validation_temp/'+i+'/'+i)"
   ]
  },
  {
   "cell_type": "code",
   "execution_count": 13,
   "metadata": {
    "collapsed": true
   },
   "outputs": [],
   "source": [
    "for i in os.listdir('validation'):\n",
    "    for j in os.listdir('validation/'+i):\n",
    "        shutil.copy(\"validation/\"+i+'/'+j,\"validation_temp/\"+i+'/'+i+'/'+j)"
   ]
  },
  {
   "cell_type": "code",
   "execution_count": 14,
   "metadata": {
    "collapsed": true
   },
   "outputs": [],
   "source": [
    "os.makedirs('train_temp')"
   ]
  },
  {
   "cell_type": "code",
   "execution_count": 15,
   "metadata": {
    "collapsed": true
   },
   "outputs": [],
   "source": [
    "for i in os.listdir('train'):\n",
    "    os.makedirs('train_temp/'+i)\n",
    "for i in os.listdir('train'):\n",
    "    os.makedirs('train_temp/'+i+'/'+i)"
   ]
  },
  {
   "cell_type": "code",
   "execution_count": 16,
   "metadata": {
    "collapsed": true
   },
   "outputs": [],
   "source": [
    "for i in os.listdir('train'):\n",
    "    for j in os.listdir('train/'+i):\n",
    "        shutil.copy(\"train/\"+i+'/'+j,\"train_temp/\"+i+'/'+i+'/'+j)"
   ]
  },
  {
   "cell_type": "code",
   "execution_count": 33,
   "metadata": {
    "collapsed": true
   },
   "outputs": [],
   "source": [
    "import os\n",
    "import shutil\n",
    "\n",
    "os.makedirs('train_2')\n",
    "os.makedirs('validation_2')\n",
    "os.makedirs('train_2/Black-grass/')\n",
    "os.makedirs('validation_2/Black-grass/')\n",
    "os.makedirs('train_2/Loose Silky-bent')\n",
    "os.makedirs('validation_2/Loose Silky-bent')\n"
   ]
  },
  {
   "cell_type": "code",
   "execution_count": 34,
   "metadata": {
    "collapsed": true
   },
   "outputs": [],
   "source": [
    "for j in os.listdir('train/Black-grass/'):\n",
    "    shutil.copy(\"train/Black-grass/\"+j,\"train_2/Black-grass/\"+j)\n",
    "    \n",
    "for j in os.listdir('train/Loose Silky-bent/'):\n",
    "    shutil.copy(\"train/Loose Silky-bent/\"+j,\"train_2/Loose Silky-bent/\"+j)"
   ]
  },
  {
   "cell_type": "code",
   "execution_count": 35,
   "metadata": {
    "collapsed": true
   },
   "outputs": [],
   "source": [
    "for j in os.listdir('validation/Black-grass/'):\n",
    "    shutil.copy(\"validation/Black-grass/\"+j,\"validation_2/Black-grass/\"+j)\n",
    "    \n",
    "for j in os.listdir('validation/Loose Silky-bent/'):\n",
    "    shutil.copy(\"validation/Loose Silky-bent/\"+j,\"validation_2/Loose Silky-bent/\"+j)"
   ]
  },
  {
   "cell_type": "code",
   "execution_count": null,
   "metadata": {
    "collapsed": true
   },
   "outputs": [],
   "source": []
  }
 ],
 "metadata": {
  "kernelspec": {
   "display_name": "Python 3",
   "language": "python",
   "name": "python3"
  },
  "language_info": {
   "codemirror_mode": {
    "name": "ipython",
    "version": 3
   },
   "file_extension": ".py",
   "mimetype": "text/x-python",
   "name": "python",
   "nbconvert_exporter": "python",
   "pygments_lexer": "ipython3",
   "version": "3.5.4"
  },
  "toc": {
   "nav_menu": {},
   "number_sections": true,
   "sideBar": true,
   "skip_h1_title": false,
   "toc_cell": false,
   "toc_position": {},
   "toc_section_display": "block",
   "toc_window_display": false
  }
 },
 "nbformat": 4,
 "nbformat_minor": 2
}
