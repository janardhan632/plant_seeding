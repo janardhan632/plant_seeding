{
 "cells": [
  {
   "cell_type": "code",
   "execution_count": 1,
   "metadata": {
    "collapsed": true
   },
   "outputs": [],
   "source": [
    "from tensorflow.python.keras.preprocessing.image import ImageDataGenerator\n",
    "from tensorflow.python.keras.models import Sequential, Model\n",
    "from tensorflow.python.keras.layers import Dropout, Flatten, Dense, Input\n",
    "from tensorflow.python.keras import applications\n",
    "from tensorflow.python.keras.layers import Conv2D, Convolution2D, MaxPooling2D, ZeroPadding2D\n",
    "import numpy as np\n",
    "import pandas as pd"
   ]
  },
  {
   "cell_type": "code",
   "execution_count": 2,
   "metadata": {
    "collapsed": true
   },
   "outputs": [],
   "source": [
    "input_layer = Input((196, 196, 3))"
   ]
  },
  {
   "cell_type": "code",
   "execution_count": 3,
   "metadata": {
    "collapsed": true
   },
   "outputs": [],
   "source": [
    "#parameters\n",
    "classes = 12\n",
    "batch_size = 32\n",
    "train_total = 3783\n",
    "validation_total = 967"
   ]
  },
  {
   "cell_type": "code",
   "execution_count": 4,
   "metadata": {
    "collapsed": true
   },
   "outputs": [],
   "source": [
    "#1\n",
    "x = Conv2D(64, (3,3), activation='relu', padding='same')(input_layer)\n",
    "x = Conv2D(64, (3,3), activation='relu', padding='same')(x)\n",
    "x = MaxPooling2D((2,2))(x)\n",
    "#2\n",
    "x = Conv2D(128, (3,3), activation='relu', padding='same')(x)\n",
    "x = Conv2D(128, (3,3), activation='relu', padding='same')(x)\n",
    "x = MaxPooling2D((2,2), strides=(2,2))(x)\n",
    "#3\n",
    "x = Conv2D(256, (3,3), activation='relu', padding='same')(x)\n",
    "x = Conv2D(256, (3,3), activation='relu', padding='same')(x)\n",
    "x = Conv2D(256, (3,3), activation='relu', padding='same')(x)\n",
    "x = MaxPooling2D((2,2), strides=(2,2))(x)\n",
    "#4\n",
    "x = Conv2D(512, (3,3), activation='relu', padding='same')(x)\n",
    "x = Conv2D(512, (3,3), activation='relu', padding='same')(x)\n",
    "x = Conv2D(512, (3,3), activation='relu', padding='same')(x)\n",
    "x = MaxPooling2D((2,2), strides=(2,2))(x)\n",
    "#5\n",
    "x = Conv2D(512, (3,3), activation='relu', padding='same')(x)\n",
    "x = Conv2D(512, (3,3), activation='relu', padding='same')(x)\n",
    "x = Conv2D(512, (3,3), activation='relu', padding='same')(x)\n",
    "x = MaxPooling2D((2,2), strides=(2,2))(x)\n",
    "\n",
    "x = Flatten()(x)\n",
    "x = Dense(4096, activation='relu')(x)\n",
    "x = Dropout(0.5)(x)\n",
    "x = Dense(4096, activation='relu')(x)\n",
    "x = Dropout(0.5)(x)\n",
    "x = Dense(classes, activation='softmax')(x)"
   ]
  },
  {
   "cell_type": "code",
   "execution_count": 5,
   "metadata": {
    "collapsed": true
   },
   "outputs": [],
   "source": [
    "model = Model(inputs=input_layer, outputs=x)"
   ]
  },
  {
   "cell_type": "code",
   "execution_count": 6,
   "metadata": {},
   "outputs": [
    {
     "name": "stdout",
     "output_type": "stream",
     "text": [
      "_________________________________________________________________\n",
      "Layer (type)                 Output Shape              Param #   \n",
      "=================================================================\n",
      "input_1 (InputLayer)         (None, 196, 196, 3)       0         \n",
      "_________________________________________________________________\n",
      "conv2d_1 (Conv2D)            (None, 196, 196, 64)      1792      \n",
      "_________________________________________________________________\n",
      "conv2d_2 (Conv2D)            (None, 196, 196, 64)      36928     \n",
      "_________________________________________________________________\n",
      "max_pooling2d_1 (MaxPooling2 (None, 98, 98, 64)        0         \n",
      "_________________________________________________________________\n",
      "conv2d_3 (Conv2D)            (None, 98, 98, 128)       73856     \n",
      "_________________________________________________________________\n",
      "conv2d_4 (Conv2D)            (None, 98, 98, 128)       147584    \n",
      "_________________________________________________________________\n",
      "max_pooling2d_2 (MaxPooling2 (None, 49, 49, 128)       0         \n",
      "_________________________________________________________________\n",
      "conv2d_5 (Conv2D)            (None, 49, 49, 256)       295168    \n",
      "_________________________________________________________________\n",
      "conv2d_6 (Conv2D)            (None, 49, 49, 256)       590080    \n",
      "_________________________________________________________________\n",
      "conv2d_7 (Conv2D)            (None, 49, 49, 256)       590080    \n",
      "_________________________________________________________________\n",
      "max_pooling2d_3 (MaxPooling2 (None, 24, 24, 256)       0         \n",
      "_________________________________________________________________\n",
      "conv2d_8 (Conv2D)            (None, 24, 24, 512)       1180160   \n",
      "_________________________________________________________________\n",
      "conv2d_9 (Conv2D)            (None, 24, 24, 512)       2359808   \n",
      "_________________________________________________________________\n",
      "conv2d_10 (Conv2D)           (None, 24, 24, 512)       2359808   \n",
      "_________________________________________________________________\n",
      "max_pooling2d_4 (MaxPooling2 (None, 12, 12, 512)       0         \n",
      "_________________________________________________________________\n",
      "conv2d_11 (Conv2D)           (None, 12, 12, 512)       2359808   \n",
      "_________________________________________________________________\n",
      "conv2d_12 (Conv2D)           (None, 12, 12, 512)       2359808   \n",
      "_________________________________________________________________\n",
      "conv2d_13 (Conv2D)           (None, 12, 12, 512)       2359808   \n",
      "_________________________________________________________________\n",
      "max_pooling2d_5 (MaxPooling2 (None, 6, 6, 512)         0         \n",
      "_________________________________________________________________\n",
      "flatten_1 (Flatten)          (None, 18432)             0         \n",
      "_________________________________________________________________\n",
      "dense_1 (Dense)              (None, 4096)              75501568  \n",
      "_________________________________________________________________\n",
      "dropout_1 (Dropout)          (None, 4096)              0         \n",
      "_________________________________________________________________\n",
      "dense_2 (Dense)              (None, 4096)              16781312  \n",
      "_________________________________________________________________\n",
      "dropout_2 (Dropout)          (None, 4096)              0         \n",
      "_________________________________________________________________\n",
      "dense_3 (Dense)              (None, 12)                49164     \n",
      "=================================================================\n",
      "Total params: 107,046,732\n",
      "Trainable params: 107,046,732\n",
      "Non-trainable params: 0\n",
      "_________________________________________________________________\n"
     ]
    }
   ],
   "source": [
    "model.summary()"
   ]
  },
  {
   "cell_type": "code",
   "execution_count": 7,
   "metadata": {
    "collapsed": true
   },
   "outputs": [],
   "source": [
    "from tensorflow.python.keras.optimizers import RMSprop"
   ]
  },
  {
   "cell_type": "code",
   "execution_count": 8,
   "metadata": {
    "collapsed": true
   },
   "outputs": [],
   "source": [
    "model.compile(loss='categorical_crossentropy',\n",
    "             optimizer=RMSprop(lr=0.00005),\n",
    "             metrics=['accuracy'])"
   ]
  },
  {
   "cell_type": "code",
   "execution_count": 8,
   "metadata": {
    "collapsed": true
   },
   "outputs": [],
   "source": [
    "train_datagen = ImageDataGenerator(rescale = 1./255,\n",
    "                                    horizontal_flip=True,\n",
    "                                    vertical_flip=True)\n",
    "validation_datagen = ImageDataGenerator(rescale = 1./255)"
   ]
  },
  {
   "cell_type": "code",
   "execution_count": 9,
   "metadata": {},
   "outputs": [
    {
     "name": "stdout",
     "output_type": "stream",
     "text": [
      "Found 3783 images belonging to 12 classes.\n",
      "Found 967 images belonging to 12 classes.\n"
     ]
    }
   ],
   "source": [
    "train_generator = train_datagen.flow_from_directory(\n",
    "                    'train',\n",
    "                    target_size=(196,196),\n",
    "                    batch_size=batch_size,\n",
    "                    class_mode='categorical',\n",
    "                    shuffle=True\n",
    "                    )\n",
    "validation_generator = validation_datagen.flow_from_directory(\n",
    "                        'validation',\n",
    "                        target_size=(196,196),\n",
    "                        batch_size=batch_size,\n",
    "                        class_mode='categorical')"
   ]
  },
  {
   "cell_type": "code",
   "execution_count": 11,
   "metadata": {
    "collapsed": true
   },
   "outputs": [
    {
     "name": "stdout",
     "output_type": "stream",
     "text": [
      "Epoch 1/10\n",
      "92s - loss: 2.4395 - acc: 0.1317 - val_loss: 2.4205 - val_acc: 0.1417\n",
      "Epoch 2/10\n",
      "85s - loss: 2.4290 - acc: 0.1376 - val_loss: 2.3940 - val_acc: 0.1293\n",
      "Epoch 3/10\n",
      "85s - loss: 2.2317 - acc: 0.2331 - val_loss: 2.0667 - val_acc: 0.3092\n",
      "Epoch 4/10\n",
      "89s - loss: 1.7759 - acc: 0.3753 - val_loss: 1.6955 - val_acc: 0.3702\n",
      "Epoch 5/10\n",
      "88s - loss: 1.5856 - acc: 0.4230 - val_loss: 1.7454 - val_acc: 0.4157\n",
      "Epoch 6/10\n",
      "88s - loss: 1.4445 - acc: 0.4728 - val_loss: 1.3673 - val_acc: 0.5140\n",
      "Epoch 7/10\n",
      "88s - loss: 1.3058 - acc: 0.5370 - val_loss: 1.8269 - val_acc: 0.4498\n",
      "Epoch 8/10\n",
      "89s - loss: 1.1819 - acc: 0.5869 - val_loss: 1.0900 - val_acc: 0.6443\n",
      "Epoch 9/10\n",
      "88s - loss: 1.0417 - acc: 0.6294 - val_loss: 1.3571 - val_acc: 0.5750\n",
      "Epoch 10/10\n",
      "88s - loss: 0.9634 - acc: 0.6644 - val_loss: 1.1406 - val_acc: 0.5988\n"
     ]
    },
    {
     "data": {
      "text/plain": [
       "<tensorflow.python.keras._impl.keras.callbacks.History at 0x7f5807fb3978>"
      ]
     },
     "execution_count": 11,
     "metadata": {},
     "output_type": "execute_result"
    }
   ],
   "source": [
    "model.fit_generator(\n",
    "                    train_generator,\n",
    "                    steps_per_epoch = int(np.ceil(train_total/batch_size)),\n",
    "                    epochs=10,\n",
    "                    validation_data=validation_generator,\n",
    "                    validation_steps= int(np.ceil(validation_total/batch_size)),\n",
    "                    verbose=2)"
   ]
  },
  {
   "cell_type": "code",
   "execution_count": 12,
   "metadata": {
    "collapsed": true
   },
   "outputs": [
    {
     "name": "stdout",
     "output_type": "stream",
     "text": [
      "Epoch 1/10\n",
      "87s - loss: 0.8770 - acc: 0.6911 - val_loss: 0.7162 - val_acc: 0.7632\n",
      "Epoch 2/10\n",
      "87s - loss: 0.8458 - acc: 0.7091 - val_loss: 0.7076 - val_acc: 0.7715\n",
      "Epoch 3/10\n",
      "88s - loss: 0.7592 - acc: 0.7376 - val_loss: 0.6843 - val_acc: 0.7570\n",
      "Epoch 4/10\n",
      "89s - loss: 0.7061 - acc: 0.7556 - val_loss: 0.7763 - val_acc: 0.7508\n",
      "Epoch 5/10\n",
      "87s - loss: 0.6834 - acc: 0.7606 - val_loss: 0.5474 - val_acc: 0.8180\n",
      "Epoch 6/10\n",
      "88s - loss: 0.6043 - acc: 0.7849 - val_loss: 0.5479 - val_acc: 0.8335\n",
      "Epoch 7/10\n",
      "87s - loss: 0.5556 - acc: 0.8016 - val_loss: 0.4923 - val_acc: 0.8366\n",
      "Epoch 8/10\n",
      "84s - loss: 0.5258 - acc: 0.8151 - val_loss: 0.5925 - val_acc: 0.8087\n",
      "Epoch 9/10\n",
      "85s - loss: 0.4769 - acc: 0.8306 - val_loss: 0.5349 - val_acc: 0.8397\n",
      "Epoch 10/10\n",
      "85s - loss: 0.4483 - acc: 0.8358 - val_loss: 0.5166 - val_acc: 0.8201\n"
     ]
    },
    {
     "data": {
      "text/plain": [
       "<tensorflow.python.keras._impl.keras.callbacks.History at 0x7f5806061d30>"
      ]
     },
     "execution_count": 12,
     "metadata": {},
     "output_type": "execute_result"
    }
   ],
   "source": [
    "model.fit_generator(\n",
    "                    train_generator,\n",
    "                    steps_per_epoch = int(np.ceil(train_total/batch_size)),\n",
    "                    epochs=10,\n",
    "                    validation_data=validation_generator,\n",
    "                    validation_steps= int(np.ceil(validation_total/batch_size)),\n",
    "                    verbose=2)"
   ]
  },
  {
   "cell_type": "code",
   "execution_count": 14,
   "metadata": {
    "collapsed": true
   },
   "outputs": [],
   "source": [
    "model.compile(loss='categorical_crossentropy',\n",
    "             optimizer=RMSprop(lr=0.000005),\n",
    "             metrics=['accuracy'])"
   ]
  },
  {
   "cell_type": "code",
   "execution_count": 15,
   "metadata": {
    "collapsed": true
   },
   "outputs": [
    {
     "name": "stdout",
     "output_type": "stream",
     "text": [
      "Epoch 1/5\n",
      "86s - loss: 0.3178 - acc: 0.8833 - val_loss: 0.3554 - val_acc: 0.8852\n",
      "Epoch 2/5\n",
      "84s - loss: 0.3042 - acc: 0.8922 - val_loss: 0.3730 - val_acc: 0.8697\n",
      "Epoch 3/5\n",
      "84s - loss: 0.2834 - acc: 0.8957 - val_loss: 0.4153 - val_acc: 0.8687\n",
      "Epoch 4/5\n",
      "85s - loss: 0.2836 - acc: 0.8991 - val_loss: 0.3296 - val_acc: 0.8790\n",
      "Epoch 5/5\n",
      "84s - loss: 0.2757 - acc: 0.8985 - val_loss: 0.4359 - val_acc: 0.8563\n"
     ]
    },
    {
     "data": {
      "text/plain": [
       "<tensorflow.python.keras._impl.keras.callbacks.History at 0x7f5804955f60>"
      ]
     },
     "execution_count": 15,
     "metadata": {},
     "output_type": "execute_result"
    }
   ],
   "source": [
    "model.fit_generator(\n",
    "                    train_generator,\n",
    "                    steps_per_epoch = int(np.ceil(train_total/batch_size)),\n",
    "                    epochs=5,\n",
    "                    validation_data=validation_generator,\n",
    "                    validation_steps= int(np.ceil(validation_total/batch_size)),\n",
    "                    verbose=2)"
   ]
  },
  {
   "cell_type": "code",
   "execution_count": 16,
   "metadata": {
    "collapsed": true
   },
   "outputs": [
    {
     "name": "stdout",
     "output_type": "stream",
     "text": [
      "Epoch 1/5\n",
      "85s - loss: 0.2533 - acc: 0.9009 - val_loss: 0.3630 - val_acc: 0.8769\n",
      "Epoch 2/5\n",
      "84s - loss: 0.2627 - acc: 0.8998 - val_loss: 0.3692 - val_acc: 0.8749\n",
      "Epoch 3/5\n",
      "85s - loss: 0.2615 - acc: 0.9031 - val_loss: 0.3773 - val_acc: 0.8749\n",
      "Epoch 4/5\n",
      "84s - loss: 0.2529 - acc: 0.9086 - val_loss: 0.3503 - val_acc: 0.8800\n",
      "Epoch 5/5\n",
      "85s - loss: 0.2508 - acc: 0.9052 - val_loss: 0.3711 - val_acc: 0.8831\n"
     ]
    },
    {
     "data": {
      "text/plain": [
       "<tensorflow.python.keras._impl.keras.callbacks.History at 0x7f58049260b8>"
      ]
     },
     "execution_count": 16,
     "metadata": {},
     "output_type": "execute_result"
    }
   ],
   "source": [
    "model.fit_generator(\n",
    "                    train_generator,\n",
    "                    steps_per_epoch = int(np.ceil(train_total/batch_size)),\n",
    "                    epochs=5,\n",
    "                    validation_data=validation_generator,\n",
    "                    validation_steps= int(np.ceil(validation_total/batch_size)),\n",
    "                    verbose=2)"
   ]
  },
  {
   "cell_type": "code",
   "execution_count": 24,
   "metadata": {
    "collapsed": true
   },
   "outputs": [],
   "source": [
    "model.save_weights('weights-1.hdf5')"
   ]
  },
  {
   "cell_type": "code",
   "execution_count": 10,
   "metadata": {
    "collapsed": true
   },
   "outputs": [],
   "source": [
    "model.load_weights('weights-1.hdf5')"
   ]
  },
  {
   "cell_type": "code",
   "execution_count": 11,
   "metadata": {},
   "outputs": [
    {
     "name": "stdout",
     "output_type": "stream",
     "text": [
      "Found 3783 images belonging to 12 classes.\n"
     ]
    }
   ],
   "source": [
    "batch_size = 16\n",
    "train_datagen = ImageDataGenerator(rescale = 1./255,\n",
    "                                   shear_range = 0.2,\n",
    "                                   rotation_range = 20,\n",
    "                                   height_shift_range=0.2,\n",
    "                                   width_shift_range=0.2,\n",
    "                                   zoom_range=0.2,\n",
    "                                   fill_mode='reflect',\n",
    "                                    horizontal_flip=True,\n",
    "                                    vertical_flip=True)\n",
    "train_generator = train_datagen.flow_from_directory(\n",
    "                    'train',\n",
    "                    target_size=(196,196),\n",
    "                    batch_size=batch_size,\n",
    "                    class_mode='categorical',\n",
    "                    shuffle=True\n",
    "                    )"
   ]
  },
  {
   "cell_type": "code",
   "execution_count": 12,
   "metadata": {},
   "outputs": [
    {
     "name": "stdout",
     "output_type": "stream",
     "text": [
      "Epoch 1/5\n",
      "116s - loss: 0.9962 - acc: 0.6652 - val_loss: 0.5539 - val_acc: 0.8251\n",
      "Epoch 2/5\n",
      "111s - loss: 0.8660 - acc: 0.7020 - val_loss: 0.4643 - val_acc: 0.8444\n",
      "Epoch 3/5\n",
      "108s - loss: 0.7791 - acc: 0.7220 - val_loss: 0.4701 - val_acc: 0.8533\n",
      "Epoch 4/5\n",
      "111s - loss: 0.7149 - acc: 0.7589 - val_loss: 0.4200 - val_acc: 0.8538\n",
      "Epoch 5/5\n",
      "111s - loss: 0.6814 - acc: 0.7644 - val_loss: 0.5658 - val_acc: 0.8144\n"
     ]
    },
    {
     "data": {
      "text/plain": [
       "<tensorflow.python.keras._impl.keras.callbacks.History at 0x7f1ca7415898>"
      ]
     },
     "execution_count": 12,
     "metadata": {},
     "output_type": "execute_result"
    }
   ],
   "source": [
    "model.compile(loss='categorical_crossentropy',\n",
    "             optimizer=RMSprop(lr=0.00005),\n",
    "             metrics=['accuracy'])\n",
    "\n",
    "model.fit_generator(\n",
    "                    train_generator,\n",
    "                    steps_per_epoch = int(np.ceil(train_total/batch_size)),\n",
    "                    epochs=5,\n",
    "                    validation_data=validation_generator,\n",
    "                    validation_steps= int(np.ceil(validation_total/batch_size)),\n",
    "                    verbose=2)"
   ]
  },
  {
   "cell_type": "code",
   "execution_count": 13,
   "metadata": {},
   "outputs": [
    {
     "name": "stdout",
     "output_type": "stream",
     "text": [
      "Epoch 1/5\n",
      "111s - loss: 0.6504 - acc: 0.7790 - val_loss: 0.4421 - val_acc: 0.8517\n",
      "Epoch 2/5\n",
      "111s - loss: 0.5999 - acc: 0.7816 - val_loss: 0.4041 - val_acc: 0.8670\n",
      "Epoch 3/5\n",
      "110s - loss: 0.5709 - acc: 0.7960 - val_loss: 0.3698 - val_acc: 0.8712\n",
      "Epoch 4/5\n",
      "111s - loss: 0.5602 - acc: 0.8086 - val_loss: 0.3797 - val_acc: 0.8812\n",
      "Epoch 5/5\n",
      "111s - loss: 0.5117 - acc: 0.8207 - val_loss: 0.3692 - val_acc: 0.8870\n"
     ]
    },
    {
     "data": {
      "text/plain": [
       "<tensorflow.python.keras._impl.keras.callbacks.History at 0x7f1ca617b400>"
      ]
     },
     "execution_count": 13,
     "metadata": {},
     "output_type": "execute_result"
    }
   ],
   "source": [
    "model.fit_generator(\n",
    "                    train_generator,\n",
    "                    steps_per_epoch = int(np.ceil(train_total/batch_size)),\n",
    "                    epochs=5,\n",
    "                    validation_data=validation_generator,\n",
    "                    validation_steps= int(np.ceil(validation_total/batch_size)),\n",
    "                    verbose=2)"
   ]
  },
  {
   "cell_type": "code",
   "execution_count": 14,
   "metadata": {},
   "outputs": [
    {
     "name": "stdout",
     "output_type": "stream",
     "text": [
      "Epoch 1/5\n",
      "113s - loss: 0.5174 - acc: 0.8224 - val_loss: 0.3762 - val_acc: 0.8817\n",
      "Epoch 2/5\n",
      "109s - loss: 0.5192 - acc: 0.8192 - val_loss: 0.3158 - val_acc: 0.8906\n",
      "Epoch 3/5\n",
      "109s - loss: 0.4686 - acc: 0.8368 - val_loss: 0.3098 - val_acc: 0.8901\n",
      "Epoch 4/5\n",
      "108s - loss: 0.4571 - acc: 0.8388 - val_loss: 0.3186 - val_acc: 0.9075\n",
      "Epoch 5/5\n",
      "108s - loss: 0.4023 - acc: 0.8578 - val_loss: 0.3648 - val_acc: 0.9012\n"
     ]
    },
    {
     "data": {
      "text/plain": [
       "<tensorflow.python.keras._impl.keras.callbacks.History at 0x7f1ca7415748>"
      ]
     },
     "execution_count": 14,
     "metadata": {},
     "output_type": "execute_result"
    }
   ],
   "source": [
    "model.fit_generator(\n",
    "                    train_generator,\n",
    "                    steps_per_epoch = int(np.ceil(train_total/batch_size)),\n",
    "                    epochs=5,\n",
    "                    validation_data=validation_generator,\n",
    "                    validation_steps= int(np.ceil(validation_total/batch_size)),\n",
    "                    verbose=2)"
   ]
  },
  {
   "cell_type": "code",
   "execution_count": 15,
   "metadata": {},
   "outputs": [
    {
     "name": "stdout",
     "output_type": "stream",
     "text": [
      "Epoch 1/5\n",
      "109s - loss: 0.4337 - acc: 0.8475 - val_loss: 0.3530 - val_acc: 0.8764\n",
      "Epoch 2/5\n",
      "108s - loss: 0.4429 - acc: 0.8448 - val_loss: 0.2834 - val_acc: 0.9027\n",
      "Epoch 3/5\n",
      "108s - loss: 0.4055 - acc: 0.8550 - val_loss: 0.3009 - val_acc: 0.9033\n",
      "Epoch 4/5\n",
      "108s - loss: 0.4107 - acc: 0.8629 - val_loss: 0.3191 - val_acc: 0.9006\n",
      "Epoch 5/5\n",
      "108s - loss: 0.3880 - acc: 0.8686 - val_loss: 0.2701 - val_acc: 0.9175\n"
     ]
    },
    {
     "data": {
      "text/plain": [
       "<tensorflow.python.keras._impl.keras.callbacks.History at 0x7f1ca79a4898>"
      ]
     },
     "execution_count": 15,
     "metadata": {},
     "output_type": "execute_result"
    }
   ],
   "source": [
    "model.fit_generator(\n",
    "                    train_generator,\n",
    "                    steps_per_epoch = int(np.ceil(train_total/batch_size)),\n",
    "                    epochs=5,\n",
    "                    validation_data=validation_generator,\n",
    "                    validation_steps= int(np.ceil(validation_total/batch_size)),\n",
    "                    verbose=2)"
   ]
  },
  {
   "cell_type": "code",
   "execution_count": 17,
   "metadata": {
    "collapsed": true
   },
   "outputs": [],
   "source": [
    "model.compile(loss='categorical_crossentropy',\n",
    "             optimizer=RMSprop(lr=0.000005),\n",
    "             metrics=['accuracy'])"
   ]
  },
  {
   "cell_type": "code",
   "execution_count": 19,
   "metadata": {},
   "outputs": [
    {
     "name": "stdout",
     "output_type": "stream",
     "text": [
      "Epoch 1/5\n",
      "108s - loss: 0.2266 - acc: 0.9161 - val_loss: 0.2305 - val_acc: 0.9290\n",
      "Epoch 2/5\n",
      "109s - loss: 0.2126 - acc: 0.9219 - val_loss: 0.2227 - val_acc: 0.9259\n",
      "Epoch 3/5\n",
      "108s - loss: 0.2029 - acc: 0.9270 - val_loss: 0.2221 - val_acc: 0.9390\n",
      "Epoch 4/5\n",
      "110s - loss: 0.2018 - acc: 0.9264 - val_loss: 0.2314 - val_acc: 0.9264\n",
      "Epoch 5/5\n"
     ]
    },
    {
     "ename": "KeyboardInterrupt",
     "evalue": "",
     "output_type": "error",
     "traceback": [
      "\u001b[0;31m---------------------------------------------------------------------------\u001b[0m",
      "\u001b[0;31mKeyboardInterrupt\u001b[0m                         Traceback (most recent call last)",
      "\u001b[0;32m<ipython-input-19-163a4248efce>\u001b[0m in \u001b[0;36m<module>\u001b[0;34m()\u001b[0m\n\u001b[1;32m      5\u001b[0m                     \u001b[0mvalidation_data\u001b[0m\u001b[0;34m=\u001b[0m\u001b[0mvalidation_generator\u001b[0m\u001b[0;34m,\u001b[0m\u001b[0;34m\u001b[0m\u001b[0m\n\u001b[1;32m      6\u001b[0m                     \u001b[0mvalidation_steps\u001b[0m\u001b[0;34m=\u001b[0m \u001b[0mint\u001b[0m\u001b[0;34m(\u001b[0m\u001b[0mnp\u001b[0m\u001b[0;34m.\u001b[0m\u001b[0mceil\u001b[0m\u001b[0;34m(\u001b[0m\u001b[0mvalidation_total\u001b[0m\u001b[0;34m/\u001b[0m\u001b[0mbatch_size\u001b[0m\u001b[0;34m)\u001b[0m\u001b[0;34m)\u001b[0m\u001b[0;34m,\u001b[0m\u001b[0;34m\u001b[0m\u001b[0m\n\u001b[0;32m----> 7\u001b[0;31m                     verbose=2)\n\u001b[0m",
      "\u001b[0;32m~/anaconda3/envs/tf/lib/python3.5/site-packages/tensorflow/python/keras/_impl/keras/engine/training.py\u001b[0m in \u001b[0;36mfit_generator\u001b[0;34m(self, generator, steps_per_epoch, epochs, verbose, callbacks, validation_data, validation_steps, class_weight, max_queue_size, workers, use_multiprocessing, shuffle, initial_epoch, **kwargs)\u001b[0m\n\u001b[1;32m   2074\u001b[0m \u001b[0;34m\u001b[0m\u001b[0m\n\u001b[1;32m   2075\u001b[0m           outs = self.train_on_batch(\n\u001b[0;32m-> 2076\u001b[0;31m               x, y, sample_weight=sample_weight, class_weight=class_weight)\n\u001b[0m\u001b[1;32m   2077\u001b[0m \u001b[0;34m\u001b[0m\u001b[0m\n\u001b[1;32m   2078\u001b[0m           \u001b[0;32mif\u001b[0m \u001b[0;32mnot\u001b[0m \u001b[0misinstance\u001b[0m\u001b[0;34m(\u001b[0m\u001b[0mouts\u001b[0m\u001b[0;34m,\u001b[0m \u001b[0mlist\u001b[0m\u001b[0;34m)\u001b[0m\u001b[0;34m:\u001b[0m\u001b[0;34m\u001b[0m\u001b[0m\n",
      "\u001b[0;32m~/anaconda3/envs/tf/lib/python3.5/site-packages/tensorflow/python/keras/_impl/keras/engine/training.py\u001b[0m in \u001b[0;36mtrain_on_batch\u001b[0;34m(self, x, y, sample_weight, class_weight)\u001b[0m\n\u001b[1;32m   1785\u001b[0m       \u001b[0mins\u001b[0m \u001b[0;34m=\u001b[0m \u001b[0mx\u001b[0m \u001b[0;34m+\u001b[0m \u001b[0my\u001b[0m \u001b[0;34m+\u001b[0m \u001b[0msample_weights\u001b[0m\u001b[0;34m\u001b[0m\u001b[0m\n\u001b[1;32m   1786\u001b[0m     \u001b[0mself\u001b[0m\u001b[0;34m.\u001b[0m\u001b[0m_make_train_function\u001b[0m\u001b[0;34m(\u001b[0m\u001b[0;34m)\u001b[0m\u001b[0;34m\u001b[0m\u001b[0m\n\u001b[0;32m-> 1787\u001b[0;31m     \u001b[0moutputs\u001b[0m \u001b[0;34m=\u001b[0m \u001b[0mself\u001b[0m\u001b[0;34m.\u001b[0m\u001b[0mtrain_function\u001b[0m\u001b[0;34m(\u001b[0m\u001b[0mins\u001b[0m\u001b[0;34m)\u001b[0m\u001b[0;34m\u001b[0m\u001b[0m\n\u001b[0m\u001b[1;32m   1788\u001b[0m     \u001b[0;32mif\u001b[0m \u001b[0mlen\u001b[0m\u001b[0;34m(\u001b[0m\u001b[0moutputs\u001b[0m\u001b[0;34m)\u001b[0m \u001b[0;34m==\u001b[0m \u001b[0;36m1\u001b[0m\u001b[0;34m:\u001b[0m\u001b[0;34m\u001b[0m\u001b[0m\n\u001b[1;32m   1789\u001b[0m       \u001b[0;32mreturn\u001b[0m \u001b[0moutputs\u001b[0m\u001b[0;34m[\u001b[0m\u001b[0;36m0\u001b[0m\u001b[0;34m]\u001b[0m\u001b[0;34m\u001b[0m\u001b[0m\n",
      "\u001b[0;32m~/anaconda3/envs/tf/lib/python3.5/site-packages/tensorflow/python/keras/_impl/keras/backend.py\u001b[0m in \u001b[0;36m__call__\u001b[0;34m(self, inputs)\u001b[0m\n\u001b[1;32m   2475\u001b[0m         \u001b[0mself\u001b[0m\u001b[0;34m.\u001b[0m\u001b[0moutputs\u001b[0m \u001b[0;34m+\u001b[0m \u001b[0;34m[\u001b[0m\u001b[0mself\u001b[0m\u001b[0;34m.\u001b[0m\u001b[0mupdates_op\u001b[0m\u001b[0;34m]\u001b[0m\u001b[0;34m,\u001b[0m\u001b[0;34m\u001b[0m\u001b[0m\n\u001b[1;32m   2476\u001b[0m         \u001b[0mfeed_dict\u001b[0m\u001b[0;34m=\u001b[0m\u001b[0mfeed_dict\u001b[0m\u001b[0;34m,\u001b[0m\u001b[0;34m\u001b[0m\u001b[0m\n\u001b[0;32m-> 2477\u001b[0;31m         **self.session_kwargs)\n\u001b[0m\u001b[1;32m   2478\u001b[0m     \u001b[0;32mreturn\u001b[0m \u001b[0mupdated\u001b[0m\u001b[0;34m[\u001b[0m\u001b[0;34m:\u001b[0m\u001b[0mlen\u001b[0m\u001b[0;34m(\u001b[0m\u001b[0mself\u001b[0m\u001b[0;34m.\u001b[0m\u001b[0moutputs\u001b[0m\u001b[0;34m)\u001b[0m\u001b[0;34m]\u001b[0m\u001b[0;34m\u001b[0m\u001b[0m\n\u001b[1;32m   2479\u001b[0m \u001b[0;34m\u001b[0m\u001b[0m\n",
      "\u001b[0;32m~/anaconda3/envs/tf/lib/python3.5/site-packages/tensorflow/python/client/session.py\u001b[0m in \u001b[0;36mrun\u001b[0;34m(self, fetches, feed_dict, options, run_metadata)\u001b[0m\n\u001b[1;32m    887\u001b[0m     \u001b[0;32mtry\u001b[0m\u001b[0;34m:\u001b[0m\u001b[0;34m\u001b[0m\u001b[0m\n\u001b[1;32m    888\u001b[0m       result = self._run(None, fetches, feed_dict, options_ptr,\n\u001b[0;32m--> 889\u001b[0;31m                          run_metadata_ptr)\n\u001b[0m\u001b[1;32m    890\u001b[0m       \u001b[0;32mif\u001b[0m \u001b[0mrun_metadata\u001b[0m\u001b[0;34m:\u001b[0m\u001b[0;34m\u001b[0m\u001b[0m\n\u001b[1;32m    891\u001b[0m         \u001b[0mproto_data\u001b[0m \u001b[0;34m=\u001b[0m \u001b[0mtf_session\u001b[0m\u001b[0;34m.\u001b[0m\u001b[0mTF_GetBuffer\u001b[0m\u001b[0;34m(\u001b[0m\u001b[0mrun_metadata_ptr\u001b[0m\u001b[0;34m)\u001b[0m\u001b[0;34m\u001b[0m\u001b[0m\n",
      "\u001b[0;32m~/anaconda3/envs/tf/lib/python3.5/site-packages/tensorflow/python/client/session.py\u001b[0m in \u001b[0;36m_run\u001b[0;34m(self, handle, fetches, feed_dict, options, run_metadata)\u001b[0m\n\u001b[1;32m   1118\u001b[0m     \u001b[0;32mif\u001b[0m \u001b[0mfinal_fetches\u001b[0m \u001b[0;32mor\u001b[0m \u001b[0mfinal_targets\u001b[0m \u001b[0;32mor\u001b[0m \u001b[0;34m(\u001b[0m\u001b[0mhandle\u001b[0m \u001b[0;32mand\u001b[0m \u001b[0mfeed_dict_tensor\u001b[0m\u001b[0;34m)\u001b[0m\u001b[0;34m:\u001b[0m\u001b[0;34m\u001b[0m\u001b[0m\n\u001b[1;32m   1119\u001b[0m       results = self._do_run(handle, final_targets, final_fetches,\n\u001b[0;32m-> 1120\u001b[0;31m                              feed_dict_tensor, options, run_metadata)\n\u001b[0m\u001b[1;32m   1121\u001b[0m     \u001b[0;32melse\u001b[0m\u001b[0;34m:\u001b[0m\u001b[0;34m\u001b[0m\u001b[0m\n\u001b[1;32m   1122\u001b[0m       \u001b[0mresults\u001b[0m \u001b[0;34m=\u001b[0m \u001b[0;34m[\u001b[0m\u001b[0;34m]\u001b[0m\u001b[0;34m\u001b[0m\u001b[0m\n",
      "\u001b[0;32m~/anaconda3/envs/tf/lib/python3.5/site-packages/tensorflow/python/client/session.py\u001b[0m in \u001b[0;36m_do_run\u001b[0;34m(self, handle, target_list, fetch_list, feed_dict, options, run_metadata)\u001b[0m\n\u001b[1;32m   1315\u001b[0m     \u001b[0;32mif\u001b[0m \u001b[0mhandle\u001b[0m \u001b[0;32mis\u001b[0m \u001b[0;32mNone\u001b[0m\u001b[0;34m:\u001b[0m\u001b[0;34m\u001b[0m\u001b[0m\n\u001b[1;32m   1316\u001b[0m       return self._do_call(_run_fn, self._session, feeds, fetches, targets,\n\u001b[0;32m-> 1317\u001b[0;31m                            options, run_metadata)\n\u001b[0m\u001b[1;32m   1318\u001b[0m     \u001b[0;32melse\u001b[0m\u001b[0;34m:\u001b[0m\u001b[0;34m\u001b[0m\u001b[0m\n\u001b[1;32m   1319\u001b[0m       \u001b[0;32mreturn\u001b[0m \u001b[0mself\u001b[0m\u001b[0;34m.\u001b[0m\u001b[0m_do_call\u001b[0m\u001b[0;34m(\u001b[0m\u001b[0m_prun_fn\u001b[0m\u001b[0;34m,\u001b[0m \u001b[0mself\u001b[0m\u001b[0;34m.\u001b[0m\u001b[0m_session\u001b[0m\u001b[0;34m,\u001b[0m \u001b[0mhandle\u001b[0m\u001b[0;34m,\u001b[0m \u001b[0mfeeds\u001b[0m\u001b[0;34m,\u001b[0m \u001b[0mfetches\u001b[0m\u001b[0;34m)\u001b[0m\u001b[0;34m\u001b[0m\u001b[0m\n",
      "\u001b[0;32m~/anaconda3/envs/tf/lib/python3.5/site-packages/tensorflow/python/client/session.py\u001b[0m in \u001b[0;36m_do_call\u001b[0;34m(self, fn, *args)\u001b[0m\n\u001b[1;32m   1321\u001b[0m   \u001b[0;32mdef\u001b[0m \u001b[0m_do_call\u001b[0m\u001b[0;34m(\u001b[0m\u001b[0mself\u001b[0m\u001b[0;34m,\u001b[0m \u001b[0mfn\u001b[0m\u001b[0;34m,\u001b[0m \u001b[0;34m*\u001b[0m\u001b[0margs\u001b[0m\u001b[0;34m)\u001b[0m\u001b[0;34m:\u001b[0m\u001b[0;34m\u001b[0m\u001b[0m\n\u001b[1;32m   1322\u001b[0m     \u001b[0;32mtry\u001b[0m\u001b[0;34m:\u001b[0m\u001b[0;34m\u001b[0m\u001b[0m\n\u001b[0;32m-> 1323\u001b[0;31m       \u001b[0;32mreturn\u001b[0m \u001b[0mfn\u001b[0m\u001b[0;34m(\u001b[0m\u001b[0;34m*\u001b[0m\u001b[0margs\u001b[0m\u001b[0;34m)\u001b[0m\u001b[0;34m\u001b[0m\u001b[0m\n\u001b[0m\u001b[1;32m   1324\u001b[0m     \u001b[0;32mexcept\u001b[0m \u001b[0merrors\u001b[0m\u001b[0;34m.\u001b[0m\u001b[0mOpError\u001b[0m \u001b[0;32mas\u001b[0m \u001b[0me\u001b[0m\u001b[0;34m:\u001b[0m\u001b[0;34m\u001b[0m\u001b[0m\n\u001b[1;32m   1325\u001b[0m       \u001b[0mmessage\u001b[0m \u001b[0;34m=\u001b[0m \u001b[0mcompat\u001b[0m\u001b[0;34m.\u001b[0m\u001b[0mas_text\u001b[0m\u001b[0;34m(\u001b[0m\u001b[0me\u001b[0m\u001b[0;34m.\u001b[0m\u001b[0mmessage\u001b[0m\u001b[0;34m)\u001b[0m\u001b[0;34m\u001b[0m\u001b[0m\n",
      "\u001b[0;32m~/anaconda3/envs/tf/lib/python3.5/site-packages/tensorflow/python/client/session.py\u001b[0m in \u001b[0;36m_run_fn\u001b[0;34m(session, feed_dict, fetch_list, target_list, options, run_metadata)\u001b[0m\n\u001b[1;32m   1300\u001b[0m           return tf_session.TF_Run(session, options,\n\u001b[1;32m   1301\u001b[0m                                    \u001b[0mfeed_dict\u001b[0m\u001b[0;34m,\u001b[0m \u001b[0mfetch_list\u001b[0m\u001b[0;34m,\u001b[0m \u001b[0mtarget_list\u001b[0m\u001b[0;34m,\u001b[0m\u001b[0;34m\u001b[0m\u001b[0m\n\u001b[0;32m-> 1302\u001b[0;31m                                    status, run_metadata)\n\u001b[0m\u001b[1;32m   1303\u001b[0m \u001b[0;34m\u001b[0m\u001b[0m\n\u001b[1;32m   1304\u001b[0m     \u001b[0;32mdef\u001b[0m \u001b[0m_prun_fn\u001b[0m\u001b[0;34m(\u001b[0m\u001b[0msession\u001b[0m\u001b[0;34m,\u001b[0m \u001b[0mhandle\u001b[0m\u001b[0;34m,\u001b[0m \u001b[0mfeed_dict\u001b[0m\u001b[0;34m,\u001b[0m \u001b[0mfetch_list\u001b[0m\u001b[0;34m)\u001b[0m\u001b[0;34m:\u001b[0m\u001b[0;34m\u001b[0m\u001b[0m\n",
      "\u001b[0;31mKeyboardInterrupt\u001b[0m: "
     ]
    }
   ],
   "source": [
    "model.fit_generator(\n",
    "                    train_generator,\n",
    "                    steps_per_epoch = int(np.ceil(train_total/batch_size)),\n",
    "                    epochs=5,\n",
    "                    validation_data=validation_generator,\n",
    "                    validation_steps= int(np.ceil(validation_total/batch_size)),\n",
    "                    verbose=2)"
   ]
  },
  {
   "cell_type": "code",
   "execution_count": 21,
   "metadata": {},
   "outputs": [
    {
     "name": "stdout",
     "output_type": "stream",
     "text": [
      "Found 794 images belonging to 1 classes.\n"
     ]
    }
   ],
   "source": [
    "test_datagen = ImageDataGenerator(rescale = 1./255)\n",
    "test_generator = test_datagen.flow_from_directory(\n",
    "                    'test',\n",
    "                    shuffle=False,\n",
    "                    target_size=(196,196),\n",
    "                    batch_size=batch_size,\n",
    "                    class_mode=None)"
   ]
  },
  {
   "cell_type": "code",
   "execution_count": 23,
   "metadata": {},
   "outputs": [
    {
     "name": "stdout",
     "output_type": "stream",
     "text": [
      "794\n"
     ]
    }
   ],
   "source": [
    "test_samples = len(test_generator.filenames)\n",
    "print(test_samples)"
   ]
  },
  {
   "cell_type": "code",
   "execution_count": 24,
   "metadata": {
    "collapsed": true
   },
   "outputs": [],
   "source": [
    "predictions = model.predict_generator(test_generator,int(np.ceil(794/16)))\n"
   ]
  },
  {
   "cell_type": "code",
   "execution_count": 35,
   "metadata": {},
   "outputs": [
    {
     "data": {
      "text/plain": [
       "{'Black-grass': 0,\n",
       " 'Charlock': 1,\n",
       " 'Cleavers': 2,\n",
       " 'Common Chickweed': 3,\n",
       " 'Common wheat': 4,\n",
       " 'Fat Hen': 5,\n",
       " 'Loose Silky-bent': 6,\n",
       " 'Maize': 7,\n",
       " 'Scentless Mayweed': 8,\n",
       " 'Shepherds Purse': 9,\n",
       " 'Small-flowered Cranesbill': 10,\n",
       " 'Sugar beet': 11}"
      ]
     },
     "execution_count": 35,
     "metadata": {},
     "output_type": "execute_result"
    }
   ],
   "source": [
    "train_generator.class_indices"
   ]
  },
  {
   "cell_type": "code",
   "execution_count": 36,
   "metadata": {
    "collapsed": true
   },
   "outputs": [],
   "source": [
    "class_ids = {train_generator.class_indices[x]: x for x in train_generator.class_indices}"
   ]
  },
  {
   "cell_type": "code",
   "execution_count": 37,
   "metadata": {},
   "outputs": [
    {
     "data": {
      "text/plain": [
       "{0: 'Black-grass',\n",
       " 1: 'Charlock',\n",
       " 2: 'Cleavers',\n",
       " 3: 'Common Chickweed',\n",
       " 4: 'Common wheat',\n",
       " 5: 'Fat Hen',\n",
       " 6: 'Loose Silky-bent',\n",
       " 7: 'Maize',\n",
       " 8: 'Scentless Mayweed',\n",
       " 9: 'Shepherds Purse',\n",
       " 10: 'Small-flowered Cranesbill',\n",
       " 11: 'Sugar beet'}"
      ]
     },
     "execution_count": 37,
     "metadata": {},
     "output_type": "execute_result"
    }
   ],
   "source": [
    "class_ids"
   ]
  },
  {
   "cell_type": "code",
   "execution_count": 38,
   "metadata": {
    "collapsed": true
   },
   "outputs": [],
   "source": [
    "predicted_classes = [class_ids[x] for x in np.argmax(predictions, axis=1)]"
   ]
  },
  {
   "cell_type": "code",
   "execution_count": 39,
   "metadata": {
    "collapsed": true
   },
   "outputs": [
    {
     "data": {
      "text/plain": [
       "['Cleavers',\n",
       " 'Fat Hen',\n",
       " 'Maize',\n",
       " 'Small-flowered Cranesbill',\n",
       " 'Loose Silky-bent',\n",
       " 'Fat Hen',\n",
       " 'Small-flowered Cranesbill',\n",
       " 'Scentless Mayweed',\n",
       " 'Loose Silky-bent',\n",
       " 'Loose Silky-bent',\n",
       " 'Scentless Mayweed',\n",
       " 'Charlock',\n",
       " 'Shepherds Purse',\n",
       " 'Maize',\n",
       " 'Sugar beet',\n",
       " 'Scentless Mayweed',\n",
       " 'Black-grass',\n",
       " 'Cleavers',\n",
       " 'Small-flowered Cranesbill',\n",
       " 'Loose Silky-bent',\n",
       " 'Loose Silky-bent',\n",
       " 'Loose Silky-bent',\n",
       " 'Black-grass',\n",
       " 'Scentless Mayweed',\n",
       " 'Small-flowered Cranesbill',\n",
       " 'Common wheat',\n",
       " 'Scentless Mayweed',\n",
       " 'Loose Silky-bent',\n",
       " 'Loose Silky-bent',\n",
       " 'Charlock',\n",
       " 'Small-flowered Cranesbill',\n",
       " 'Sugar beet',\n",
       " 'Shepherds Purse',\n",
       " 'Maize',\n",
       " 'Shepherds Purse',\n",
       " 'Cleavers',\n",
       " 'Scentless Mayweed',\n",
       " 'Maize',\n",
       " 'Loose Silky-bent',\n",
       " 'Fat Hen',\n",
       " 'Sugar beet',\n",
       " 'Shepherds Purse',\n",
       " 'Common Chickweed',\n",
       " 'Sugar beet',\n",
       " 'Charlock',\n",
       " 'Loose Silky-bent',\n",
       " 'Sugar beet',\n",
       " 'Common Chickweed',\n",
       " 'Cleavers',\n",
       " 'Common Chickweed',\n",
       " 'Maize',\n",
       " 'Small-flowered Cranesbill',\n",
       " 'Cleavers',\n",
       " 'Loose Silky-bent',\n",
       " 'Loose Silky-bent',\n",
       " 'Loose Silky-bent',\n",
       " 'Common Chickweed',\n",
       " 'Common wheat',\n",
       " 'Loose Silky-bent',\n",
       " 'Scentless Mayweed',\n",
       " 'Loose Silky-bent',\n",
       " 'Scentless Mayweed',\n",
       " 'Loose Silky-bent',\n",
       " 'Charlock',\n",
       " 'Common Chickweed',\n",
       " 'Small-flowered Cranesbill',\n",
       " 'Cleavers',\n",
       " 'Loose Silky-bent',\n",
       " 'Maize',\n",
       " 'Shepherds Purse',\n",
       " 'Loose Silky-bent',\n",
       " 'Cleavers',\n",
       " 'Scentless Mayweed',\n",
       " 'Sugar beet',\n",
       " 'Shepherds Purse',\n",
       " 'Black-grass',\n",
       " 'Common Chickweed',\n",
       " 'Sugar beet',\n",
       " 'Small-flowered Cranesbill',\n",
       " 'Loose Silky-bent',\n",
       " 'Loose Silky-bent',\n",
       " 'Maize',\n",
       " 'Sugar beet',\n",
       " 'Sugar beet',\n",
       " 'Common Chickweed',\n",
       " 'Loose Silky-bent',\n",
       " 'Sugar beet',\n",
       " 'Shepherds Purse',\n",
       " 'Sugar beet',\n",
       " 'Fat Hen',\n",
       " 'Loose Silky-bent',\n",
       " 'Scentless Mayweed',\n",
       " 'Maize',\n",
       " 'Scentless Mayweed',\n",
       " 'Shepherds Purse',\n",
       " 'Fat Hen',\n",
       " 'Charlock',\n",
       " 'Common wheat',\n",
       " 'Loose Silky-bent',\n",
       " 'Loose Silky-bent',\n",
       " 'Loose Silky-bent',\n",
       " 'Black-grass',\n",
       " 'Charlock',\n",
       " 'Small-flowered Cranesbill',\n",
       " 'Charlock',\n",
       " 'Common wheat',\n",
       " 'Small-flowered Cranesbill',\n",
       " 'Shepherds Purse',\n",
       " 'Loose Silky-bent',\n",
       " 'Common Chickweed',\n",
       " 'Small-flowered Cranesbill',\n",
       " 'Scentless Mayweed',\n",
       " 'Loose Silky-bent',\n",
       " 'Charlock',\n",
       " 'Shepherds Purse',\n",
       " 'Maize',\n",
       " 'Common Chickweed',\n",
       " 'Fat Hen',\n",
       " 'Scentless Mayweed',\n",
       " 'Small-flowered Cranesbill',\n",
       " 'Common wheat',\n",
       " 'Small-flowered Cranesbill',\n",
       " 'Small-flowered Cranesbill',\n",
       " 'Small-flowered Cranesbill',\n",
       " 'Sugar beet',\n",
       " 'Common wheat',\n",
       " 'Loose Silky-bent',\n",
       " 'Loose Silky-bent',\n",
       " 'Scentless Mayweed',\n",
       " 'Maize',\n",
       " 'Scentless Mayweed',\n",
       " 'Small-flowered Cranesbill',\n",
       " 'Small-flowered Cranesbill',\n",
       " 'Common Chickweed',\n",
       " 'Scentless Mayweed',\n",
       " 'Small-flowered Cranesbill',\n",
       " 'Cleavers',\n",
       " 'Scentless Mayweed',\n",
       " 'Cleavers',\n",
       " 'Loose Silky-bent',\n",
       " 'Fat Hen',\n",
       " 'Charlock',\n",
       " 'Sugar beet',\n",
       " 'Cleavers',\n",
       " 'Loose Silky-bent',\n",
       " 'Fat Hen',\n",
       " 'Common Chickweed',\n",
       " 'Shepherds Purse',\n",
       " 'Cleavers',\n",
       " 'Common wheat',\n",
       " 'Fat Hen',\n",
       " 'Cleavers',\n",
       " 'Maize',\n",
       " 'Maize',\n",
       " 'Scentless Mayweed',\n",
       " 'Shepherds Purse',\n",
       " 'Fat Hen',\n",
       " 'Small-flowered Cranesbill',\n",
       " 'Charlock',\n",
       " 'Loose Silky-bent',\n",
       " 'Charlock',\n",
       " 'Loose Silky-bent',\n",
       " 'Common wheat',\n",
       " 'Sugar beet',\n",
       " 'Sugar beet',\n",
       " 'Black-grass',\n",
       " 'Scentless Mayweed',\n",
       " 'Small-flowered Cranesbill',\n",
       " 'Charlock',\n",
       " 'Common Chickweed',\n",
       " 'Small-flowered Cranesbill',\n",
       " 'Sugar beet',\n",
       " 'Scentless Mayweed',\n",
       " 'Black-grass',\n",
       " 'Fat Hen',\n",
       " 'Charlock',\n",
       " 'Small-flowered Cranesbill',\n",
       " 'Loose Silky-bent',\n",
       " 'Common Chickweed',\n",
       " 'Common wheat',\n",
       " 'Scentless Mayweed',\n",
       " 'Sugar beet',\n",
       " 'Loose Silky-bent',\n",
       " 'Small-flowered Cranesbill',\n",
       " 'Common Chickweed',\n",
       " 'Sugar beet',\n",
       " 'Fat Hen',\n",
       " 'Sugar beet',\n",
       " 'Scentless Mayweed',\n",
       " 'Sugar beet',\n",
       " 'Common Chickweed',\n",
       " 'Charlock',\n",
       " 'Scentless Mayweed',\n",
       " 'Small-flowered Cranesbill',\n",
       " 'Sugar beet',\n",
       " 'Common Chickweed',\n",
       " 'Scentless Mayweed',\n",
       " 'Shepherds Purse',\n",
       " 'Sugar beet',\n",
       " 'Loose Silky-bent',\n",
       " 'Charlock',\n",
       " 'Common Chickweed',\n",
       " 'Common Chickweed',\n",
       " 'Small-flowered Cranesbill',\n",
       " 'Scentless Mayweed',\n",
       " 'Scentless Mayweed',\n",
       " 'Loose Silky-bent',\n",
       " 'Loose Silky-bent',\n",
       " 'Small-flowered Cranesbill',\n",
       " 'Scentless Mayweed',\n",
       " 'Fat Hen',\n",
       " 'Loose Silky-bent',\n",
       " 'Small-flowered Cranesbill',\n",
       " 'Common Chickweed',\n",
       " 'Fat Hen',\n",
       " 'Small-flowered Cranesbill',\n",
       " 'Charlock',\n",
       " 'Small-flowered Cranesbill',\n",
       " 'Small-flowered Cranesbill',\n",
       " 'Charlock',\n",
       " 'Charlock',\n",
       " 'Loose Silky-bent',\n",
       " 'Sugar beet',\n",
       " 'Common Chickweed',\n",
       " 'Small-flowered Cranesbill',\n",
       " 'Fat Hen',\n",
       " 'Fat Hen',\n",
       " 'Common Chickweed',\n",
       " 'Small-flowered Cranesbill',\n",
       " 'Sugar beet',\n",
       " 'Small-flowered Cranesbill',\n",
       " 'Cleavers',\n",
       " 'Maize',\n",
       " 'Scentless Mayweed',\n",
       " 'Sugar beet',\n",
       " 'Common Chickweed',\n",
       " 'Cleavers',\n",
       " 'Common Chickweed',\n",
       " 'Charlock',\n",
       " 'Loose Silky-bent',\n",
       " 'Scentless Mayweed',\n",
       " 'Loose Silky-bent',\n",
       " 'Loose Silky-bent',\n",
       " 'Cleavers',\n",
       " 'Common Chickweed',\n",
       " 'Shepherds Purse',\n",
       " 'Loose Silky-bent',\n",
       " 'Scentless Mayweed',\n",
       " 'Shepherds Purse',\n",
       " 'Cleavers',\n",
       " 'Common Chickweed',\n",
       " 'Loose Silky-bent',\n",
       " 'Cleavers',\n",
       " 'Common Chickweed',\n",
       " 'Loose Silky-bent',\n",
       " 'Loose Silky-bent',\n",
       " 'Loose Silky-bent',\n",
       " 'Sugar beet',\n",
       " 'Common Chickweed',\n",
       " 'Small-flowered Cranesbill',\n",
       " 'Scentless Mayweed',\n",
       " 'Common Chickweed',\n",
       " 'Black-grass',\n",
       " 'Common wheat',\n",
       " 'Common Chickweed',\n",
       " 'Common Chickweed',\n",
       " 'Common Chickweed',\n",
       " 'Common wheat',\n",
       " 'Maize',\n",
       " 'Scentless Mayweed',\n",
       " 'Loose Silky-bent',\n",
       " 'Charlock',\n",
       " 'Common wheat',\n",
       " 'Maize',\n",
       " 'Common Chickweed',\n",
       " 'Loose Silky-bent',\n",
       " 'Common Chickweed',\n",
       " 'Loose Silky-bent',\n",
       " 'Common Chickweed',\n",
       " 'Sugar beet',\n",
       " 'Fat Hen',\n",
       " 'Small-flowered Cranesbill',\n",
       " 'Black-grass',\n",
       " 'Cleavers',\n",
       " 'Cleavers',\n",
       " 'Small-flowered Cranesbill',\n",
       " 'Sugar beet',\n",
       " 'Sugar beet',\n",
       " 'Scentless Mayweed',\n",
       " 'Sugar beet',\n",
       " 'Scentless Mayweed',\n",
       " 'Charlock',\n",
       " 'Common Chickweed',\n",
       " 'Fat Hen',\n",
       " 'Common Chickweed',\n",
       " 'Cleavers',\n",
       " 'Cleavers',\n",
       " 'Scentless Mayweed',\n",
       " 'Charlock',\n",
       " 'Loose Silky-bent',\n",
       " 'Fat Hen',\n",
       " 'Loose Silky-bent',\n",
       " 'Common Chickweed',\n",
       " 'Black-grass',\n",
       " 'Small-flowered Cranesbill',\n",
       " 'Loose Silky-bent',\n",
       " 'Scentless Mayweed',\n",
       " 'Maize',\n",
       " 'Cleavers',\n",
       " 'Charlock',\n",
       " 'Common Chickweed',\n",
       " 'Sugar beet',\n",
       " 'Common Chickweed',\n",
       " 'Black-grass',\n",
       " 'Loose Silky-bent',\n",
       " 'Charlock',\n",
       " 'Loose Silky-bent',\n",
       " 'Shepherds Purse',\n",
       " 'Common wheat',\n",
       " 'Small-flowered Cranesbill',\n",
       " 'Common wheat',\n",
       " 'Sugar beet',\n",
       " 'Charlock',\n",
       " 'Common Chickweed',\n",
       " 'Fat Hen',\n",
       " 'Common Chickweed',\n",
       " 'Common Chickweed',\n",
       " 'Small-flowered Cranesbill',\n",
       " 'Common Chickweed',\n",
       " 'Small-flowered Cranesbill',\n",
       " 'Common Chickweed',\n",
       " 'Common Chickweed',\n",
       " 'Common Chickweed',\n",
       " 'Common wheat',\n",
       " 'Scentless Mayweed',\n",
       " 'Sugar beet',\n",
       " 'Scentless Mayweed',\n",
       " 'Black-grass',\n",
       " 'Common Chickweed',\n",
       " 'Loose Silky-bent',\n",
       " 'Common wheat',\n",
       " 'Loose Silky-bent',\n",
       " 'Maize',\n",
       " 'Scentless Mayweed',\n",
       " 'Loose Silky-bent',\n",
       " 'Sugar beet',\n",
       " 'Small-flowered Cranesbill',\n",
       " 'Loose Silky-bent',\n",
       " 'Sugar beet',\n",
       " 'Charlock',\n",
       " 'Loose Silky-bent',\n",
       " 'Common Chickweed',\n",
       " 'Common wheat',\n",
       " 'Maize',\n",
       " 'Loose Silky-bent',\n",
       " 'Charlock',\n",
       " 'Common wheat',\n",
       " 'Scentless Mayweed',\n",
       " 'Fat Hen',\n",
       " 'Loose Silky-bent',\n",
       " 'Scentless Mayweed',\n",
       " 'Fat Hen',\n",
       " 'Scentless Mayweed',\n",
       " 'Fat Hen',\n",
       " 'Charlock',\n",
       " 'Charlock',\n",
       " 'Sugar beet',\n",
       " 'Sugar beet',\n",
       " 'Scentless Mayweed',\n",
       " 'Maize',\n",
       " 'Common Chickweed',\n",
       " 'Common Chickweed',\n",
       " 'Loose Silky-bent',\n",
       " 'Common Chickweed',\n",
       " 'Small-flowered Cranesbill',\n",
       " 'Common wheat',\n",
       " 'Charlock',\n",
       " 'Loose Silky-bent',\n",
       " 'Loose Silky-bent',\n",
       " 'Scentless Mayweed',\n",
       " 'Loose Silky-bent',\n",
       " 'Common Chickweed',\n",
       " 'Loose Silky-bent',\n",
       " 'Loose Silky-bent',\n",
       " 'Scentless Mayweed',\n",
       " 'Common Chickweed',\n",
       " 'Scentless Mayweed',\n",
       " 'Common Chickweed',\n",
       " 'Shepherds Purse',\n",
       " 'Small-flowered Cranesbill',\n",
       " 'Fat Hen',\n",
       " 'Cleavers',\n",
       " 'Cleavers',\n",
       " 'Common Chickweed',\n",
       " 'Black-grass',\n",
       " 'Loose Silky-bent',\n",
       " 'Fat Hen',\n",
       " 'Scentless Mayweed',\n",
       " 'Charlock',\n",
       " 'Maize',\n",
       " 'Charlock',\n",
       " 'Small-flowered Cranesbill',\n",
       " 'Common Chickweed',\n",
       " 'Shepherds Purse',\n",
       " 'Common Chickweed',\n",
       " 'Small-flowered Cranesbill',\n",
       " 'Small-flowered Cranesbill',\n",
       " 'Loose Silky-bent',\n",
       " 'Loose Silky-bent',\n",
       " 'Scentless Mayweed',\n",
       " 'Common wheat',\n",
       " 'Common Chickweed',\n",
       " 'Scentless Mayweed',\n",
       " 'Small-flowered Cranesbill',\n",
       " 'Small-flowered Cranesbill',\n",
       " 'Common Chickweed',\n",
       " 'Small-flowered Cranesbill',\n",
       " 'Fat Hen',\n",
       " 'Fat Hen',\n",
       " 'Loose Silky-bent',\n",
       " 'Common Chickweed',\n",
       " 'Loose Silky-bent',\n",
       " 'Loose Silky-bent',\n",
       " 'Small-flowered Cranesbill',\n",
       " 'Common wheat',\n",
       " 'Sugar beet',\n",
       " 'Maize',\n",
       " 'Sugar beet',\n",
       " 'Fat Hen',\n",
       " 'Maize',\n",
       " 'Charlock',\n",
       " 'Shepherds Purse',\n",
       " 'Scentless Mayweed',\n",
       " 'Common Chickweed',\n",
       " 'Shepherds Purse',\n",
       " 'Sugar beet',\n",
       " 'Common Chickweed',\n",
       " 'Small-flowered Cranesbill',\n",
       " 'Small-flowered Cranesbill',\n",
       " 'Sugar beet',\n",
       " 'Charlock',\n",
       " 'Scentless Mayweed',\n",
       " 'Loose Silky-bent',\n",
       " 'Loose Silky-bent',\n",
       " 'Loose Silky-bent',\n",
       " 'Charlock',\n",
       " 'Common Chickweed',\n",
       " 'Common Chickweed',\n",
       " 'Fat Hen',\n",
       " 'Loose Silky-bent',\n",
       " 'Common wheat',\n",
       " 'Cleavers',\n",
       " 'Charlock',\n",
       " 'Shepherds Purse',\n",
       " 'Fat Hen',\n",
       " 'Scentless Mayweed',\n",
       " 'Loose Silky-bent',\n",
       " 'Common wheat',\n",
       " 'Cleavers',\n",
       " 'Cleavers',\n",
       " 'Common Chickweed',\n",
       " 'Common wheat',\n",
       " 'Charlock',\n",
       " 'Common Chickweed',\n",
       " 'Loose Silky-bent',\n",
       " 'Sugar beet',\n",
       " 'Sugar beet',\n",
       " 'Common Chickweed',\n",
       " 'Fat Hen',\n",
       " 'Loose Silky-bent',\n",
       " 'Loose Silky-bent',\n",
       " 'Common Chickweed',\n",
       " 'Cleavers',\n",
       " 'Cleavers',\n",
       " 'Charlock',\n",
       " 'Scentless Mayweed',\n",
       " 'Scentless Mayweed',\n",
       " 'Cleavers',\n",
       " 'Common Chickweed',\n",
       " 'Common Chickweed',\n",
       " 'Shepherds Purse',\n",
       " 'Charlock',\n",
       " 'Loose Silky-bent',\n",
       " 'Sugar beet',\n",
       " 'Maize',\n",
       " 'Loose Silky-bent',\n",
       " 'Fat Hen',\n",
       " 'Shepherds Purse',\n",
       " 'Shepherds Purse',\n",
       " 'Charlock',\n",
       " 'Loose Silky-bent',\n",
       " 'Scentless Mayweed',\n",
       " 'Small-flowered Cranesbill',\n",
       " 'Shepherds Purse',\n",
       " 'Loose Silky-bent',\n",
       " 'Small-flowered Cranesbill',\n",
       " 'Loose Silky-bent',\n",
       " 'Charlock',\n",
       " 'Small-flowered Cranesbill',\n",
       " 'Loose Silky-bent',\n",
       " 'Maize',\n",
       " 'Loose Silky-bent',\n",
       " 'Cleavers',\n",
       " 'Scentless Mayweed',\n",
       " 'Sugar beet',\n",
       " 'Common Chickweed',\n",
       " 'Scentless Mayweed',\n",
       " 'Loose Silky-bent',\n",
       " 'Loose Silky-bent',\n",
       " 'Fat Hen',\n",
       " 'Scentless Mayweed',\n",
       " 'Loose Silky-bent',\n",
       " 'Fat Hen',\n",
       " 'Maize',\n",
       " 'Fat Hen',\n",
       " 'Scentless Mayweed',\n",
       " 'Black-grass',\n",
       " 'Loose Silky-bent',\n",
       " 'Cleavers',\n",
       " 'Sugar beet',\n",
       " 'Maize',\n",
       " 'Scentless Mayweed',\n",
       " 'Sugar beet',\n",
       " 'Sugar beet',\n",
       " 'Cleavers',\n",
       " 'Sugar beet',\n",
       " 'Common Chickweed',\n",
       " 'Common Chickweed',\n",
       " 'Shepherds Purse',\n",
       " 'Loose Silky-bent',\n",
       " 'Small-flowered Cranesbill',\n",
       " 'Sugar beet',\n",
       " 'Sugar beet',\n",
       " 'Black-grass',\n",
       " 'Small-flowered Cranesbill',\n",
       " 'Common Chickweed',\n",
       " 'Loose Silky-bent',\n",
       " 'Small-flowered Cranesbill',\n",
       " 'Loose Silky-bent',\n",
       " 'Loose Silky-bent',\n",
       " 'Black-grass',\n",
       " 'Black-grass',\n",
       " 'Sugar beet',\n",
       " 'Shepherds Purse',\n",
       " 'Sugar beet',\n",
       " 'Cleavers',\n",
       " 'Cleavers',\n",
       " 'Common Chickweed',\n",
       " 'Small-flowered Cranesbill',\n",
       " 'Charlock',\n",
       " 'Common Chickweed',\n",
       " 'Small-flowered Cranesbill',\n",
       " 'Scentless Mayweed',\n",
       " 'Fat Hen',\n",
       " 'Sugar beet',\n",
       " 'Maize',\n",
       " 'Loose Silky-bent',\n",
       " 'Fat Hen',\n",
       " 'Small-flowered Cranesbill',\n",
       " 'Sugar beet',\n",
       " 'Common wheat',\n",
       " 'Scentless Mayweed',\n",
       " 'Charlock',\n",
       " 'Sugar beet',\n",
       " 'Scentless Mayweed',\n",
       " 'Shepherds Purse',\n",
       " 'Charlock',\n",
       " 'Maize',\n",
       " 'Common Chickweed',\n",
       " 'Common Chickweed',\n",
       " 'Loose Silky-bent',\n",
       " 'Sugar beet',\n",
       " 'Sugar beet',\n",
       " 'Cleavers',\n",
       " 'Cleavers',\n",
       " 'Sugar beet',\n",
       " 'Fat Hen',\n",
       " 'Sugar beet',\n",
       " 'Scentless Mayweed',\n",
       " 'Scentless Mayweed',\n",
       " 'Fat Hen',\n",
       " 'Black-grass',\n",
       " 'Scentless Mayweed',\n",
       " 'Loose Silky-bent',\n",
       " 'Black-grass',\n",
       " 'Loose Silky-bent',\n",
       " 'Sugar beet',\n",
       " 'Sugar beet',\n",
       " 'Loose Silky-bent',\n",
       " 'Common Chickweed',\n",
       " 'Scentless Mayweed',\n",
       " 'Sugar beet',\n",
       " 'Cleavers',\n",
       " 'Common Chickweed',\n",
       " 'Loose Silky-bent',\n",
       " 'Charlock',\n",
       " 'Shepherds Purse',\n",
       " 'Black-grass',\n",
       " 'Scentless Mayweed',\n",
       " 'Common wheat',\n",
       " 'Maize',\n",
       " 'Fat Hen',\n",
       " 'Sugar beet',\n",
       " 'Fat Hen',\n",
       " 'Fat Hen',\n",
       " 'Shepherds Purse',\n",
       " 'Charlock',\n",
       " 'Fat Hen',\n",
       " 'Black-grass',\n",
       " 'Small-flowered Cranesbill',\n",
       " 'Charlock',\n",
       " 'Small-flowered Cranesbill',\n",
       " 'Cleavers',\n",
       " 'Common Chickweed',\n",
       " 'Common Chickweed',\n",
       " 'Sugar beet',\n",
       " 'Common wheat',\n",
       " 'Sugar beet',\n",
       " 'Maize',\n",
       " 'Cleavers',\n",
       " 'Fat Hen',\n",
       " 'Loose Silky-bent',\n",
       " 'Shepherds Purse',\n",
       " 'Small-flowered Cranesbill',\n",
       " 'Common wheat',\n",
       " 'Common Chickweed',\n",
       " 'Maize',\n",
       " 'Maize',\n",
       " 'Scentless Mayweed',\n",
       " 'Common Chickweed',\n",
       " 'Loose Silky-bent',\n",
       " 'Common wheat',\n",
       " 'Scentless Mayweed',\n",
       " 'Loose Silky-bent',\n",
       " 'Common Chickweed',\n",
       " 'Scentless Mayweed',\n",
       " 'Loose Silky-bent',\n",
       " 'Sugar beet',\n",
       " 'Sugar beet',\n",
       " 'Loose Silky-bent',\n",
       " 'Sugar beet',\n",
       " 'Loose Silky-bent',\n",
       " 'Charlock',\n",
       " 'Fat Hen',\n",
       " 'Common wheat',\n",
       " 'Scentless Mayweed',\n",
       " 'Loose Silky-bent',\n",
       " 'Fat Hen',\n",
       " 'Loose Silky-bent',\n",
       " 'Loose Silky-bent',\n",
       " 'Small-flowered Cranesbill',\n",
       " 'Loose Silky-bent',\n",
       " 'Common Chickweed',\n",
       " 'Charlock',\n",
       " 'Common Chickweed',\n",
       " 'Common Chickweed',\n",
       " 'Scentless Mayweed',\n",
       " 'Cleavers',\n",
       " 'Fat Hen',\n",
       " 'Charlock',\n",
       " 'Maize',\n",
       " 'Charlock',\n",
       " 'Sugar beet',\n",
       " 'Loose Silky-bent',\n",
       " 'Charlock',\n",
       " 'Cleavers',\n",
       " 'Shepherds Purse',\n",
       " 'Small-flowered Cranesbill',\n",
       " 'Common Chickweed',\n",
       " 'Shepherds Purse',\n",
       " 'Charlock',\n",
       " 'Small-flowered Cranesbill',\n",
       " 'Common Chickweed',\n",
       " 'Shepherds Purse',\n",
       " 'Charlock',\n",
       " 'Scentless Mayweed',\n",
       " 'Common Chickweed',\n",
       " 'Loose Silky-bent',\n",
       " 'Scentless Mayweed',\n",
       " 'Loose Silky-bent',\n",
       " 'Small-flowered Cranesbill',\n",
       " 'Fat Hen',\n",
       " 'Cleavers',\n",
       " 'Loose Silky-bent',\n",
       " 'Small-flowered Cranesbill',\n",
       " 'Scentless Mayweed',\n",
       " 'Sugar beet',\n",
       " 'Fat Hen',\n",
       " 'Shepherds Purse',\n",
       " 'Scentless Mayweed',\n",
       " 'Scentless Mayweed',\n",
       " 'Sugar beet',\n",
       " 'Cleavers',\n",
       " 'Fat Hen',\n",
       " 'Shepherds Purse',\n",
       " 'Shepherds Purse',\n",
       " 'Scentless Mayweed',\n",
       " 'Cleavers',\n",
       " 'Charlock',\n",
       " 'Scentless Mayweed',\n",
       " 'Sugar beet',\n",
       " 'Sugar beet',\n",
       " 'Common wheat',\n",
       " 'Sugar beet',\n",
       " 'Shepherds Purse',\n",
       " 'Fat Hen',\n",
       " 'Loose Silky-bent',\n",
       " 'Small-flowered Cranesbill',\n",
       " 'Small-flowered Cranesbill',\n",
       " 'Common Chickweed',\n",
       " 'Small-flowered Cranesbill',\n",
       " 'Common wheat',\n",
       " 'Small-flowered Cranesbill',\n",
       " 'Charlock',\n",
       " 'Small-flowered Cranesbill',\n",
       " 'Scentless Mayweed',\n",
       " 'Small-flowered Cranesbill',\n",
       " 'Common Chickweed',\n",
       " 'Scentless Mayweed',\n",
       " 'Maize',\n",
       " 'Loose Silky-bent',\n",
       " 'Loose Silky-bent',\n",
       " 'Small-flowered Cranesbill',\n",
       " 'Fat Hen',\n",
       " 'Common Chickweed',\n",
       " 'Loose Silky-bent',\n",
       " 'Charlock',\n",
       " 'Fat Hen',\n",
       " 'Fat Hen',\n",
       " 'Scentless Mayweed',\n",
       " 'Common wheat',\n",
       " 'Loose Silky-bent',\n",
       " 'Fat Hen',\n",
       " 'Sugar beet',\n",
       " 'Common Chickweed',\n",
       " 'Loose Silky-bent',\n",
       " 'Loose Silky-bent',\n",
       " 'Loose Silky-bent',\n",
       " 'Fat Hen',\n",
       " 'Charlock',\n",
       " 'Scentless Mayweed',\n",
       " 'Loose Silky-bent',\n",
       " 'Scentless Mayweed',\n",
       " 'Common wheat',\n",
       " 'Loose Silky-bent',\n",
       " 'Small-flowered Cranesbill',\n",
       " 'Common Chickweed',\n",
       " 'Charlock',\n",
       " 'Scentless Mayweed',\n",
       " 'Fat Hen',\n",
       " 'Charlock',\n",
       " 'Small-flowered Cranesbill',\n",
       " 'Scentless Mayweed',\n",
       " 'Common Chickweed',\n",
       " 'Maize',\n",
       " 'Loose Silky-bent',\n",
       " 'Cleavers',\n",
       " 'Common Chickweed',\n",
       " 'Scentless Mayweed',\n",
       " 'Common wheat',\n",
       " 'Scentless Mayweed',\n",
       " 'Fat Hen',\n",
       " 'Fat Hen',\n",
       " 'Cleavers',\n",
       " 'Charlock',\n",
       " 'Fat Hen',\n",
       " 'Fat Hen',\n",
       " 'Scentless Mayweed',\n",
       " 'Small-flowered Cranesbill',\n",
       " 'Loose Silky-bent',\n",
       " 'Shepherds Purse',\n",
       " 'Loose Silky-bent',\n",
       " 'Loose Silky-bent',\n",
       " 'Fat Hen',\n",
       " 'Fat Hen',\n",
       " 'Sugar beet',\n",
       " 'Maize',\n",
       " 'Scentless Mayweed',\n",
       " 'Common Chickweed',\n",
       " 'Shepherds Purse',\n",
       " 'Common Chickweed',\n",
       " 'Common Chickweed',\n",
       " 'Cleavers',\n",
       " 'Black-grass',\n",
       " 'Cleavers',\n",
       " 'Small-flowered Cranesbill',\n",
       " 'Charlock',\n",
       " 'Loose Silky-bent',\n",
       " 'Scentless Mayweed',\n",
       " 'Loose Silky-bent',\n",
       " 'Loose Silky-bent',\n",
       " 'Small-flowered Cranesbill',\n",
       " 'Shepherds Purse',\n",
       " 'Charlock']"
      ]
     },
     "execution_count": 39,
     "metadata": {},
     "output_type": "execute_result"
    }
   ],
   "source": [
    "predicted_classes"
   ]
  },
  {
   "cell_type": "code",
   "execution_count": 27,
   "metadata": {
    "collapsed": true
   },
   "outputs": [],
   "source": [
    "from os.path import basename\n",
    "test_ids = [basename(x) for x in test_generator.filenames]"
   ]
  },
  {
   "cell_type": "code",
   "execution_count": 28,
   "metadata": {},
   "outputs": [
    {
     "data": {
      "text/plain": [
       "'4bbfd1e05.png'"
      ]
     },
     "execution_count": 28,
     "metadata": {},
     "output_type": "execute_result"
    }
   ],
   "source": [
    "test_ids[0]"
   ]
  },
  {
   "cell_type": "code",
   "execution_count": 40,
   "metadata": {
    "collapsed": true
   },
   "outputs": [],
   "source": [
    "submission = pd.DataFrame({'file':test_ids,'species':predicted_classes})\n",
    "submission.to_csv('submission_vgg_16.csv', encoding=\"utf8\", index=False)"
   ]
  },
  {
   "cell_type": "code",
   "execution_count": 42,
   "metadata": {},
   "outputs": [
    {
     "data": {
      "text/html": [
       "<a href='submission_vgg_16.csv' target='_blank'>submission_vgg_16.csv</a><br>"
      ],
      "text/plain": [
       "/home/janardhan/plant_seeding/submission_vgg_16.csv"
      ]
     },
     "execution_count": 42,
     "metadata": {},
     "output_type": "execute_result"
    }
   ],
   "source": [
    "from IPython.display import FileLink\n",
    "FileLink('submission_vgg_16.csv')"
   ]
  },
  {
   "cell_type": "code",
   "execution_count": null,
   "metadata": {
    "collapsed": true
   },
   "outputs": [],
   "source": [
    "# PB LB: 0.93450"
   ]
  },
  {
   "cell_type": "code",
   "execution_count": 37,
   "metadata": {
    "collapsed": true
   },
   "outputs": [],
   "source": [
    "tmp = \"\"\"Epoch 1/10\n",
    "92s - loss: 2.4395 - acc: 0.1317 - val_loss: 2.4205 - val_acc: 0.1417\n",
    "Epoch 2/10\n",
    "85s - loss: 2.4290 - acc: 0.1376 - val_loss: 2.3940 - val_acc: 0.1293\n",
    "Epoch 3/10\n",
    "85s - loss: 2.2317 - acc: 0.2331 - val_loss: 2.0667 - val_acc: 0.3092\n",
    "Epoch 4/10\n",
    "89s - loss: 1.7759 - acc: 0.3753 - val_loss: 1.6955 - val_acc: 0.3702\n",
    "Epoch 5/10\n",
    "88s - loss: 1.5856 - acc: 0.4230 - val_loss: 1.7454 - val_acc: 0.4157\n",
    "Epoch 6/10\n",
    "88s - loss: 1.4445 - acc: 0.4728 - val_loss: 1.3673 - val_acc: 0.5140\n",
    "Epoch 7/10\n",
    "88s - loss: 1.3058 - acc: 0.5370 - val_loss: 1.8269 - val_acc: 0.4498\n",
    "Epoch 8/10\n",
    "89s - loss: 1.1819 - acc: 0.5869 - val_loss: 1.0900 - val_acc: 0.6443\n",
    "Epoch 9/10\n",
    "88s - loss: 1.0417 - acc: 0.6294 - val_loss: 1.3571 - val_acc: 0.5750\n",
    "Epoch 10/10\n",
    "88s - loss: 0.9634 - acc: 0.6644 - val_loss: 1.1406 - val_acc: 0.5988\n",
    "Epoch 1/10\n",
    "87s - loss: 0.8770 - acc: 0.6911 - val_loss: 0.7162 - val_acc: 0.7632\n",
    "Epoch 2/10\n",
    "87s - loss: 0.8458 - acc: 0.7091 - val_loss: 0.7076 - val_acc: 0.7715\n",
    "Epoch 3/10\n",
    "88s - loss: 0.7592 - acc: 0.7376 - val_loss: 0.6843 - val_acc: 0.7570\n",
    "Epoch 4/10\n",
    "89s - loss: 0.7061 - acc: 0.7556 - val_loss: 0.7763 - val_acc: 0.7508\n",
    "Epoch 5/10\n",
    "87s - loss: 0.6834 - acc: 0.7606 - val_loss: 0.5474 - val_acc: 0.8180\n",
    "Epoch 6/10\n",
    "88s - loss: 0.6043 - acc: 0.7849 - val_loss: 0.5479 - val_acc: 0.8335\n",
    "Epoch 7/10\n",
    "87s - loss: 0.5556 - acc: 0.8016 - val_loss: 0.4923 - val_acc: 0.8366\n",
    "Epoch 8/10\n",
    "84s - loss: 0.5258 - acc: 0.8151 - val_loss: 0.5925 - val_acc: 0.8087\n",
    "Epoch 9/10\n",
    "85s - loss: 0.4769 - acc: 0.8306 - val_loss: 0.5349 - val_acc: 0.8397\n",
    "Epoch 10/10\n",
    "85s - loss: 0.4483 - acc: 0.8358 - val_loss: 0.5166 - val_acc: 0.8201\n",
    "Epoch 1/5\n",
    "86s - loss: 0.3178 - acc: 0.8833 - val_loss: 0.3554 - val_acc: 0.8852\n",
    "Epoch 2/5\n",
    "84s - loss: 0.3042 - acc: 0.8922 - val_loss: 0.3730 - val_acc: 0.8697\n",
    "Epoch 3/5\n",
    "84s - loss: 0.2834 - acc: 0.8957 - val_loss: 0.4153 - val_acc: 0.8687\n",
    "Epoch 4/5\n",
    "85s - loss: 0.2836 - acc: 0.8991 - val_loss: 0.3296 - val_acc: 0.8790\n",
    "Epoch 5/5\n",
    "84s - loss: 0.2757 - acc: 0.8985 - val_loss: 0.4359 - val_acc: 0.8563\n",
    "Epoch 1/5\n",
    "85s - loss: 0.2533 - acc: 0.9009 - val_loss: 0.3630 - val_acc: 0.8769\n",
    "Epoch 2/5\n",
    "84s - loss: 0.2627 - acc: 0.8998 - val_loss: 0.3692 - val_acc: 0.8749\n",
    "Epoch 3/5\n",
    "85s - loss: 0.2615 - acc: 0.9031 - val_loss: 0.3773 - val_acc: 0.8749\n",
    "Epoch 4/5\n",
    "84s - loss: 0.2529 - acc: 0.9086 - val_loss: 0.3503 - val_acc: 0.8800\n",
    "Epoch 5/5\n",
    "85s - loss: 0.2508 - acc: 0.9052 - val_loss: 0.3711 - val_acc: 0.8831\n",
    "\"\"\""
   ]
  },
  {
   "cell_type": "code",
   "execution_count": 38,
   "metadata": {},
   "outputs": [
    {
     "name": "stdout",
     "output_type": "stream",
     "text": [
      "['Epoch 1/10', '92s - loss: 2.4395 - acc: 0.1317 - val_loss: 2.4205 - val_acc: 0.1417', 'Epoch 2/10', '85s - loss: 2.4290 - acc: 0.1376 - val_loss: 2.3940 - val_acc: 0.1293', 'Epoch 3/10', '85s - loss: 2.2317 - acc: 0.2331 - val_loss: 2.0667 - val_acc: 0.3092', 'Epoch 4/10', '89s - loss: 1.7759 - acc: 0.3753 - val_loss: 1.6955 - val_acc: 0.3702', 'Epoch 5/10', '88s - loss: 1.5856 - acc: 0.4230 - val_loss: 1.7454 - val_acc: 0.4157', 'Epoch 6/10', '88s - loss: 1.4445 - acc: 0.4728 - val_loss: 1.3673 - val_acc: 0.5140', 'Epoch 7/10', '88s - loss: 1.3058 - acc: 0.5370 - val_loss: 1.8269 - val_acc: 0.4498', 'Epoch 8/10', '89s - loss: 1.1819 - acc: 0.5869 - val_loss: 1.0900 - val_acc: 0.6443', 'Epoch 9/10', '88s - loss: 1.0417 - acc: 0.6294 - val_loss: 1.3571 - val_acc: 0.5750', 'Epoch 10/10', '88s - loss: 0.9634 - acc: 0.6644 - val_loss: 1.1406 - val_acc: 0.5988', 'Epoch 1/10', '87s - loss: 0.8770 - acc: 0.6911 - val_loss: 0.7162 - val_acc: 0.7632', 'Epoch 2/10', '87s - loss: 0.8458 - acc: 0.7091 - val_loss: 0.7076 - val_acc: 0.7715', 'Epoch 3/10', '88s - loss: 0.7592 - acc: 0.7376 - val_loss: 0.6843 - val_acc: 0.7570', 'Epoch 4/10', '89s - loss: 0.7061 - acc: 0.7556 - val_loss: 0.7763 - val_acc: 0.7508', 'Epoch 5/10', '87s - loss: 0.6834 - acc: 0.7606 - val_loss: 0.5474 - val_acc: 0.8180', 'Epoch 6/10', '88s - loss: 0.6043 - acc: 0.7849 - val_loss: 0.5479 - val_acc: 0.8335', 'Epoch 7/10', '87s - loss: 0.5556 - acc: 0.8016 - val_loss: 0.4923 - val_acc: 0.8366', 'Epoch 8/10', '84s - loss: 0.5258 - acc: 0.8151 - val_loss: 0.5925 - val_acc: 0.8087', 'Epoch 9/10', '85s - loss: 0.4769 - acc: 0.8306 - val_loss: 0.5349 - val_acc: 0.8397', 'Epoch 10/10', '85s - loss: 0.4483 - acc: 0.8358 - val_loss: 0.5166 - val_acc: 0.8201', 'Epoch 1/5', '86s - loss: 0.3178 - acc: 0.8833 - val_loss: 0.3554 - val_acc: 0.8852', 'Epoch 2/5', '84s - loss: 0.3042 - acc: 0.8922 - val_loss: 0.3730 - val_acc: 0.8697', 'Epoch 3/5', '84s - loss: 0.2834 - acc: 0.8957 - val_loss: 0.4153 - val_acc: 0.8687', 'Epoch 4/5', '85s - loss: 0.2836 - acc: 0.8991 - val_loss: 0.3296 - val_acc: 0.8790', 'Epoch 5/5', '84s - loss: 0.2757 - acc: 0.8985 - val_loss: 0.4359 - val_acc: 0.8563', 'Epoch 1/5', '85s - loss: 0.2533 - acc: 0.9009 - val_loss: 0.3630 - val_acc: 0.8769', 'Epoch 2/5', '84s - loss: 0.2627 - acc: 0.8998 - val_loss: 0.3692 - val_acc: 0.8749', 'Epoch 3/5', '85s - loss: 0.2615 - acc: 0.9031 - val_loss: 0.3773 - val_acc: 0.8749', 'Epoch 4/5', '84s - loss: 0.2529 - acc: 0.9086 - val_loss: 0.3503 - val_acc: 0.8800', 'Epoch 5/5', '85s - loss: 0.2508 - acc: 0.9052 - val_loss: 0.3711 - val_acc: 0.8831']\n"
     ]
    }
   ],
   "source": [
    "tmp = tmp.splitlines()\n",
    "print(tmp)"
   ]
  },
  {
   "cell_type": "code",
   "execution_count": 39,
   "metadata": {},
   "outputs": [
    {
     "data": {
      "text/plain": [
       "['92s - loss: 2.4395 - acc: 0.1317 - val_loss: 2.4205 - val_acc: 0.1417',\n",
       " '85s - loss: 2.4290 - acc: 0.1376 - val_loss: 2.3940 - val_acc: 0.1293',\n",
       " '85s - loss: 2.2317 - acc: 0.2331 - val_loss: 2.0667 - val_acc: 0.3092',\n",
       " '89s - loss: 1.7759 - acc: 0.3753 - val_loss: 1.6955 - val_acc: 0.3702',\n",
       " '88s - loss: 1.5856 - acc: 0.4230 - val_loss: 1.7454 - val_acc: 0.4157',\n",
       " '88s - loss: 1.4445 - acc: 0.4728 - val_loss: 1.3673 - val_acc: 0.5140',\n",
       " '88s - loss: 1.3058 - acc: 0.5370 - val_loss: 1.8269 - val_acc: 0.4498',\n",
       " '89s - loss: 1.1819 - acc: 0.5869 - val_loss: 1.0900 - val_acc: 0.6443',\n",
       " '88s - loss: 1.0417 - acc: 0.6294 - val_loss: 1.3571 - val_acc: 0.5750',\n",
       " '88s - loss: 0.9634 - acc: 0.6644 - val_loss: 1.1406 - val_acc: 0.5988',\n",
       " '87s - loss: 0.8770 - acc: 0.6911 - val_loss: 0.7162 - val_acc: 0.7632',\n",
       " '87s - loss: 0.8458 - acc: 0.7091 - val_loss: 0.7076 - val_acc: 0.7715',\n",
       " '88s - loss: 0.7592 - acc: 0.7376 - val_loss: 0.6843 - val_acc: 0.7570',\n",
       " '89s - loss: 0.7061 - acc: 0.7556 - val_loss: 0.7763 - val_acc: 0.7508',\n",
       " '87s - loss: 0.6834 - acc: 0.7606 - val_loss: 0.5474 - val_acc: 0.8180',\n",
       " '88s - loss: 0.6043 - acc: 0.7849 - val_loss: 0.5479 - val_acc: 0.8335',\n",
       " '87s - loss: 0.5556 - acc: 0.8016 - val_loss: 0.4923 - val_acc: 0.8366',\n",
       " '84s - loss: 0.5258 - acc: 0.8151 - val_loss: 0.5925 - val_acc: 0.8087',\n",
       " '85s - loss: 0.4769 - acc: 0.8306 - val_loss: 0.5349 - val_acc: 0.8397',\n",
       " '85s - loss: 0.4483 - acc: 0.8358 - val_loss: 0.5166 - val_acc: 0.8201',\n",
       " '86s - loss: 0.3178 - acc: 0.8833 - val_loss: 0.3554 - val_acc: 0.8852',\n",
       " '84s - loss: 0.3042 - acc: 0.8922 - val_loss: 0.3730 - val_acc: 0.8697',\n",
       " '84s - loss: 0.2834 - acc: 0.8957 - val_loss: 0.4153 - val_acc: 0.8687',\n",
       " '85s - loss: 0.2836 - acc: 0.8991 - val_loss: 0.3296 - val_acc: 0.8790',\n",
       " '84s - loss: 0.2757 - acc: 0.8985 - val_loss: 0.4359 - val_acc: 0.8563',\n",
       " '85s - loss: 0.2533 - acc: 0.9009 - val_loss: 0.3630 - val_acc: 0.8769',\n",
       " '84s - loss: 0.2627 - acc: 0.8998 - val_loss: 0.3692 - val_acc: 0.8749',\n",
       " '85s - loss: 0.2615 - acc: 0.9031 - val_loss: 0.3773 - val_acc: 0.8749',\n",
       " '84s - loss: 0.2529 - acc: 0.9086 - val_loss: 0.3503 - val_acc: 0.8800',\n",
       " '85s - loss: 0.2508 - acc: 0.9052 - val_loss: 0.3711 - val_acc: 0.8831']"
      ]
     },
     "execution_count": 39,
     "metadata": {},
     "output_type": "execute_result"
    }
   ],
   "source": [
    "tmp = [x for x in tmp if x[0] != 'E']\n",
    "tmp"
   ]
  },
  {
   "cell_type": "code",
   "execution_count": 40,
   "metadata": {
    "collapsed": true
   },
   "outputs": [],
   "source": [
    "import re"
   ]
  },
  {
   "cell_type": "code",
   "execution_count": 41,
   "metadata": {},
   "outputs": [],
   "source": [
    "train_loss = [float(re.search('loss: ([0-9\\.]+)', x).group(1)) for x in tmp]\n",
    "train_acc  = [float(re.search('acc: ([0-9\\.]+)', x).group(1)) for x in tmp]\n",
    "val_loss   = [float(re.search('val_loss: ([0-9\\.]+)', x).group(1)) for x in tmp]\n",
    "val_acc    = [float(re.search('val_acc: ([0-9\\.]+)', x).group(1)) for x in tmp]"
   ]
  },
  {
   "cell_type": "code",
   "execution_count": 42,
   "metadata": {
    "collapsed": true
   },
   "outputs": [],
   "source": [
    "import matplotlib.pyplot as plt\n",
    "%matplotlib inline"
   ]
  },
  {
   "cell_type": "code",
   "execution_count": 43,
   "metadata": {},
   "outputs": [
    {
     "data": {
      "text/plain": [
       "30"
      ]
     },
     "execution_count": 43,
     "metadata": {},
     "output_type": "execute_result"
    }
   ],
   "source": [
    "len(train_loss)"
   ]
  },
  {
   "cell_type": "code",
   "execution_count": 46,
   "metadata": {},
   "outputs": [
    {
     "data": {
      "image/png": "[encoded data removed]",
      "text/plain": [
       "<matplotlib.figure.Figure at 0x7f65ef197128>"
      ]
     },
     "metadata": {},
     "output_type": "display_data"
    }
   ],
   "source": [
    "plt.plot(range(30), train_loss,\n",
    "         range(30), val_loss);"
   ]
  },
  {
   "cell_type": "code",
   "execution_count": 47,
   "metadata": {},
   "outputs": [
    {
     "data": {
      "image/png": "[encoded data removed]",
      "text/plain": [
       "<matplotlib.figure.Figure at 0x7f65ef160a58>"
      ]
     },
     "metadata": {},
     "output_type": "display_data"
    }
   ],
   "source": [
    "plt.plot(range(30), train_acc,\n",
    "         range(30), val_acc);"
   ]
  },
  {
   "cell_type": "code",
   "execution_count": null,
   "metadata": {
    "collapsed": true
   },
   "outputs": [],
   "source": []
  }
 ],
 "metadata": {
  "kernelspec": {
   "display_name": "Python 3",
   "language": "python",
   "name": "python3"
  },
  "language_info": {
   "codemirror_mode": {
    "name": "ipython",
    "version": 3
   },
   "file_extension": ".py",
   "mimetype": "text/x-python",
   "name": "python",
   "nbconvert_exporter": "python",
   "pygments_lexer": "ipython3",
   "version": "3.5.4"
  }
 },
 "nbformat": 4,
 "nbformat_minor": 2
}
