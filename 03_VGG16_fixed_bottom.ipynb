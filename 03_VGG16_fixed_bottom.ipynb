{
 "cells": [
  {
   "cell_type": "code",
   "execution_count": 1,
   "metadata": {
    "ExecuteTime": {
     "end_time": "2018-01-04T17:06:03.861462Z",
     "start_time": "2018-01-04T17:05:48.059590Z"
    },
    "collapsed": true
   },
   "outputs": [],
   "source": [
    "from tensorflow.python.keras.preprocessing.image import ImageDataGenerator\n",
    "from tensorflow.python.keras.models import Sequential, Model\n",
    "from tensorflow.python.keras.layers import Dropout, Flatten, Dense, Input\n",
    "from tensorflow.python.keras import applications\n",
    "from tensorflow.python.keras.applications.vgg16 import VGG16\n",
    "from tensorflow.python.keras.layers import Conv2D, Convolution2D, MaxPooling2D, ZeroPadding2D\n",
    "from tensorflow.python.keras.optimizers import RMSprop\n",
    "import numpy as np\n",
    "import pandas as pd"
   ]
  },
  {
   "cell_type": "code",
   "execution_count": 2,
   "metadata": {
    "ExecuteTime": {
     "end_time": "2018-01-04T17:06:03.871055Z",
     "start_time": "2018-01-04T17:06:03.865005Z"
    },
    "collapsed": true
   },
   "outputs": [],
   "source": [
    "#parameters\n",
    "classes=12\n",
    "batch_size=16\n",
    "train_total = 3783\n",
    "validation_total = 967"
   ]
  },
  {
   "cell_type": "code",
   "execution_count": 3,
   "metadata": {
    "ExecuteTime": {
     "end_time": "2018-01-04T17:06:11.928111Z",
     "start_time": "2018-01-04T17:06:03.874669Z"
    },
    "collapsed": true
   },
   "outputs": [],
   "source": [
    "model_vgg = VGG16(include_top=False, weights = 'imagenet',input_shape=(224,224,3))"
   ]
  },
  {
   "cell_type": "code",
   "execution_count": 4,
   "metadata": {
    "ExecuteTime": {
     "end_time": "2018-01-04T17:06:11.937452Z",
     "start_time": "2018-01-04T17:06:11.929655Z"
    }
   },
   "outputs": [
    {
     "name": "stdout",
     "output_type": "stream",
     "text": [
      "_________________________________________________________________\n",
      "Layer (type)                 Output Shape              Param #   \n",
      "=================================================================\n",
      "input_1 (InputLayer)         (None, 224, 224, 3)       0         \n",
      "_________________________________________________________________\n",
      "block1_conv1 (Conv2D)        (None, 224, 224, 64)      1792      \n",
      "_________________________________________________________________\n",
      "block1_conv2 (Conv2D)        (None, 224, 224, 64)      36928     \n",
      "_________________________________________________________________\n",
      "block1_pool (MaxPooling2D)   (None, 112, 112, 64)      0         \n",
      "_________________________________________________________________\n",
      "block2_conv1 (Conv2D)        (None, 112, 112, 128)     73856     \n",
      "_________________________________________________________________\n",
      "block2_conv2 (Conv2D)        (None, 112, 112, 128)     147584    \n",
      "_________________________________________________________________\n",
      "block2_pool (MaxPooling2D)   (None, 56, 56, 128)       0         \n",
      "_________________________________________________________________\n",
      "block3_conv1 (Conv2D)        (None, 56, 56, 256)       295168    \n",
      "_________________________________________________________________\n",
      "block3_conv2 (Conv2D)        (None, 56, 56, 256)       590080    \n",
      "_________________________________________________________________\n",
      "block3_conv3 (Conv2D)        (None, 56, 56, 256)       590080    \n",
      "_________________________________________________________________\n",
      "block3_pool (MaxPooling2D)   (None, 28, 28, 256)       0         \n",
      "_________________________________________________________________\n",
      "block4_conv1 (Conv2D)        (None, 28, 28, 512)       1180160   \n",
      "_________________________________________________________________\n",
      "block4_conv2 (Conv2D)        (None, 28, 28, 512)       2359808   \n",
      "_________________________________________________________________\n",
      "block4_conv3 (Conv2D)        (None, 28, 28, 512)       2359808   \n",
      "_________________________________________________________________\n",
      "block4_pool (MaxPooling2D)   (None, 14, 14, 512)       0         \n",
      "_________________________________________________________________\n",
      "block5_conv1 (Conv2D)        (None, 14, 14, 512)       2359808   \n",
      "_________________________________________________________________\n",
      "block5_conv2 (Conv2D)        (None, 14, 14, 512)       2359808   \n",
      "_________________________________________________________________\n",
      "block5_conv3 (Conv2D)        (None, 14, 14, 512)       2359808   \n",
      "_________________________________________________________________\n",
      "block5_pool (MaxPooling2D)   (None, 7, 7, 512)         0         \n",
      "=================================================================\n",
      "Total params: 14,714,688\n",
      "Trainable params: 14,714,688\n",
      "Non-trainable params: 0\n",
      "_________________________________________________________________\n"
     ]
    }
   ],
   "source": [
    "model_vgg.summary()"
   ]
  },
  {
   "cell_type": "code",
   "execution_count": 5,
   "metadata": {
    "ExecuteTime": {
     "end_time": "2018-01-04T17:06:12.072434Z",
     "start_time": "2018-01-04T17:06:11.939028Z"
    },
    "collapsed": true
   },
   "outputs": [],
   "source": [
    "x = model_vgg.get_layer('block5_pool').output\n",
    "x = Flatten()(x)\n",
    "x = Dense(4096, activation='relu')(x)\n",
    "x = Dropout(0.5)(x)\n",
    "x = Dense(4096, activation='relu')(x)\n",
    "x = Dropout(0.5)(x)\n",
    "x = Dense(classes, activation='softmax')(x)"
   ]
  },
  {
   "cell_type": "code",
   "execution_count": 6,
   "metadata": {
    "ExecuteTime": {
     "end_time": "2018-01-04T17:06:12.101252Z",
     "start_time": "2018-01-04T17:06:12.074018Z"
    },
    "collapsed": true
   },
   "outputs": [],
   "source": [
    "model = Model(inputs=model_vgg.input, outputs=x)"
   ]
  },
  {
   "cell_type": "code",
   "execution_count": 7,
   "metadata": {
    "ExecuteTime": {
     "end_time": "2018-01-04T17:06:12.193161Z",
     "start_time": "2018-01-04T17:06:12.102655Z"
    },
    "scrolled": true
   },
   "outputs": [
    {
     "name": "stdout",
     "output_type": "stream",
     "text": [
      "_________________________________________________________________\n",
      "Layer (type)                 Output Shape              Param #   \n",
      "=================================================================\n",
      "input_1 (InputLayer)         (None, 224, 224, 3)       0         \n",
      "_________________________________________________________________\n",
      "block1_conv1 (Conv2D)        (None, 224, 224, 64)      1792      \n",
      "_________________________________________________________________\n",
      "block1_conv2 (Conv2D)        (None, 224, 224, 64)      36928     \n",
      "_________________________________________________________________\n",
      "block1_pool (MaxPooling2D)   (None, 112, 112, 64)      0         \n",
      "_________________________________________________________________\n",
      "block2_conv1 (Conv2D)        (None, 112, 112, 128)     73856     \n",
      "_________________________________________________________________\n",
      "block2_conv2 (Conv2D)        (None, 112, 112, 128)     147584    \n",
      "_________________________________________________________________\n",
      "block2_pool (MaxPooling2D)   (None, 56, 56, 128)       0         \n",
      "_________________________________________________________________\n",
      "block3_conv1 (Conv2D)        (None, 56, 56, 256)       295168    \n",
      "_________________________________________________________________\n",
      "block3_conv2 (Conv2D)        (None, 56, 56, 256)       590080    \n",
      "_________________________________________________________________\n",
      "block3_conv3 (Conv2D)        (None, 56, 56, 256)       590080    \n",
      "_________________________________________________________________\n",
      "block3_pool (MaxPooling2D)   (None, 28, 28, 256)       0         \n",
      "_________________________________________________________________\n",
      "block4_conv1 (Conv2D)        (None, 28, 28, 512)       1180160   \n",
      "_________________________________________________________________\n",
      "block4_conv2 (Conv2D)        (None, 28, 28, 512)       2359808   \n",
      "_________________________________________________________________\n",
      "block4_conv3 (Conv2D)        (None, 28, 28, 512)       2359808   \n",
      "_________________________________________________________________\n",
      "block4_pool (MaxPooling2D)   (None, 14, 14, 512)       0         \n",
      "_________________________________________________________________\n",
      "block5_conv1 (Conv2D)        (None, 14, 14, 512)       2359808   \n",
      "_________________________________________________________________\n",
      "block5_conv2 (Conv2D)        (None, 14, 14, 512)       2359808   \n",
      "_________________________________________________________________\n",
      "block5_conv3 (Conv2D)        (None, 14, 14, 512)       2359808   \n",
      "_________________________________________________________________\n",
      "block5_pool (MaxPooling2D)   (None, 7, 7, 512)         0         \n",
      "_________________________________________________________________\n",
      "flatten_1 (Flatten)          (None, 25088)             0         \n",
      "_________________________________________________________________\n",
      "dense_1 (Dense)              (None, 4096)              102764544 \n",
      "_________________________________________________________________\n",
      "dropout_1 (Dropout)          (None, 4096)              0         \n",
      "_________________________________________________________________\n",
      "dense_2 (Dense)              (None, 4096)              16781312  \n",
      "_________________________________________________________________\n",
      "dropout_2 (Dropout)          (None, 4096)              0         \n",
      "_________________________________________________________________\n",
      "dense_3 (Dense)              (None, 12)                49164     \n",
      "=================================================================\n",
      "Total params: 134,309,708\n",
      "Trainable params: 134,309,708\n",
      "Non-trainable params: 0\n",
      "_________________________________________________________________\n"
     ]
    }
   ],
   "source": [
    "model.summary()"
   ]
  },
  {
   "cell_type": "code",
   "execution_count": 8,
   "metadata": {
    "ExecuteTime": {
     "end_time": "2018-01-04T17:06:12.269162Z",
     "start_time": "2018-01-04T17:06:12.196352Z"
    },
    "collapsed": true
   },
   "outputs": [],
   "source": [
    "for layer in model_vgg.layers:\n",
    "    layer.trainable= False"
   ]
  },
  {
   "cell_type": "code",
   "execution_count": 9,
   "metadata": {
    "ExecuteTime": {
     "end_time": "2018-01-04T17:06:12.744525Z",
     "start_time": "2018-01-04T17:06:12.273001Z"
    }
   },
   "outputs": [
    {
     "name": "stdout",
     "output_type": "stream",
     "text": [
      "Found 3820 images belonging to 12 classes.\n"
     ]
    }
   ],
   "source": [
    "train_datagen = ImageDataGenerator(featurewise_center=True,\n",
    "                                   shear_range = 0.2,\n",
    "                                   rotation_range = 20,\n",
    "                                   height_shift_range=0.2,\n",
    "                                   width_shift_range=0.2,\n",
    "                                   zoom_range=0.2,\n",
    "                                   fill_mode='reflect',\n",
    "                                   horizontal_flip=True,\n",
    "                                   vertical_flip=True)\n",
    "\n",
    "train_datagen.mean=np.array([103.939, 116.779, 123.68], dtype=np.float32).reshape(1,1,3)\n",
    "\n",
    "train_generator = train_datagen.flow_from_directory(\n",
    "                    'train',\n",
    "                    target_size=(224,224),\n",
    "                    batch_size=batch_size,\n",
    "                    class_mode='categorical',\n",
    "                    shuffle=True)"
   ]
  },
  {
   "cell_type": "code",
   "execution_count": 10,
   "metadata": {
    "ExecuteTime": {
     "end_time": "2018-01-04T17:06:12.987848Z",
     "start_time": "2018-01-04T17:06:12.745897Z"
    }
   },
   "outputs": [
    {
     "name": "stdout",
     "output_type": "stream",
     "text": [
      "Found 930 images belonging to 12 classes.\n"
     ]
    }
   ],
   "source": [
    "validation_datagen = ImageDataGenerator(featurewise_center=True)\n",
    "\n",
    "validation_datagen.mean=np.array([103.939, 116.779, 123.68], dtype=np.float32).reshape(1,1,3)\n",
    "\n",
    "validation_generator = validation_datagen.flow_from_directory(\n",
    "                        'validation',\n",
    "                        target_size=(224,224),\n",
    "                        batch_size=batch_size,\n",
    "                        class_mode='categorical')"
   ]
  },
  {
   "cell_type": "code",
   "execution_count": 11,
   "metadata": {
    "ExecuteTime": {
     "end_time": "2018-01-04T17:06:13.068768Z",
     "start_time": "2018-01-04T17:06:12.991695Z"
    },
    "collapsed": true
   },
   "outputs": [],
   "source": [
    "model.compile(optimizer=RMSprop(lr=0.00005),loss='categorical_crossentropy',metrics=['accuracy'])"
   ]
  },
  {
   "cell_type": "code",
   "execution_count": 12,
   "metadata": {
    "ExecuteTime": {
     "end_time": "2018-01-04T17:06:13.124007Z",
     "start_time": "2018-01-04T17:06:13.070488Z"
    },
    "collapsed": true
   },
   "outputs": [],
   "source": [
    "from tensorflow.python.keras.callbacks import ModelCheckpoint, ReduceLROnPlateau, EarlyStopping, CSVLogger"
   ]
  },
  {
   "cell_type": "code",
   "execution_count": 13,
   "metadata": {
    "ExecuteTime": {
     "end_time": "2018-01-04T11:31:37.973532Z",
     "start_time": "2018-01-04T11:31:37.852129Z"
    },
    "collapsed": true
   },
   "outputs": [],
   "source": [
    "?CSVLogger"
   ]
  },
  {
   "cell_type": "code",
   "execution_count": 13,
   "metadata": {
    "ExecuteTime": {
     "end_time": "2018-01-04T17:06:13.213029Z",
     "start_time": "2018-01-04T17:06:13.127247Z"
    },
    "collapsed": true
   },
   "outputs": [],
   "source": [
    "callbacks = [\n",
    "    ModelCheckpoint(filepath='vgg_fixed_bottom_1.hdf5', verbose=1, save_best_only=True, save_weights_only=True),\n",
    "    \n",
    "    ReduceLROnPlateau(monitor='val_loss', factor=0.1, patience=5, verbose=1),\n",
    "    \n",
    "    EarlyStopping(monitor='val_loss', patience=10, verbose=1),\n",
    "\n",
    "    CSVLogger('./03-metrics.csv')]"
   ]
  },
  {
   "cell_type": "code",
   "execution_count": 16,
   "metadata": {
    "ExecuteTime": {
     "end_time": "2018-01-04T10:09:04.405060Z",
     "start_time": "2018-01-04T09:14:19.447274Z"
    }
   },
   "outputs": [
    {
     "name": "stdout",
     "output_type": "stream",
     "text": [
      "Epoch 1/50\n",
      "Epoch 00000: val_loss improved from inf to 3.87908, saving model to vgg_fixed_bottom_1.hdf5\n",
      "121s - loss: 7.9648 - acc: 0.2532 - val_loss: 3.8791 - val_acc: 0.5353\n",
      "Epoch 2/50\n",
      "Epoch 00001: val_loss improved from 3.87908 to 1.90041, saving model to vgg_fixed_bottom_1.hdf5\n",
      "121s - loss: 5.5453 - acc: 0.4021 - val_loss: 1.9004 - val_acc: 0.6767\n",
      "Epoch 3/50\n",
      "Epoch 00002: val_loss improved from 1.90041 to 1.40067, saving model to vgg_fixed_bottom_1.hdf5\n",
      "101s - loss: 4.2637 - acc: 0.4714 - val_loss: 1.4007 - val_acc: 0.7380\n",
      "Epoch 4/50\n",
      "Epoch 00003: val_loss improved from 1.40067 to 1.29968, saving model to vgg_fixed_bottom_1.hdf5\n",
      "102s - loss: 3.6247 - acc: 0.5214 - val_loss: 1.2997 - val_acc: 0.7609\n",
      "Epoch 5/50\n",
      "Epoch 00004: val_loss improved from 1.29968 to 0.85203, saving model to vgg_fixed_bottom_1.hdf5\n",
      "101s - loss: 2.9718 - acc: 0.5670 - val_loss: 0.8520 - val_acc: 0.7827\n",
      "Epoch 6/50\n",
      "Epoch 00005: val_loss did not improve\n",
      "96s - loss: 2.6392 - acc: 0.5871 - val_loss: 0.9738 - val_acc: 0.7994\n",
      "Epoch 7/50\n",
      "Epoch 00006: val_loss did not improve\n",
      "95s - loss: 2.3316 - acc: 0.6104 - val_loss: 0.8554 - val_acc: 0.8101\n",
      "Epoch 8/50\n",
      "Epoch 00007: val_loss did not improve\n",
      "95s - loss: 2.1501 - acc: 0.6301 - val_loss: 0.9285 - val_acc: 0.7765\n",
      "Epoch 9/50\n",
      "Epoch 00008: val_loss improved from 0.85203 to 0.84413, saving model to vgg_fixed_bottom_1.hdf5\n",
      "102s - loss: 1.9652 - acc: 0.6509 - val_loss: 0.8441 - val_acc: 0.8035\n",
      "Epoch 10/50\n",
      "Epoch 00009: val_loss did not improve\n",
      "95s - loss: 1.8594 - acc: 0.6652 - val_loss: 1.0126 - val_acc: 0.7755\n",
      "Epoch 11/50\n",
      "Epoch 00010: val_loss improved from 0.84413 to 0.82736, saving model to vgg_fixed_bottom_1.hdf5\n",
      "103s - loss: 1.7916 - acc: 0.6712 - val_loss: 0.8274 - val_acc: 0.8015\n",
      "Epoch 12/50\n",
      "Epoch 00011: val_loss improved from 0.82736 to 0.67625, saving model to vgg_fixed_bottom_1.hdf5\n",
      "102s - loss: 1.6178 - acc: 0.6872 - val_loss: 0.6763 - val_acc: 0.8365\n",
      "Epoch 13/50\n",
      "Epoch 00012: val_loss did not improve\n",
      "95s - loss: 1.6647 - acc: 0.6941 - val_loss: 0.8171 - val_acc: 0.8087\n",
      "Epoch 14/50\n",
      "Epoch 00013: val_loss improved from 0.67625 to 0.63423, saving model to vgg_fixed_bottom_1.hdf5\n",
      "105s - loss: 1.5313 - acc: 0.7038 - val_loss: 0.6342 - val_acc: 0.8368\n",
      "Epoch 15/50\n",
      "Epoch 00014: val_loss did not improve\n",
      "97s - loss: 1.4875 - acc: 0.7042 - val_loss: 0.7242 - val_acc: 0.8035\n",
      "Epoch 16/50\n",
      "Epoch 00015: val_loss improved from 0.63423 to 0.55729, saving model to vgg_fixed_bottom_1.hdf5\n",
      "103s - loss: 1.4936 - acc: 0.7124 - val_loss: 0.5573 - val_acc: 0.8503\n",
      "Epoch 17/50\n",
      "Epoch 00016: val_loss did not improve\n",
      "95s - loss: 1.3783 - acc: 0.7284 - val_loss: 0.6697 - val_acc: 0.8139\n",
      "Epoch 18/50\n",
      "Epoch 00017: val_loss did not improve\n",
      "98s - loss: 1.2834 - acc: 0.7456 - val_loss: 0.5941 - val_acc: 0.8514\n",
      "Epoch 19/50\n",
      "Epoch 00018: val_loss did not improve\n",
      "95s - loss: 1.2721 - acc: 0.7364 - val_loss: 0.6879 - val_acc: 0.8087\n",
      "Epoch 20/50\n",
      "Epoch 00019: val_loss did not improve\n",
      "95s - loss: 1.1929 - acc: 0.7460 - val_loss: 0.6650 - val_acc: 0.8472\n",
      "Epoch 21/50\n",
      "Epoch 00020: val_loss improved from 0.55729 to 0.55076, saving model to vgg_fixed_bottom_1.hdf5\n",
      "102s - loss: 1.3463 - acc: 0.7352 - val_loss: 0.5508 - val_acc: 0.8586\n",
      "Epoch 22/50\n",
      "Epoch 00021: val_loss improved from 0.55076 to 0.47223, saving model to vgg_fixed_bottom_1.hdf5\n",
      "102s - loss: 1.2294 - acc: 0.7419 - val_loss: 0.4722 - val_acc: 0.8472\n",
      "Epoch 23/50\n",
      "Epoch 00022: val_loss did not improve\n",
      "96s - loss: 1.1331 - acc: 0.7620 - val_loss: 0.6118 - val_acc: 0.8378\n",
      "Epoch 24/50\n",
      "Epoch 00023: val_loss did not improve\n",
      "95s - loss: 1.1053 - acc: 0.7691 - val_loss: 0.6812 - val_acc: 0.8306\n",
      "Epoch 25/50\n",
      "Epoch 00024: val_loss did not improve\n",
      "95s - loss: 1.1714 - acc: 0.7657 - val_loss: 0.6799 - val_acc: 0.8285\n",
      "Epoch 26/50\n",
      "Epoch 00025: val_loss did not improve\n",
      "94s - loss: 1.1162 - acc: 0.7629 - val_loss: 0.7115 - val_acc: 0.8243\n",
      "Epoch 27/50\n",
      "Epoch 00026: val_loss did not improve\n",
      "95s - loss: 1.1463 - acc: 0.7602 - val_loss: 0.7709 - val_acc: 0.8306\n",
      "Epoch 28/50\n",
      "Epoch 00027: val_loss did not improve\n",
      "\n",
      "Epoch 00027: reducing learning rate to 4.999999873689376e-06.\n",
      "95s - loss: 1.0704 - acc: 0.7726 - val_loss: 0.5712 - val_acc: 0.8254\n",
      "Epoch 29/50\n",
      "Epoch 00028: val_loss did not improve\n",
      "98s - loss: 1.0248 - acc: 0.7770 - val_loss: 0.5645 - val_acc: 0.8368\n",
      "Epoch 30/50\n",
      "Epoch 00029: val_loss did not improve\n",
      "95s - loss: 0.9526 - acc: 0.7947 - val_loss: 0.6136 - val_acc: 0.8295\n",
      "Epoch 31/50\n",
      "Epoch 00030: val_loss did not improve\n",
      "95s - loss: 0.9632 - acc: 0.7854 - val_loss: 0.5192 - val_acc: 0.8410\n",
      "Epoch 32/50\n",
      "Epoch 00031: val_loss did not improve\n",
      "95s - loss: 0.9249 - acc: 0.7997 - val_loss: 0.5037 - val_acc: 0.8399\n",
      "Epoch 33/50\n",
      "Epoch 00032: val_loss did not improve\n",
      "\n",
      "Epoch 00032: reducing learning rate to 4.999999873689376e-07.\n",
      "95s - loss: 0.8696 - acc: 0.8003 - val_loss: 0.5433 - val_acc: 0.8181\n",
      "Epoch 00032: early stopping\n"
     ]
    },
    {
     "data": {
      "text/plain": [
       "<tensorflow.python.keras._impl.keras.callbacks.History at 0x7fa38e7d17f0>"
      ]
     },
     "execution_count": 16,
     "metadata": {},
     "output_type": "execute_result"
    }
   ],
   "source": [
    "model.fit_generator(train_generator,\n",
    "                    steps_per_epoch = int(np.ceil(train_total/batch_size)),\n",
    "                    epochs=50,\n",
    "                    validation_data=validation_generator,\n",
    "                    validation_steps= int(np.ceil(validation_total/batch_size)),\n",
    "                    verbose=2,\n",
    "                    callbacks=callbacks)"
   ]
  },
  {
   "cell_type": "code",
   "execution_count": 14,
   "metadata": {
    "ExecuteTime": {
     "end_time": "2018-01-04T10:22:00.773819Z",
     "start_time": "2018-01-04T10:21:53.729686Z"
    },
    "collapsed": true
   },
   "outputs": [],
   "source": [
    "model.load_weights('vgg_fixed_bottom_1.hdf5')"
   ]
  },
  {
   "cell_type": "code",
   "execution_count": 15,
   "metadata": {
    "ExecuteTime": {
     "end_time": "2018-01-04T10:22:00.798053Z",
     "start_time": "2018-01-04T10:22:00.775029Z"
    },
    "collapsed": true
   },
   "outputs": [],
   "source": [
    "model.compile(optimizer=RMSprop(lr=0.000005),loss='categorical_crossentropy',metrics=['accuracy'])"
   ]
  },
  {
   "cell_type": "code",
   "execution_count": 16,
   "metadata": {
    "ExecuteTime": {
     "end_time": "2018-01-04T10:46:03.877868Z",
     "start_time": "2018-01-04T10:22:00.799559Z"
    }
   },
   "outputs": [
    {
     "name": "stdout",
     "output_type": "stream",
     "text": [
      "Epoch 1/50\n",
      "Epoch 00000: val_loss improved from inf to 0.55207, saving model to vgg_fixed_bottom_1.hdf5\n",
      "127s - loss: 1.0715 - acc: 0.7645 - val_loss: 0.5521 - val_acc: 0.8441\n",
      "Epoch 2/50\n",
      "Epoch 00001: val_loss did not improve\n",
      "104s - loss: 0.9551 - acc: 0.7867 - val_loss: 0.5871 - val_acc: 0.8441\n",
      "Epoch 3/50\n",
      "Epoch 00002: val_loss improved from 0.55207 to 0.47068, saving model to vgg_fixed_bottom_1.hdf5\n",
      "101s - loss: 1.0008 - acc: 0.7780 - val_loss: 0.4707 - val_acc: 0.8514\n",
      "Epoch 4/50\n",
      "Epoch 00003: val_loss did not improve\n",
      "96s - loss: 0.9885 - acc: 0.7781 - val_loss: 0.5567 - val_acc: 0.8503\n",
      "Epoch 5/50\n",
      "Epoch 00004: val_loss did not improve\n",
      "97s - loss: 1.0355 - acc: 0.7752 - val_loss: 0.5398 - val_acc: 0.8420\n",
      "Epoch 6/50\n",
      "Epoch 00005: val_loss did not improve\n",
      "96s - loss: 0.9190 - acc: 0.7953 - val_loss: 0.5234 - val_acc: 0.8368\n",
      "Epoch 7/50\n",
      "Epoch 00006: val_loss did not improve\n",
      "96s - loss: 0.9047 - acc: 0.7946 - val_loss: 0.5241 - val_acc: 0.8462\n",
      "Epoch 8/50\n",
      "Epoch 00007: val_loss did not improve\n",
      "97s - loss: 0.9725 - acc: 0.7827 - val_loss: 0.5323 - val_acc: 0.8430\n",
      "Epoch 9/50\n",
      "Epoch 00008: val_loss did not improve\n",
      "\n",
      "Epoch 00008: reducing learning rate to 4.999999873689376e-07.\n",
      "98s - loss: 0.8498 - acc: 0.7971 - val_loss: 0.4942 - val_acc: 0.8472\n",
      "Epoch 10/50\n",
      "Epoch 00009: val_loss did not improve\n",
      "97s - loss: 0.9140 - acc: 0.7866 - val_loss: 0.5633 - val_acc: 0.8430\n",
      "Epoch 11/50\n",
      "Epoch 00010: val_loss did not improve\n",
      "95s - loss: 0.8859 - acc: 0.7888 - val_loss: 0.5278 - val_acc: 0.8472\n",
      "Epoch 12/50\n",
      "Epoch 00011: val_loss did not improve\n",
      "104s - loss: 0.8612 - acc: 0.7972 - val_loss: 0.5085 - val_acc: 0.8482\n",
      "Epoch 13/50\n",
      "Epoch 00012: val_loss did not improve\n",
      "113s - loss: 0.8742 - acc: 0.7959 - val_loss: 0.5664 - val_acc: 0.8451\n",
      "Epoch 14/50\n",
      "Epoch 00013: val_loss did not improve\n",
      "\n",
      "Epoch 00013: reducing learning rate to 4.999999987376214e-08.\n",
      "114s - loss: 0.9078 - acc: 0.7814 - val_loss: 0.5204 - val_acc: 0.8493\n",
      "Epoch 00013: early stopping\n"
     ]
    },
    {
     "data": {
      "text/plain": [
       "<tensorflow.python.keras._impl.keras.callbacks.History at 0x7fbf17fc3ac8>"
      ]
     },
     "execution_count": 16,
     "metadata": {},
     "output_type": "execute_result"
    }
   ],
   "source": [
    "model.fit_generator(train_generator,\n",
    "                    steps_per_epoch = int(np.ceil(train_total/batch_size)),\n",
    "                    epochs=50,\n",
    "                    validation_data=validation_generator,\n",
    "                    validation_steps= int(np.ceil(validation_total/batch_size)),\n",
    "                    verbose=2,\n",
    "                    callbacks=callbacks)"
   ]
  },
  {
   "cell_type": "code",
   "execution_count": null,
   "metadata": {
    "collapsed": true
   },
   "outputs": [],
   "source": [
    "---------------------------------------------------"
   ]
  },
  {
   "cell_type": "code",
   "execution_count": 20,
   "metadata": {
    "ExecuteTime": {
     "end_time": "2018-01-04T17:09:31.744640Z",
     "start_time": "2018-01-04T17:09:31.425717Z"
    },
    "collapsed": true
   },
   "outputs": [],
   "source": [
    "model.load_weights('vgg_fixed_bottom_1.hdf5')"
   ]
  },
  {
   "cell_type": "code",
   "execution_count": 15,
   "metadata": {
    "ExecuteTime": {
     "end_time": "2018-01-04T17:06:22.427465Z",
     "start_time": "2018-01-04T17:06:22.424991Z"
    },
    "collapsed": true
   },
   "outputs": [],
   "source": [
    "for layer in model_vgg.layers[15:19]:\n",
    "    layer.trainable= True"
   ]
  },
  {
   "cell_type": "code",
   "execution_count": 17,
   "metadata": {
    "ExecuteTime": {
     "end_time": "2018-01-04T11:31:42.179688Z",
     "start_time": "2018-01-04T11:31:42.009875Z"
    },
    "collapsed": true
   },
   "outputs": [],
   "source": [
    "model.compile(optimizer=RMSprop(lr=0.000005),loss='categorical_crossentropy',metrics=['accuracy'])"
   ]
  },
  {
   "cell_type": "code",
   "execution_count": 18,
   "metadata": {
    "ExecuteTime": {
     "end_time": "2018-01-04T13:05:47.856418Z",
     "start_time": "2018-01-04T11:31:42.181796Z"
    }
   },
   "outputs": [
    {
     "name": "stdout",
     "output_type": "stream",
     "text": [
      "Epoch 1/50\n",
      "Epoch 00000: val_loss improved from inf to 0.47812, saving model to vgg_fixed_bottom_1.hdf5\n",
      "170s - loss: 0.8405 - acc: 0.7840 - val_loss: 0.4781 - val_acc: 0.8430\n",
      "Epoch 2/50\n",
      "Epoch 00001: val_loss improved from 0.47812 to 0.43422, saving model to vgg_fixed_bottom_1.hdf5\n",
      "149s - loss: 0.6486 - acc: 0.8121 - val_loss: 0.4342 - val_acc: 0.8524\n",
      "Epoch 3/50\n",
      "Epoch 00002: val_loss improved from 0.43422 to 0.42267, saving model to vgg_fixed_bottom_1.hdf5\n",
      "136s - loss: 0.6078 - acc: 0.8195 - val_loss: 0.4227 - val_acc: 0.8586\n",
      "Epoch 4/50\n",
      "Epoch 00003: val_loss improved from 0.42267 to 0.40938, saving model to vgg_fixed_bottom_1.hdf5\n",
      "125s - loss: 0.5803 - acc: 0.8317 - val_loss: 0.4094 - val_acc: 0.8514\n",
      "Epoch 5/50\n",
      "Epoch 00004: val_loss improved from 0.40938 to 0.38516, saving model to vgg_fixed_bottom_1.hdf5\n",
      "132s - loss: 0.4910 - acc: 0.8446 - val_loss: 0.3852 - val_acc: 0.8680\n",
      "Epoch 6/50\n",
      "Epoch 00005: val_loss improved from 0.38516 to 0.33507, saving model to vgg_fixed_bottom_1.hdf5\n",
      "130s - loss: 0.4908 - acc: 0.8499 - val_loss: 0.3351 - val_acc: 0.8825\n",
      "Epoch 7/50\n",
      "Epoch 00006: val_loss did not improve\n",
      "116s - loss: 0.4388 - acc: 0.8600 - val_loss: 0.4011 - val_acc: 0.8742\n",
      "Epoch 8/50\n",
      "Epoch 00007: val_loss did not improve\n",
      "114s - loss: 0.4371 - acc: 0.8622 - val_loss: 0.3700 - val_acc: 0.8628\n",
      "Epoch 9/50\n",
      "Epoch 00008: val_loss did not improve\n",
      "111s - loss: 0.4169 - acc: 0.8680 - val_loss: 0.3563 - val_acc: 0.8753\n",
      "Epoch 10/50\n",
      "Epoch 00009: val_loss did not improve\n",
      "114s - loss: 0.4074 - acc: 0.8694 - val_loss: 0.4179 - val_acc: 0.8721\n",
      "Epoch 11/50\n",
      "Epoch 00010: val_loss improved from 0.33507 to 0.33410, saving model to vgg_fixed_bottom_1.hdf5\n",
      "118s - loss: 0.3993 - acc: 0.8686 - val_loss: 0.3341 - val_acc: 0.8836\n",
      "Epoch 12/50\n",
      "Epoch 00011: val_loss did not improve\n",
      "115s - loss: 0.3946 - acc: 0.8729 - val_loss: 0.3570 - val_acc: 0.8877\n",
      "Epoch 13/50\n",
      "Epoch 00012: val_loss improved from 0.33410 to 0.32900, saving model to vgg_fixed_bottom_1.hdf5\n",
      "119s - loss: 0.3896 - acc: 0.8741 - val_loss: 0.3290 - val_acc: 0.8867\n",
      "Epoch 14/50\n",
      "Epoch 00013: val_loss did not improve\n",
      "113s - loss: 0.3745 - acc: 0.8805 - val_loss: 0.3336 - val_acc: 0.9012\n",
      "Epoch 15/50\n",
      "Epoch 00014: val_loss did not improve\n",
      "111s - loss: 0.3816 - acc: 0.8726 - val_loss: 0.3489 - val_acc: 0.8815\n",
      "Epoch 16/50\n",
      "Epoch 00015: val_loss did not improve\n",
      "112s - loss: 0.3395 - acc: 0.8884 - val_loss: 0.3335 - val_acc: 0.8960\n",
      "Epoch 17/50\n",
      "Epoch 00016: val_loss improved from 0.32900 to 0.29936, saving model to vgg_fixed_bottom_1.hdf5\n",
      "118s - loss: 0.3514 - acc: 0.8900 - val_loss: 0.2994 - val_acc: 0.8992\n",
      "Epoch 18/50\n",
      "Epoch 00017: val_loss did not improve\n",
      "114s - loss: 0.3367 - acc: 0.8918 - val_loss: 0.3151 - val_acc: 0.8992\n",
      "Epoch 19/50\n",
      "Epoch 00018: val_loss did not improve\n",
      "111s - loss: 0.3284 - acc: 0.8930 - val_loss: 0.3418 - val_acc: 0.8825\n",
      "Epoch 20/50\n",
      "Epoch 00019: val_loss improved from 0.29936 to 0.29294, saving model to vgg_fixed_bottom_1.hdf5\n",
      "121s - loss: 0.3402 - acc: 0.8895 - val_loss: 0.2929 - val_acc: 0.9044\n",
      "Epoch 21/50\n",
      "Epoch 00020: val_loss did not improve\n",
      "117s - loss: 0.3009 - acc: 0.9000 - val_loss: 0.3299 - val_acc: 0.9002\n",
      "Epoch 22/50\n",
      "Epoch 00021: val_loss did not improve\n",
      "112s - loss: 0.3167 - acc: 0.8984 - val_loss: 0.3181 - val_acc: 0.9054\n",
      "Epoch 23/50\n",
      "Epoch 00022: val_loss did not improve\n",
      "115s - loss: 0.3259 - acc: 0.9001 - val_loss: 0.3016 - val_acc: 0.9054\n",
      "Epoch 24/50\n",
      "Epoch 00023: val_loss did not improve\n",
      "111s - loss: 0.3111 - acc: 0.8973 - val_loss: 0.3425 - val_acc: 0.9023\n",
      "Epoch 25/50\n",
      "Epoch 00024: val_loss did not improve\n",
      "111s - loss: 0.2776 - acc: 0.9114 - val_loss: 0.3089 - val_acc: 0.8950\n",
      "Epoch 26/50\n",
      "Epoch 00025: val_loss did not improve\n",
      "\n",
      "Epoch 00025: reducing learning rate to 4.999999873689376e-07.\n",
      "114s - loss: 0.3014 - acc: 0.9023 - val_loss: 0.3002 - val_acc: 0.9064\n",
      "Epoch 27/50\n",
      "Epoch 00026: val_loss improved from 0.29294 to 0.28777, saving model to vgg_fixed_bottom_1.hdf5\n",
      "120s - loss: 0.2835 - acc: 0.9088 - val_loss: 0.2878 - val_acc: 0.9116\n",
      "Epoch 28/50\n",
      "Epoch 00027: val_loss did not improve\n",
      "115s - loss: 0.2898 - acc: 0.9012 - val_loss: 0.3776 - val_acc: 0.9012\n",
      "Epoch 29/50\n",
      "Epoch 00028: val_loss did not improve\n",
      "114s - loss: 0.2703 - acc: 0.9122 - val_loss: 0.2951 - val_acc: 0.9137\n",
      "Epoch 30/50\n",
      "Epoch 00029: val_loss did not improve\n",
      "110s - loss: 0.2516 - acc: 0.9154 - val_loss: 0.3325 - val_acc: 0.9012\n",
      "Epoch 31/50\n",
      "Epoch 00030: val_loss did not improve\n",
      "117s - loss: 0.2607 - acc: 0.9196 - val_loss: 0.2958 - val_acc: 0.9127\n",
      "Epoch 32/50\n",
      "Epoch 00031: val_loss did not improve\n",
      "111s - loss: 0.2686 - acc: 0.9104 - val_loss: 0.3097 - val_acc: 0.9085\n",
      "Epoch 33/50\n",
      "Epoch 00032: val_loss did not improve\n",
      "\n",
      "Epoch 00032: reducing learning rate to 4.999999987376214e-08.\n",
      "112s - loss: 0.2354 - acc: 0.9217 - val_loss: 0.3253 - val_acc: 0.9085\n",
      "Epoch 34/50\n",
      "Epoch 00033: val_loss did not improve\n",
      "115s - loss: 0.2658 - acc: 0.9131 - val_loss: 0.3150 - val_acc: 0.9054\n",
      "Epoch 35/50\n",
      "Epoch 00034: val_loss did not improve\n",
      "114s - loss: 0.2640 - acc: 0.9097 - val_loss: 0.3030 - val_acc: 0.9127\n",
      "Epoch 36/50\n",
      "Epoch 00035: val_loss did not improve\n",
      "111s - loss: 0.2856 - acc: 0.9133 - val_loss: 0.3291 - val_acc: 0.9002\n",
      "Epoch 37/50\n",
      "Epoch 00036: val_loss improved from 0.28777 to 0.27527, saving model to vgg_fixed_bottom_1.hdf5\n",
      "116s - loss: 0.2774 - acc: 0.9061 - val_loss: 0.2753 - val_acc: 0.9179\n",
      "Epoch 38/50\n",
      "Epoch 00037: val_loss did not improve\n",
      "111s - loss: 0.2772 - acc: 0.9108 - val_loss: 0.3369 - val_acc: 0.8981\n",
      "Epoch 39/50\n",
      "Epoch 00038: val_loss did not improve\n",
      "114s - loss: 0.2666 - acc: 0.9101 - val_loss: 0.2928 - val_acc: 0.9106\n",
      "Epoch 40/50\n",
      "Epoch 00039: val_loss did not improve\n",
      "111s - loss: 0.2636 - acc: 0.9212 - val_loss: 0.3457 - val_acc: 0.9054\n",
      "Epoch 41/50\n",
      "Epoch 00040: val_loss did not improve\n",
      "110s - loss: 0.2512 - acc: 0.9138 - val_loss: 0.3174 - val_acc: 0.9044\n",
      "Epoch 42/50\n",
      "Epoch 00041: val_loss did not improve\n",
      "118s - loss: 0.2479 - acc: 0.9172 - val_loss: 0.3102 - val_acc: 0.9075\n",
      "Epoch 43/50\n",
      "Epoch 00042: val_loss did not improve\n",
      "\n",
      "Epoch 00042: reducing learning rate to 5.000000058430488e-09.\n",
      "114s - loss: 0.2658 - acc: 0.9114 - val_loss: 0.3211 - val_acc: 0.9116\n",
      "Epoch 44/50\n",
      "Epoch 00043: val_loss did not improve\n",
      "112s - loss: 0.2672 - acc: 0.9153 - val_loss: 0.3167 - val_acc: 0.9023\n",
      "Epoch 45/50\n",
      "Epoch 00044: val_loss did not improve\n",
      "111s - loss: 0.2754 - acc: 0.9081 - val_loss: 0.2818 - val_acc: 0.9200\n",
      "Epoch 46/50\n",
      "Epoch 00045: val_loss did not improve\n",
      "113s - loss: 0.2510 - acc: 0.9175 - val_loss: 0.3254 - val_acc: 0.9106\n",
      "Epoch 47/50\n",
      "Epoch 00046: val_loss did not improve\n",
      "112s - loss: 0.2672 - acc: 0.9161 - val_loss: 0.3103 - val_acc: 0.9012\n",
      "Epoch 48/50\n",
      "Epoch 00047: val_loss did not improve\n",
      "\n",
      "Epoch 00047: reducing learning rate to 4.999999969612646e-10.\n",
      "112s - loss: 0.2636 - acc: 0.9142 - val_loss: 0.3091 - val_acc: 0.9096\n",
      "Epoch 00047: early stopping\n"
     ]
    },
    {
     "data": {
      "text/plain": [
       "<tensorflow.python.keras._impl.keras.callbacks.History at 0x7fd080687e80>"
      ]
     },
     "execution_count": 18,
     "metadata": {},
     "output_type": "execute_result"
    }
   ],
   "source": [
    "model.fit_generator(train_generator,\n",
    "                    steps_per_epoch = int(np.ceil(train_total/batch_size)),\n",
    "                    epochs=50,\n",
    "                    validation_data=validation_generator,\n",
    "                    validation_steps= int(np.ceil(validation_total/batch_size)),\n",
    "                    verbose=2,\n",
    "                    callbacks=callbacks)"
   ]
  },
  {
   "cell_type": "code",
   "execution_count": 22,
   "metadata": {
    "ExecuteTime": {
     "end_time": "2018-01-04T17:12:34.551119Z",
     "start_time": "2018-01-04T17:11:55.834883Z"
    }
   },
   "outputs": [
    {
     "data": {
      "text/plain": [
       "[0.33473394737528589, 0.9064449064449065]"
      ]
     },
     "execution_count": 22,
     "metadata": {},
     "output_type": "execute_result"
    }
   ],
   "source": [
    "model.evaluate_generator(validation_generator, int(np.ceil(validation_total/batch_size)))"
   ]
  },
  {
   "cell_type": "code",
   "execution_count": 29,
   "metadata": {
    "ExecuteTime": {
     "end_time": "2018-01-04T13:21:22.987522Z",
     "start_time": "2018-01-04T13:21:22.984879Z"
    },
    "collapsed": true
   },
   "outputs": [],
   "source": [
    "###############################"
   ]
  },
  {
   "cell_type": "code",
   "execution_count": 36,
   "metadata": {
    "ExecuteTime": {
     "end_time": "2018-01-04T13:24:30.874080Z",
     "start_time": "2018-01-04T13:24:30.657393Z"
    },
    "collapsed": true
   },
   "outputs": [],
   "source": [
    "tmp = \"\"\"Epoch 1/50\n",
    "Epoch 00000: val_loss improved from inf to 3.87908, saving model to vgg_fixed_bottom_1.hdf5\n",
    "121s - loss: 7.9648 - acc: 0.2532 - val_loss: 3.8791 - val_acc: 0.5353\n",
    "Epoch 2/50\n",
    "Epoch 00001: val_loss improved from 3.87908 to 1.90041, saving model to vgg_fixed_bottom_1.hdf5\n",
    "121s - loss: 5.5453 - acc: 0.4021 - val_loss: 1.9004 - val_acc: 0.6767\n",
    "Epoch 3/50\n",
    "Epoch 00002: val_loss improved from 1.90041 to 1.40067, saving model to vgg_fixed_bottom_1.hdf5\n",
    "101s - loss: 4.2637 - acc: 0.4714 - val_loss: 1.4007 - val_acc: 0.7380\n",
    "Epoch 4/50\n",
    "Epoch 00003: val_loss improved from 1.40067 to 1.29968, saving model to vgg_fixed_bottom_1.hdf5\n",
    "102s - loss: 3.6247 - acc: 0.5214 - val_loss: 1.2997 - val_acc: 0.7609\n",
    "Epoch 5/50\n",
    "Epoch 00004: val_loss improved from 1.29968 to 0.85203, saving model to vgg_fixed_bottom_1.hdf5\n",
    "101s - loss: 2.9718 - acc: 0.5670 - val_loss: 0.8520 - val_acc: 0.7827\n",
    "Epoch 6/50\n",
    "Epoch 00005: val_loss did not improve\n",
    "96s - loss: 2.6392 - acc: 0.5871 - val_loss: 0.9738 - val_acc: 0.7994\n",
    "Epoch 7/50\n",
    "Epoch 00006: val_loss did not improve\n",
    "95s - loss: 2.3316 - acc: 0.6104 - val_loss: 0.8554 - val_acc: 0.8101\n",
    "Epoch 8/50\n",
    "Epoch 00007: val_loss did not improve\n",
    "95s - loss: 2.1501 - acc: 0.6301 - val_loss: 0.9285 - val_acc: 0.7765\n",
    "Epoch 9/50\n",
    "Epoch 00008: val_loss improved from 0.85203 to 0.84413, saving model to vgg_fixed_bottom_1.hdf5\n",
    "102s - loss: 1.9652 - acc: 0.6509 - val_loss: 0.8441 - val_acc: 0.8035\n",
    "Epoch 10/50\n",
    "Epoch 00009: val_loss did not improve\n",
    "95s - loss: 1.8594 - acc: 0.6652 - val_loss: 1.0126 - val_acc: 0.7755\n",
    "Epoch 11/50\n",
    "Epoch 00010: val_loss improved from 0.84413 to 0.82736, saving model to vgg_fixed_bottom_1.hdf5\n",
    "103s - loss: 1.7916 - acc: 0.6712 - val_loss: 0.8274 - val_acc: 0.8015\n",
    "Epoch 12/50\n",
    "Epoch 00011: val_loss improved from 0.82736 to 0.67625, saving model to vgg_fixed_bottom_1.hdf5\n",
    "102s - loss: 1.6178 - acc: 0.6872 - val_loss: 0.6763 - val_acc: 0.8365\n",
    "Epoch 13/50\n",
    "Epoch 00012: val_loss did not improve\n",
    "95s - loss: 1.6647 - acc: 0.6941 - val_loss: 0.8171 - val_acc: 0.8087\n",
    "Epoch 14/50\n",
    "Epoch 00013: val_loss improved from 0.67625 to 0.63423, saving model to vgg_fixed_bottom_1.hdf5\n",
    "105s - loss: 1.5313 - acc: 0.7038 - val_loss: 0.6342 - val_acc: 0.8368\n",
    "Epoch 15/50\n",
    "Epoch 00014: val_loss did not improve\n",
    "97s - loss: 1.4875 - acc: 0.7042 - val_loss: 0.7242 - val_acc: 0.8035\n",
    "Epoch 16/50\n",
    "Epoch 00015: val_loss improved from 0.63423 to 0.55729, saving model to vgg_fixed_bottom_1.hdf5\n",
    "103s - loss: 1.4936 - acc: 0.7124 - val_loss: 0.5573 - val_acc: 0.8503\n",
    "Epoch 17/50\n",
    "Epoch 00016: val_loss did not improve\n",
    "95s - loss: 1.3783 - acc: 0.7284 - val_loss: 0.6697 - val_acc: 0.8139\n",
    "Epoch 18/50\n",
    "Epoch 00017: val_loss did not improve\n",
    "98s - loss: 1.2834 - acc: 0.7456 - val_loss: 0.5941 - val_acc: 0.8514\n",
    "Epoch 19/50\n",
    "Epoch 00018: val_loss did not improve\n",
    "95s - loss: 1.2721 - acc: 0.7364 - val_loss: 0.6879 - val_acc: 0.8087\n",
    "Epoch 20/50\n",
    "Epoch 00019: val_loss did not improve\n",
    "95s - loss: 1.1929 - acc: 0.7460 - val_loss: 0.6650 - val_acc: 0.8472\n",
    "Epoch 21/50\n",
    "Epoch 00020: val_loss improved from 0.55729 to 0.55076, saving model to vgg_fixed_bottom_1.hdf5\n",
    "102s - loss: 1.3463 - acc: 0.7352 - val_loss: 0.5508 - val_acc: 0.8586\n",
    "Epoch 22/50\n",
    "Epoch 00021: val_loss improved from 0.55076 to 0.47223, saving model to vgg_fixed_bottom_1.hdf5\n",
    "102s - loss: 1.2294 - acc: 0.7419 - val_loss: 0.4722 - val_acc: 0.8472\n",
    "Epoch 23/50\n",
    "Epoch 00022: val_loss did not improve\n",
    "96s - loss: 1.1331 - acc: 0.7620 - val_loss: 0.6118 - val_acc: 0.8378\n",
    "Epoch 24/50\n",
    "Epoch 00023: val_loss did not improve\n",
    "95s - loss: 1.1053 - acc: 0.7691 - val_loss: 0.6812 - val_acc: 0.8306\n",
    "Epoch 25/50\n",
    "Epoch 00024: val_loss did not improve\n",
    "95s - loss: 1.1714 - acc: 0.7657 - val_loss: 0.6799 - val_acc: 0.8285\n",
    "Epoch 26/50\n",
    "Epoch 00025: val_loss did not improve\n",
    "94s - loss: 1.1162 - acc: 0.7629 - val_loss: 0.7115 - val_acc: 0.8243\n",
    "Epoch 27/50\n",
    "Epoch 00026: val_loss did not improve\n",
    "95s - loss: 1.1463 - acc: 0.7602 - val_loss: 0.7709 - val_acc: 0.8306\n",
    "Epoch 28/50\n",
    "Epoch 00027: val_loss did not improve\n",
    "Epoch 00027: reducing learning rate to 4.999999873689376e-06.\n",
    "95s - loss: 1.0704 - acc: 0.7726 - val_loss: 0.5712 - val_acc: 0.8254\n",
    "Epoch 29/50\n",
    "Epoch 00028: val_loss did not improve\n",
    "98s - loss: 1.0248 - acc: 0.7770 - val_loss: 0.5645 - val_acc: 0.8368\n",
    "Epoch 30/50\n",
    "Epoch 00029: val_loss did not improve\n",
    "95s - loss: 0.9526 - acc: 0.7947 - val_loss: 0.6136 - val_acc: 0.8295\n",
    "Epoch 31/50\n",
    "Epoch 00030: val_loss did not improve\n",
    "95s - loss: 0.9632 - acc: 0.7854 - val_loss: 0.5192 - val_acc: 0.8410\n",
    "Epoch 32/50\n",
    "Epoch 00031: val_loss did not improve\n",
    "95s - loss: 0.9249 - acc: 0.7997 - val_loss: 0.5037 - val_acc: 0.8399\n",
    "Epoch 33/50\n",
    "Epoch 00032: val_loss did not improve\n",
    "Epoch 00032: reducing learning rate to 4.999999873689376e-07.\n",
    "95s - loss: 0.8696 - acc: 0.8003 - val_loss: 0.5433 - val_acc: 0.8181\n",
    "Epoch 1/50\n",
    "Epoch 00000: val_loss improved from inf to 0.55207, saving model to vgg_fixed_bottom_1.hdf5\n",
    "127s - loss: 1.0715 - acc: 0.7645 - val_loss: 0.5521 - val_acc: 0.8441\n",
    "Epoch 2/50\n",
    "Epoch 00001: val_loss did not improve\n",
    "104s - loss: 0.9551 - acc: 0.7867 - val_loss: 0.5871 - val_acc: 0.8441\n",
    "Epoch 3/50\n",
    "Epoch 00002: val_loss improved from 0.55207 to 0.47068, saving model to vgg_fixed_bottom_1.hdf5\n",
    "101s - loss: 1.0008 - acc: 0.7780 - val_loss: 0.4707 - val_acc: 0.8514\n",
    "Epoch 4/50\n",
    "Epoch 00003: val_loss did not improve\n",
    "96s - loss: 0.9885 - acc: 0.7781 - val_loss: 0.5567 - val_acc: 0.8503\n",
    "Epoch 5/50\n",
    "Epoch 00004: val_loss did not improve\n",
    "97s - loss: 1.0355 - acc: 0.7752 - val_loss: 0.5398 - val_acc: 0.8420\n",
    "Epoch 6/50\n",
    "Epoch 00005: val_loss did not improve\n",
    "96s - loss: 0.9190 - acc: 0.7953 - val_loss: 0.5234 - val_acc: 0.8368\n",
    "Epoch 7/50\n",
    "Epoch 00006: val_loss did not improve\n",
    "96s - loss: 0.9047 - acc: 0.7946 - val_loss: 0.5241 - val_acc: 0.8462\n",
    "Epoch 8/50\n",
    "Epoch 00007: val_loss did not improve\n",
    "97s - loss: 0.9725 - acc: 0.7827 - val_loss: 0.5323 - val_acc: 0.8430\n",
    "Epoch 9/50\n",
    "Epoch 00008: val_loss did not improve\n",
    "Epoch 00008: reducing learning rate to 4.999999873689376e-07.\n",
    "98s - loss: 0.8498 - acc: 0.7971 - val_loss: 0.4942 - val_acc: 0.8472\n",
    "Epoch 10/50\n",
    "Epoch 00009: val_loss did not improve\n",
    "97s - loss: 0.9140 - acc: 0.7866 - val_loss: 0.5633 - val_acc: 0.8430\n",
    "Epoch 11/50\n",
    "Epoch 00010: val_loss did not improve\n",
    "95s - loss: 0.8859 - acc: 0.7888 - val_loss: 0.5278 - val_acc: 0.8472\n",
    "Epoch 12/50\n",
    "Epoch 00011: val_loss did not improve\n",
    "104s - loss: 0.8612 - acc: 0.7972 - val_loss: 0.5085 - val_acc: 0.8482\n",
    "Epoch 13/50\n",
    "Epoch 00012: val_loss did not improve\n",
    "113s - loss: 0.8742 - acc: 0.7959 - val_loss: 0.5664 - val_acc: 0.8451\n",
    "Epoch 14/50\n",
    "Epoch 00013: val_loss did not improve\n",
    "Epoch 00013: reducing learning rate to 4.999999987376214e-08.\n",
    "114s - loss: 0.9078 - acc: 0.7814 - val_loss: 0.5204 - val_acc: 0.8493\n",
    "Epoch 1/50\n",
    "Epoch 00000: val_loss improved from inf to 0.47812, saving model to vgg_fixed_bottom_1.hdf5\n",
    "170s - loss: 0.8405 - acc: 0.7840 - val_loss: 0.4781 - val_acc: 0.8430\n",
    "Epoch 2/50\n",
    "Epoch 00001: val_loss improved from 0.47812 to 0.43422, saving model to vgg_fixed_bottom_1.hdf5\n",
    "149s - loss: 0.6486 - acc: 0.8121 - val_loss: 0.4342 - val_acc: 0.8524\n",
    "Epoch 3/50\n",
    "Epoch 00002: val_loss improved from 0.43422 to 0.42267, saving model to vgg_fixed_bottom_1.hdf5\n",
    "136s - loss: 0.6078 - acc: 0.8195 - val_loss: 0.4227 - val_acc: 0.8586\n",
    "Epoch 4/50\n",
    "Epoch 00003: val_loss improved from 0.42267 to 0.40938, saving model to vgg_fixed_bottom_1.hdf5\n",
    "125s - loss: 0.5803 - acc: 0.8317 - val_loss: 0.4094 - val_acc: 0.8514\n",
    "Epoch 5/50\n",
    "Epoch 00004: val_loss improved from 0.40938 to 0.38516, saving model to vgg_fixed_bottom_1.hdf5\n",
    "132s - loss: 0.4910 - acc: 0.8446 - val_loss: 0.3852 - val_acc: 0.8680\n",
    "Epoch 6/50\n",
    "Epoch 00005: val_loss improved from 0.38516 to 0.33507, saving model to vgg_fixed_bottom_1.hdf5\n",
    "130s - loss: 0.4908 - acc: 0.8499 - val_loss: 0.3351 - val_acc: 0.8825\n",
    "Epoch 7/50\n",
    "Epoch 00006: val_loss did not improve\n",
    "116s - loss: 0.4388 - acc: 0.8600 - val_loss: 0.4011 - val_acc: 0.8742\n",
    "Epoch 8/50\n",
    "Epoch 00007: val_loss did not improve\n",
    "114s - loss: 0.4371 - acc: 0.8622 - val_loss: 0.3700 - val_acc: 0.8628\n",
    "Epoch 9/50\n",
    "Epoch 00008: val_loss did not improve\n",
    "111s - loss: 0.4169 - acc: 0.8680 - val_loss: 0.3563 - val_acc: 0.8753\n",
    "Epoch 10/50\n",
    "Epoch 00009: val_loss did not improve\n",
    "114s - loss: 0.4074 - acc: 0.8694 - val_loss: 0.4179 - val_acc: 0.8721\n",
    "Epoch 11/50\n",
    "Epoch 00010: val_loss improved from 0.33507 to 0.33410, saving model to vgg_fixed_bottom_1.hdf5\n",
    "118s - loss: 0.3993 - acc: 0.8686 - val_loss: 0.3341 - val_acc: 0.8836\n",
    "Epoch 12/50\n",
    "Epoch 00011: val_loss did not improve\n",
    "115s - loss: 0.3946 - acc: 0.8729 - val_loss: 0.3570 - val_acc: 0.8877\n",
    "Epoch 13/50\n",
    "Epoch 00012: val_loss improved from 0.33410 to 0.32900, saving model to vgg_fixed_bottom_1.hdf5\n",
    "119s - loss: 0.3896 - acc: 0.8741 - val_loss: 0.3290 - val_acc: 0.8867\n",
    "Epoch 14/50\n",
    "Epoch 00013: val_loss did not improve\n",
    "113s - loss: 0.3745 - acc: 0.8805 - val_loss: 0.3336 - val_acc: 0.9012\n",
    "Epoch 15/50\n",
    "Epoch 00014: val_loss did not improve\n",
    "111s - loss: 0.3816 - acc: 0.8726 - val_loss: 0.3489 - val_acc: 0.8815\n",
    "Epoch 16/50\n",
    "Epoch 00015: val_loss did not improve\n",
    "112s - loss: 0.3395 - acc: 0.8884 - val_loss: 0.3335 - val_acc: 0.8960\n",
    "Epoch 17/50\n",
    "Epoch 00016: val_loss improved from 0.32900 to 0.29936, saving model to vgg_fixed_bottom_1.hdf5\n",
    "118s - loss: 0.3514 - acc: 0.8900 - val_loss: 0.2994 - val_acc: 0.8992\n",
    "Epoch 18/50\n",
    "Epoch 00017: val_loss did not improve\n",
    "114s - loss: 0.3367 - acc: 0.8918 - val_loss: 0.3151 - val_acc: 0.8992\n",
    "Epoch 19/50\n",
    "Epoch 00018: val_loss did not improve\n",
    "111s - loss: 0.3284 - acc: 0.8930 - val_loss: 0.3418 - val_acc: 0.8825\n",
    "Epoch 20/50\n",
    "Epoch 00019: val_loss improved from 0.29936 to 0.29294, saving model to vgg_fixed_bottom_1.hdf5\n",
    "121s - loss: 0.3402 - acc: 0.8895 - val_loss: 0.2929 - val_acc: 0.9044\n",
    "Epoch 21/50\n",
    "Epoch 00020: val_loss did not improve\n",
    "117s - loss: 0.3009 - acc: 0.9000 - val_loss: 0.3299 - val_acc: 0.9002\n",
    "Epoch 22/50\n",
    "Epoch 00021: val_loss did not improve\n",
    "112s - loss: 0.3167 - acc: 0.8984 - val_loss: 0.3181 - val_acc: 0.9054\n",
    "Epoch 23/50\n",
    "Epoch 00022: val_loss did not improve\n",
    "115s - loss: 0.3259 - acc: 0.9001 - val_loss: 0.3016 - val_acc: 0.9054\n",
    "Epoch 24/50\n",
    "Epoch 00023: val_loss did not improve\n",
    "111s - loss: 0.3111 - acc: 0.8973 - val_loss: 0.3425 - val_acc: 0.9023\n",
    "Epoch 25/50\n",
    "Epoch 00024: val_loss did not improve\n",
    "111s - loss: 0.2776 - acc: 0.9114 - val_loss: 0.3089 - val_acc: 0.8950\n",
    "Epoch 26/50\n",
    "Epoch 00025: val_loss did not improve\n",
    "Epoch 00025: reducing learning rate to 4.999999873689376e-07.\n",
    "114s - loss: 0.3014 - acc: 0.9023 - val_loss: 0.3002 - val_acc: 0.9064\n",
    "Epoch 27/50\n",
    "Epoch 00026: val_loss improved from 0.29294 to 0.28777, saving model to vgg_fixed_bottom_1.hdf5\n",
    "120s - loss: 0.2835 - acc: 0.9088 - val_loss: 0.2878 - val_acc: 0.9116\n",
    "Epoch 28/50\n",
    "Epoch 00027: val_loss did not improve\n",
    "115s - loss: 0.2898 - acc: 0.9012 - val_loss: 0.3776 - val_acc: 0.9012\n",
    "Epoch 29/50\n",
    "Epoch 00028: val_loss did not improve\n",
    "114s - loss: 0.2703 - acc: 0.9122 - val_loss: 0.2951 - val_acc: 0.9137\n",
    "Epoch 30/50\n",
    "Epoch 00029: val_loss did not improve\n",
    "110s - loss: 0.2516 - acc: 0.9154 - val_loss: 0.3325 - val_acc: 0.9012\n",
    "Epoch 31/50\n",
    "Epoch 00030: val_loss did not improve\n",
    "117s - loss: 0.2607 - acc: 0.9196 - val_loss: 0.2958 - val_acc: 0.9127\n",
    "Epoch 32/50\n",
    "Epoch 00031: val_loss did not improve\n",
    "111s - loss: 0.2686 - acc: 0.9104 - val_loss: 0.3097 - val_acc: 0.9085\n",
    "Epoch 33/50\n",
    "Epoch 00032: val_loss did not improve\n",
    "Epoch 00032: reducing learning rate to 4.999999987376214e-08.\n",
    "112s - loss: 0.2354 - acc: 0.9217 - val_loss: 0.3253 - val_acc: 0.9085\n",
    "Epoch 34/50\n",
    "Epoch 00033: val_loss did not improve\n",
    "115s - loss: 0.2658 - acc: 0.9131 - val_loss: 0.3150 - val_acc: 0.9054\n",
    "Epoch 35/50\n",
    "Epoch 00034: val_loss did not improve\n",
    "114s - loss: 0.2640 - acc: 0.9097 - val_loss: 0.3030 - val_acc: 0.9127\n",
    "Epoch 36/50\n",
    "Epoch 00035: val_loss did not improve\n",
    "111s - loss: 0.2856 - acc: 0.9133 - val_loss: 0.3291 - val_acc: 0.9002\n",
    "Epoch 37/50\n",
    "Epoch 00036: val_loss improved from 0.28777 to 0.27527, saving model to vgg_fixed_bottom_1.hdf5\n",
    "116s - loss: 0.2774 - acc: 0.9061 - val_loss: 0.2753 - val_acc: 0.9179\n",
    "Epoch 38/50\n",
    "Epoch 00037: val_loss did not improve\n",
    "111s - loss: 0.2772 - acc: 0.9108 - val_loss: 0.3369 - val_acc: 0.8981\n",
    "Epoch 39/50\n",
    "Epoch 00038: val_loss did not improve\n",
    "114s - loss: 0.2666 - acc: 0.9101 - val_loss: 0.2928 - val_acc: 0.9106\n",
    "Epoch 40/50\n",
    "Epoch 00039: val_loss did not improve\n",
    "111s - loss: 0.2636 - acc: 0.9212 - val_loss: 0.3457 - val_acc: 0.9054\n",
    "Epoch 41/50\n",
    "Epoch 00040: val_loss did not improve\n",
    "110s - loss: 0.2512 - acc: 0.9138 - val_loss: 0.3174 - val_acc: 0.9044\n",
    "Epoch 42/50\n",
    "Epoch 00041: val_loss did not improve\n",
    "118s - loss: 0.2479 - acc: 0.9172 - val_loss: 0.3102 - val_acc: 0.9075\n",
    "Epoch 43/50\n",
    "Epoch 00042: val_loss did not improve\n",
    "Epoch 00042: reducing learning rate to 5.000000058430488e-09.\n",
    "114s - loss: 0.2658 - acc: 0.9114 - val_loss: 0.3211 - val_acc: 0.9116\n",
    "Epoch 44/50\n",
    "Epoch 00043: val_loss did not improve\n",
    "112s - loss: 0.2672 - acc: 0.9153 - val_loss: 0.3167 - val_acc: 0.9023\n",
    "Epoch 45/50\n",
    "Epoch 00044: val_loss did not improve\n",
    "111s - loss: 0.2754 - acc: 0.9081 - val_loss: 0.2818 - val_acc: 0.9200\n",
    "Epoch 46/50\n",
    "Epoch 00045: val_loss did not improve\n",
    "113s - loss: 0.2510 - acc: 0.9175 - val_loss: 0.3254 - val_acc: 0.9106\n",
    "Epoch 47/50\n",
    "Epoch 00046: val_loss did not improve\n",
    "112s - loss: 0.2672 - acc: 0.9161 - val_loss: 0.3103 - val_acc: 0.9012\n",
    "Epoch 48/50\n",
    "Epoch 00047: val_loss did not improve\n",
    "Epoch 00047: reducing learning rate to 4.999999969612646e-10.\n",
    "112s - loss: 0.2636 - acc: 0.9142 - val_loss: 0.3091 - val_acc: 0.9096\n",
    "\"\"\""
   ]
  },
  {
   "cell_type": "code",
   "execution_count": 37,
   "metadata": {
    "ExecuteTime": {
     "end_time": "2018-01-04T13:24:31.929979Z",
     "start_time": "2018-01-04T13:24:31.920340Z"
    },
    "collapsed": true
   },
   "outputs": [
    {
     "data": {
      "text/plain": [
       "['Epoch 1/50',\n",
       " 'Epoch 00000: val_loss improved from inf to 3.87908, saving model to vgg_fixed_bottom_1.hdf5',\n",
       " '121s - loss: 7.9648 - acc: 0.2532 - val_loss: 3.8791 - val_acc: 0.5353',\n",
       " 'Epoch 2/50',\n",
       " 'Epoch 00001: val_loss improved from 3.87908 to 1.90041, saving model to vgg_fixed_bottom_1.hdf5',\n",
       " '121s - loss: 5.5453 - acc: 0.4021 - val_loss: 1.9004 - val_acc: 0.6767',\n",
       " 'Epoch 3/50',\n",
       " 'Epoch 00002: val_loss improved from 1.90041 to 1.40067, saving model to vgg_fixed_bottom_1.hdf5',\n",
       " '101s - loss: 4.2637 - acc: 0.4714 - val_loss: 1.4007 - val_acc: 0.7380',\n",
       " 'Epoch 4/50',\n",
       " 'Epoch 00003: val_loss improved from 1.40067 to 1.29968, saving model to vgg_fixed_bottom_1.hdf5',\n",
       " '102s - loss: 3.6247 - acc: 0.5214 - val_loss: 1.2997 - val_acc: 0.7609',\n",
       " 'Epoch 5/50',\n",
       " 'Epoch 00004: val_loss improved from 1.29968 to 0.85203, saving model to vgg_fixed_bottom_1.hdf5',\n",
       " '101s - loss: 2.9718 - acc: 0.5670 - val_loss: 0.8520 - val_acc: 0.7827',\n",
       " 'Epoch 6/50',\n",
       " 'Epoch 00005: val_loss did not improve',\n",
       " '96s - loss: 2.6392 - acc: 0.5871 - val_loss: 0.9738 - val_acc: 0.7994',\n",
       " 'Epoch 7/50',\n",
       " 'Epoch 00006: val_loss did not improve',\n",
       " '95s - loss: 2.3316 - acc: 0.6104 - val_loss: 0.8554 - val_acc: 0.8101',\n",
       " 'Epoch 8/50',\n",
       " 'Epoch 00007: val_loss did not improve',\n",
       " '95s - loss: 2.1501 - acc: 0.6301 - val_loss: 0.9285 - val_acc: 0.7765',\n",
       " 'Epoch 9/50',\n",
       " 'Epoch 00008: val_loss improved from 0.85203 to 0.84413, saving model to vgg_fixed_bottom_1.hdf5',\n",
       " '102s - loss: 1.9652 - acc: 0.6509 - val_loss: 0.8441 - val_acc: 0.8035',\n",
       " 'Epoch 10/50',\n",
       " 'Epoch 00009: val_loss did not improve',\n",
       " '95s - loss: 1.8594 - acc: 0.6652 - val_loss: 1.0126 - val_acc: 0.7755',\n",
       " 'Epoch 11/50',\n",
       " 'Epoch 00010: val_loss improved from 0.84413 to 0.82736, saving model to vgg_fixed_bottom_1.hdf5',\n",
       " '103s - loss: 1.7916 - acc: 0.6712 - val_loss: 0.8274 - val_acc: 0.8015',\n",
       " 'Epoch 12/50',\n",
       " 'Epoch 00011: val_loss improved from 0.82736 to 0.67625, saving model to vgg_fixed_bottom_1.hdf5',\n",
       " '102s - loss: 1.6178 - acc: 0.6872 - val_loss: 0.6763 - val_acc: 0.8365',\n",
       " 'Epoch 13/50',\n",
       " 'Epoch 00012: val_loss did not improve',\n",
       " '95s - loss: 1.6647 - acc: 0.6941 - val_loss: 0.8171 - val_acc: 0.8087',\n",
       " 'Epoch 14/50',\n",
       " 'Epoch 00013: val_loss improved from 0.67625 to 0.63423, saving model to vgg_fixed_bottom_1.hdf5',\n",
       " '105s - loss: 1.5313 - acc: 0.7038 - val_loss: 0.6342 - val_acc: 0.8368',\n",
       " 'Epoch 15/50',\n",
       " 'Epoch 00014: val_loss did not improve',\n",
       " '97s - loss: 1.4875 - acc: 0.7042 - val_loss: 0.7242 - val_acc: 0.8035',\n",
       " 'Epoch 16/50',\n",
       " 'Epoch 00015: val_loss improved from 0.63423 to 0.55729, saving model to vgg_fixed_bottom_1.hdf5',\n",
       " '103s - loss: 1.4936 - acc: 0.7124 - val_loss: 0.5573 - val_acc: 0.8503',\n",
       " 'Epoch 17/50',\n",
       " 'Epoch 00016: val_loss did not improve',\n",
       " '95s - loss: 1.3783 - acc: 0.7284 - val_loss: 0.6697 - val_acc: 0.8139',\n",
       " 'Epoch 18/50',\n",
       " 'Epoch 00017: val_loss did not improve',\n",
       " '98s - loss: 1.2834 - acc: 0.7456 - val_loss: 0.5941 - val_acc: 0.8514',\n",
       " 'Epoch 19/50',\n",
       " 'Epoch 00018: val_loss did not improve',\n",
       " '95s - loss: 1.2721 - acc: 0.7364 - val_loss: 0.6879 - val_acc: 0.8087',\n",
       " 'Epoch 20/50',\n",
       " 'Epoch 00019: val_loss did not improve',\n",
       " '95s - loss: 1.1929 - acc: 0.7460 - val_loss: 0.6650 - val_acc: 0.8472',\n",
       " 'Epoch 21/50',\n",
       " 'Epoch 00020: val_loss improved from 0.55729 to 0.55076, saving model to vgg_fixed_bottom_1.hdf5',\n",
       " '102s - loss: 1.3463 - acc: 0.7352 - val_loss: 0.5508 - val_acc: 0.8586',\n",
       " 'Epoch 22/50',\n",
       " 'Epoch 00021: val_loss improved from 0.55076 to 0.47223, saving model to vgg_fixed_bottom_1.hdf5',\n",
       " '102s - loss: 1.2294 - acc: 0.7419 - val_loss: 0.4722 - val_acc: 0.8472',\n",
       " 'Epoch 23/50',\n",
       " 'Epoch 00022: val_loss did not improve',\n",
       " '96s - loss: 1.1331 - acc: 0.7620 - val_loss: 0.6118 - val_acc: 0.8378',\n",
       " 'Epoch 24/50',\n",
       " 'Epoch 00023: val_loss did not improve',\n",
       " '95s - loss: 1.1053 - acc: 0.7691 - val_loss: 0.6812 - val_acc: 0.8306',\n",
       " 'Epoch 25/50',\n",
       " 'Epoch 00024: val_loss did not improve',\n",
       " '95s - loss: 1.1714 - acc: 0.7657 - val_loss: 0.6799 - val_acc: 0.8285',\n",
       " 'Epoch 26/50',\n",
       " 'Epoch 00025: val_loss did not improve',\n",
       " '94s - loss: 1.1162 - acc: 0.7629 - val_loss: 0.7115 - val_acc: 0.8243',\n",
       " 'Epoch 27/50',\n",
       " 'Epoch 00026: val_loss did not improve',\n",
       " '95s - loss: 1.1463 - acc: 0.7602 - val_loss: 0.7709 - val_acc: 0.8306',\n",
       " 'Epoch 28/50',\n",
       " 'Epoch 00027: val_loss did not improve',\n",
       " 'Epoch 00027: reducing learning rate to 4.999999873689376e-06.',\n",
       " '95s - loss: 1.0704 - acc: 0.7726 - val_loss: 0.5712 - val_acc: 0.8254',\n",
       " 'Epoch 29/50',\n",
       " 'Epoch 00028: val_loss did not improve',\n",
       " '98s - loss: 1.0248 - acc: 0.7770 - val_loss: 0.5645 - val_acc: 0.8368',\n",
       " 'Epoch 30/50',\n",
       " 'Epoch 00029: val_loss did not improve',\n",
       " '95s - loss: 0.9526 - acc: 0.7947 - val_loss: 0.6136 - val_acc: 0.8295',\n",
       " 'Epoch 31/50',\n",
       " 'Epoch 00030: val_loss did not improve',\n",
       " '95s - loss: 0.9632 - acc: 0.7854 - val_loss: 0.5192 - val_acc: 0.8410',\n",
       " 'Epoch 32/50',\n",
       " 'Epoch 00031: val_loss did not improve',\n",
       " '95s - loss: 0.9249 - acc: 0.7997 - val_loss: 0.5037 - val_acc: 0.8399',\n",
       " 'Epoch 33/50',\n",
       " 'Epoch 00032: val_loss did not improve',\n",
       " 'Epoch 00032: reducing learning rate to 4.999999873689376e-07.',\n",
       " '95s - loss: 0.8696 - acc: 0.8003 - val_loss: 0.5433 - val_acc: 0.8181',\n",
       " 'Epoch 1/50',\n",
       " 'Epoch 00000: val_loss improved from inf to 0.55207, saving model to vgg_fixed_bottom_1.hdf5',\n",
       " '127s - loss: 1.0715 - acc: 0.7645 - val_loss: 0.5521 - val_acc: 0.8441',\n",
       " 'Epoch 2/50',\n",
       " 'Epoch 00001: val_loss did not improve',\n",
       " '104s - loss: 0.9551 - acc: 0.7867 - val_loss: 0.5871 - val_acc: 0.8441',\n",
       " 'Epoch 3/50',\n",
       " 'Epoch 00002: val_loss improved from 0.55207 to 0.47068, saving model to vgg_fixed_bottom_1.hdf5',\n",
       " '101s - loss: 1.0008 - acc: 0.7780 - val_loss: 0.4707 - val_acc: 0.8514',\n",
       " 'Epoch 4/50',\n",
       " 'Epoch 00003: val_loss did not improve',\n",
       " '96s - loss: 0.9885 - acc: 0.7781 - val_loss: 0.5567 - val_acc: 0.8503',\n",
       " 'Epoch 5/50',\n",
       " 'Epoch 00004: val_loss did not improve',\n",
       " '97s - loss: 1.0355 - acc: 0.7752 - val_loss: 0.5398 - val_acc: 0.8420',\n",
       " 'Epoch 6/50',\n",
       " 'Epoch 00005: val_loss did not improve',\n",
       " '96s - loss: 0.9190 - acc: 0.7953 - val_loss: 0.5234 - val_acc: 0.8368',\n",
       " 'Epoch 7/50',\n",
       " 'Epoch 00006: val_loss did not improve',\n",
       " '96s - loss: 0.9047 - acc: 0.7946 - val_loss: 0.5241 - val_acc: 0.8462',\n",
       " 'Epoch 8/50',\n",
       " 'Epoch 00007: val_loss did not improve',\n",
       " '97s - loss: 0.9725 - acc: 0.7827 - val_loss: 0.5323 - val_acc: 0.8430',\n",
       " 'Epoch 9/50',\n",
       " 'Epoch 00008: val_loss did not improve',\n",
       " 'Epoch 00008: reducing learning rate to 4.999999873689376e-07.',\n",
       " '98s - loss: 0.8498 - acc: 0.7971 - val_loss: 0.4942 - val_acc: 0.8472',\n",
       " 'Epoch 10/50',\n",
       " 'Epoch 00009: val_loss did not improve',\n",
       " '97s - loss: 0.9140 - acc: 0.7866 - val_loss: 0.5633 - val_acc: 0.8430',\n",
       " 'Epoch 11/50',\n",
       " 'Epoch 00010: val_loss did not improve',\n",
       " '95s - loss: 0.8859 - acc: 0.7888 - val_loss: 0.5278 - val_acc: 0.8472',\n",
       " 'Epoch 12/50',\n",
       " 'Epoch 00011: val_loss did not improve',\n",
       " '104s - loss: 0.8612 - acc: 0.7972 - val_loss: 0.5085 - val_acc: 0.8482',\n",
       " 'Epoch 13/50',\n",
       " 'Epoch 00012: val_loss did not improve',\n",
       " '113s - loss: 0.8742 - acc: 0.7959 - val_loss: 0.5664 - val_acc: 0.8451',\n",
       " 'Epoch 14/50',\n",
       " 'Epoch 00013: val_loss did not improve',\n",
       " 'Epoch 00013: reducing learning rate to 4.999999987376214e-08.',\n",
       " '114s - loss: 0.9078 - acc: 0.7814 - val_loss: 0.5204 - val_acc: 0.8493',\n",
       " 'Epoch 1/50',\n",
       " 'Epoch 00000: val_loss improved from inf to 0.47812, saving model to vgg_fixed_bottom_1.hdf5',\n",
       " '170s - loss: 0.8405 - acc: 0.7840 - val_loss: 0.4781 - val_acc: 0.8430',\n",
       " 'Epoch 2/50',\n",
       " 'Epoch 00001: val_loss improved from 0.47812 to 0.43422, saving model to vgg_fixed_bottom_1.hdf5',\n",
       " '149s - loss: 0.6486 - acc: 0.8121 - val_loss: 0.4342 - val_acc: 0.8524',\n",
       " 'Epoch 3/50',\n",
       " 'Epoch 00002: val_loss improved from 0.43422 to 0.42267, saving model to vgg_fixed_bottom_1.hdf5',\n",
       " '136s - loss: 0.6078 - acc: 0.8195 - val_loss: 0.4227 - val_acc: 0.8586',\n",
       " 'Epoch 4/50',\n",
       " 'Epoch 00003: val_loss improved from 0.42267 to 0.40938, saving model to vgg_fixed_bottom_1.hdf5',\n",
       " '125s - loss: 0.5803 - acc: 0.8317 - val_loss: 0.4094 - val_acc: 0.8514',\n",
       " 'Epoch 5/50',\n",
       " 'Epoch 00004: val_loss improved from 0.40938 to 0.38516, saving model to vgg_fixed_bottom_1.hdf5',\n",
       " '132s - loss: 0.4910 - acc: 0.8446 - val_loss: 0.3852 - val_acc: 0.8680',\n",
       " 'Epoch 6/50',\n",
       " 'Epoch 00005: val_loss improved from 0.38516 to 0.33507, saving model to vgg_fixed_bottom_1.hdf5',\n",
       " '130s - loss: 0.4908 - acc: 0.8499 - val_loss: 0.3351 - val_acc: 0.8825',\n",
       " 'Epoch 7/50',\n",
       " 'Epoch 00006: val_loss did not improve',\n",
       " '116s - loss: 0.4388 - acc: 0.8600 - val_loss: 0.4011 - val_acc: 0.8742',\n",
       " 'Epoch 8/50',\n",
       " 'Epoch 00007: val_loss did not improve',\n",
       " '114s - loss: 0.4371 - acc: 0.8622 - val_loss: 0.3700 - val_acc: 0.8628',\n",
       " 'Epoch 9/50',\n",
       " 'Epoch 00008: val_loss did not improve',\n",
       " '111s - loss: 0.4169 - acc: 0.8680 - val_loss: 0.3563 - val_acc: 0.8753',\n",
       " 'Epoch 10/50',\n",
       " 'Epoch 00009: val_loss did not improve',\n",
       " '114s - loss: 0.4074 - acc: 0.8694 - val_loss: 0.4179 - val_acc: 0.8721',\n",
       " 'Epoch 11/50',\n",
       " 'Epoch 00010: val_loss improved from 0.33507 to 0.33410, saving model to vgg_fixed_bottom_1.hdf5',\n",
       " '118s - loss: 0.3993 - acc: 0.8686 - val_loss: 0.3341 - val_acc: 0.8836',\n",
       " 'Epoch 12/50',\n",
       " 'Epoch 00011: val_loss did not improve',\n",
       " '115s - loss: 0.3946 - acc: 0.8729 - val_loss: 0.3570 - val_acc: 0.8877',\n",
       " 'Epoch 13/50',\n",
       " 'Epoch 00012: val_loss improved from 0.33410 to 0.32900, saving model to vgg_fixed_bottom_1.hdf5',\n",
       " '119s - loss: 0.3896 - acc: 0.8741 - val_loss: 0.3290 - val_acc: 0.8867',\n",
       " 'Epoch 14/50',\n",
       " 'Epoch 00013: val_loss did not improve',\n",
       " '113s - loss: 0.3745 - acc: 0.8805 - val_loss: 0.3336 - val_acc: 0.9012',\n",
       " 'Epoch 15/50',\n",
       " 'Epoch 00014: val_loss did not improve',\n",
       " '111s - loss: 0.3816 - acc: 0.8726 - val_loss: 0.3489 - val_acc: 0.8815',\n",
       " 'Epoch 16/50',\n",
       " 'Epoch 00015: val_loss did not improve',\n",
       " '112s - loss: 0.3395 - acc: 0.8884 - val_loss: 0.3335 - val_acc: 0.8960',\n",
       " 'Epoch 17/50',\n",
       " 'Epoch 00016: val_loss improved from 0.32900 to 0.29936, saving model to vgg_fixed_bottom_1.hdf5',\n",
       " '118s - loss: 0.3514 - acc: 0.8900 - val_loss: 0.2994 - val_acc: 0.8992',\n",
       " 'Epoch 18/50',\n",
       " 'Epoch 00017: val_loss did not improve',\n",
       " '114s - loss: 0.3367 - acc: 0.8918 - val_loss: 0.3151 - val_acc: 0.8992',\n",
       " 'Epoch 19/50',\n",
       " 'Epoch 00018: val_loss did not improve',\n",
       " '111s - loss: 0.3284 - acc: 0.8930 - val_loss: 0.3418 - val_acc: 0.8825',\n",
       " 'Epoch 20/50',\n",
       " 'Epoch 00019: val_loss improved from 0.29936 to 0.29294, saving model to vgg_fixed_bottom_1.hdf5',\n",
       " '121s - loss: 0.3402 - acc: 0.8895 - val_loss: 0.2929 - val_acc: 0.9044',\n",
       " 'Epoch 21/50',\n",
       " 'Epoch 00020: val_loss did not improve',\n",
       " '117s - loss: 0.3009 - acc: 0.9000 - val_loss: 0.3299 - val_acc: 0.9002',\n",
       " 'Epoch 22/50',\n",
       " 'Epoch 00021: val_loss did not improve',\n",
       " '112s - loss: 0.3167 - acc: 0.8984 - val_loss: 0.3181 - val_acc: 0.9054',\n",
       " 'Epoch 23/50',\n",
       " 'Epoch 00022: val_loss did not improve',\n",
       " '115s - loss: 0.3259 - acc: 0.9001 - val_loss: 0.3016 - val_acc: 0.9054',\n",
       " 'Epoch 24/50',\n",
       " 'Epoch 00023: val_loss did not improve',\n",
       " '111s - loss: 0.3111 - acc: 0.8973 - val_loss: 0.3425 - val_acc: 0.9023',\n",
       " 'Epoch 25/50',\n",
       " 'Epoch 00024: val_loss did not improve',\n",
       " '111s - loss: 0.2776 - acc: 0.9114 - val_loss: 0.3089 - val_acc: 0.8950',\n",
       " 'Epoch 26/50',\n",
       " 'Epoch 00025: val_loss did not improve',\n",
       " 'Epoch 00025: reducing learning rate to 4.999999873689376e-07.',\n",
       " '114s - loss: 0.3014 - acc: 0.9023 - val_loss: 0.3002 - val_acc: 0.9064',\n",
       " 'Epoch 27/50',\n",
       " 'Epoch 00026: val_loss improved from 0.29294 to 0.28777, saving model to vgg_fixed_bottom_1.hdf5',\n",
       " '120s - loss: 0.2835 - acc: 0.9088 - val_loss: 0.2878 - val_acc: 0.9116',\n",
       " 'Epoch 28/50',\n",
       " 'Epoch 00027: val_loss did not improve',\n",
       " '115s - loss: 0.2898 - acc: 0.9012 - val_loss: 0.3776 - val_acc: 0.9012',\n",
       " 'Epoch 29/50',\n",
       " 'Epoch 00028: val_loss did not improve',\n",
       " '114s - loss: 0.2703 - acc: 0.9122 - val_loss: 0.2951 - val_acc: 0.9137',\n",
       " 'Epoch 30/50',\n",
       " 'Epoch 00029: val_loss did not improve',\n",
       " '110s - loss: 0.2516 - acc: 0.9154 - val_loss: 0.3325 - val_acc: 0.9012',\n",
       " 'Epoch 31/50',\n",
       " 'Epoch 00030: val_loss did not improve',\n",
       " '117s - loss: 0.2607 - acc: 0.9196 - val_loss: 0.2958 - val_acc: 0.9127',\n",
       " 'Epoch 32/50',\n",
       " 'Epoch 00031: val_loss did not improve',\n",
       " '111s - loss: 0.2686 - acc: 0.9104 - val_loss: 0.3097 - val_acc: 0.9085',\n",
       " 'Epoch 33/50',\n",
       " 'Epoch 00032: val_loss did not improve',\n",
       " 'Epoch 00032: reducing learning rate to 4.999999987376214e-08.',\n",
       " '112s - loss: 0.2354 - acc: 0.9217 - val_loss: 0.3253 - val_acc: 0.9085',\n",
       " 'Epoch 34/50',\n",
       " 'Epoch 00033: val_loss did not improve',\n",
       " '115s - loss: 0.2658 - acc: 0.9131 - val_loss: 0.3150 - val_acc: 0.9054',\n",
       " 'Epoch 35/50',\n",
       " 'Epoch 00034: val_loss did not improve',\n",
       " '114s - loss: 0.2640 - acc: 0.9097 - val_loss: 0.3030 - val_acc: 0.9127',\n",
       " 'Epoch 36/50',\n",
       " 'Epoch 00035: val_loss did not improve',\n",
       " '111s - loss: 0.2856 - acc: 0.9133 - val_loss: 0.3291 - val_acc: 0.9002',\n",
       " 'Epoch 37/50',\n",
       " 'Epoch 00036: val_loss improved from 0.28777 to 0.27527, saving model to vgg_fixed_bottom_1.hdf5',\n",
       " '116s - loss: 0.2774 - acc: 0.9061 - val_loss: 0.2753 - val_acc: 0.9179',\n",
       " 'Epoch 38/50',\n",
       " 'Epoch 00037: val_loss did not improve',\n",
       " '111s - loss: 0.2772 - acc: 0.9108 - val_loss: 0.3369 - val_acc: 0.8981',\n",
       " 'Epoch 39/50',\n",
       " 'Epoch 00038: val_loss did not improve',\n",
       " '114s - loss: 0.2666 - acc: 0.9101 - val_loss: 0.2928 - val_acc: 0.9106',\n",
       " 'Epoch 40/50',\n",
       " 'Epoch 00039: val_loss did not improve',\n",
       " '111s - loss: 0.2636 - acc: 0.9212 - val_loss: 0.3457 - val_acc: 0.9054',\n",
       " 'Epoch 41/50',\n",
       " 'Epoch 00040: val_loss did not improve',\n",
       " '110s - loss: 0.2512 - acc: 0.9138 - val_loss: 0.3174 - val_acc: 0.9044',\n",
       " 'Epoch 42/50',\n",
       " 'Epoch 00041: val_loss did not improve',\n",
       " '118s - loss: 0.2479 - acc: 0.9172 - val_loss: 0.3102 - val_acc: 0.9075',\n",
       " 'Epoch 43/50',\n",
       " 'Epoch 00042: val_loss did not improve',\n",
       " 'Epoch 00042: reducing learning rate to 5.000000058430488e-09.',\n",
       " '114s - loss: 0.2658 - acc: 0.9114 - val_loss: 0.3211 - val_acc: 0.9116',\n",
       " 'Epoch 44/50',\n",
       " 'Epoch 00043: val_loss did not improve',\n",
       " '112s - loss: 0.2672 - acc: 0.9153 - val_loss: 0.3167 - val_acc: 0.9023',\n",
       " 'Epoch 45/50',\n",
       " 'Epoch 00044: val_loss did not improve',\n",
       " '111s - loss: 0.2754 - acc: 0.9081 - val_loss: 0.2818 - val_acc: 0.9200',\n",
       " 'Epoch 46/50',\n",
       " 'Epoch 00045: val_loss did not improve',\n",
       " '113s - loss: 0.2510 - acc: 0.9175 - val_loss: 0.3254 - val_acc: 0.9106',\n",
       " 'Epoch 47/50',\n",
       " 'Epoch 00046: val_loss did not improve',\n",
       " '112s - loss: 0.2672 - acc: 0.9161 - val_loss: 0.3103 - val_acc: 0.9012',\n",
       " 'Epoch 48/50',\n",
       " 'Epoch 00047: val_loss did not improve',\n",
       " 'Epoch 00047: reducing learning rate to 4.999999969612646e-10.',\n",
       " '112s - loss: 0.2636 - acc: 0.9142 - val_loss: 0.3091 - val_acc: 0.9096']"
      ]
     },
     "execution_count": 37,
     "metadata": {},
     "output_type": "execute_result"
    }
   ],
   "source": [
    "tmp = tmp.splitlines()\n",
    "tmp"
   ]
  },
  {
   "cell_type": "code",
   "execution_count": 38,
   "metadata": {
    "ExecuteTime": {
     "end_time": "2018-01-04T13:24:32.975137Z",
     "start_time": "2018-01-04T13:24:32.968625Z"
    },
    "collapsed": true
   },
   "outputs": [
    {
     "data": {
      "text/plain": [
       "['121s - loss: 7.9648 - acc: 0.2532 - val_loss: 3.8791 - val_acc: 0.5353',\n",
       " '121s - loss: 5.5453 - acc: 0.4021 - val_loss: 1.9004 - val_acc: 0.6767',\n",
       " '101s - loss: 4.2637 - acc: 0.4714 - val_loss: 1.4007 - val_acc: 0.7380',\n",
       " '102s - loss: 3.6247 - acc: 0.5214 - val_loss: 1.2997 - val_acc: 0.7609',\n",
       " '101s - loss: 2.9718 - acc: 0.5670 - val_loss: 0.8520 - val_acc: 0.7827',\n",
       " '96s - loss: 2.6392 - acc: 0.5871 - val_loss: 0.9738 - val_acc: 0.7994',\n",
       " '95s - loss: 2.3316 - acc: 0.6104 - val_loss: 0.8554 - val_acc: 0.8101',\n",
       " '95s - loss: 2.1501 - acc: 0.6301 - val_loss: 0.9285 - val_acc: 0.7765',\n",
       " '102s - loss: 1.9652 - acc: 0.6509 - val_loss: 0.8441 - val_acc: 0.8035',\n",
       " '95s - loss: 1.8594 - acc: 0.6652 - val_loss: 1.0126 - val_acc: 0.7755',\n",
       " '103s - loss: 1.7916 - acc: 0.6712 - val_loss: 0.8274 - val_acc: 0.8015',\n",
       " '102s - loss: 1.6178 - acc: 0.6872 - val_loss: 0.6763 - val_acc: 0.8365',\n",
       " '95s - loss: 1.6647 - acc: 0.6941 - val_loss: 0.8171 - val_acc: 0.8087',\n",
       " '105s - loss: 1.5313 - acc: 0.7038 - val_loss: 0.6342 - val_acc: 0.8368',\n",
       " '97s - loss: 1.4875 - acc: 0.7042 - val_loss: 0.7242 - val_acc: 0.8035',\n",
       " '103s - loss: 1.4936 - acc: 0.7124 - val_loss: 0.5573 - val_acc: 0.8503',\n",
       " '95s - loss: 1.3783 - acc: 0.7284 - val_loss: 0.6697 - val_acc: 0.8139',\n",
       " '98s - loss: 1.2834 - acc: 0.7456 - val_loss: 0.5941 - val_acc: 0.8514',\n",
       " '95s - loss: 1.2721 - acc: 0.7364 - val_loss: 0.6879 - val_acc: 0.8087',\n",
       " '95s - loss: 1.1929 - acc: 0.7460 - val_loss: 0.6650 - val_acc: 0.8472',\n",
       " '102s - loss: 1.3463 - acc: 0.7352 - val_loss: 0.5508 - val_acc: 0.8586',\n",
       " '102s - loss: 1.2294 - acc: 0.7419 - val_loss: 0.4722 - val_acc: 0.8472',\n",
       " '96s - loss: 1.1331 - acc: 0.7620 - val_loss: 0.6118 - val_acc: 0.8378',\n",
       " '95s - loss: 1.1053 - acc: 0.7691 - val_loss: 0.6812 - val_acc: 0.8306',\n",
       " '95s - loss: 1.1714 - acc: 0.7657 - val_loss: 0.6799 - val_acc: 0.8285',\n",
       " '94s - loss: 1.1162 - acc: 0.7629 - val_loss: 0.7115 - val_acc: 0.8243',\n",
       " '95s - loss: 1.1463 - acc: 0.7602 - val_loss: 0.7709 - val_acc: 0.8306',\n",
       " '95s - loss: 1.0704 - acc: 0.7726 - val_loss: 0.5712 - val_acc: 0.8254',\n",
       " '98s - loss: 1.0248 - acc: 0.7770 - val_loss: 0.5645 - val_acc: 0.8368',\n",
       " '95s - loss: 0.9526 - acc: 0.7947 - val_loss: 0.6136 - val_acc: 0.8295',\n",
       " '95s - loss: 0.9632 - acc: 0.7854 - val_loss: 0.5192 - val_acc: 0.8410',\n",
       " '95s - loss: 0.9249 - acc: 0.7997 - val_loss: 0.5037 - val_acc: 0.8399',\n",
       " '95s - loss: 0.8696 - acc: 0.8003 - val_loss: 0.5433 - val_acc: 0.8181',\n",
       " '127s - loss: 1.0715 - acc: 0.7645 - val_loss: 0.5521 - val_acc: 0.8441',\n",
       " '104s - loss: 0.9551 - acc: 0.7867 - val_loss: 0.5871 - val_acc: 0.8441',\n",
       " '101s - loss: 1.0008 - acc: 0.7780 - val_loss: 0.4707 - val_acc: 0.8514',\n",
       " '96s - loss: 0.9885 - acc: 0.7781 - val_loss: 0.5567 - val_acc: 0.8503',\n",
       " '97s - loss: 1.0355 - acc: 0.7752 - val_loss: 0.5398 - val_acc: 0.8420',\n",
       " '96s - loss: 0.9190 - acc: 0.7953 - val_loss: 0.5234 - val_acc: 0.8368',\n",
       " '96s - loss: 0.9047 - acc: 0.7946 - val_loss: 0.5241 - val_acc: 0.8462',\n",
       " '97s - loss: 0.9725 - acc: 0.7827 - val_loss: 0.5323 - val_acc: 0.8430',\n",
       " '98s - loss: 0.8498 - acc: 0.7971 - val_loss: 0.4942 - val_acc: 0.8472',\n",
       " '97s - loss: 0.9140 - acc: 0.7866 - val_loss: 0.5633 - val_acc: 0.8430',\n",
       " '95s - loss: 0.8859 - acc: 0.7888 - val_loss: 0.5278 - val_acc: 0.8472',\n",
       " '104s - loss: 0.8612 - acc: 0.7972 - val_loss: 0.5085 - val_acc: 0.8482',\n",
       " '113s - loss: 0.8742 - acc: 0.7959 - val_loss: 0.5664 - val_acc: 0.8451',\n",
       " '114s - loss: 0.9078 - acc: 0.7814 - val_loss: 0.5204 - val_acc: 0.8493',\n",
       " '170s - loss: 0.8405 - acc: 0.7840 - val_loss: 0.4781 - val_acc: 0.8430',\n",
       " '149s - loss: 0.6486 - acc: 0.8121 - val_loss: 0.4342 - val_acc: 0.8524',\n",
       " '136s - loss: 0.6078 - acc: 0.8195 - val_loss: 0.4227 - val_acc: 0.8586',\n",
       " '125s - loss: 0.5803 - acc: 0.8317 - val_loss: 0.4094 - val_acc: 0.8514',\n",
       " '132s - loss: 0.4910 - acc: 0.8446 - val_loss: 0.3852 - val_acc: 0.8680',\n",
       " '130s - loss: 0.4908 - acc: 0.8499 - val_loss: 0.3351 - val_acc: 0.8825',\n",
       " '116s - loss: 0.4388 - acc: 0.8600 - val_loss: 0.4011 - val_acc: 0.8742',\n",
       " '114s - loss: 0.4371 - acc: 0.8622 - val_loss: 0.3700 - val_acc: 0.8628',\n",
       " '111s - loss: 0.4169 - acc: 0.8680 - val_loss: 0.3563 - val_acc: 0.8753',\n",
       " '114s - loss: 0.4074 - acc: 0.8694 - val_loss: 0.4179 - val_acc: 0.8721',\n",
       " '118s - loss: 0.3993 - acc: 0.8686 - val_loss: 0.3341 - val_acc: 0.8836',\n",
       " '115s - loss: 0.3946 - acc: 0.8729 - val_loss: 0.3570 - val_acc: 0.8877',\n",
       " '119s - loss: 0.3896 - acc: 0.8741 - val_loss: 0.3290 - val_acc: 0.8867',\n",
       " '113s - loss: 0.3745 - acc: 0.8805 - val_loss: 0.3336 - val_acc: 0.9012',\n",
       " '111s - loss: 0.3816 - acc: 0.8726 - val_loss: 0.3489 - val_acc: 0.8815',\n",
       " '112s - loss: 0.3395 - acc: 0.8884 - val_loss: 0.3335 - val_acc: 0.8960',\n",
       " '118s - loss: 0.3514 - acc: 0.8900 - val_loss: 0.2994 - val_acc: 0.8992',\n",
       " '114s - loss: 0.3367 - acc: 0.8918 - val_loss: 0.3151 - val_acc: 0.8992',\n",
       " '111s - loss: 0.3284 - acc: 0.8930 - val_loss: 0.3418 - val_acc: 0.8825',\n",
       " '121s - loss: 0.3402 - acc: 0.8895 - val_loss: 0.2929 - val_acc: 0.9044',\n",
       " '117s - loss: 0.3009 - acc: 0.9000 - val_loss: 0.3299 - val_acc: 0.9002',\n",
       " '112s - loss: 0.3167 - acc: 0.8984 - val_loss: 0.3181 - val_acc: 0.9054',\n",
       " '115s - loss: 0.3259 - acc: 0.9001 - val_loss: 0.3016 - val_acc: 0.9054',\n",
       " '111s - loss: 0.3111 - acc: 0.8973 - val_loss: 0.3425 - val_acc: 0.9023',\n",
       " '111s - loss: 0.2776 - acc: 0.9114 - val_loss: 0.3089 - val_acc: 0.8950',\n",
       " '114s - loss: 0.3014 - acc: 0.9023 - val_loss: 0.3002 - val_acc: 0.9064',\n",
       " '120s - loss: 0.2835 - acc: 0.9088 - val_loss: 0.2878 - val_acc: 0.9116',\n",
       " '115s - loss: 0.2898 - acc: 0.9012 - val_loss: 0.3776 - val_acc: 0.9012',\n",
       " '114s - loss: 0.2703 - acc: 0.9122 - val_loss: 0.2951 - val_acc: 0.9137',\n",
       " '110s - loss: 0.2516 - acc: 0.9154 - val_loss: 0.3325 - val_acc: 0.9012',\n",
       " '117s - loss: 0.2607 - acc: 0.9196 - val_loss: 0.2958 - val_acc: 0.9127',\n",
       " '111s - loss: 0.2686 - acc: 0.9104 - val_loss: 0.3097 - val_acc: 0.9085',\n",
       " '112s - loss: 0.2354 - acc: 0.9217 - val_loss: 0.3253 - val_acc: 0.9085',\n",
       " '115s - loss: 0.2658 - acc: 0.9131 - val_loss: 0.3150 - val_acc: 0.9054',\n",
       " '114s - loss: 0.2640 - acc: 0.9097 - val_loss: 0.3030 - val_acc: 0.9127',\n",
       " '111s - loss: 0.2856 - acc: 0.9133 - val_loss: 0.3291 - val_acc: 0.9002',\n",
       " '116s - loss: 0.2774 - acc: 0.9061 - val_loss: 0.2753 - val_acc: 0.9179',\n",
       " '111s - loss: 0.2772 - acc: 0.9108 - val_loss: 0.3369 - val_acc: 0.8981',\n",
       " '114s - loss: 0.2666 - acc: 0.9101 - val_loss: 0.2928 - val_acc: 0.9106',\n",
       " '111s - loss: 0.2636 - acc: 0.9212 - val_loss: 0.3457 - val_acc: 0.9054',\n",
       " '110s - loss: 0.2512 - acc: 0.9138 - val_loss: 0.3174 - val_acc: 0.9044',\n",
       " '118s - loss: 0.2479 - acc: 0.9172 - val_loss: 0.3102 - val_acc: 0.9075',\n",
       " '114s - loss: 0.2658 - acc: 0.9114 - val_loss: 0.3211 - val_acc: 0.9116',\n",
       " '112s - loss: 0.2672 - acc: 0.9153 - val_loss: 0.3167 - val_acc: 0.9023',\n",
       " '111s - loss: 0.2754 - acc: 0.9081 - val_loss: 0.2818 - val_acc: 0.9200',\n",
       " '113s - loss: 0.2510 - acc: 0.9175 - val_loss: 0.3254 - val_acc: 0.9106',\n",
       " '112s - loss: 0.2672 - acc: 0.9161 - val_loss: 0.3103 - val_acc: 0.9012',\n",
       " '112s - loss: 0.2636 - acc: 0.9142 - val_loss: 0.3091 - val_acc: 0.9096']"
      ]
     },
     "execution_count": 38,
     "metadata": {},
     "output_type": "execute_result"
    }
   ],
   "source": [
    "tmp = [x for x in tmp if x[0] != 'E']\n",
    "tmp"
   ]
  },
  {
   "cell_type": "code",
   "execution_count": 39,
   "metadata": {
    "ExecuteTime": {
     "end_time": "2018-01-04T13:24:54.764172Z",
     "start_time": "2018-01-04T13:24:54.755075Z"
    },
    "collapsed": true
   },
   "outputs": [],
   "source": [
    "import re\n",
    "train_loss = [float(re.search('loss: ([0-9\\.]+)', x).group(1)) for x in tmp]\n",
    "train_acc  = [float(re.search('acc: ([0-9\\.]+)', x).group(1)) for x in tmp]\n",
    "val_loss   = [float(re.search('val_loss: ([0-9\\.]+)', x).group(1)) for x in tmp]\n",
    "val_acc    = [float(re.search('val_acc: ([0-9\\.]+)', x).group(1)) for x in tmp]"
   ]
  },
  {
   "cell_type": "code",
   "execution_count": 40,
   "metadata": {
    "ExecuteTime": {
     "end_time": "2018-01-04T13:25:02.871515Z",
     "start_time": "2018-01-04T13:25:02.864977Z"
    },
    "collapsed": true
   },
   "outputs": [],
   "source": [
    "import matplotlib.pyplot as plt\n",
    "%matplotlib inline"
   ]
  },
  {
   "cell_type": "code",
   "execution_count": 41,
   "metadata": {
    "ExecuteTime": {
     "end_time": "2018-01-04T13:25:09.784476Z",
     "start_time": "2018-01-04T13:25:09.778548Z"
    }
   },
   "outputs": [
    {
     "data": {
      "text/plain": [
       "95"
      ]
     },
     "execution_count": 41,
     "metadata": {},
     "output_type": "execute_result"
    }
   ],
   "source": [
    "len(train_loss)"
   ]
  },
  {
   "cell_type": "code",
   "execution_count": 43,
   "metadata": {
    "ExecuteTime": {
     "end_time": "2018-01-04T13:26:07.306587Z",
     "start_time": "2018-01-04T13:26:06.540729Z"
    }
   },
   "outputs": [
    {
     "data": {
      "image/png": "[encoded data removed]",
      "text/plain": [
       "<matplotlib.figure.Figure at 0x7fd02827c240>"
      ]
     },
     "metadata": {},
     "output_type": "display_data"
    }
   ],
   "source": [
    "plt.plot(range(len(train_loss)), train_loss,\n",
    "         range(len(train_loss)), val_loss);"
   ]
  },
  {
   "cell_type": "code",
   "execution_count": 44,
   "metadata": {
    "ExecuteTime": {
     "end_time": "2018-01-04T13:26:38.665984Z",
     "start_time": "2018-01-04T13:26:38.518977Z"
    }
   },
   "outputs": [
    {
     "data": {
      "image/png": "[encoded data removed]",
      "text/plain": [
       "<matplotlib.figure.Figure at 0x7fd0280caf98>"
      ]
     },
     "metadata": {},
     "output_type": "display_data"
    }
   ],
   "source": [
    "plt.plot(range(len(train_loss)), train_acc,\n",
    "         range(len(train_loss)), val_acc);"
   ]
  },
  {
   "cell_type": "code",
   "execution_count": 27,
   "metadata": {
    "ExecuteTime": {
     "end_time": "2018-01-04T17:15:48.528659Z",
     "start_time": "2018-01-04T17:15:48.418987Z"
    }
   },
   "outputs": [
    {
     "name": "stdout",
     "output_type": "stream",
     "text": [
      "Found 794 images belonging to 1 classes.\n"
     ]
    }
   ],
   "source": [
    "test_datagen = ImageDataGenerator(featurewise_center=True)\n",
    "\n",
    "test_datagen.mean=np.array([103.939, 116.779, 123.68], dtype=np.float32).reshape(1,1,3)\n",
    "\n",
    "test_generator = test_datagen.flow_from_directory(\n",
    "                        'test',\n",
    "                        target_size=(224,224),\n",
    "                        batch_size=batch_size,\n",
    "                        class_mode='categorical',\n",
    "                        shuffle=False)"
   ]
  },
  {
   "cell_type": "code",
   "execution_count": 28,
   "metadata": {
    "ExecuteTime": {
     "end_time": "2018-01-04T17:16:15.373531Z",
     "start_time": "2018-01-04T17:15:48.743718Z"
    },
    "collapsed": true
   },
   "outputs": [],
   "source": [
    "predictions = model.predict_generator(test_generator,int(np.ceil(794/batch_size)))\n",
    "class_ids = {train_generator.class_indices[x]: x for x in train_generator.class_indices}\n",
    "predicted_classes = [class_ids[x] for x in np.argmax(predictions, axis=1)]"
   ]
  },
  {
   "cell_type": "code",
   "execution_count": 29,
   "metadata": {
    "ExecuteTime": {
     "end_time": "2018-01-04T17:16:15.397477Z",
     "start_time": "2018-01-04T17:16:15.378154Z"
    },
    "collapsed": true
   },
   "outputs": [],
   "source": [
    "from os.path import basename\n",
    "test_ids = [basename(x) for x in test_generator.filenames]\n",
    "submission = pd.DataFrame({'file':test_ids,'species':predicted_classes})\n",
    "submission.to_csv('submission_vgg_16.csv', encoding=\"utf8\", index=False)"
   ]
  },
  {
   "cell_type": "code",
   "execution_count": 30,
   "metadata": {
    "ExecuteTime": {
     "end_time": "2018-01-04T17:16:15.540126Z",
     "start_time": "2018-01-04T17:16:15.402308Z"
    }
   },
   "outputs": [
    {
     "data": {
      "text/html": [
       "<a href='submission_vgg_16.csv' target='_blank'>submission_vgg_16.csv</a><br>"
      ],
      "text/plain": [
       "/home/janardhan/plant_seeding/submission_vgg_16.csv"
      ]
     },
     "execution_count": 30,
     "metadata": {},
     "output_type": "execute_result"
    }
   ],
   "source": [
    "from IPython.display import FileLink\n",
    "FileLink('submission_vgg_16.csv')"
   ]
  },
  {
   "cell_type": "code",
   "execution_count": null,
   "metadata": {
    "collapsed": true
   },
   "outputs": [],
   "source": [
    "# PB LB: 0.93073"
   ]
  }
 ],
 "metadata": {
  "kernelspec": {
   "display_name": "Python 3",
   "language": "python",
   "name": "python3"
  },
  "language_info": {
   "codemirror_mode": {
    "name": "ipython",
    "version": 3
   },
   "file_extension": ".py",
   "mimetype": "text/x-python",
   "name": "python",
   "nbconvert_exporter": "python",
   "pygments_lexer": "ipython3",
   "version": "3.5.4"
  },
  "toc": {
   "nav_menu": {},
   "number_sections": true,
   "sideBar": true,
   "skip_h1_title": false,
   "toc_cell": false,
   "toc_position": {},
   "toc_section_display": "block",
   "toc_window_display": true
  }
 },
 "nbformat": 4,
 "nbformat_minor": 2
}
