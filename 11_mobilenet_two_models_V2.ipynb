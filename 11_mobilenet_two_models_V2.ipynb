{
 "cells": [
  {
   "cell_type": "code",
   "execution_count": 1,
   "metadata": {
    "ExecuteTime": {
     "end_time": "2018-01-05T12:00:44.520864Z",
     "start_time": "2018-01-05T12:00:43.273462Z"
    },
    "collapsed": true
   },
   "outputs": [],
   "source": [
    "from keras.preprocessing.image import ImageDataGenerator\n",
    "from keras.models import Sequential, Model\n",
    "from keras.layers import Dropout, Flatten, Dense, Input\n",
    "from keras import applications\n",
    "from keras.layers import AveragePooling2D, GlobalAveragePooling2D\n",
    "from keras.callbacks import ModelCheckpoint, ReduceLROnPlateau, EarlyStopping, CSVLogger\n",
    "from keras.applications.mobilenet import MobileNet\n",
    "from keras.layers import Conv2D, Convolution2D, MaxPooling2D, ZeroPadding2D, BatchNormalization, Activation\n",
    "from keras.optimizers import RMSprop\n",
    "from keras import backend as K\n",
    "import numpy as np\n",
    "import pandas as pd\n",
    "from keras import layers\n",
    "import matplotlib.pyplot as plt\n",
    "import matplotlib.image as mpimg\n",
    "from keras.models import load_model"
   ]
  },
  {
   "cell_type": "code",
   "execution_count": 2,
   "metadata": {
    "ExecuteTime": {
     "end_time": "2018-01-05T12:00:44.527672Z",
     "start_time": "2018-01-05T12:00:44.522789Z"
    },
    "collapsed": true
   },
   "outputs": [],
   "source": [
    "#parameters\n",
    "classes = 12\n",
    "image_size = 224\n",
    "batch_size= 32\n",
    "train_total = 3820\n",
    "validation_total = 930"
   ]
  },
  {
   "cell_type": "code",
   "execution_count": 3,
   "metadata": {
    "ExecuteTime": {
     "end_time": "2018-01-05T12:00:46.767213Z",
     "start_time": "2018-01-05T12:00:44.529531Z"
    },
    "collapsed": true
   },
   "outputs": [],
   "source": [
    "model_mobilenet = MobileNet(include_top=False, weights = 'imagenet',input_shape=(image_size,image_size,3), alpha=0.5)"
   ]
  },
  {
   "cell_type": "code",
   "execution_count": 4,
   "metadata": {
    "ExecuteTime": {
     "end_time": "2018-01-05T12:00:46.821220Z",
     "start_time": "2018-01-05T12:00:46.768492Z"
    },
    "collapsed": true
   },
   "outputs": [],
   "source": [
    "x = model_mobilenet.output\n",
    "x = Dropout(0.5)(x)\n",
    "x = GlobalAveragePooling2D()(x)\n",
    "x = Dense(256, activation='relu')(x)\n",
    "x = Dropout(0.5)(x)\n",
    "x = Dense(classes, activation='softmax')(x)"
   ]
  },
  {
   "cell_type": "code",
   "execution_count": 5,
   "metadata": {
    "ExecuteTime": {
     "end_time": "2018-01-05T12:00:46.868166Z",
     "start_time": "2018-01-05T12:00:46.822709Z"
    },
    "collapsed": true
   },
   "outputs": [],
   "source": [
    "model = Model(inputs=model_mobilenet.input, outputs=x)"
   ]
  },
  {
   "cell_type": "code",
   "execution_count": 6,
   "metadata": {
    "ExecuteTime": {
     "end_time": "2018-01-05T12:00:47.015191Z",
     "start_time": "2018-01-05T12:00:46.869700Z"
    }
   },
   "outputs": [
    {
     "name": "stdout",
     "output_type": "stream",
     "text": [
      "_________________________________________________________________\n",
      "Layer (type)                 Output Shape              Param #   \n",
      "=================================================================\n",
      "input_1 (InputLayer)         (None, 224, 224, 3)       0         \n",
      "_________________________________________________________________\n",
      "conv1 (Conv2D)               (None, 112, 112, 16)      432       \n",
      "_________________________________________________________________\n",
      "conv1_bn (BatchNormalization (None, 112, 112, 16)      64        \n",
      "_________________________________________________________________\n",
      "conv1_relu (Activation)      (None, 112, 112, 16)      0         \n",
      "_________________________________________________________________\n",
      "conv_dw_1 (DepthwiseConv2D)  (None, 112, 112, 16)      144       \n",
      "_________________________________________________________________\n",
      "conv_dw_1_bn (BatchNormaliza (None, 112, 112, 16)      64        \n",
      "_________________________________________________________________\n",
      "conv_dw_1_relu (Activation)  (None, 112, 112, 16)      0         \n",
      "_________________________________________________________________\n",
      "conv_pw_1 (Conv2D)           (None, 112, 112, 32)      512       \n",
      "_________________________________________________________________\n",
      "conv_pw_1_bn (BatchNormaliza (None, 112, 112, 32)      128       \n",
      "_________________________________________________________________\n",
      "conv_pw_1_relu (Activation)  (None, 112, 112, 32)      0         \n",
      "_________________________________________________________________\n",
      "conv_dw_2 (DepthwiseConv2D)  (None, 56, 56, 32)        288       \n",
      "_________________________________________________________________\n",
      "conv_dw_2_bn (BatchNormaliza (None, 56, 56, 32)        128       \n",
      "_________________________________________________________________\n",
      "conv_dw_2_relu (Activation)  (None, 56, 56, 32)        0         \n",
      "_________________________________________________________________\n",
      "conv_pw_2 (Conv2D)           (None, 56, 56, 64)        2048      \n",
      "_________________________________________________________________\n",
      "conv_pw_2_bn (BatchNormaliza (None, 56, 56, 64)        256       \n",
      "_________________________________________________________________\n",
      "conv_pw_2_relu (Activation)  (None, 56, 56, 64)        0         \n",
      "_________________________________________________________________\n",
      "conv_dw_3 (DepthwiseConv2D)  (None, 56, 56, 64)        576       \n",
      "_________________________________________________________________\n",
      "conv_dw_3_bn (BatchNormaliza (None, 56, 56, 64)        256       \n",
      "_________________________________________________________________\n",
      "conv_dw_3_relu (Activation)  (None, 56, 56, 64)        0         \n",
      "_________________________________________________________________\n",
      "conv_pw_3 (Conv2D)           (None, 56, 56, 64)        4096      \n",
      "_________________________________________________________________\n",
      "conv_pw_3_bn (BatchNormaliza (None, 56, 56, 64)        256       \n",
      "_________________________________________________________________\n",
      "conv_pw_3_relu (Activation)  (None, 56, 56, 64)        0         \n",
      "_________________________________________________________________\n",
      "conv_dw_4 (DepthwiseConv2D)  (None, 28, 28, 64)        576       \n",
      "_________________________________________________________________\n",
      "conv_dw_4_bn (BatchNormaliza (None, 28, 28, 64)        256       \n",
      "_________________________________________________________________\n",
      "conv_dw_4_relu (Activation)  (None, 28, 28, 64)        0         \n",
      "_________________________________________________________________\n",
      "conv_pw_4 (Conv2D)           (None, 28, 28, 128)       8192      \n",
      "_________________________________________________________________\n",
      "conv_pw_4_bn (BatchNormaliza (None, 28, 28, 128)       512       \n",
      "_________________________________________________________________\n",
      "conv_pw_4_relu (Activation)  (None, 28, 28, 128)       0         \n",
      "_________________________________________________________________\n",
      "conv_dw_5 (DepthwiseConv2D)  (None, 28, 28, 128)       1152      \n",
      "_________________________________________________________________\n",
      "conv_dw_5_bn (BatchNormaliza (None, 28, 28, 128)       512       \n",
      "_________________________________________________________________\n",
      "conv_dw_5_relu (Activation)  (None, 28, 28, 128)       0         \n",
      "_________________________________________________________________\n",
      "conv_pw_5 (Conv2D)           (None, 28, 28, 128)       16384     \n",
      "_________________________________________________________________\n",
      "conv_pw_5_bn (BatchNormaliza (None, 28, 28, 128)       512       \n",
      "_________________________________________________________________\n",
      "conv_pw_5_relu (Activation)  (None, 28, 28, 128)       0         \n",
      "_________________________________________________________________\n",
      "conv_dw_6 (DepthwiseConv2D)  (None, 14, 14, 128)       1152      \n",
      "_________________________________________________________________\n",
      "conv_dw_6_bn (BatchNormaliza (None, 14, 14, 128)       512       \n",
      "_________________________________________________________________\n",
      "conv_dw_6_relu (Activation)  (None, 14, 14, 128)       0         \n",
      "_________________________________________________________________\n",
      "conv_pw_6 (Conv2D)           (None, 14, 14, 256)       32768     \n",
      "_________________________________________________________________\n",
      "conv_pw_6_bn (BatchNormaliza (None, 14, 14, 256)       1024      \n",
      "_________________________________________________________________\n",
      "conv_pw_6_relu (Activation)  (None, 14, 14, 256)       0         \n",
      "_________________________________________________________________\n",
      "conv_dw_7 (DepthwiseConv2D)  (None, 14, 14, 256)       2304      \n",
      "_________________________________________________________________\n",
      "conv_dw_7_bn (BatchNormaliza (None, 14, 14, 256)       1024      \n",
      "_________________________________________________________________\n",
      "conv_dw_7_relu (Activation)  (None, 14, 14, 256)       0         \n",
      "_________________________________________________________________\n",
      "conv_pw_7 (Conv2D)           (None, 14, 14, 256)       65536     \n",
      "_________________________________________________________________\n",
      "conv_pw_7_bn (BatchNormaliza (None, 14, 14, 256)       1024      \n",
      "_________________________________________________________________\n",
      "conv_pw_7_relu (Activation)  (None, 14, 14, 256)       0         \n",
      "_________________________________________________________________\n",
      "conv_dw_8 (DepthwiseConv2D)  (None, 14, 14, 256)       2304      \n",
      "_________________________________________________________________\n",
      "conv_dw_8_bn (BatchNormaliza (None, 14, 14, 256)       1024      \n",
      "_________________________________________________________________\n",
      "conv_dw_8_relu (Activation)  (None, 14, 14, 256)       0         \n",
      "_________________________________________________________________\n",
      "conv_pw_8 (Conv2D)           (None, 14, 14, 256)       65536     \n",
      "_________________________________________________________________\n",
      "conv_pw_8_bn (BatchNormaliza (None, 14, 14, 256)       1024      \n",
      "_________________________________________________________________\n",
      "conv_pw_8_relu (Activation)  (None, 14, 14, 256)       0         \n",
      "_________________________________________________________________\n",
      "conv_dw_9 (DepthwiseConv2D)  (None, 14, 14, 256)       2304      \n",
      "_________________________________________________________________\n",
      "conv_dw_9_bn (BatchNormaliza (None, 14, 14, 256)       1024      \n",
      "_________________________________________________________________\n",
      "conv_dw_9_relu (Activation)  (None, 14, 14, 256)       0         \n",
      "_________________________________________________________________\n",
      "conv_pw_9 (Conv2D)           (None, 14, 14, 256)       65536     \n",
      "_________________________________________________________________\n",
      "conv_pw_9_bn (BatchNormaliza (None, 14, 14, 256)       1024      \n",
      "_________________________________________________________________\n",
      "conv_pw_9_relu (Activation)  (None, 14, 14, 256)       0         \n",
      "_________________________________________________________________\n",
      "conv_dw_10 (DepthwiseConv2D) (None, 14, 14, 256)       2304      \n",
      "_________________________________________________________________\n",
      "conv_dw_10_bn (BatchNormaliz (None, 14, 14, 256)       1024      \n",
      "_________________________________________________________________\n",
      "conv_dw_10_relu (Activation) (None, 14, 14, 256)       0         \n",
      "_________________________________________________________________\n",
      "conv_pw_10 (Conv2D)          (None, 14, 14, 256)       65536     \n",
      "_________________________________________________________________\n",
      "conv_pw_10_bn (BatchNormaliz (None, 14, 14, 256)       1024      \n",
      "_________________________________________________________________\n",
      "conv_pw_10_relu (Activation) (None, 14, 14, 256)       0         \n",
      "_________________________________________________________________\n",
      "conv_dw_11 (DepthwiseConv2D) (None, 14, 14, 256)       2304      \n",
      "_________________________________________________________________\n",
      "conv_dw_11_bn (BatchNormaliz (None, 14, 14, 256)       1024      \n",
      "_________________________________________________________________\n",
      "conv_dw_11_relu (Activation) (None, 14, 14, 256)       0         \n",
      "_________________________________________________________________\n",
      "conv_pw_11 (Conv2D)          (None, 14, 14, 256)       65536     \n",
      "_________________________________________________________________\n",
      "conv_pw_11_bn (BatchNormaliz (None, 14, 14, 256)       1024      \n",
      "_________________________________________________________________\n",
      "conv_pw_11_relu (Activation) (None, 14, 14, 256)       0         \n",
      "_________________________________________________________________\n",
      "conv_dw_12 (DepthwiseConv2D) (None, 7, 7, 256)         2304      \n",
      "_________________________________________________________________\n",
      "conv_dw_12_bn (BatchNormaliz (None, 7, 7, 256)         1024      \n",
      "_________________________________________________________________\n",
      "conv_dw_12_relu (Activation) (None, 7, 7, 256)         0         \n",
      "_________________________________________________________________\n",
      "conv_pw_12 (Conv2D)          (None, 7, 7, 512)         131072    \n",
      "_________________________________________________________________\n",
      "conv_pw_12_bn (BatchNormaliz (None, 7, 7, 512)         2048      \n",
      "_________________________________________________________________\n",
      "conv_pw_12_relu (Activation) (None, 7, 7, 512)         0         \n",
      "_________________________________________________________________\n",
      "conv_dw_13 (DepthwiseConv2D) (None, 7, 7, 512)         4608      \n",
      "_________________________________________________________________\n",
      "conv_dw_13_bn (BatchNormaliz (None, 7, 7, 512)         2048      \n",
      "_________________________________________________________________\n",
      "conv_dw_13_relu (Activation) (None, 7, 7, 512)         0         \n",
      "_________________________________________________________________\n",
      "conv_pw_13 (Conv2D)          (None, 7, 7, 512)         262144    \n",
      "_________________________________________________________________\n",
      "conv_pw_13_bn (BatchNormaliz (None, 7, 7, 512)         2048      \n",
      "_________________________________________________________________\n",
      "conv_pw_13_relu (Activation) (None, 7, 7, 512)         0         \n",
      "_________________________________________________________________\n",
      "dropout_1 (Dropout)          (None, 7, 7, 512)         0         \n",
      "_________________________________________________________________\n",
      "global_average_pooling2d_1 ( (None, 512)               0         \n",
      "_________________________________________________________________\n",
      "dense_1 (Dense)              (None, 256)               131328    \n",
      "_________________________________________________________________\n",
      "dropout_2 (Dropout)          (None, 256)               0         \n",
      "_________________________________________________________________\n",
      "dense_2 (Dense)              (None, 12)                3084      \n",
      "=================================================================\n",
      "Total params: 963,948\n",
      "Trainable params: 953,004\n",
      "Non-trainable params: 10,944\n",
      "_________________________________________________________________\n"
     ]
    }
   ],
   "source": [
    "model.summary()"
   ]
  },
  {
   "cell_type": "code",
   "execution_count": 7,
   "metadata": {
    "ExecuteTime": {
     "end_time": "2018-01-05T12:00:47.076864Z",
     "start_time": "2018-01-05T12:00:47.017709Z"
    },
    "collapsed": true
   },
   "outputs": [],
   "source": [
    "train_datagen = ImageDataGenerator(rescale=1./255,\n",
    "                                   shear_range = 0.2,\n",
    "                                   rotation_range = 20,\n",
    "                                   height_shift_range=0.2,\n",
    "                                   width_shift_range=0.2,\n",
    "                                   zoom_range=0.2,\n",
    "                                   fill_mode='reflect',\n",
    "                                   horizontal_flip=True,\n",
    "                                   vertical_flip=True)\n",
    "validation_datagen = ImageDataGenerator(rescale = 1./255)"
   ]
  },
  {
   "cell_type": "code",
   "execution_count": 8,
   "metadata": {
    "ExecuteTime": {
     "end_time": "2018-01-05T12:00:47.505094Z",
     "start_time": "2018-01-05T12:00:47.078256Z"
    }
   },
   "outputs": [
    {
     "name": "stdout",
     "output_type": "stream",
     "text": [
      "Found 3820 images belonging to 12 classes.\n",
      "Found 930 images belonging to 12 classes.\n"
     ]
    }
   ],
   "source": [
    "train_generator = train_datagen.flow_from_directory(\n",
    "                    'train',\n",
    "                    target_size=(image_size,image_size),\n",
    "                    batch_size=batch_size,\n",
    "                    class_mode='categorical',\n",
    "                    shuffle=True\n",
    "                    )\n",
    "validation_generator = validation_datagen.flow_from_directory(\n",
    "                        'validation',\n",
    "                        target_size=(image_size,image_size),\n",
    "                        batch_size=batch_size,\n",
    "                        class_mode='categorical')"
   ]
  },
  {
   "cell_type": "code",
   "execution_count": 9,
   "metadata": {
    "ExecuteTime": {
     "end_time": "2018-01-05T12:00:47.536345Z",
     "start_time": "2018-01-05T12:00:47.506641Z"
    },
    "collapsed": true
   },
   "outputs": [],
   "source": [
    "model.compile(loss='categorical_crossentropy',\n",
    "             optimizer=RMSprop(lr=1e-4),\n",
    "             metrics=['accuracy'])"
   ]
  },
  {
   "cell_type": "code",
   "execution_count": 10,
   "metadata": {
    "ExecuteTime": {
     "end_time": "2018-01-05T12:00:47.849259Z",
     "start_time": "2018-01-05T12:00:47.537531Z"
    },
    "collapsed": true
   },
   "outputs": [],
   "source": [
    "model.load_weights('mobilenet_from_scratch_save_best_final_2_96977.hdf5')"
   ]
  },
  {
   "cell_type": "code",
   "execution_count": 11,
   "metadata": {
    "ExecuteTime": {
     "end_time": "2018-01-05T12:01:02.297198Z",
     "start_time": "2018-01-05T12:00:47.850629Z"
    }
   },
   "outputs": [
    {
     "data": {
      "text/plain": [
       "[0.12311724986818351, 0.96344086021505382]"
      ]
     },
     "execution_count": 11,
     "metadata": {},
     "output_type": "execute_result"
    }
   ],
   "source": [
    "model.evaluate_generator(validation_generator, int(np.ceil(validation_total/batch_size)))"
   ]
  },
  {
   "cell_type": "code",
   "execution_count": 12,
   "metadata": {
    "ExecuteTime": {
     "end_time": "2018-01-05T12:01:05.670287Z",
     "start_time": "2018-01-05T12:01:05.664796Z"
    },
    "collapsed": true
   },
   "outputs": [],
   "source": [
    "# MODEL SMALL FOR BINARY CLASSIFICATION FOR CLASS 0 AND CLASS 6\n",
    "#V2 - weights from previous model_1, fixed bottom, only fine tuning last layers"
   ]
  },
  {
   "cell_type": "code",
   "execution_count": 13,
   "metadata": {
    "ExecuteTime": {
     "end_time": "2018-01-05T12:01:05.982609Z",
     "start_time": "2018-01-05T12:01:05.972104Z"
    },
    "collapsed": true
   },
   "outputs": [],
   "source": [
    "#parameters\n",
    "classes_2 = 2\n",
    "image_size_2 = 224\n",
    "batch_size_2 =32\n",
    "train_total_2 = 739\n",
    "validation_total_2 = 178"
   ]
  },
  {
   "cell_type": "code",
   "execution_count": 14,
   "metadata": {
    "ExecuteTime": {
     "end_time": "2018-01-05T12:01:08.106530Z",
     "start_time": "2018-01-05T12:01:06.295940Z"
    },
    "collapsed": true
   },
   "outputs": [],
   "source": [
    "model_mobilenet_2 = MobileNet(include_top=False, weights = 'imagenet',input_shape=(image_size,image_size,3), alpha=0.5)"
   ]
  },
  {
   "cell_type": "code",
   "execution_count": 15,
   "metadata": {
    "ExecuteTime": {
     "end_time": "2018-01-05T12:01:08.246828Z",
     "start_time": "2018-01-05T12:01:08.107635Z"
    },
    "collapsed": true
   },
   "outputs": [],
   "source": [
    "x = model_mobilenet_2.output\n",
    "x = Dropout(0.5)(x)\n",
    "x = GlobalAveragePooling2D()(x)\n",
    "x = Dense(256, activation='relu')(x)\n",
    "x = Dropout(0.5)(x)\n",
    "x = Dense(classes_2, activation='softmax')(x)"
   ]
  },
  {
   "cell_type": "code",
   "execution_count": 16,
   "metadata": {
    "ExecuteTime": {
     "end_time": "2018-01-05T12:01:08.253312Z",
     "start_time": "2018-01-05T12:01:08.248175Z"
    },
    "collapsed": true
   },
   "outputs": [],
   "source": [
    "model_2 = Model(inputs=model_mobilenet_2.input, outputs=x)"
   ]
  },
  {
   "cell_type": "code",
   "execution_count": 17,
   "metadata": {
    "ExecuteTime": {
     "end_time": "2018-01-05T12:01:08.869416Z",
     "start_time": "2018-01-05T12:01:08.831894Z"
    }
   },
   "outputs": [
    {
     "name": "stdout",
     "output_type": "stream",
     "text": [
      "_________________________________________________________________\n",
      "Layer (type)                 Output Shape              Param #   \n",
      "=================================================================\n",
      "input_2 (InputLayer)         (None, 224, 224, 3)       0         \n",
      "_________________________________________________________________\n",
      "conv1 (Conv2D)               (None, 112, 112, 16)      432       \n",
      "_________________________________________________________________\n",
      "conv1_bn (BatchNormalization (None, 112, 112, 16)      64        \n",
      "_________________________________________________________________\n",
      "conv1_relu (Activation)      (None, 112, 112, 16)      0         \n",
      "_________________________________________________________________\n",
      "conv_dw_1 (DepthwiseConv2D)  (None, 112, 112, 16)      144       \n",
      "_________________________________________________________________\n",
      "conv_dw_1_bn (BatchNormaliza (None, 112, 112, 16)      64        \n",
      "_________________________________________________________________\n",
      "conv_dw_1_relu (Activation)  (None, 112, 112, 16)      0         \n",
      "_________________________________________________________________\n",
      "conv_pw_1 (Conv2D)           (None, 112, 112, 32)      512       \n",
      "_________________________________________________________________\n",
      "conv_pw_1_bn (BatchNormaliza (None, 112, 112, 32)      128       \n",
      "_________________________________________________________________\n",
      "conv_pw_1_relu (Activation)  (None, 112, 112, 32)      0         \n",
      "_________________________________________________________________\n",
      "conv_dw_2 (DepthwiseConv2D)  (None, 56, 56, 32)        288       \n",
      "_________________________________________________________________\n",
      "conv_dw_2_bn (BatchNormaliza (None, 56, 56, 32)        128       \n",
      "_________________________________________________________________\n",
      "conv_dw_2_relu (Activation)  (None, 56, 56, 32)        0         \n",
      "_________________________________________________________________\n",
      "conv_pw_2 (Conv2D)           (None, 56, 56, 64)        2048      \n",
      "_________________________________________________________________\n",
      "conv_pw_2_bn (BatchNormaliza (None, 56, 56, 64)        256       \n",
      "_________________________________________________________________\n",
      "conv_pw_2_relu (Activation)  (None, 56, 56, 64)        0         \n",
      "_________________________________________________________________\n",
      "conv_dw_3 (DepthwiseConv2D)  (None, 56, 56, 64)        576       \n",
      "_________________________________________________________________\n",
      "conv_dw_3_bn (BatchNormaliza (None, 56, 56, 64)        256       \n",
      "_________________________________________________________________\n",
      "conv_dw_3_relu (Activation)  (None, 56, 56, 64)        0         \n",
      "_________________________________________________________________\n",
      "conv_pw_3 (Conv2D)           (None, 56, 56, 64)        4096      \n",
      "_________________________________________________________________\n",
      "conv_pw_3_bn (BatchNormaliza (None, 56, 56, 64)        256       \n",
      "_________________________________________________________________\n",
      "conv_pw_3_relu (Activation)  (None, 56, 56, 64)        0         \n",
      "_________________________________________________________________\n",
      "conv_dw_4 (DepthwiseConv2D)  (None, 28, 28, 64)        576       \n",
      "_________________________________________________________________\n",
      "conv_dw_4_bn (BatchNormaliza (None, 28, 28, 64)        256       \n",
      "_________________________________________________________________\n",
      "conv_dw_4_relu (Activation)  (None, 28, 28, 64)        0         \n",
      "_________________________________________________________________\n",
      "conv_pw_4 (Conv2D)           (None, 28, 28, 128)       8192      \n",
      "_________________________________________________________________\n",
      "conv_pw_4_bn (BatchNormaliza (None, 28, 28, 128)       512       \n",
      "_________________________________________________________________\n",
      "conv_pw_4_relu (Activation)  (None, 28, 28, 128)       0         \n",
      "_________________________________________________________________\n",
      "conv_dw_5 (DepthwiseConv2D)  (None, 28, 28, 128)       1152      \n",
      "_________________________________________________________________\n",
      "conv_dw_5_bn (BatchNormaliza (None, 28, 28, 128)       512       \n",
      "_________________________________________________________________\n",
      "conv_dw_5_relu (Activation)  (None, 28, 28, 128)       0         \n",
      "_________________________________________________________________\n",
      "conv_pw_5 (Conv2D)           (None, 28, 28, 128)       16384     \n",
      "_________________________________________________________________\n",
      "conv_pw_5_bn (BatchNormaliza (None, 28, 28, 128)       512       \n",
      "_________________________________________________________________\n",
      "conv_pw_5_relu (Activation)  (None, 28, 28, 128)       0         \n",
      "_________________________________________________________________\n",
      "conv_dw_6 (DepthwiseConv2D)  (None, 14, 14, 128)       1152      \n",
      "_________________________________________________________________\n",
      "conv_dw_6_bn (BatchNormaliza (None, 14, 14, 128)       512       \n",
      "_________________________________________________________________\n",
      "conv_dw_6_relu (Activation)  (None, 14, 14, 128)       0         \n",
      "_________________________________________________________________\n",
      "conv_pw_6 (Conv2D)           (None, 14, 14, 256)       32768     \n",
      "_________________________________________________________________\n",
      "conv_pw_6_bn (BatchNormaliza (None, 14, 14, 256)       1024      \n",
      "_________________________________________________________________\n",
      "conv_pw_6_relu (Activation)  (None, 14, 14, 256)       0         \n",
      "_________________________________________________________________\n",
      "conv_dw_7 (DepthwiseConv2D)  (None, 14, 14, 256)       2304      \n",
      "_________________________________________________________________\n",
      "conv_dw_7_bn (BatchNormaliza (None, 14, 14, 256)       1024      \n",
      "_________________________________________________________________\n",
      "conv_dw_7_relu (Activation)  (None, 14, 14, 256)       0         \n",
      "_________________________________________________________________\n",
      "conv_pw_7 (Conv2D)           (None, 14, 14, 256)       65536     \n",
      "_________________________________________________________________\n",
      "conv_pw_7_bn (BatchNormaliza (None, 14, 14, 256)       1024      \n",
      "_________________________________________________________________\n",
      "conv_pw_7_relu (Activation)  (None, 14, 14, 256)       0         \n",
      "_________________________________________________________________\n",
      "conv_dw_8 (DepthwiseConv2D)  (None, 14, 14, 256)       2304      \n",
      "_________________________________________________________________\n",
      "conv_dw_8_bn (BatchNormaliza (None, 14, 14, 256)       1024      \n",
      "_________________________________________________________________\n",
      "conv_dw_8_relu (Activation)  (None, 14, 14, 256)       0         \n",
      "_________________________________________________________________\n",
      "conv_pw_8 (Conv2D)           (None, 14, 14, 256)       65536     \n",
      "_________________________________________________________________\n",
      "conv_pw_8_bn (BatchNormaliza (None, 14, 14, 256)       1024      \n",
      "_________________________________________________________________\n",
      "conv_pw_8_relu (Activation)  (None, 14, 14, 256)       0         \n",
      "_________________________________________________________________\n",
      "conv_dw_9 (DepthwiseConv2D)  (None, 14, 14, 256)       2304      \n",
      "_________________________________________________________________\n",
      "conv_dw_9_bn (BatchNormaliza (None, 14, 14, 256)       1024      \n",
      "_________________________________________________________________\n",
      "conv_dw_9_relu (Activation)  (None, 14, 14, 256)       0         \n",
      "_________________________________________________________________\n",
      "conv_pw_9 (Conv2D)           (None, 14, 14, 256)       65536     \n",
      "_________________________________________________________________\n",
      "conv_pw_9_bn (BatchNormaliza (None, 14, 14, 256)       1024      \n",
      "_________________________________________________________________\n",
      "conv_pw_9_relu (Activation)  (None, 14, 14, 256)       0         \n",
      "_________________________________________________________________\n",
      "conv_dw_10 (DepthwiseConv2D) (None, 14, 14, 256)       2304      \n",
      "_________________________________________________________________\n",
      "conv_dw_10_bn (BatchNormaliz (None, 14, 14, 256)       1024      \n",
      "_________________________________________________________________\n",
      "conv_dw_10_relu (Activation) (None, 14, 14, 256)       0         \n",
      "_________________________________________________________________\n",
      "conv_pw_10 (Conv2D)          (None, 14, 14, 256)       65536     \n",
      "_________________________________________________________________\n",
      "conv_pw_10_bn (BatchNormaliz (None, 14, 14, 256)       1024      \n",
      "_________________________________________________________________\n",
      "conv_pw_10_relu (Activation) (None, 14, 14, 256)       0         \n",
      "_________________________________________________________________\n",
      "conv_dw_11 (DepthwiseConv2D) (None, 14, 14, 256)       2304      \n",
      "_________________________________________________________________\n",
      "conv_dw_11_bn (BatchNormaliz (None, 14, 14, 256)       1024      \n",
      "_________________________________________________________________\n",
      "conv_dw_11_relu (Activation) (None, 14, 14, 256)       0         \n",
      "_________________________________________________________________\n",
      "conv_pw_11 (Conv2D)          (None, 14, 14, 256)       65536     \n",
      "_________________________________________________________________\n",
      "conv_pw_11_bn (BatchNormaliz (None, 14, 14, 256)       1024      \n",
      "_________________________________________________________________\n",
      "conv_pw_11_relu (Activation) (None, 14, 14, 256)       0         \n",
      "_________________________________________________________________\n",
      "conv_dw_12 (DepthwiseConv2D) (None, 7, 7, 256)         2304      \n",
      "_________________________________________________________________\n",
      "conv_dw_12_bn (BatchNormaliz (None, 7, 7, 256)         1024      \n",
      "_________________________________________________________________\n",
      "conv_dw_12_relu (Activation) (None, 7, 7, 256)         0         \n",
      "_________________________________________________________________\n",
      "conv_pw_12 (Conv2D)          (None, 7, 7, 512)         131072    \n",
      "_________________________________________________________________\n",
      "conv_pw_12_bn (BatchNormaliz (None, 7, 7, 512)         2048      \n",
      "_________________________________________________________________\n",
      "conv_pw_12_relu (Activation) (None, 7, 7, 512)         0         \n",
      "_________________________________________________________________\n",
      "conv_dw_13 (DepthwiseConv2D) (None, 7, 7, 512)         4608      \n",
      "_________________________________________________________________\n",
      "conv_dw_13_bn (BatchNormaliz (None, 7, 7, 512)         2048      \n",
      "_________________________________________________________________\n",
      "conv_dw_13_relu (Activation) (None, 7, 7, 512)         0         \n",
      "_________________________________________________________________\n",
      "conv_pw_13 (Conv2D)          (None, 7, 7, 512)         262144    \n",
      "_________________________________________________________________\n",
      "conv_pw_13_bn (BatchNormaliz (None, 7, 7, 512)         2048      \n",
      "_________________________________________________________________\n",
      "conv_pw_13_relu (Activation) (None, 7, 7, 512)         0         \n",
      "_________________________________________________________________\n",
      "dropout_3 (Dropout)          (None, 7, 7, 512)         0         \n",
      "_________________________________________________________________\n",
      "global_average_pooling2d_2 ( (None, 512)               0         \n",
      "_________________________________________________________________\n",
      "dense_3 (Dense)              (None, 256)               131328    \n",
      "_________________________________________________________________\n",
      "dropout_4 (Dropout)          (None, 256)               0         \n",
      "_________________________________________________________________\n",
      "dense_4 (Dense)              (None, 2)                 514       \n",
      "=================================================================\n",
      "Total params: 961,378\n",
      "Trainable params: 950,434\n",
      "Non-trainable params: 10,944\n",
      "_________________________________________________________________\n"
     ]
    }
   ],
   "source": [
    "model_2.summary()"
   ]
  },
  {
   "cell_type": "code",
   "execution_count": 18,
   "metadata": {
    "ExecuteTime": {
     "end_time": "2018-01-05T12:01:09.927577Z",
     "start_time": "2018-01-05T12:01:09.924910Z"
    },
    "collapsed": true
   },
   "outputs": [],
   "source": [
    "for layer in model_mobilenet_2.layers:\n",
    "    layer.trainable = False"
   ]
  },
  {
   "cell_type": "code",
   "execution_count": 19,
   "metadata": {
    "ExecuteTime": {
     "end_time": "2018-01-05T12:01:15.812372Z",
     "start_time": "2018-01-05T12:01:15.807856Z"
    },
    "collapsed": true
   },
   "outputs": [],
   "source": [
    "train_datagen_2 = ImageDataGenerator(rescale=1./255,\n",
    "                                   shear_range = 0.2,\n",
    "                                   rotation_range = 20,\n",
    "                                   height_shift_range=0.2,\n",
    "                                   width_shift_range=0.2,\n",
    "                                   zoom_range=0.2,\n",
    "                                   fill_mode='reflect',\n",
    "                                   horizontal_flip=True,\n",
    "                                   vertical_flip=True)\n",
    "validation_datagen_2 = ImageDataGenerator(rescale = 1./255)"
   ]
  },
  {
   "cell_type": "code",
   "execution_count": 20,
   "metadata": {
    "ExecuteTime": {
     "end_time": "2018-01-05T12:01:16.399813Z",
     "start_time": "2018-01-05T12:01:16.184757Z"
    }
   },
   "outputs": [
    {
     "name": "stdout",
     "output_type": "stream",
     "text": [
      "Found 739 images belonging to 2 classes.\n",
      "Found 178 images belonging to 2 classes.\n"
     ]
    }
   ],
   "source": [
    "train_generator_2 = train_datagen.flow_from_directory(\n",
    "                    'train_2',\n",
    "                    target_size=(image_size,image_size),\n",
    "                    batch_size=batch_size,\n",
    "                    class_mode='categorical',\n",
    "                    shuffle=True\n",
    "                    )\n",
    "validation_generator_2 = validation_datagen.flow_from_directory(\n",
    "                        'validation_2',\n",
    "                        target_size=(image_size,image_size),\n",
    "                        batch_size=batch_size,\n",
    "                        class_mode='categorical')"
   ]
  },
  {
   "cell_type": "code",
   "execution_count": 21,
   "metadata": {
    "ExecuteTime": {
     "end_time": "2018-01-05T12:01:16.534392Z",
     "start_time": "2018-01-05T12:01:16.501951Z"
    },
    "collapsed": true
   },
   "outputs": [],
   "source": [
    "model_2.compile(loss='categorical_crossentropy',\n",
    "             optimizer=RMSprop(lr=1e-6),\n",
    "             metrics=['accuracy'])"
   ]
  },
  {
   "cell_type": "code",
   "execution_count": 22,
   "metadata": {
    "ExecuteTime": {
     "end_time": "2018-01-05T12:01:16.854286Z",
     "start_time": "2018-01-05T12:01:16.842421Z"
    },
    "collapsed": true
   },
   "outputs": [],
   "source": [
    "callbacks = [ModelCheckpoint(filepath='10_mobilenet_from_scratch_save_best_model_2_v2.hdf5', verbose=1, save_best_only=True, save_weights_only=True),\n",
    "ReduceLROnPlateau(monitor='val_loss', factor=0.1, patience=5, verbose=1),\n",
    "EarlyStopping(monitor='val_loss', patience=10, verbose=1),\n",
    "CSVLogger('./10-metrics_model_2_v2.csv')]"
   ]
  },
  {
   "cell_type": "code",
   "execution_count": 23,
   "metadata": {
    "ExecuteTime": {
     "end_time": "2018-01-05T12:01:18.509357Z",
     "start_time": "2018-01-05T12:01:18.507159Z"
    },
    "collapsed": true
   },
   "outputs": [],
   "source": [
    "# loading weights from model_1 to model_2\n"
   ]
  },
  {
   "cell_type": "code",
   "execution_count": 24,
   "metadata": {
    "ExecuteTime": {
     "end_time": "2018-01-05T12:01:29.180546Z",
     "start_time": "2018-01-05T12:01:25.379403Z"
    },
    "collapsed": true
   },
   "outputs": [],
   "source": [
    "for i in range(len(model.layers)-2):\n",
    "    layer_1 = model.layers[i]\n",
    "    layer_2 = model_2.layers[i]\n",
    "    layer_2.set_weights(layer_1.get_weights())"
   ]
  },
  {
   "cell_type": "code",
   "execution_count": 25,
   "metadata": {
    "ExecuteTime": {
     "end_time": "2018-01-05T12:01:29.212558Z",
     "start_time": "2018-01-05T12:01:29.181860Z"
    }
   },
   "outputs": [
    {
     "data": {
      "text/plain": [
       "list"
      ]
     },
     "execution_count": 25,
     "metadata": {},
     "output_type": "execute_result"
    }
   ],
   "source": [
    "type(model.layers[-1].get_weights())"
   ]
  },
  {
   "cell_type": "code",
   "execution_count": 26,
   "metadata": {
    "ExecuteTime": {
     "end_time": "2018-01-05T12:01:29.302965Z",
     "start_time": "2018-01-05T12:01:29.214204Z"
    }
   },
   "outputs": [
    {
     "data": {
      "text/plain": [
       "(256, 2)"
      ]
     },
     "execution_count": 26,
     "metadata": {},
     "output_type": "execute_result"
    }
   ],
   "source": [
    "x = np.zeros((256,2))\n",
    "x.shape"
   ]
  },
  {
   "cell_type": "code",
   "execution_count": 27,
   "metadata": {
    "ExecuteTime": {
     "end_time": "2018-01-05T12:01:30.091595Z",
     "start_time": "2018-01-05T12:01:30.089181Z"
    },
    "collapsed": true
   },
   "outputs": [],
   "source": [
    "y = np.zeros(2)"
   ]
  },
  {
   "cell_type": "code",
   "execution_count": 28,
   "metadata": {
    "ExecuteTime": {
     "end_time": "2018-01-05T12:01:30.501265Z",
     "start_time": "2018-01-05T12:01:30.492520Z"
    },
    "collapsed": true
   },
   "outputs": [],
   "source": [
    "y[0]=model.layers[-1].get_weights()[1][0]\n",
    "y[1]=model.layers[-1].get_weights()[1][6]"
   ]
  },
  {
   "cell_type": "code",
   "execution_count": 29,
   "metadata": {
    "ExecuteTime": {
     "end_time": "2018-01-05T12:01:30.875199Z",
     "start_time": "2018-01-05T12:01:30.866041Z"
    },
    "collapsed": true
   },
   "outputs": [],
   "source": [
    "x[:,0]=model.layers[-1].get_weights()[0][:,0]\n",
    "x[:,1]=model.layers[-1].get_weights()[0][:,6]"
   ]
  },
  {
   "cell_type": "code",
   "execution_count": 30,
   "metadata": {
    "ExecuteTime": {
     "end_time": "2018-01-05T12:01:31.375028Z",
     "start_time": "2018-01-05T12:01:31.231286Z"
    },
    "collapsed": true
   },
   "outputs": [],
   "source": [
    "model_2.layers[-1].set_weights([x,y])"
   ]
  },
  {
   "cell_type": "code",
   "execution_count": 31,
   "metadata": {
    "ExecuteTime": {
     "end_time": "2018-01-05T12:01:36.334922Z",
     "start_time": "2018-01-05T12:01:31.635066Z"
    }
   },
   "outputs": [
    {
     "data": {
      "text/plain": [
       "[0.29111919443259077, 0.88202247057068217]"
      ]
     },
     "execution_count": 31,
     "metadata": {},
     "output_type": "execute_result"
    }
   ],
   "source": [
    "model_2.evaluate_generator(validation_generator_2, int(np.ceil(validation_total_2/batch_size_2)))"
   ]
  },
  {
   "cell_type": "code",
   "execution_count": 32,
   "metadata": {
    "ExecuteTime": {
     "end_time": "2018-01-05T12:01:47.404005Z",
     "start_time": "2018-01-05T12:01:47.289542Z"
    }
   },
   "outputs": [
    {
     "name": "stdout",
     "output_type": "stream",
     "text": [
      "Found 178 images belonging to 2 classes.\n"
     ]
    }
   ],
   "source": [
    "validation_generator_2 = validation_datagen.flow_from_directory(\n",
    "                        'validation_2',\n",
    "                        target_size=(image_size,image_size),\n",
    "                        batch_size=batch_size,\n",
    "                        class_mode='categorical',\n",
    "                        shuffle=False)"
   ]
  },
  {
   "cell_type": "code",
   "execution_count": 33,
   "metadata": {
    "ExecuteTime": {
     "end_time": "2018-01-05T12:01:52.195839Z",
     "start_time": "2018-01-05T12:01:47.676779Z"
    },
    "collapsed": true
   },
   "outputs": [],
   "source": [
    "predictions_valid_2 = model_2.predict_generator(validation_generator_2,int(np.ceil(validation_total_2/batch_size_2)))\n",
    "predictions_valid_2 = np.argmax(predictions_valid_2, axis=1)\n"
   ]
  },
  {
   "cell_type": "code",
   "execution_count": 34,
   "metadata": {
    "ExecuteTime": {
     "end_time": "2018-01-05T12:01:52.201290Z",
     "start_time": "2018-01-05T12:01:52.196966Z"
    }
   },
   "outputs": [
    {
     "data": {
      "text/plain": [
       "array([0, 0, 0, 0, 0, 0, 0, 0, 0, 0, 1, 0, 0, 0, 1, 0, 1, 1, 0, 0, 0, 0, 0,\n",
       "       0, 1, 1, 0, 0, 0, 0, 1, 0, 0, 0, 0, 0, 1, 0, 0, 0, 0, 0, 0, 0, 0, 1,\n",
       "       0, 1, 1, 1, 1, 1, 1, 1, 1, 1, 1, 1, 1, 0, 0, 1, 1, 0, 1, 1, 1, 1, 1,\n",
       "       1, 1, 1, 1, 1, 1, 1, 1, 1, 1, 1, 0, 1, 1, 1, 1, 1, 1, 0, 1, 1, 1, 1,\n",
       "       1, 1, 1, 1, 0, 1, 1, 1, 1, 1, 1, 1, 1, 1, 0, 1, 1, 1, 1, 1, 1, 1, 1,\n",
       "       1, 1, 1, 1, 0, 1, 1, 1, 1, 1, 1, 1, 0, 1, 1, 1, 1, 1, 1, 1, 1, 1, 1,\n",
       "       1, 1, 1, 1, 1, 1, 1, 1, 1, 1, 1, 1, 1, 1, 1, 1, 0, 1, 1, 1, 1, 1, 1,\n",
       "       1, 1, 1, 1, 1, 1, 1, 0, 1, 1, 1, 1, 1, 1, 1, 1, 0])"
      ]
     },
     "execution_count": 34,
     "metadata": {},
     "output_type": "execute_result"
    }
   ],
   "source": [
    "predictions_valid_2"
   ]
  },
  {
   "cell_type": "code",
   "execution_count": 35,
   "metadata": {
    "ExecuteTime": {
     "end_time": "2018-01-05T12:01:52.300254Z",
     "start_time": "2018-01-05T12:01:52.202872Z"
    },
    "collapsed": true
   },
   "outputs": [],
   "source": [
    "true_positive_2 = np.zeros(2)\n",
    "false_positive_2 = np.zeros(2)\n",
    "true_negative_2 = np.zeros(2)\n",
    "false_negative_2 = np.zeros(2)\n",
    "for i in range(len(predictions_valid_2)):\n",
    "    if(predictions_valid_2[i]==validation_generator_2.classes[i]):\n",
    "        true_positive_2[predictions_valid_2[i]] = true_positive_2[predictions_valid_2[i]] + 1\n",
    "    else:\n",
    "        false_positive_2[predictions_valid_2[i]] = false_positive_2[predictions_valid_2[i]] + 1\n",
    "        false_negative_2[validation_generator_2.classes[i]] = false_negative_2[validation_generator_2.classes[i]] +1"
   ]
  },
  {
   "cell_type": "code",
   "execution_count": 36,
   "metadata": {
    "ExecuteTime": {
     "end_time": "2018-01-05T12:01:52.435444Z",
     "start_time": "2018-01-05T12:01:52.302131Z"
    }
   },
   "outputs": [
    {
     "name": "stdout",
     "output_type": "stream",
     "text": [
      "true_positive_2\n",
      "[  38.  119.]\n",
      "false_positive_2\n",
      "[ 12.   9.]\n",
      "false_negative_2\n",
      "[  9.  12.]\n",
      "Total_2\n",
      "[  47.  131.]\n"
     ]
    }
   ],
   "source": [
    "print('true_positive_2')\n",
    "print(true_positive_2)\n",
    "print('false_positive_2')\n",
    "print(false_positive_2)\n",
    "print('false_negative_2')\n",
    "print(false_negative_2)\n",
    "print('Total_2')\n",
    "print(true_positive_2+false_negative_2)"
   ]
  },
  {
   "cell_type": "code",
   "execution_count": 90,
   "metadata": {
    "ExecuteTime": {
     "end_time": "2018-01-05T09:51:59.038572Z",
     "start_time": "2018-01-05T09:45:04.636564Z"
    },
    "collapsed": true
   },
   "outputs": [
    {
     "name": "stdout",
     "output_type": "stream",
     "text": [
      "Epoch 1/100\n",
      "Epoch 00000: val_loss improved from inf to 0.28540, saving model to 10_mobilenet_from_scratch_save_best_model_2_v2.hdf5\n",
      "22s - loss: 0.4319 - acc: 0.7880 - val_loss: 0.2854 - val_acc: 0.8764\n",
      "Epoch 2/100\n",
      "Epoch 00001: val_loss did not improve\n",
      "19s - loss: 0.4506 - acc: 0.8145 - val_loss: 0.3099 - val_acc: 0.8371\n",
      "Epoch 3/100\n",
      "Epoch 00002: val_loss did not improve\n",
      "18s - loss: 0.4557 - acc: 0.7998 - val_loss: 0.3705 - val_acc: 0.8258\n",
      "Epoch 4/100\n",
      "Epoch 00003: val_loss improved from 0.28540 to 0.28076, saving model to 10_mobilenet_from_scratch_save_best_model_2_v2.hdf5\n",
      "18s - loss: 0.3707 - acc: 0.8370 - val_loss: 0.2808 - val_acc: 0.8483\n",
      "Epoch 5/100\n",
      "Epoch 00004: val_loss did not improve\n",
      "16s - loss: 0.4008 - acc: 0.8409 - val_loss: 0.3493 - val_acc: 0.7978\n",
      "Epoch 6/100\n",
      "Epoch 00005: val_loss did not improve\n",
      "17s - loss: 0.3909 - acc: 0.8262 - val_loss: 0.3403 - val_acc: 0.8258\n",
      "Epoch 7/100\n",
      "Epoch 00006: val_loss did not improve\n",
      "19s - loss: 0.3730 - acc: 0.8213 - val_loss: 0.3506 - val_acc: 0.8371\n",
      "Epoch 8/100\n",
      "Epoch 00007: val_loss did not improve\n",
      "18s - loss: 0.4188 - acc: 0.8132 - val_loss: 0.3518 - val_acc: 0.8202\n",
      "Epoch 9/100\n",
      "Epoch 00008: val_loss did not improve\n",
      "17s - loss: 0.3728 - acc: 0.8357 - val_loss: 0.3050 - val_acc: 0.8539\n",
      "Epoch 10/100\n",
      "Epoch 00009: val_loss did not improve\n",
      "\n",
      "Epoch 00009: reducing learning rate to 9.999999974752428e-08.\n",
      "19s - loss: 0.4038 - acc: 0.8014 - val_loss: 0.3360 - val_acc: 0.8034\n",
      "Epoch 11/100\n",
      "Epoch 00010: val_loss improved from 0.28076 to 0.27477, saving model to 10_mobilenet_from_scratch_save_best_model_2_v2.hdf5\n",
      "17s - loss: 0.3887 - acc: 0.8383 - val_loss: 0.2748 - val_acc: 0.8652\n",
      "Epoch 12/100\n",
      "Epoch 00011: val_loss did not improve\n",
      "17s - loss: 0.3799 - acc: 0.8461 - val_loss: 0.3895 - val_acc: 0.8090\n",
      "Epoch 13/100\n",
      "Epoch 00012: val_loss did not improve\n",
      "19s - loss: 0.3375 - acc: 0.8722 - val_loss: 0.3532 - val_acc: 0.8371\n",
      "Epoch 14/100\n",
      "Epoch 00013: val_loss did not improve\n",
      "19s - loss: 0.3747 - acc: 0.8383 - val_loss: 0.3682 - val_acc: 0.8371\n",
      "Epoch 15/100\n",
      "Epoch 00014: val_loss did not improve\n",
      "19s - loss: 0.3678 - acc: 0.8422 - val_loss: 0.3374 - val_acc: 0.8427\n",
      "Epoch 16/100\n",
      "Epoch 00015: val_loss did not improve\n",
      "18s - loss: 0.3578 - acc: 0.8327 - val_loss: 0.3175 - val_acc: 0.8427\n",
      "Epoch 17/100\n",
      "Epoch 00016: val_loss did not improve\n",
      "\n",
      "Epoch 00016: reducing learning rate to 1.0000000116860975e-08.\n",
      "19s - loss: 0.3769 - acc: 0.8435 - val_loss: 0.4173 - val_acc: 0.8202\n",
      "Epoch 18/100\n",
      "Epoch 00017: val_loss did not improve\n",
      "18s - loss: 0.3883 - acc: 0.8379 - val_loss: 0.3533 - val_acc: 0.8371\n",
      "Epoch 19/100\n",
      "Epoch 00018: val_loss did not improve\n",
      "19s - loss: 0.3748 - acc: 0.8340 - val_loss: 0.3577 - val_acc: 0.8371\n",
      "Epoch 20/100\n",
      "Epoch 00019: val_loss did not improve\n",
      "18s - loss: 0.3572 - acc: 0.8500 - val_loss: 0.3689 - val_acc: 0.8315\n",
      "Epoch 21/100\n",
      "Epoch 00020: val_loss did not improve\n",
      "17s - loss: 0.3481 - acc: 0.8340 - val_loss: 0.3717 - val_acc: 0.8483\n",
      "Epoch 22/100\n",
      "Epoch 00021: val_loss did not improve\n",
      "\n",
      "Epoch 00021: reducing learning rate to 9.999999939225292e-10.\n",
      "19s - loss: 0.3838 - acc: 0.8314 - val_loss: 0.3645 - val_acc: 0.8202\n",
      "Epoch 00021: early stopping\n"
     ]
    }
   ],
   "source": [
    "history_2 = model_2.fit_generator(\n",
    "                    train_generator_2,\n",
    "                    steps_per_epoch = int(np.ceil(train_total_2/batch_size_2)),\n",
    "                    epochs=100,\n",
    "                    validation_data=validation_generator_2,\n",
    "                    validation_steps= int(np.ceil(validation_total_2/batch_size_2)),\n",
    "                    verbose=2,\n",
    "                    callbacks=callbacks)"
   ]
  },
  {
   "cell_type": "code",
   "execution_count": 95,
   "metadata": {
    "ExecuteTime": {
     "end_time": "2018-01-05T10:06:10.953958Z",
     "start_time": "2018-01-05T10:06:10.891198Z"
    },
    "collapsed": true
   },
   "outputs": [],
   "source": [
    "model_2.load_weights('10_mobilenet_from_scratch_save_best_model_2_v2.hdf5')"
   ]
  },
  {
   "cell_type": "code",
   "execution_count": 96,
   "metadata": {
    "ExecuteTime": {
     "end_time": "2018-01-05T10:06:15.893904Z",
     "start_time": "2018-01-05T10:06:15.873627Z"
    },
    "collapsed": true
   },
   "outputs": [],
   "source": [
    "model_2.compile(loss='categorical_crossentropy',\n",
    "             optimizer=RMSprop(lr=1e-4),\n",
    "             metrics=['accuracy'])"
   ]
  },
  {
   "cell_type": "code",
   "execution_count": 97,
   "metadata": {
    "ExecuteTime": {
     "end_time": "2018-01-05T10:17:43.523620Z",
     "start_time": "2018-01-05T10:06:16.793583Z"
    }
   },
   "outputs": [
    {
     "name": "stdout",
     "output_type": "stream",
     "text": [
      "Epoch 1/100\n",
      "Epoch 00000: val_loss did not improve\n",
      "21s - loss: 0.3105 - acc: 0.8787 - val_loss: 0.3154 - val_acc: 0.8820\n",
      "Epoch 2/100\n",
      "Epoch 00001: val_loss improved from 0.24675 to 0.23316, saving model to 10_mobilenet_from_scratch_save_best_model_2_v2.hdf5\n",
      "21s - loss: 0.3080 - acc: 0.8771 - val_loss: 0.2332 - val_acc: 0.8933\n",
      "Epoch 3/100\n",
      "Epoch 00002: val_loss did not improve\n",
      "15s - loss: 0.3026 - acc: 0.8745 - val_loss: 0.2804 - val_acc: 0.8764\n",
      "Epoch 4/100\n",
      "Epoch 00003: val_loss did not improve\n",
      "17s - loss: 0.2705 - acc: 0.8865 - val_loss: 0.2830 - val_acc: 0.8933\n",
      "Epoch 5/100\n",
      "Epoch 00004: val_loss did not improve\n",
      "15s - loss: 0.4147 - acc: 0.8425 - val_loss: 0.2850 - val_acc: 0.8876\n",
      "Epoch 6/100\n",
      "Epoch 00005: val_loss did not improve\n",
      "17s - loss: 0.2910 - acc: 0.8732 - val_loss: 0.2808 - val_acc: 0.8820\n",
      "Epoch 7/100\n",
      "Epoch 00006: val_loss did not improve\n",
      "16s - loss: 0.2714 - acc: 0.8797 - val_loss: 0.3314 - val_acc: 0.8820\n",
      "Epoch 8/100\n",
      "Epoch 00007: val_loss improved from 0.23316 to 0.19558, saving model to 10_mobilenet_from_scratch_save_best_model_2_v2.hdf5\n",
      "17s - loss: 0.3188 - acc: 0.8823 - val_loss: 0.1956 - val_acc: 0.8989\n",
      "Epoch 9/100\n",
      "Epoch 00008: val_loss did not improve\n",
      "16s - loss: 0.2305 - acc: 0.9048 - val_loss: 0.2827 - val_acc: 0.8764\n",
      "Epoch 10/100\n",
      "Epoch 00009: val_loss did not improve\n",
      "15s - loss: 0.3679 - acc: 0.8493 - val_loss: 0.2644 - val_acc: 0.8876\n",
      "Epoch 11/100\n",
      "Epoch 00010: val_loss did not improve\n",
      "16s - loss: 0.2352 - acc: 0.9061 - val_loss: 0.2454 - val_acc: 0.8989\n",
      "Epoch 12/100\n",
      "Epoch 00011: val_loss improved from 0.19558 to 0.19454, saving model to 10_mobilenet_from_scratch_save_best_model_2_v2.hdf5\n",
      "21s - loss: 0.2701 - acc: 0.8780 - val_loss: 0.1945 - val_acc: 0.9213\n",
      "Epoch 13/100\n",
      "Epoch 00012: val_loss did not improve\n",
      "21s - loss: 0.2431 - acc: 0.8891 - val_loss: 0.3135 - val_acc: 0.8764\n",
      "Epoch 14/100\n",
      "Epoch 00013: val_loss did not improve\n",
      "21s - loss: 0.2831 - acc: 0.8771 - val_loss: 0.2300 - val_acc: 0.9045\n",
      "Epoch 15/100\n",
      "Epoch 00014: val_loss did not improve\n",
      "20s - loss: 0.2383 - acc: 0.9005 - val_loss: 0.2362 - val_acc: 0.9101\n",
      "Epoch 16/100\n",
      "Epoch 00015: val_loss did not improve\n",
      "23s - loss: 0.2315 - acc: 0.9061 - val_loss: 0.2641 - val_acc: 0.9045\n",
      "Epoch 17/100\n",
      "Epoch 00016: val_loss did not improve\n",
      "20s - loss: 0.2243 - acc: 0.9074 - val_loss: 0.2383 - val_acc: 0.9101\n",
      "Epoch 18/100\n",
      "Epoch 00017: val_loss did not improve\n",
      "\n",
      "Epoch 00017: reducing learning rate to 9.999999747378752e-06.\n",
      "20s - loss: 0.2604 - acc: 0.8924 - val_loss: 0.2406 - val_acc: 0.9101\n",
      "Epoch 19/100\n",
      "Epoch 00018: val_loss did not improve\n",
      "21s - loss: 0.2151 - acc: 0.9097 - val_loss: 0.3351 - val_acc: 0.8764\n",
      "Epoch 20/100\n",
      "Epoch 00019: val_loss did not improve\n",
      "21s - loss: 0.2749 - acc: 0.8784 - val_loss: 0.3121 - val_acc: 0.8539\n",
      "Epoch 21/100\n",
      "Epoch 00020: val_loss did not improve\n",
      "20s - loss: 0.3030 - acc: 0.8823 - val_loss: 0.2252 - val_acc: 0.9157\n",
      "Epoch 22/100\n",
      "Epoch 00021: val_loss did not improve\n",
      "22s - loss: 0.2405 - acc: 0.9005 - val_loss: 0.2638 - val_acc: 0.8933\n",
      "Epoch 23/100\n",
      "Epoch 00022: val_loss improved from 0.19454 to 0.19344, saving model to 10_mobilenet_from_scratch_save_best_model_2_v2.hdf5\n",
      "20s - loss: 0.2600 - acc: 0.8810 - val_loss: 0.1934 - val_acc: 0.9157\n",
      "Epoch 24/100\n",
      "Epoch 00023: val_loss did not improve\n",
      "23s - loss: 0.2717 - acc: 0.8732 - val_loss: 0.2788 - val_acc: 0.8876\n",
      "Epoch 25/100\n",
      "Epoch 00024: val_loss did not improve\n",
      "19s - loss: 0.2239 - acc: 0.9031 - val_loss: 0.3066 - val_acc: 0.8989\n",
      "Epoch 26/100\n",
      "Epoch 00025: val_loss did not improve\n",
      "22s - loss: 0.2490 - acc: 0.8957 - val_loss: 0.2991 - val_acc: 0.8652\n",
      "Epoch 27/100\n",
      "Epoch 00026: val_loss did not improve\n",
      "22s - loss: 0.2283 - acc: 0.8953 - val_loss: 0.2312 - val_acc: 0.8876\n",
      "Epoch 28/100\n",
      "Epoch 00027: val_loss did not improve\n",
      "21s - loss: 0.2626 - acc: 0.8940 - val_loss: 0.2622 - val_acc: 0.8933\n",
      "Epoch 29/100\n",
      "Epoch 00028: val_loss did not improve\n",
      "\n",
      "Epoch 00028: reducing learning rate to 9.999999747378752e-07.\n",
      "22s - loss: 0.2237 - acc: 0.9152 - val_loss: 0.2385 - val_acc: 0.9101\n",
      "Epoch 30/100\n",
      "Epoch 00029: val_loss did not improve\n",
      "20s - loss: 0.2350 - acc: 0.9139 - val_loss: 0.2469 - val_acc: 0.8989\n",
      "Epoch 31/100\n",
      "Epoch 00030: val_loss did not improve\n",
      "22s - loss: 0.2087 - acc: 0.9191 - val_loss: 0.2504 - val_acc: 0.9045\n",
      "Epoch 32/100\n",
      "Epoch 00031: val_loss did not improve\n",
      "21s - loss: 0.2465 - acc: 0.8996 - val_loss: 0.3115 - val_acc: 0.8596\n",
      "Epoch 33/100\n",
      "Epoch 00032: val_loss did not improve\n",
      "21s - loss: 0.1989 - acc: 0.9283 - val_loss: 0.2423 - val_acc: 0.9045\n",
      "Epoch 34/100\n",
      "Epoch 00033: val_loss did not improve\n",
      "\n",
      "Epoch 00033: reducing learning rate to 9.999999974752428e-08.\n",
      "21s - loss: 0.3176 - acc: 0.8705 - val_loss: 0.2618 - val_acc: 0.8933\n",
      "Epoch 00033: early stopping\n"
     ]
    }
   ],
   "source": [
    "history_2 = model_2.fit_generator(\n",
    "                    train_generator_2,\n",
    "                    steps_per_epoch = int(np.ceil(train_total_2/batch_size_2)),\n",
    "                    epochs=100,\n",
    "                    validation_data=validation_generator_2,\n",
    "                    validation_steps= int(np.ceil(validation_total_2/batch_size_2)),\n",
    "                    verbose=2,\n",
    "                    callbacks=callbacks)"
   ]
  },
  {
   "cell_type": "code",
   "execution_count": 98,
   "metadata": {
    "ExecuteTime": {
     "end_time": "2018-01-05T10:18:38.378216Z",
     "start_time": "2018-01-05T10:18:38.365502Z"
    },
    "collapsed": true
   },
   "outputs": [],
   "source": [
    "callbacks = [ModelCheckpoint(filepath='10_mobilenet_from_scratch_save_best_model_2_v2_temp.hdf5', verbose=1, save_best_only=True, save_weights_only=True),\n",
    "ReduceLROnPlateau(monitor='val_loss', factor=0.1, patience=5, verbose=1),\n",
    "EarlyStopping(monitor='val_loss', patience=10, verbose=1),\n",
    "CSVLogger('./10-metrics_model_2_v2.csv')]"
   ]
  },
  {
   "cell_type": "code",
   "execution_count": 99,
   "metadata": {
    "ExecuteTime": {
     "end_time": "2018-01-05T10:18:58.465971Z",
     "start_time": "2018-01-05T10:18:58.403041Z"
    },
    "collapsed": true
   },
   "outputs": [],
   "source": [
    "model_2.load_weights('10_mobilenet_from_scratch_save_best_model_2_v2.hdf5')"
   ]
  },
  {
   "cell_type": "code",
   "execution_count": 100,
   "metadata": {
    "ExecuteTime": {
     "end_time": "2018-01-05T10:19:12.569337Z",
     "start_time": "2018-01-05T10:19:12.542966Z"
    },
    "collapsed": true
   },
   "outputs": [],
   "source": [
    "model_2.compile(loss='categorical_crossentropy',\n",
    "             optimizer=RMSprop(lr=1e-5),\n",
    "             metrics=['accuracy'])"
   ]
  },
  {
   "cell_type": "code",
   "execution_count": 101,
   "metadata": {
    "ExecuteTime": {
     "end_time": "2018-01-05T10:28:16.961942Z",
     "start_time": "2018-01-05T10:19:27.127326Z"
    },
    "collapsed": true
   },
   "outputs": [
    {
     "name": "stdout",
     "output_type": "stream",
     "text": [
      "Epoch 1/100\n",
      "Epoch 00000: val_loss improved from inf to 0.28032, saving model to 10_mobilenet_from_scratch_save_best_model_2_v2_temp.hdf5\n",
      "24s - loss: 0.2570 - acc: 0.9087 - val_loss: 0.2803 - val_acc: 0.8764\n",
      "Epoch 2/100\n",
      "Epoch 00001: val_loss improved from 0.28032 to 0.22758, saving model to 10_mobilenet_from_scratch_save_best_model_2_v2_temp.hdf5\n",
      "23s - loss: 0.2004 - acc: 0.9191 - val_loss: 0.2276 - val_acc: 0.9270\n",
      "Epoch 3/100\n",
      "Epoch 00002: val_loss improved from 0.22758 to 0.19548, saving model to 10_mobilenet_from_scratch_save_best_model_2_v2_temp.hdf5\n",
      "22s - loss: 0.2401 - acc: 0.8970 - val_loss: 0.1955 - val_acc: 0.9101\n",
      "Epoch 4/100\n",
      "Epoch 00003: val_loss did not improve\n",
      "21s - loss: 0.2041 - acc: 0.9087 - val_loss: 0.2615 - val_acc: 0.9045\n",
      "Epoch 5/100\n",
      "Epoch 00004: val_loss did not improve\n",
      "20s - loss: 0.2867 - acc: 0.8862 - val_loss: 0.2840 - val_acc: 0.8820\n",
      "Epoch 6/100\n",
      "Epoch 00005: val_loss did not improve\n",
      "21s - loss: 0.2385 - acc: 0.8953 - val_loss: 0.2637 - val_acc: 0.8933\n",
      "Epoch 7/100\n",
      "Epoch 00006: val_loss did not improve\n",
      "22s - loss: 0.2254 - acc: 0.9074 - val_loss: 0.2607 - val_acc: 0.8876\n",
      "Epoch 8/100\n",
      "Epoch 00007: val_loss did not improve\n",
      "21s - loss: 0.2717 - acc: 0.8823 - val_loss: 0.3002 - val_acc: 0.8764\n",
      "Epoch 9/100\n",
      "Epoch 00008: val_loss did not improve\n",
      "\n",
      "Epoch 00008: reducing learning rate to 9.999999747378752e-07.\n",
      "22s - loss: 0.1926 - acc: 0.9244 - val_loss: 0.2353 - val_acc: 0.9101\n",
      "Epoch 10/100\n",
      "Epoch 00009: val_loss did not improve\n",
      "20s - loss: 0.2381 - acc: 0.9100 - val_loss: 0.2545 - val_acc: 0.9045\n",
      "Epoch 11/100\n",
      "Epoch 00010: val_loss did not improve\n",
      "21s - loss: 0.2784 - acc: 0.8806 - val_loss: 0.2780 - val_acc: 0.8933\n",
      "Epoch 12/100\n",
      "Epoch 00011: val_loss did not improve\n",
      "22s - loss: 0.2699 - acc: 0.8728 - val_loss: 0.2614 - val_acc: 0.8933\n",
      "Epoch 13/100\n",
      "Epoch 00012: val_loss improved from 0.19548 to 0.18462, saving model to 10_mobilenet_from_scratch_save_best_model_2_v2_temp.hdf5\n",
      "20s - loss: 0.2105 - acc: 0.9126 - val_loss: 0.1846 - val_acc: 0.9101\n",
      "Epoch 14/100\n",
      "Epoch 00013: val_loss did not improve\n",
      "22s - loss: 0.2427 - acc: 0.9035 - val_loss: 0.3107 - val_acc: 0.8708\n",
      "Epoch 15/100\n",
      "Epoch 00014: val_loss did not improve\n",
      "22s - loss: 0.2280 - acc: 0.9074 - val_loss: 0.2011 - val_acc: 0.9101\n",
      "Epoch 16/100\n",
      "Epoch 00015: val_loss did not improve\n",
      "21s - loss: 0.2331 - acc: 0.9165 - val_loss: 0.2366 - val_acc: 0.9045\n",
      "Epoch 17/100\n",
      "Epoch 00016: val_loss did not improve\n",
      "20s - loss: 0.2501 - acc: 0.9035 - val_loss: 0.2851 - val_acc: 0.8933\n",
      "Epoch 18/100\n",
      "Epoch 00017: val_loss did not improve\n",
      "23s - loss: 0.2225 - acc: 0.9087 - val_loss: 0.2611 - val_acc: 0.8933\n",
      "Epoch 19/100\n",
      "Epoch 00018: val_loss did not improve\n",
      "\n",
      "Epoch 00018: reducing learning rate to 9.999999974752428e-08.\n",
      "21s - loss: 0.2445 - acc: 0.9074 - val_loss: 0.2991 - val_acc: 0.8764\n",
      "Epoch 20/100\n",
      "Epoch 00019: val_loss did not improve\n",
      "22s - loss: 0.2827 - acc: 0.8819 - val_loss: 0.2940 - val_acc: 0.8933\n",
      "Epoch 21/100\n",
      "Epoch 00020: val_loss did not improve\n",
      "22s - loss: 0.2335 - acc: 0.9022 - val_loss: 0.2723 - val_acc: 0.8764\n",
      "Epoch 22/100\n",
      "Epoch 00021: val_loss did not improve\n",
      "20s - loss: 0.2845 - acc: 0.8793 - val_loss: 0.2750 - val_acc: 0.8876\n",
      "Epoch 23/100\n",
      "Epoch 00022: val_loss did not improve\n",
      "22s - loss: 0.2442 - acc: 0.8996 - val_loss: 0.2574 - val_acc: 0.8933\n",
      "Epoch 24/100\n",
      "Epoch 00023: val_loss did not improve\n",
      "\n",
      "Epoch 00023: reducing learning rate to 1.0000000116860975e-08.\n",
      "23s - loss: 0.2255 - acc: 0.9035 - val_loss: 0.2607 - val_acc: 0.8933\n",
      "Epoch 00023: early stopping\n"
     ]
    }
   ],
   "source": [
    "history_2 = model_2.fit_generator(\n",
    "                    train_generator_2,\n",
    "                    steps_per_epoch = int(np.ceil(train_total_2/batch_size_2)),\n",
    "                    epochs=100,\n",
    "                    validation_data=validation_generator_2,\n",
    "                    validation_steps= int(np.ceil(validation_total_2/batch_size_2)),\n",
    "                    verbose=2,\n",
    "                    callbacks=callbacks)"
   ]
  },
  {
   "cell_type": "code",
   "execution_count": 37,
   "metadata": {
    "ExecuteTime": {
     "end_time": "2018-01-05T12:02:08.680347Z",
     "start_time": "2018-01-05T12:02:08.248652Z"
    },
    "collapsed": true
   },
   "outputs": [],
   "source": [
    "model_2.load_weights('10_mobilenet_from_scratch_save_best_model_2_v2_temp.hdf5')"
   ]
  },
  {
   "cell_type": "code",
   "execution_count": 38,
   "metadata": {
    "ExecuteTime": {
     "end_time": "2018-01-05T12:02:13.557038Z",
     "start_time": "2018-01-05T12:02:08.681656Z"
    }
   },
   "outputs": [
    {
     "data": {
      "text/plain": [
       "[0.26208385255899325, 0.89325842428743174]"
      ]
     },
     "execution_count": 38,
     "metadata": {},
     "output_type": "execute_result"
    }
   ],
   "source": [
    "model_2.evaluate_generator(validation_generator_2, int(np.ceil(validation_total_2/batch_size_2)))"
   ]
  },
  {
   "cell_type": "code",
   "execution_count": 39,
   "metadata": {
    "ExecuteTime": {
     "end_time": "2018-01-05T12:02:16.517117Z",
     "start_time": "2018-01-05T12:02:16.408145Z"
    }
   },
   "outputs": [
    {
     "name": "stdout",
     "output_type": "stream",
     "text": [
      "Found 178 images belonging to 2 classes.\n"
     ]
    }
   ],
   "source": [
    "validation_generator_2 = validation_datagen.flow_from_directory(\n",
    "                        'validation_2',\n",
    "                        target_size=(image_size,image_size),\n",
    "                        batch_size=batch_size,\n",
    "                        class_mode='categorical',\n",
    "                        shuffle=False)"
   ]
  },
  {
   "cell_type": "code",
   "execution_count": 40,
   "metadata": {
    "ExecuteTime": {
     "end_time": "2018-01-05T12:02:21.126781Z",
     "start_time": "2018-01-05T12:02:16.743867Z"
    },
    "collapsed": true
   },
   "outputs": [],
   "source": [
    "predictions_valid_2_values = model_2.predict_generator(validation_generator_2,int(np.ceil(validation_total_2/batch_size_2)))\n",
    "predictions_valid_2 = np.argmax(predictions_valid_2_values, axis=1)\n"
   ]
  },
  {
   "cell_type": "code",
   "execution_count": 41,
   "metadata": {
    "ExecuteTime": {
     "end_time": "2018-01-05T12:02:21.139685Z",
     "start_time": "2018-01-05T12:02:21.128862Z"
    },
    "collapsed": true
   },
   "outputs": [],
   "source": [
    "true_positive_2 = np.zeros(2)\n",
    "false_positive_2 = np.zeros(2)\n",
    "true_negative_2 = np.zeros(2)\n",
    "false_negative_2 = np.zeros(2)\n",
    "for i in range(len(predictions_valid_2)):\n",
    "    if(predictions_valid_2[i]==validation_generator_2.classes[i]):\n",
    "        true_positive_2[predictions_valid_2[i]] = true_positive_2[predictions_valid_2[i]] + 1\n",
    "    else:\n",
    "        false_positive_2[predictions_valid_2[i]] = false_positive_2[predictions_valid_2[i]] + 1\n",
    "        false_negative_2[validation_generator_2.classes[i]] = false_negative_2[validation_generator_2.classes[i]] +1"
   ]
  },
  {
   "cell_type": "code",
   "execution_count": 42,
   "metadata": {
    "ExecuteTime": {
     "end_time": "2018-01-05T12:02:21.257074Z",
     "start_time": "2018-01-05T12:02:21.142474Z"
    }
   },
   "outputs": [
    {
     "name": "stdout",
     "output_type": "stream",
     "text": [
      "true_positive_2\n",
      "[  34.  125.]\n",
      "false_positive_2\n",
      "[  6.  13.]\n",
      "false_negative_2\n",
      "[ 13.   6.]\n",
      "Total_2\n",
      "[  47.  131.]\n"
     ]
    }
   ],
   "source": [
    "print('true_positive_2')\n",
    "print(true_positive_2)\n",
    "print('false_positive_2')\n",
    "print(false_positive_2)\n",
    "print('false_negative_2')\n",
    "print(false_negative_2)\n",
    "print('Total_2')\n",
    "print(true_positive_2+false_negative_2)"
   ]
  },
  {
   "cell_type": "code",
   "execution_count": 43,
   "metadata": {
    "ExecuteTime": {
     "end_time": "2018-01-05T12:02:23.365144Z",
     "start_time": "2018-01-05T12:02:23.257033Z"
    }
   },
   "outputs": [
    {
     "name": "stdout",
     "output_type": "stream",
     "text": [
      "Found 794 images belonging to 1 classes.\n"
     ]
    }
   ],
   "source": [
    "test_datagen = ImageDataGenerator(rescale = 1./255)\n",
    "test_generator = test_datagen.flow_from_directory(\n",
    "                    'test',\n",
    "                    shuffle=False,\n",
    "                    target_size=(image_size,image_size),\n",
    "                    batch_size=batch_size,\n",
    "                    class_mode=None)\n"
   ]
  },
  {
   "cell_type": "code",
   "execution_count": 44,
   "metadata": {
    "ExecuteTime": {
     "end_time": "2018-01-05T12:02:27.508469Z",
     "start_time": "2018-01-05T12:02:23.626490Z"
    },
    "collapsed": true
   },
   "outputs": [],
   "source": [
    "predictions = model.predict_generator(test_generator,int(np.ceil(794/batch_size)))\n",
    "class_ids = {train_generator.class_indices[x]: x for x in train_generator.class_indices}\n",
    "predicted_classes = [class_ids[x] for x in np.argmax(predictions, axis=1)]\n"
   ]
  },
  {
   "cell_type": "code",
   "execution_count": 47,
   "metadata": {
    "ExecuteTime": {
     "end_time": "2018-01-05T12:02:29.165522Z",
     "start_time": "2018-01-05T12:02:29.102171Z"
    },
    "collapsed": true
   },
   "outputs": [],
   "source": [
    "indexes = []\n",
    "for i in range(len(np.argmax(predictions, axis=1))):\n",
    "    if((np.argmax(predictions, axis=1)[i]==0) or (np.argmax(predictions, axis=1)[i]==6)):\n",
    "        indexes.append(i)"
   ]
  },
  {
   "cell_type": "code",
   "execution_count": 48,
   "metadata": {
    "ExecuteTime": {
     "end_time": "2018-01-05T12:02:29.650876Z",
     "start_time": "2018-01-05T12:02:29.540194Z"
    }
   },
   "outputs": [
    {
     "name": "stdout",
     "output_type": "stream",
     "text": [
      "Found 794 images belonging to 1 classes.\n"
     ]
    }
   ],
   "source": [
    "test_datagen = ImageDataGenerator(rescale = 1./255)\n",
    "test_generator = test_datagen.flow_from_directory(\n",
    "                    'test',\n",
    "                    shuffle=False,\n",
    "                    target_size=(image_size,image_size),\n",
    "                    batch_size=batch_size,\n",
    "                    class_mode=None)\n"
   ]
  },
  {
   "cell_type": "code",
   "execution_count": 49,
   "metadata": {
    "ExecuteTime": {
     "end_time": "2018-01-05T12:02:33.494513Z",
     "start_time": "2018-01-05T12:02:30.019500Z"
    },
    "collapsed": true
   },
   "outputs": [],
   "source": [
    "predictions_2 = model_2.predict_generator(test_generator,int(np.ceil(794/batch_size)))\n",
    "class_ids_2 = {train_generator_2.class_indices[x]: x for x in train_generator_2.class_indices}\n",
    "predicted_classes_2 = [class_ids_2[x] for x in np.argmax(predictions_2, axis=1)]\n"
   ]
  },
  {
   "cell_type": "code",
   "execution_count": 50,
   "metadata": {
    "ExecuteTime": {
     "end_time": "2018-01-05T12:02:33.498747Z",
     "start_time": "2018-01-05T12:02:33.495787Z"
    },
    "collapsed": true
   },
   "outputs": [],
   "source": [
    "for i in range(len(indexes)):\n",
    "    predicted_classes[indexes[i]] = predicted_classes_2[indexes[i]]"
   ]
  },
  {
   "cell_type": "code",
   "execution_count": 54,
   "metadata": {
    "ExecuteTime": {
     "end_time": "2018-01-05T12:02:41.562003Z",
     "start_time": "2018-01-05T12:02:41.555051Z"
    },
    "collapsed": true
   },
   "outputs": [],
   "source": [
    "from os.path import basename\n",
    "test_ids = [basename(x) for x in test_generator.filenames]\n",
    "submission = pd.DataFrame({'file':test_ids,'species':predicted_classes})\n",
    "submission.to_csv('submission_mobilenet_two_models_v2.csv', encoding=\"utf8\", index=False)"
   ]
  },
  {
   "cell_type": "code",
   "execution_count": 55,
   "metadata": {
    "ExecuteTime": {
     "end_time": "2018-01-05T12:02:42.016692Z",
     "start_time": "2018-01-05T12:02:42.009385Z"
    }
   },
   "outputs": [
    {
     "data": {
      "text/html": [
       "<a href='submission_mobilenet_two_models.csv' target='_blank'>submission_mobilenet_two_models.csv</a><br>"
      ],
      "text/plain": [
       "/home/janardhan/plant_seeding/submission_mobilenet_two_models.csv"
      ]
     },
     "execution_count": 55,
     "metadata": {},
     "output_type": "execute_result"
    }
   ],
   "source": [
    "from IPython.display import FileLink\n",
    "FileLink('submission_mobilenet_two_models_v2.csv')"
   ]
  },
  {
   "cell_type": "code",
   "execution_count": null,
   "metadata": {
    "collapsed": true
   },
   "outputs": [],
   "source": [
    "#0.90680, need to submit again for correct results"
   ]
  }
 ],
 "metadata": {
  "kernelspec": {
   "display_name": "Python 3",
   "language": "python",
   "name": "python3"
  },
  "language_info": {
   "codemirror_mode": {
    "name": "ipython",
    "version": 3
   },
   "file_extension": ".py",
   "mimetype": "text/x-python",
   "name": "python",
   "nbconvert_exporter": "python",
   "pygments_lexer": "ipython3",
   "version": "3.5.4"
  },
  "toc": {
   "nav_menu": {},
   "number_sections": true,
   "sideBar": true,
   "skip_h1_title": false,
   "toc_cell": false,
   "toc_position": {},
   "toc_section_display": "block",
   "toc_window_display": false
  }
 },
 "nbformat": 4,
 "nbformat_minor": 2
}
