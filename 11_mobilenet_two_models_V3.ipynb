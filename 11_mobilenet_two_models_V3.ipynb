{
 "cells": [
  {
   "cell_type": "code",
   "execution_count": 1,
   "metadata": {
    "ExecuteTime": {
     "end_time": "2018-01-05T12:12:15.476858Z",
     "start_time": "2018-01-05T12:12:14.218364Z"
    },
    "collapsed": true
   },
   "outputs": [],
   "source": [
    "from tensorflow.python.keras.preprocessing.image import ImageDataGenerator\n",
    "from tensorflow.python.keras.models import Sequential, Model\n",
    "from tensorflow.python.keras.layers import Dropout, Flatten, Dense, Input\n",
    "from tensorflow.python.keras import applications\n",
    "from tensorflow.python.keras.layers import AveragePooling2D, GlobalAveragePooling2D\n",
    "from tensorflow.python.keras.callbacks import ModelCheckpoint, ReduceLROnPlateau, EarlyStopping, CSVLogger\n",
    "from tensorflow.python.keras.applications.mobilenet import MobileNet\n",
    "from tensorflow.python.keras.layers import Conv2D, Convolution2D, MaxPooling2D, ZeroPadding2D, BatchNormalization, Activation\n",
    "from tensorflow.python.keras.optimizers import RMSprop\n",
    "from tensorflow.python.keras import backend as K\n",
    "import numpy as np\n",
    "import pandas as pd\n",
    "from tensorflow.python.keras import layers\n",
    "import matplotlib.pyplot as plt\n",
    "import matplotlib.image as mpimg\n",
    "from tensorflow.python.keras.models import load_model"
   ]
  },
  {
   "cell_type": "code",
   "execution_count": 2,
   "metadata": {
    "ExecuteTime": {
     "end_time": "2018-01-05T12:12:15.482081Z",
     "start_time": "2018-01-05T12:12:15.478542Z"
    },
    "collapsed": true
   },
   "outputs": [],
   "source": [
    "#parameters\n",
    "classes = 12\n",
    "image_size = 224\n",
    "batch_size= 32\n",
    "train_total = 3820\n",
    "validation_total = 930"
   ]
  },
  {
   "cell_type": "code",
   "execution_count": 3,
   "metadata": {
    "ExecuteTime": {
     "end_time": "2018-01-05T12:12:17.710739Z",
     "start_time": "2018-01-05T12:12:15.483788Z"
    },
    "collapsed": true
   },
   "outputs": [],
   "source": [
    "model_mobilenet = MobileNet(include_top=False, weights = 'imagenet',input_shape=(image_size,image_size,3), alpha=0.5)"
   ]
  },
  {
   "cell_type": "code",
   "execution_count": 4,
   "metadata": {
    "ExecuteTime": {
     "end_time": "2018-01-05T12:12:17.762161Z",
     "start_time": "2018-01-05T12:12:17.712108Z"
    },
    "collapsed": true
   },
   "outputs": [],
   "source": [
    "x = model_mobilenet.output\n",
    "x = Dropout(0.5)(x)\n",
    "x = GlobalAveragePooling2D()(x)\n",
    "x = Dense(256, activation='relu')(x)\n",
    "x = Dropout(0.5)(x)\n",
    "x = Dense(classes, activation='softmax')(x)"
   ]
  },
  {
   "cell_type": "code",
   "execution_count": 5,
   "metadata": {
    "ExecuteTime": {
     "end_time": "2018-01-05T12:12:17.844809Z",
     "start_time": "2018-01-05T12:12:17.763756Z"
    },
    "collapsed": true
   },
   "outputs": [],
   "source": [
    "model = Model(inputs=model_mobilenet.input, outputs=x)"
   ]
  },
  {
   "cell_type": "code",
   "execution_count": 6,
   "metadata": {
    "ExecuteTime": {
     "end_time": "2018-01-05T12:12:17.968074Z",
     "start_time": "2018-01-05T12:12:17.848064Z"
    }
   },
   "outputs": [
    {
     "name": "stdout",
     "output_type": "stream",
     "text": [
      "_________________________________________________________________\n",
      "Layer (type)                 Output Shape              Param #   \n",
      "=================================================================\n",
      "input_1 (InputLayer)         (None, 224, 224, 3)       0         \n",
      "_________________________________________________________________\n",
      "conv1 (Conv2D)               (None, 112, 112, 16)      432       \n",
      "_________________________________________________________________\n",
      "conv1_bn (BatchNormalization (None, 112, 112, 16)      64        \n",
      "_________________________________________________________________\n",
      "conv1_relu (Activation)      (None, 112, 112, 16)      0         \n",
      "_________________________________________________________________\n",
      "conv_dw_1 (DepthwiseConv2D)  (None, 112, 112, 16)      144       \n",
      "_________________________________________________________________\n",
      "conv_dw_1_bn (BatchNormaliza (None, 112, 112, 16)      64        \n",
      "_________________________________________________________________\n",
      "conv_dw_1_relu (Activation)  (None, 112, 112, 16)      0         \n",
      "_________________________________________________________________\n",
      "conv_pw_1 (Conv2D)           (None, 112, 112, 32)      512       \n",
      "_________________________________________________________________\n",
      "conv_pw_1_bn (BatchNormaliza (None, 112, 112, 32)      128       \n",
      "_________________________________________________________________\n",
      "conv_pw_1_relu (Activation)  (None, 112, 112, 32)      0         \n",
      "_________________________________________________________________\n",
      "conv_dw_2 (DepthwiseConv2D)  (None, 56, 56, 32)        288       \n",
      "_________________________________________________________________\n",
      "conv_dw_2_bn (BatchNormaliza (None, 56, 56, 32)        128       \n",
      "_________________________________________________________________\n",
      "conv_dw_2_relu (Activation)  (None, 56, 56, 32)        0         \n",
      "_________________________________________________________________\n",
      "conv_pw_2 (Conv2D)           (None, 56, 56, 64)        2048      \n",
      "_________________________________________________________________\n",
      "conv_pw_2_bn (BatchNormaliza (None, 56, 56, 64)        256       \n",
      "_________________________________________________________________\n",
      "conv_pw_2_relu (Activation)  (None, 56, 56, 64)        0         \n",
      "_________________________________________________________________\n",
      "conv_dw_3 (DepthwiseConv2D)  (None, 56, 56, 64)        576       \n",
      "_________________________________________________________________\n",
      "conv_dw_3_bn (BatchNormaliza (None, 56, 56, 64)        256       \n",
      "_________________________________________________________________\n",
      "conv_dw_3_relu (Activation)  (None, 56, 56, 64)        0         \n",
      "_________________________________________________________________\n",
      "conv_pw_3 (Conv2D)           (None, 56, 56, 64)        4096      \n",
      "_________________________________________________________________\n",
      "conv_pw_3_bn (BatchNormaliza (None, 56, 56, 64)        256       \n",
      "_________________________________________________________________\n",
      "conv_pw_3_relu (Activation)  (None, 56, 56, 64)        0         \n",
      "_________________________________________________________________\n",
      "conv_dw_4 (DepthwiseConv2D)  (None, 28, 28, 64)        576       \n",
      "_________________________________________________________________\n",
      "conv_dw_4_bn (BatchNormaliza (None, 28, 28, 64)        256       \n",
      "_________________________________________________________________\n",
      "conv_dw_4_relu (Activation)  (None, 28, 28, 64)        0         \n",
      "_________________________________________________________________\n",
      "conv_pw_4 (Conv2D)           (None, 28, 28, 128)       8192      \n",
      "_________________________________________________________________\n",
      "conv_pw_4_bn (BatchNormaliza (None, 28, 28, 128)       512       \n",
      "_________________________________________________________________\n",
      "conv_pw_4_relu (Activation)  (None, 28, 28, 128)       0         \n",
      "_________________________________________________________________\n",
      "conv_dw_5 (DepthwiseConv2D)  (None, 28, 28, 128)       1152      \n",
      "_________________________________________________________________\n",
      "conv_dw_5_bn (BatchNormaliza (None, 28, 28, 128)       512       \n",
      "_________________________________________________________________\n",
      "conv_dw_5_relu (Activation)  (None, 28, 28, 128)       0         \n",
      "_________________________________________________________________\n",
      "conv_pw_5 (Conv2D)           (None, 28, 28, 128)       16384     \n",
      "_________________________________________________________________\n",
      "conv_pw_5_bn (BatchNormaliza (None, 28, 28, 128)       512       \n",
      "_________________________________________________________________\n",
      "conv_pw_5_relu (Activation)  (None, 28, 28, 128)       0         \n",
      "_________________________________________________________________\n",
      "conv_dw_6 (DepthwiseConv2D)  (None, 14, 14, 128)       1152      \n",
      "_________________________________________________________________\n",
      "conv_dw_6_bn (BatchNormaliza (None, 14, 14, 128)       512       \n",
      "_________________________________________________________________\n",
      "conv_dw_6_relu (Activation)  (None, 14, 14, 128)       0         \n",
      "_________________________________________________________________\n",
      "conv_pw_6 (Conv2D)           (None, 14, 14, 256)       32768     \n",
      "_________________________________________________________________\n",
      "conv_pw_6_bn (BatchNormaliza (None, 14, 14, 256)       1024      \n",
      "_________________________________________________________________\n",
      "conv_pw_6_relu (Activation)  (None, 14, 14, 256)       0         \n",
      "_________________________________________________________________\n",
      "conv_dw_7 (DepthwiseConv2D)  (None, 14, 14, 256)       2304      \n",
      "_________________________________________________________________\n",
      "conv_dw_7_bn (BatchNormaliza (None, 14, 14, 256)       1024      \n",
      "_________________________________________________________________\n",
      "conv_dw_7_relu (Activation)  (None, 14, 14, 256)       0         \n",
      "_________________________________________________________________\n",
      "conv_pw_7 (Conv2D)           (None, 14, 14, 256)       65536     \n",
      "_________________________________________________________________\n",
      "conv_pw_7_bn (BatchNormaliza (None, 14, 14, 256)       1024      \n",
      "_________________________________________________________________\n",
      "conv_pw_7_relu (Activation)  (None, 14, 14, 256)       0         \n",
      "_________________________________________________________________\n",
      "conv_dw_8 (DepthwiseConv2D)  (None, 14, 14, 256)       2304      \n",
      "_________________________________________________________________\n",
      "conv_dw_8_bn (BatchNormaliza (None, 14, 14, 256)       1024      \n",
      "_________________________________________________________________\n",
      "conv_dw_8_relu (Activation)  (None, 14, 14, 256)       0         \n",
      "_________________________________________________________________\n",
      "conv_pw_8 (Conv2D)           (None, 14, 14, 256)       65536     \n",
      "_________________________________________________________________\n",
      "conv_pw_8_bn (BatchNormaliza (None, 14, 14, 256)       1024      \n",
      "_________________________________________________________________\n",
      "conv_pw_8_relu (Activation)  (None, 14, 14, 256)       0         \n",
      "_________________________________________________________________\n",
      "conv_dw_9 (DepthwiseConv2D)  (None, 14, 14, 256)       2304      \n",
      "_________________________________________________________________\n",
      "conv_dw_9_bn (BatchNormaliza (None, 14, 14, 256)       1024      \n",
      "_________________________________________________________________\n",
      "conv_dw_9_relu (Activation)  (None, 14, 14, 256)       0         \n",
      "_________________________________________________________________\n",
      "conv_pw_9 (Conv2D)           (None, 14, 14, 256)       65536     \n",
      "_________________________________________________________________\n",
      "conv_pw_9_bn (BatchNormaliza (None, 14, 14, 256)       1024      \n",
      "_________________________________________________________________\n",
      "conv_pw_9_relu (Activation)  (None, 14, 14, 256)       0         \n",
      "_________________________________________________________________\n",
      "conv_dw_10 (DepthwiseConv2D) (None, 14, 14, 256)       2304      \n",
      "_________________________________________________________________\n",
      "conv_dw_10_bn (BatchNormaliz (None, 14, 14, 256)       1024      \n",
      "_________________________________________________________________\n",
      "conv_dw_10_relu (Activation) (None, 14, 14, 256)       0         \n",
      "_________________________________________________________________\n",
      "conv_pw_10 (Conv2D)          (None, 14, 14, 256)       65536     \n",
      "_________________________________________________________________\n",
      "conv_pw_10_bn (BatchNormaliz (None, 14, 14, 256)       1024      \n",
      "_________________________________________________________________\n",
      "conv_pw_10_relu (Activation) (None, 14, 14, 256)       0         \n",
      "_________________________________________________________________\n",
      "conv_dw_11 (DepthwiseConv2D) (None, 14, 14, 256)       2304      \n",
      "_________________________________________________________________\n",
      "conv_dw_11_bn (BatchNormaliz (None, 14, 14, 256)       1024      \n",
      "_________________________________________________________________\n",
      "conv_dw_11_relu (Activation) (None, 14, 14, 256)       0         \n",
      "_________________________________________________________________\n",
      "conv_pw_11 (Conv2D)          (None, 14, 14, 256)       65536     \n",
      "_________________________________________________________________\n",
      "conv_pw_11_bn (BatchNormaliz (None, 14, 14, 256)       1024      \n",
      "_________________________________________________________________\n",
      "conv_pw_11_relu (Activation) (None, 14, 14, 256)       0         \n",
      "_________________________________________________________________\n",
      "conv_dw_12 (DepthwiseConv2D) (None, 7, 7, 256)         2304      \n",
      "_________________________________________________________________\n",
      "conv_dw_12_bn (BatchNormaliz (None, 7, 7, 256)         1024      \n",
      "_________________________________________________________________\n",
      "conv_dw_12_relu (Activation) (None, 7, 7, 256)         0         \n",
      "_________________________________________________________________\n",
      "conv_pw_12 (Conv2D)          (None, 7, 7, 512)         131072    \n",
      "_________________________________________________________________\n",
      "conv_pw_12_bn (BatchNormaliz (None, 7, 7, 512)         2048      \n",
      "_________________________________________________________________\n",
      "conv_pw_12_relu (Activation) (None, 7, 7, 512)         0         \n",
      "_________________________________________________________________\n",
      "conv_dw_13 (DepthwiseConv2D) (None, 7, 7, 512)         4608      \n",
      "_________________________________________________________________\n",
      "conv_dw_13_bn (BatchNormaliz (None, 7, 7, 512)         2048      \n",
      "_________________________________________________________________\n",
      "conv_dw_13_relu (Activation) (None, 7, 7, 512)         0         \n",
      "_________________________________________________________________\n",
      "conv_pw_13 (Conv2D)          (None, 7, 7, 512)         262144    \n",
      "_________________________________________________________________\n",
      "conv_pw_13_bn (BatchNormaliz (None, 7, 7, 512)         2048      \n",
      "_________________________________________________________________\n",
      "conv_pw_13_relu (Activation) (None, 7, 7, 512)         0         \n",
      "_________________________________________________________________\n",
      "dropout_1 (Dropout)          (None, 7, 7, 512)         0         \n",
      "_________________________________________________________________\n",
      "global_average_pooling2d_1 ( (None, 512)               0         \n",
      "_________________________________________________________________\n",
      "dense_1 (Dense)              (None, 256)               131328    \n",
      "_________________________________________________________________\n",
      "dropout_2 (Dropout)          (None, 256)               0         \n",
      "_________________________________________________________________\n",
      "dense_2 (Dense)              (None, 12)                3084      \n",
      "=================================================================\n",
      "Total params: 963,948\n",
      "Trainable params: 953,004\n",
      "Non-trainable params: 10,944\n",
      "_________________________________________________________________\n"
     ]
    }
   ],
   "source": [
    "model.summary()"
   ]
  },
  {
   "cell_type": "code",
   "execution_count": 7,
   "metadata": {
    "ExecuteTime": {
     "end_time": "2018-01-05T12:12:18.061080Z",
     "start_time": "2018-01-05T12:12:17.969803Z"
    },
    "collapsed": true
   },
   "outputs": [],
   "source": [
    "train_datagen = ImageDataGenerator(rescale=1./255,\n",
    "                                   shear_range = 0.2,\n",
    "                                   rotation_range = 20,\n",
    "                                   height_shift_range=0.2,\n",
    "                                   width_shift_range=0.2,\n",
    "                                   zoom_range=0.2,\n",
    "                                   fill_mode='reflect',\n",
    "                                   horizontal_flip=True,\n",
    "                                   vertical_flip=True)\n",
    "validation_datagen = ImageDataGenerator(rescale = 1./255)"
   ]
  },
  {
   "cell_type": "code",
   "execution_count": 8,
   "metadata": {
    "ExecuteTime": {
     "end_time": "2018-01-05T12:12:18.484133Z",
     "start_time": "2018-01-05T12:12:18.062668Z"
    }
   },
   "outputs": [
    {
     "name": "stdout",
     "output_type": "stream",
     "text": [
      "Found 3820 images belonging to 12 classes.\n",
      "Found 930 images belonging to 12 classes.\n"
     ]
    }
   ],
   "source": [
    "train_generator = train_datagen.flow_from_directory(\n",
    "                    'train',\n",
    "                    target_size=(image_size,image_size),\n",
    "                    batch_size=batch_size,\n",
    "                    class_mode='categorical',\n",
    "                    shuffle=True\n",
    "                    )\n",
    "validation_generator = validation_datagen.flow_from_directory(\n",
    "                        'validation',\n",
    "                        target_size=(image_size,image_size),\n",
    "                        batch_size=batch_size,\n",
    "                        class_mode='categorical')"
   ]
  },
  {
   "cell_type": "code",
   "execution_count": 9,
   "metadata": {
    "ExecuteTime": {
     "end_time": "2018-01-05T12:12:18.516560Z",
     "start_time": "2018-01-05T12:12:18.486369Z"
    },
    "collapsed": true
   },
   "outputs": [],
   "source": [
    "model.compile(loss='categorical_crossentropy',\n",
    "             optimizer=RMSprop(lr=1e-4),\n",
    "             metrics=['accuracy'])"
   ]
  },
  {
   "cell_type": "code",
   "execution_count": 10,
   "metadata": {
    "ExecuteTime": {
     "end_time": "2018-01-05T12:12:18.833808Z",
     "start_time": "2018-01-05T12:12:18.518321Z"
    },
    "collapsed": true
   },
   "outputs": [],
   "source": [
    "model.load_weights('mobilenet_from_scratch_save_best_final_2_96977.hdf5')"
   ]
  },
  {
   "cell_type": "code",
   "execution_count": 11,
   "metadata": {
    "ExecuteTime": {
     "end_time": "2018-01-05T12:12:30.493111Z",
     "start_time": "2018-01-05T12:12:18.835875Z"
    }
   },
   "outputs": [
    {
     "data": {
      "text/plain": [
       "[0.12311724872999294, 0.96344086021505382]"
      ]
     },
     "execution_count": 11,
     "metadata": {},
     "output_type": "execute_result"
    }
   ],
   "source": [
    "model.evaluate_generator(validation_generator, int(np.ceil(validation_total/batch_size)))"
   ]
  },
  {
   "cell_type": "code",
   "execution_count": 12,
   "metadata": {
    "ExecuteTime": {
     "end_time": "2018-01-05T12:12:34.293124Z",
     "start_time": "2018-01-05T12:12:34.290980Z"
    },
    "collapsed": true
   },
   "outputs": [],
   "source": [
    "# MODEL SMALL FOR BINARY CLASSIFICATION FOR CLASS 0 AND CLASS 6\n",
    "#V2 - weights from previous model_1, fixed bottom, only fine tuning last layers"
   ]
  },
  {
   "cell_type": "code",
   "execution_count": 13,
   "metadata": {
    "ExecuteTime": {
     "end_time": "2018-01-05T12:12:34.629771Z",
     "start_time": "2018-01-05T12:12:34.625666Z"
    },
    "collapsed": true
   },
   "outputs": [],
   "source": [
    "#parameters\n",
    "classes_2 = 2\n",
    "image_size_2 = 600\n",
    "batch_size_2 = 8\n",
    "train_total_2 = 739\n",
    "validation_total_2 = 178"
   ]
  },
  {
   "cell_type": "code",
   "execution_count": 14,
   "metadata": {
    "ExecuteTime": {
     "end_time": "2018-01-05T12:12:36.035561Z",
     "start_time": "2018-01-05T12:12:34.920380Z"
    },
    "collapsed": true
   },
   "outputs": [],
   "source": [
    "model_mobilenet_2 = MobileNet(include_top=False, weights = None,input_shape=(image_size_2,image_size_2,3), alpha=0.5)"
   ]
  },
  {
   "cell_type": "code",
   "execution_count": 15,
   "metadata": {
    "ExecuteTime": {
     "end_time": "2018-01-05T12:12:36.085796Z",
     "start_time": "2018-01-05T12:12:36.037042Z"
    },
    "collapsed": true
   },
   "outputs": [],
   "source": [
    "x = model_mobilenet_2.output\n",
    "x = Dropout(0.5)(x)\n",
    "x = GlobalAveragePooling2D()(x)\n",
    "x = Dense(256, activation='relu')(x)\n",
    "x = Dropout(0.5)(x)\n",
    "x = Dense(classes_2, activation='softmax')(x)"
   ]
  },
  {
   "cell_type": "code",
   "execution_count": 16,
   "metadata": {
    "ExecuteTime": {
     "end_time": "2018-01-05T12:12:36.152672Z",
     "start_time": "2018-01-05T12:12:36.087566Z"
    },
    "collapsed": true
   },
   "outputs": [],
   "source": [
    "model_2 = Model(inputs=model_mobilenet_2.input, outputs=x)"
   ]
  },
  {
   "cell_type": "code",
   "execution_count": 17,
   "metadata": {
    "ExecuteTime": {
     "end_time": "2018-01-05T12:12:36.291314Z",
     "start_time": "2018-01-05T12:12:36.154230Z"
    }
   },
   "outputs": [
    {
     "name": "stdout",
     "output_type": "stream",
     "text": [
      "_________________________________________________________________\n",
      "Layer (type)                 Output Shape              Param #   \n",
      "=================================================================\n",
      "input_2 (InputLayer)         (None, 600, 600, 3)       0         \n",
      "_________________________________________________________________\n",
      "conv1 (Conv2D)               (None, 300, 300, 16)      432       \n",
      "_________________________________________________________________\n",
      "conv1_bn (BatchNormalization (None, 300, 300, 16)      64        \n",
      "_________________________________________________________________\n",
      "conv1_relu (Activation)      (None, 300, 300, 16)      0         \n",
      "_________________________________________________________________\n",
      "conv_dw_1 (DepthwiseConv2D)  (None, 300, 300, 16)      144       \n",
      "_________________________________________________________________\n",
      "conv_dw_1_bn (BatchNormaliza (None, 300, 300, 16)      64        \n",
      "_________________________________________________________________\n",
      "conv_dw_1_relu (Activation)  (None, 300, 300, 16)      0         \n",
      "_________________________________________________________________\n",
      "conv_pw_1 (Conv2D)           (None, 300, 300, 32)      512       \n",
      "_________________________________________________________________\n",
      "conv_pw_1_bn (BatchNormaliza (None, 300, 300, 32)      128       \n",
      "_________________________________________________________________\n",
      "conv_pw_1_relu (Activation)  (None, 300, 300, 32)      0         \n",
      "_________________________________________________________________\n",
      "conv_dw_2 (DepthwiseConv2D)  (None, 150, 150, 32)      288       \n",
      "_________________________________________________________________\n",
      "conv_dw_2_bn (BatchNormaliza (None, 150, 150, 32)      128       \n",
      "_________________________________________________________________\n",
      "conv_dw_2_relu (Activation)  (None, 150, 150, 32)      0         \n",
      "_________________________________________________________________\n",
      "conv_pw_2 (Conv2D)           (None, 150, 150, 64)      2048      \n",
      "_________________________________________________________________\n",
      "conv_pw_2_bn (BatchNormaliza (None, 150, 150, 64)      256       \n",
      "_________________________________________________________________\n",
      "conv_pw_2_relu (Activation)  (None, 150, 150, 64)      0         \n",
      "_________________________________________________________________\n",
      "conv_dw_3 (DepthwiseConv2D)  (None, 150, 150, 64)      576       \n",
      "_________________________________________________________________\n",
      "conv_dw_3_bn (BatchNormaliza (None, 150, 150, 64)      256       \n",
      "_________________________________________________________________\n",
      "conv_dw_3_relu (Activation)  (None, 150, 150, 64)      0         \n",
      "_________________________________________________________________\n",
      "conv_pw_3 (Conv2D)           (None, 150, 150, 64)      4096      \n",
      "_________________________________________________________________\n",
      "conv_pw_3_bn (BatchNormaliza (None, 150, 150, 64)      256       \n",
      "_________________________________________________________________\n",
      "conv_pw_3_relu (Activation)  (None, 150, 150, 64)      0         \n",
      "_________________________________________________________________\n",
      "conv_dw_4 (DepthwiseConv2D)  (None, 75, 75, 64)        576       \n",
      "_________________________________________________________________\n",
      "conv_dw_4_bn (BatchNormaliza (None, 75, 75, 64)        256       \n",
      "_________________________________________________________________\n",
      "conv_dw_4_relu (Activation)  (None, 75, 75, 64)        0         \n",
      "_________________________________________________________________\n",
      "conv_pw_4 (Conv2D)           (None, 75, 75, 128)       8192      \n",
      "_________________________________________________________________\n",
      "conv_pw_4_bn (BatchNormaliza (None, 75, 75, 128)       512       \n",
      "_________________________________________________________________\n",
      "conv_pw_4_relu (Activation)  (None, 75, 75, 128)       0         \n",
      "_________________________________________________________________\n",
      "conv_dw_5 (DepthwiseConv2D)  (None, 75, 75, 128)       1152      \n",
      "_________________________________________________________________\n",
      "conv_dw_5_bn (BatchNormaliza (None, 75, 75, 128)       512       \n",
      "_________________________________________________________________\n",
      "conv_dw_5_relu (Activation)  (None, 75, 75, 128)       0         \n",
      "_________________________________________________________________\n",
      "conv_pw_5 (Conv2D)           (None, 75, 75, 128)       16384     \n",
      "_________________________________________________________________\n",
      "conv_pw_5_bn (BatchNormaliza (None, 75, 75, 128)       512       \n",
      "_________________________________________________________________\n",
      "conv_pw_5_relu (Activation)  (None, 75, 75, 128)       0         \n",
      "_________________________________________________________________\n",
      "conv_dw_6 (DepthwiseConv2D)  (None, 38, 38, 128)       1152      \n",
      "_________________________________________________________________\n",
      "conv_dw_6_bn (BatchNormaliza (None, 38, 38, 128)       512       \n",
      "_________________________________________________________________\n",
      "conv_dw_6_relu (Activation)  (None, 38, 38, 128)       0         \n",
      "_________________________________________________________________\n",
      "conv_pw_6 (Conv2D)           (None, 38, 38, 256)       32768     \n",
      "_________________________________________________________________\n",
      "conv_pw_6_bn (BatchNormaliza (None, 38, 38, 256)       1024      \n",
      "_________________________________________________________________\n",
      "conv_pw_6_relu (Activation)  (None, 38, 38, 256)       0         \n",
      "_________________________________________________________________\n",
      "conv_dw_7 (DepthwiseConv2D)  (None, 38, 38, 256)       2304      \n",
      "_________________________________________________________________\n",
      "conv_dw_7_bn (BatchNormaliza (None, 38, 38, 256)       1024      \n",
      "_________________________________________________________________\n",
      "conv_dw_7_relu (Activation)  (None, 38, 38, 256)       0         \n",
      "_________________________________________________________________\n",
      "conv_pw_7 (Conv2D)           (None, 38, 38, 256)       65536     \n",
      "_________________________________________________________________\n",
      "conv_pw_7_bn (BatchNormaliza (None, 38, 38, 256)       1024      \n",
      "_________________________________________________________________\n",
      "conv_pw_7_relu (Activation)  (None, 38, 38, 256)       0         \n",
      "_________________________________________________________________\n",
      "conv_dw_8 (DepthwiseConv2D)  (None, 38, 38, 256)       2304      \n",
      "_________________________________________________________________\n",
      "conv_dw_8_bn (BatchNormaliza (None, 38, 38, 256)       1024      \n",
      "_________________________________________________________________\n",
      "conv_dw_8_relu (Activation)  (None, 38, 38, 256)       0         \n",
      "_________________________________________________________________\n",
      "conv_pw_8 (Conv2D)           (None, 38, 38, 256)       65536     \n",
      "_________________________________________________________________\n",
      "conv_pw_8_bn (BatchNormaliza (None, 38, 38, 256)       1024      \n",
      "_________________________________________________________________\n",
      "conv_pw_8_relu (Activation)  (None, 38, 38, 256)       0         \n",
      "_________________________________________________________________\n",
      "conv_dw_9 (DepthwiseConv2D)  (None, 38, 38, 256)       2304      \n",
      "_________________________________________________________________\n",
      "conv_dw_9_bn (BatchNormaliza (None, 38, 38, 256)       1024      \n",
      "_________________________________________________________________\n",
      "conv_dw_9_relu (Activation)  (None, 38, 38, 256)       0         \n",
      "_________________________________________________________________\n",
      "conv_pw_9 (Conv2D)           (None, 38, 38, 256)       65536     \n",
      "_________________________________________________________________\n",
      "conv_pw_9_bn (BatchNormaliza (None, 38, 38, 256)       1024      \n",
      "_________________________________________________________________\n",
      "conv_pw_9_relu (Activation)  (None, 38, 38, 256)       0         \n",
      "_________________________________________________________________\n",
      "conv_dw_10 (DepthwiseConv2D) (None, 38, 38, 256)       2304      \n",
      "_________________________________________________________________\n",
      "conv_dw_10_bn (BatchNormaliz (None, 38, 38, 256)       1024      \n",
      "_________________________________________________________________\n",
      "conv_dw_10_relu (Activation) (None, 38, 38, 256)       0         \n",
      "_________________________________________________________________\n",
      "conv_pw_10 (Conv2D)          (None, 38, 38, 256)       65536     \n",
      "_________________________________________________________________\n",
      "conv_pw_10_bn (BatchNormaliz (None, 38, 38, 256)       1024      \n",
      "_________________________________________________________________\n",
      "conv_pw_10_relu (Activation) (None, 38, 38, 256)       0         \n",
      "_________________________________________________________________\n",
      "conv_dw_11 (DepthwiseConv2D) (None, 38, 38, 256)       2304      \n",
      "_________________________________________________________________\n",
      "conv_dw_11_bn (BatchNormaliz (None, 38, 38, 256)       1024      \n",
      "_________________________________________________________________\n",
      "conv_dw_11_relu (Activation) (None, 38, 38, 256)       0         \n",
      "_________________________________________________________________\n",
      "conv_pw_11 (Conv2D)          (None, 38, 38, 256)       65536     \n",
      "_________________________________________________________________\n",
      "conv_pw_11_bn (BatchNormaliz (None, 38, 38, 256)       1024      \n",
      "_________________________________________________________________\n",
      "conv_pw_11_relu (Activation) (None, 38, 38, 256)       0         \n",
      "_________________________________________________________________\n",
      "conv_dw_12 (DepthwiseConv2D) (None, 19, 19, 256)       2304      \n",
      "_________________________________________________________________\n",
      "conv_dw_12_bn (BatchNormaliz (None, 19, 19, 256)       1024      \n",
      "_________________________________________________________________\n",
      "conv_dw_12_relu (Activation) (None, 19, 19, 256)       0         \n",
      "_________________________________________________________________\n",
      "conv_pw_12 (Conv2D)          (None, 19, 19, 512)       131072    \n",
      "_________________________________________________________________\n",
      "conv_pw_12_bn (BatchNormaliz (None, 19, 19, 512)       2048      \n",
      "_________________________________________________________________\n",
      "conv_pw_12_relu (Activation) (None, 19, 19, 512)       0         \n",
      "_________________________________________________________________\n",
      "conv_dw_13 (DepthwiseConv2D) (None, 19, 19, 512)       4608      \n",
      "_________________________________________________________________\n",
      "conv_dw_13_bn (BatchNormaliz (None, 19, 19, 512)       2048      \n",
      "_________________________________________________________________\n",
      "conv_dw_13_relu (Activation) (None, 19, 19, 512)       0         \n",
      "_________________________________________________________________\n",
      "conv_pw_13 (Conv2D)          (None, 19, 19, 512)       262144    \n",
      "_________________________________________________________________\n",
      "conv_pw_13_bn (BatchNormaliz (None, 19, 19, 512)       2048      \n",
      "_________________________________________________________________\n",
      "conv_pw_13_relu (Activation) (None, 19, 19, 512)       0         \n",
      "_________________________________________________________________\n",
      "dropout_3 (Dropout)          (None, 19, 19, 512)       0         \n",
      "_________________________________________________________________\n",
      "global_average_pooling2d_2 ( (None, 512)               0         \n",
      "_________________________________________________________________\n",
      "dense_3 (Dense)              (None, 256)               131328    \n",
      "_________________________________________________________________\n",
      "dropout_4 (Dropout)          (None, 256)               0         \n",
      "_________________________________________________________________\n",
      "dense_4 (Dense)              (None, 2)                 514       \n",
      "=================================================================\n",
      "Total params: 961,378\n",
      "Trainable params: 950,434\n",
      "Non-trainable params: 10,944\n",
      "_________________________________________________________________\n"
     ]
    }
   ],
   "source": [
    "model_2.summary()"
   ]
  },
  {
   "cell_type": "code",
   "execution_count": 18,
   "metadata": {
    "ExecuteTime": {
     "end_time": "2018-01-05T12:12:36.338893Z",
     "start_time": "2018-01-05T12:12:36.293242Z"
    },
    "collapsed": true
   },
   "outputs": [],
   "source": [
    "for layer in model_mobilenet_2.layers:\n",
    "    layer.trainable = True"
   ]
  },
  {
   "cell_type": "code",
   "execution_count": 19,
   "metadata": {
    "ExecuteTime": {
     "end_time": "2018-01-05T12:12:36.427979Z",
     "start_time": "2018-01-05T12:12:36.358380Z"
    },
    "collapsed": true
   },
   "outputs": [],
   "source": [
    "train_datagen_2 = ImageDataGenerator(rescale=1./255,\n",
    "                                   shear_range = 0.2,\n",
    "                                   rotation_range = 20,\n",
    "                                   height_shift_range=0.2,\n",
    "                                   width_shift_range=0.2,\n",
    "                                   zoom_range=0.2,\n",
    "                                   fill_mode='reflect',\n",
    "                                   horizontal_flip=True,\n",
    "                                   vertical_flip=True)\n",
    "validation_datagen_2 = ImageDataGenerator(rescale = 1./255)"
   ]
  },
  {
   "cell_type": "code",
   "execution_count": 20,
   "metadata": {
    "ExecuteTime": {
     "end_time": "2018-01-05T12:12:36.866813Z",
     "start_time": "2018-01-05T12:12:36.650674Z"
    }
   },
   "outputs": [
    {
     "name": "stdout",
     "output_type": "stream",
     "text": [
      "Found 739 images belonging to 2 classes.\n",
      "Found 178 images belonging to 2 classes.\n"
     ]
    }
   ],
   "source": [
    "train_generator_2 = train_datagen.flow_from_directory(\n",
    "                    'train_2',\n",
    "                    target_size=(image_size_2,image_size_2),\n",
    "                    batch_size=batch_size_2,\n",
    "                    class_mode='categorical',\n",
    "                    shuffle=True\n",
    "                    )\n",
    "validation_generator_2 = validation_datagen.flow_from_directory(\n",
    "                        'validation_2',\n",
    "                        target_size=(image_size_2,image_size_2),\n",
    "                        batch_size=batch_size_2,\n",
    "                        class_mode='categorical')"
   ]
  },
  {
   "cell_type": "code",
   "execution_count": 21,
   "metadata": {
    "ExecuteTime": {
     "end_time": "2018-01-05T12:12:36.963956Z",
     "start_time": "2018-01-05T12:12:36.934803Z"
    },
    "collapsed": true
   },
   "outputs": [],
   "source": [
    "model_2.compile(loss='categorical_crossentropy',\n",
    "             optimizer=RMSprop(lr=1e-4),\n",
    "             metrics=['accuracy'])"
   ]
  },
  {
   "cell_type": "code",
   "execution_count": 22,
   "metadata": {
    "ExecuteTime": {
     "end_time": "2018-01-05T12:12:37.228550Z",
     "start_time": "2018-01-05T12:12:37.220453Z"
    },
    "collapsed": true
   },
   "outputs": [],
   "source": [
    "callbacks = [ModelCheckpoint(filepath='10_mobilenet_from_scratch_save_best_model_2_v3.hdf5', verbose=1, save_best_only=True, save_weights_only=True),\n",
    "ReduceLROnPlateau(monitor='val_loss', factor=0.1, patience=5, verbose=1),\n",
    "EarlyStopping(monitor='val_loss', patience=10, verbose=1),\n",
    "CSVLogger('./10-metrics_model_2_v2.csv')]"
   ]
  },
  {
   "cell_type": "code",
   "execution_count": 23,
   "metadata": {
    "ExecuteTime": {
     "end_time": "2018-01-05T12:12:38.371759Z",
     "start_time": "2018-01-05T12:12:38.369617Z"
    },
    "collapsed": true
   },
   "outputs": [],
   "source": [
    "# loading weights from model_1 to model_2\n"
   ]
  },
  {
   "cell_type": "code",
   "execution_count": 24,
   "metadata": {
    "ExecuteTime": {
     "end_time": "2018-01-05T12:12:47.502966Z",
     "start_time": "2018-01-05T12:12:38.970775Z"
    },
    "collapsed": true
   },
   "outputs": [],
   "source": [
    "for i in range(len(model.layers)-2):\n",
    "    layer_1 = model.layers[i]\n",
    "    layer_2 = model_2.layers[i]\n",
    "    layer_2.set_weights(layer_1.get_weights())"
   ]
  },
  {
   "cell_type": "code",
   "execution_count": 25,
   "metadata": {
    "ExecuteTime": {
     "end_time": "2018-01-05T12:12:47.508162Z",
     "start_time": "2018-01-05T12:12:47.504434Z"
    }
   },
   "outputs": [
    {
     "data": {
      "text/plain": [
       "(256, 2)"
      ]
     },
     "execution_count": 25,
     "metadata": {},
     "output_type": "execute_result"
    }
   ],
   "source": [
    "x = np.zeros((256,2))\n",
    "x.shape"
   ]
  },
  {
   "cell_type": "code",
   "execution_count": 26,
   "metadata": {
    "ExecuteTime": {
     "end_time": "2018-01-05T12:12:47.640213Z",
     "start_time": "2018-01-05T12:12:47.510121Z"
    },
    "collapsed": true
   },
   "outputs": [],
   "source": [
    "y = np.zeros(2)"
   ]
  },
  {
   "cell_type": "code",
   "execution_count": 27,
   "metadata": {
    "ExecuteTime": {
     "end_time": "2018-01-05T12:12:47.787587Z",
     "start_time": "2018-01-05T12:12:47.643261Z"
    },
    "collapsed": true
   },
   "outputs": [],
   "source": [
    "y[0]=model.layers[-1].get_weights()[1][0]\n",
    "y[1]=model.layers[-1].get_weights()[1][6]"
   ]
  },
  {
   "cell_type": "code",
   "execution_count": 28,
   "metadata": {
    "ExecuteTime": {
     "end_time": "2018-01-05T12:12:47.865073Z",
     "start_time": "2018-01-05T12:12:47.789131Z"
    },
    "collapsed": true
   },
   "outputs": [],
   "source": [
    "x[:,0]=model.layers[-1].get_weights()[0][:,0]\n",
    "x[:,1]=model.layers[-1].get_weights()[0][:,6]"
   ]
  },
  {
   "cell_type": "code",
   "execution_count": 29,
   "metadata": {
    "ExecuteTime": {
     "end_time": "2018-01-05T12:12:48.116484Z",
     "start_time": "2018-01-05T12:12:47.868439Z"
    },
    "collapsed": true
   },
   "outputs": [],
   "source": [
    "model_2.layers[-1].set_weights([x,y])"
   ]
  },
  {
   "cell_type": "code",
   "execution_count": 30,
   "metadata": {
    "ExecuteTime": {
     "end_time": "2018-01-05T12:12:52.780098Z",
     "start_time": "2018-01-05T12:12:48.117966Z"
    }
   },
   "outputs": [
    {
     "data": {
      "text/plain": [
       "[0.45261911344662142, 0.8202247191011236]"
      ]
     },
     "execution_count": 30,
     "metadata": {},
     "output_type": "execute_result"
    }
   ],
   "source": [
    "model_2.evaluate_generator(validation_generator_2, int(np.ceil(validation_total_2/batch_size_2)))"
   ]
  },
  {
   "cell_type": "code",
   "execution_count": 31,
   "metadata": {
    "ExecuteTime": {
     "end_time": "2018-01-05T12:12:55.269715Z",
     "start_time": "2018-01-05T12:12:55.162149Z"
    }
   },
   "outputs": [
    {
     "name": "stdout",
     "output_type": "stream",
     "text": [
      "Found 178 images belonging to 2 classes.\n"
     ]
    }
   ],
   "source": [
    "validation_generator_2 = validation_datagen.flow_from_directory(\n",
    "                        'validation_2',\n",
    "                        target_size=(image_size_2,image_size_2),\n",
    "                        batch_size=batch_size_2,\n",
    "                        class_mode='categorical',\n",
    "                        shuffle=False)"
   ]
  },
  {
   "cell_type": "code",
   "execution_count": 32,
   "metadata": {
    "ExecuteTime": {
     "end_time": "2018-01-05T12:13:00.509728Z",
     "start_time": "2018-01-05T12:12:55.471918Z"
    }
   },
   "outputs": [
    {
     "name": "stdout",
     "output_type": "stream",
     "text": [
      "Epoch 1/100\n"
     ]
    },
    {
     "ename": "KeyboardInterrupt",
     "evalue": "",
     "output_type": "error",
     "traceback": [
      "\u001b[0;31m---------------------------------------------------------------------------\u001b[0m",
      "\u001b[0;31mKeyboardInterrupt\u001b[0m                         Traceback (most recent call last)",
      "\u001b[0;32m<ipython-input-32-c5ad73fb1bc7>\u001b[0m in \u001b[0;36m<module>\u001b[0;34m()\u001b[0m\n\u001b[1;32m      6\u001b[0m                     \u001b[0mvalidation_steps\u001b[0m\u001b[0;34m=\u001b[0m \u001b[0mint\u001b[0m\u001b[0;34m(\u001b[0m\u001b[0mnp\u001b[0m\u001b[0;34m.\u001b[0m\u001b[0mceil\u001b[0m\u001b[0;34m(\u001b[0m\u001b[0mvalidation_total_2\u001b[0m\u001b[0;34m/\u001b[0m\u001b[0mbatch_size_2\u001b[0m\u001b[0;34m)\u001b[0m\u001b[0;34m)\u001b[0m\u001b[0;34m,\u001b[0m\u001b[0;34m\u001b[0m\u001b[0m\n\u001b[1;32m      7\u001b[0m                     \u001b[0mverbose\u001b[0m\u001b[0;34m=\u001b[0m\u001b[0;36m2\u001b[0m\u001b[0;34m,\u001b[0m\u001b[0;34m\u001b[0m\u001b[0m\n\u001b[0;32m----> 8\u001b[0;31m                     callbacks=callbacks)\n\u001b[0m",
      "\u001b[0;32m~/anaconda3/envs/dl/lib/python3.5/site-packages/tensorflow/python/keras/_impl/keras/engine/training.py\u001b[0m in \u001b[0;36mfit_generator\u001b[0;34m(self, generator, steps_per_epoch, epochs, verbose, callbacks, validation_data, validation_steps, class_weight, max_queue_size, workers, use_multiprocessing, shuffle, initial_epoch, **kwargs)\u001b[0m\n\u001b[1;32m   2074\u001b[0m \u001b[0;34m\u001b[0m\u001b[0m\n\u001b[1;32m   2075\u001b[0m           outs = self.train_on_batch(\n\u001b[0;32m-> 2076\u001b[0;31m               x, y, sample_weight=sample_weight, class_weight=class_weight)\n\u001b[0m\u001b[1;32m   2077\u001b[0m \u001b[0;34m\u001b[0m\u001b[0m\n\u001b[1;32m   2078\u001b[0m           \u001b[0;32mif\u001b[0m \u001b[0;32mnot\u001b[0m \u001b[0misinstance\u001b[0m\u001b[0;34m(\u001b[0m\u001b[0mouts\u001b[0m\u001b[0;34m,\u001b[0m \u001b[0mlist\u001b[0m\u001b[0;34m)\u001b[0m\u001b[0;34m:\u001b[0m\u001b[0;34m\u001b[0m\u001b[0m\n",
      "\u001b[0;32m~/anaconda3/envs/dl/lib/python3.5/site-packages/tensorflow/python/keras/_impl/keras/engine/training.py\u001b[0m in \u001b[0;36mtrain_on_batch\u001b[0;34m(self, x, y, sample_weight, class_weight)\u001b[0m\n\u001b[1;32m   1785\u001b[0m       \u001b[0mins\u001b[0m \u001b[0;34m=\u001b[0m \u001b[0mx\u001b[0m \u001b[0;34m+\u001b[0m \u001b[0my\u001b[0m \u001b[0;34m+\u001b[0m \u001b[0msample_weights\u001b[0m\u001b[0;34m\u001b[0m\u001b[0m\n\u001b[1;32m   1786\u001b[0m     \u001b[0mself\u001b[0m\u001b[0;34m.\u001b[0m\u001b[0m_make_train_function\u001b[0m\u001b[0;34m(\u001b[0m\u001b[0;34m)\u001b[0m\u001b[0;34m\u001b[0m\u001b[0m\n\u001b[0;32m-> 1787\u001b[0;31m     \u001b[0moutputs\u001b[0m \u001b[0;34m=\u001b[0m \u001b[0mself\u001b[0m\u001b[0;34m.\u001b[0m\u001b[0mtrain_function\u001b[0m\u001b[0;34m(\u001b[0m\u001b[0mins\u001b[0m\u001b[0;34m)\u001b[0m\u001b[0;34m\u001b[0m\u001b[0m\n\u001b[0m\u001b[1;32m   1788\u001b[0m     \u001b[0;32mif\u001b[0m \u001b[0mlen\u001b[0m\u001b[0;34m(\u001b[0m\u001b[0moutputs\u001b[0m\u001b[0;34m)\u001b[0m \u001b[0;34m==\u001b[0m \u001b[0;36m1\u001b[0m\u001b[0;34m:\u001b[0m\u001b[0;34m\u001b[0m\u001b[0m\n\u001b[1;32m   1789\u001b[0m       \u001b[0;32mreturn\u001b[0m \u001b[0moutputs\u001b[0m\u001b[0;34m[\u001b[0m\u001b[0;36m0\u001b[0m\u001b[0;34m]\u001b[0m\u001b[0;34m\u001b[0m\u001b[0m\n",
      "\u001b[0;32m~/anaconda3/envs/dl/lib/python3.5/site-packages/tensorflow/python/keras/_impl/keras/backend.py\u001b[0m in \u001b[0;36m__call__\u001b[0;34m(self, inputs)\u001b[0m\n\u001b[1;32m   2475\u001b[0m         \u001b[0mself\u001b[0m\u001b[0;34m.\u001b[0m\u001b[0moutputs\u001b[0m \u001b[0;34m+\u001b[0m \u001b[0;34m[\u001b[0m\u001b[0mself\u001b[0m\u001b[0;34m.\u001b[0m\u001b[0mupdates_op\u001b[0m\u001b[0;34m]\u001b[0m\u001b[0;34m,\u001b[0m\u001b[0;34m\u001b[0m\u001b[0m\n\u001b[1;32m   2476\u001b[0m         \u001b[0mfeed_dict\u001b[0m\u001b[0;34m=\u001b[0m\u001b[0mfeed_dict\u001b[0m\u001b[0;34m,\u001b[0m\u001b[0;34m\u001b[0m\u001b[0m\n\u001b[0;32m-> 2477\u001b[0;31m         **self.session_kwargs)\n\u001b[0m\u001b[1;32m   2478\u001b[0m     \u001b[0;32mreturn\u001b[0m \u001b[0mupdated\u001b[0m\u001b[0;34m[\u001b[0m\u001b[0;34m:\u001b[0m\u001b[0mlen\u001b[0m\u001b[0;34m(\u001b[0m\u001b[0mself\u001b[0m\u001b[0;34m.\u001b[0m\u001b[0moutputs\u001b[0m\u001b[0;34m)\u001b[0m\u001b[0;34m]\u001b[0m\u001b[0;34m\u001b[0m\u001b[0m\n\u001b[1;32m   2479\u001b[0m \u001b[0;34m\u001b[0m\u001b[0m\n",
      "\u001b[0;32m~/anaconda3/envs/dl/lib/python3.5/site-packages/tensorflow/python/client/session.py\u001b[0m in \u001b[0;36mrun\u001b[0;34m(self, fetches, feed_dict, options, run_metadata)\u001b[0m\n\u001b[1;32m    887\u001b[0m     \u001b[0;32mtry\u001b[0m\u001b[0;34m:\u001b[0m\u001b[0;34m\u001b[0m\u001b[0m\n\u001b[1;32m    888\u001b[0m       result = self._run(None, fetches, feed_dict, options_ptr,\n\u001b[0;32m--> 889\u001b[0;31m                          run_metadata_ptr)\n\u001b[0m\u001b[1;32m    890\u001b[0m       \u001b[0;32mif\u001b[0m \u001b[0mrun_metadata\u001b[0m\u001b[0;34m:\u001b[0m\u001b[0;34m\u001b[0m\u001b[0m\n\u001b[1;32m    891\u001b[0m         \u001b[0mproto_data\u001b[0m \u001b[0;34m=\u001b[0m \u001b[0mtf_session\u001b[0m\u001b[0;34m.\u001b[0m\u001b[0mTF_GetBuffer\u001b[0m\u001b[0;34m(\u001b[0m\u001b[0mrun_metadata_ptr\u001b[0m\u001b[0;34m)\u001b[0m\u001b[0;34m\u001b[0m\u001b[0m\n",
      "\u001b[0;32m~/anaconda3/envs/dl/lib/python3.5/site-packages/tensorflow/python/client/session.py\u001b[0m in \u001b[0;36m_run\u001b[0;34m(self, handle, fetches, feed_dict, options, run_metadata)\u001b[0m\n\u001b[1;32m   1118\u001b[0m     \u001b[0;32mif\u001b[0m \u001b[0mfinal_fetches\u001b[0m \u001b[0;32mor\u001b[0m \u001b[0mfinal_targets\u001b[0m \u001b[0;32mor\u001b[0m \u001b[0;34m(\u001b[0m\u001b[0mhandle\u001b[0m \u001b[0;32mand\u001b[0m \u001b[0mfeed_dict_tensor\u001b[0m\u001b[0;34m)\u001b[0m\u001b[0;34m:\u001b[0m\u001b[0;34m\u001b[0m\u001b[0m\n\u001b[1;32m   1119\u001b[0m       results = self._do_run(handle, final_targets, final_fetches,\n\u001b[0;32m-> 1120\u001b[0;31m                              feed_dict_tensor, options, run_metadata)\n\u001b[0m\u001b[1;32m   1121\u001b[0m     \u001b[0;32melse\u001b[0m\u001b[0;34m:\u001b[0m\u001b[0;34m\u001b[0m\u001b[0m\n\u001b[1;32m   1122\u001b[0m       \u001b[0mresults\u001b[0m \u001b[0;34m=\u001b[0m \u001b[0;34m[\u001b[0m\u001b[0;34m]\u001b[0m\u001b[0;34m\u001b[0m\u001b[0m\n",
      "\u001b[0;32m~/anaconda3/envs/dl/lib/python3.5/site-packages/tensorflow/python/client/session.py\u001b[0m in \u001b[0;36m_do_run\u001b[0;34m(self, handle, target_list, fetch_list, feed_dict, options, run_metadata)\u001b[0m\n\u001b[1;32m   1315\u001b[0m     \u001b[0;32mif\u001b[0m \u001b[0mhandle\u001b[0m \u001b[0;32mis\u001b[0m \u001b[0;32mNone\u001b[0m\u001b[0;34m:\u001b[0m\u001b[0;34m\u001b[0m\u001b[0m\n\u001b[1;32m   1316\u001b[0m       return self._do_call(_run_fn, self._session, feeds, fetches, targets,\n\u001b[0;32m-> 1317\u001b[0;31m                            options, run_metadata)\n\u001b[0m\u001b[1;32m   1318\u001b[0m     \u001b[0;32melse\u001b[0m\u001b[0;34m:\u001b[0m\u001b[0;34m\u001b[0m\u001b[0m\n\u001b[1;32m   1319\u001b[0m       \u001b[0;32mreturn\u001b[0m \u001b[0mself\u001b[0m\u001b[0;34m.\u001b[0m\u001b[0m_do_call\u001b[0m\u001b[0;34m(\u001b[0m\u001b[0m_prun_fn\u001b[0m\u001b[0;34m,\u001b[0m \u001b[0mself\u001b[0m\u001b[0;34m.\u001b[0m\u001b[0m_session\u001b[0m\u001b[0;34m,\u001b[0m \u001b[0mhandle\u001b[0m\u001b[0;34m,\u001b[0m \u001b[0mfeeds\u001b[0m\u001b[0;34m,\u001b[0m \u001b[0mfetches\u001b[0m\u001b[0;34m)\u001b[0m\u001b[0;34m\u001b[0m\u001b[0m\n",
      "\u001b[0;32m~/anaconda3/envs/dl/lib/python3.5/site-packages/tensorflow/python/client/session.py\u001b[0m in \u001b[0;36m_do_call\u001b[0;34m(self, fn, *args)\u001b[0m\n\u001b[1;32m   1321\u001b[0m   \u001b[0;32mdef\u001b[0m \u001b[0m_do_call\u001b[0m\u001b[0;34m(\u001b[0m\u001b[0mself\u001b[0m\u001b[0;34m,\u001b[0m \u001b[0mfn\u001b[0m\u001b[0;34m,\u001b[0m \u001b[0;34m*\u001b[0m\u001b[0margs\u001b[0m\u001b[0;34m)\u001b[0m\u001b[0;34m:\u001b[0m\u001b[0;34m\u001b[0m\u001b[0m\n\u001b[1;32m   1322\u001b[0m     \u001b[0;32mtry\u001b[0m\u001b[0;34m:\u001b[0m\u001b[0;34m\u001b[0m\u001b[0m\n\u001b[0;32m-> 1323\u001b[0;31m       \u001b[0;32mreturn\u001b[0m \u001b[0mfn\u001b[0m\u001b[0;34m(\u001b[0m\u001b[0;34m*\u001b[0m\u001b[0margs\u001b[0m\u001b[0;34m)\u001b[0m\u001b[0;34m\u001b[0m\u001b[0m\n\u001b[0m\u001b[1;32m   1324\u001b[0m     \u001b[0;32mexcept\u001b[0m \u001b[0merrors\u001b[0m\u001b[0;34m.\u001b[0m\u001b[0mOpError\u001b[0m \u001b[0;32mas\u001b[0m \u001b[0me\u001b[0m\u001b[0;34m:\u001b[0m\u001b[0;34m\u001b[0m\u001b[0m\n\u001b[1;32m   1325\u001b[0m       \u001b[0mmessage\u001b[0m \u001b[0;34m=\u001b[0m \u001b[0mcompat\u001b[0m\u001b[0;34m.\u001b[0m\u001b[0mas_text\u001b[0m\u001b[0;34m(\u001b[0m\u001b[0me\u001b[0m\u001b[0;34m.\u001b[0m\u001b[0mmessage\u001b[0m\u001b[0;34m)\u001b[0m\u001b[0;34m\u001b[0m\u001b[0m\n",
      "\u001b[0;32m~/anaconda3/envs/dl/lib/python3.5/site-packages/tensorflow/python/client/session.py\u001b[0m in \u001b[0;36m_run_fn\u001b[0;34m(session, feed_dict, fetch_list, target_list, options, run_metadata)\u001b[0m\n\u001b[1;32m   1300\u001b[0m           return tf_session.TF_Run(session, options,\n\u001b[1;32m   1301\u001b[0m                                    \u001b[0mfeed_dict\u001b[0m\u001b[0;34m,\u001b[0m \u001b[0mfetch_list\u001b[0m\u001b[0;34m,\u001b[0m \u001b[0mtarget_list\u001b[0m\u001b[0;34m,\u001b[0m\u001b[0;34m\u001b[0m\u001b[0m\n\u001b[0;32m-> 1302\u001b[0;31m                                    status, run_metadata)\n\u001b[0m\u001b[1;32m   1303\u001b[0m \u001b[0;34m\u001b[0m\u001b[0m\n\u001b[1;32m   1304\u001b[0m     \u001b[0;32mdef\u001b[0m \u001b[0m_prun_fn\u001b[0m\u001b[0;34m(\u001b[0m\u001b[0msession\u001b[0m\u001b[0;34m,\u001b[0m \u001b[0mhandle\u001b[0m\u001b[0;34m,\u001b[0m \u001b[0mfeed_dict\u001b[0m\u001b[0;34m,\u001b[0m \u001b[0mfetch_list\u001b[0m\u001b[0;34m)\u001b[0m\u001b[0;34m:\u001b[0m\u001b[0;34m\u001b[0m\u001b[0m\n",
      "\u001b[0;31mKeyboardInterrupt\u001b[0m: "
     ]
    }
   ],
   "source": [
    "history_2 = model_2.fit_generator(\n",
    "                    train_generator_2,\n",
    "                    steps_per_epoch = int(np.ceil(train_total_2/batch_size_2)),\n",
    "                    epochs=100,\n",
    "                    validation_data=validation_generator_2,\n",
    "                    validation_steps= int(np.ceil(validation_total_2/batch_size_2)),\n",
    "                    verbose=2,\n",
    "                    callbacks=callbacks)"
   ]
  },
  {
   "cell_type": "code",
   "execution_count": 33,
   "metadata": {
    "ExecuteTime": {
     "end_time": "2018-01-05T12:13:06.516914Z",
     "start_time": "2018-01-05T12:13:06.365557Z"
    },
    "collapsed": true
   },
   "outputs": [],
   "source": [
    "model_2.load_weights('10_mobilenet_from_scratch_save_best_model_2_v3.hdf5')"
   ]
  },
  {
   "cell_type": "code",
   "execution_count": 34,
   "metadata": {
    "ExecuteTime": {
     "end_time": "2018-01-05T12:13:08.478056Z",
     "start_time": "2018-01-05T12:13:08.448089Z"
    },
    "collapsed": true
   },
   "outputs": [],
   "source": [
    "model_2.compile(loss='categorical_crossentropy',\n",
    "             optimizer=RMSprop(lr=1e-4),\n",
    "             metrics=['accuracy'])"
   ]
  },
  {
   "cell_type": "code",
   "execution_count": 97,
   "metadata": {
    "ExecuteTime": {
     "end_time": "2018-01-05T10:17:43.523620Z",
     "start_time": "2018-01-05T10:06:16.793583Z"
    }
   },
   "outputs": [
    {
     "name": "stdout",
     "output_type": "stream",
     "text": [
      "Epoch 1/100\n",
      "Epoch 00000: val_loss did not improve\n",
      "21s - loss: 0.3105 - acc: 0.8787 - val_loss: 0.3154 - val_acc: 0.8820\n",
      "Epoch 2/100\n",
      "Epoch 00001: val_loss improved from 0.24675 to 0.23316, saving model to 10_mobilenet_from_scratch_save_best_model_2_v2.hdf5\n",
      "21s - loss: 0.3080 - acc: 0.8771 - val_loss: 0.2332 - val_acc: 0.8933\n",
      "Epoch 3/100\n",
      "Epoch 00002: val_loss did not improve\n",
      "15s - loss: 0.3026 - acc: 0.8745 - val_loss: 0.2804 - val_acc: 0.8764\n",
      "Epoch 4/100\n",
      "Epoch 00003: val_loss did not improve\n",
      "17s - loss: 0.2705 - acc: 0.8865 - val_loss: 0.2830 - val_acc: 0.8933\n",
      "Epoch 5/100\n",
      "Epoch 00004: val_loss did not improve\n",
      "15s - loss: 0.4147 - acc: 0.8425 - val_loss: 0.2850 - val_acc: 0.8876\n",
      "Epoch 6/100\n",
      "Epoch 00005: val_loss did not improve\n",
      "17s - loss: 0.2910 - acc: 0.8732 - val_loss: 0.2808 - val_acc: 0.8820\n",
      "Epoch 7/100\n",
      "Epoch 00006: val_loss did not improve\n",
      "16s - loss: 0.2714 - acc: 0.8797 - val_loss: 0.3314 - val_acc: 0.8820\n",
      "Epoch 8/100\n",
      "Epoch 00007: val_loss improved from 0.23316 to 0.19558, saving model to 10_mobilenet_from_scratch_save_best_model_2_v2.hdf5\n",
      "17s - loss: 0.3188 - acc: 0.8823 - val_loss: 0.1956 - val_acc: 0.8989\n",
      "Epoch 9/100\n",
      "Epoch 00008: val_loss did not improve\n",
      "16s - loss: 0.2305 - acc: 0.9048 - val_loss: 0.2827 - val_acc: 0.8764\n",
      "Epoch 10/100\n",
      "Epoch 00009: val_loss did not improve\n",
      "15s - loss: 0.3679 - acc: 0.8493 - val_loss: 0.2644 - val_acc: 0.8876\n",
      "Epoch 11/100\n",
      "Epoch 00010: val_loss did not improve\n",
      "16s - loss: 0.2352 - acc: 0.9061 - val_loss: 0.2454 - val_acc: 0.8989\n",
      "Epoch 12/100\n",
      "Epoch 00011: val_loss improved from 0.19558 to 0.19454, saving model to 10_mobilenet_from_scratch_save_best_model_2_v2.hdf5\n",
      "21s - loss: 0.2701 - acc: 0.8780 - val_loss: 0.1945 - val_acc: 0.9213\n",
      "Epoch 13/100\n",
      "Epoch 00012: val_loss did not improve\n",
      "21s - loss: 0.2431 - acc: 0.8891 - val_loss: 0.3135 - val_acc: 0.8764\n",
      "Epoch 14/100\n",
      "Epoch 00013: val_loss did not improve\n",
      "21s - loss: 0.2831 - acc: 0.8771 - val_loss: 0.2300 - val_acc: 0.9045\n",
      "Epoch 15/100\n",
      "Epoch 00014: val_loss did not improve\n",
      "20s - loss: 0.2383 - acc: 0.9005 - val_loss: 0.2362 - val_acc: 0.9101\n",
      "Epoch 16/100\n",
      "Epoch 00015: val_loss did not improve\n",
      "23s - loss: 0.2315 - acc: 0.9061 - val_loss: 0.2641 - val_acc: 0.9045\n",
      "Epoch 17/100\n",
      "Epoch 00016: val_loss did not improve\n",
      "20s - loss: 0.2243 - acc: 0.9074 - val_loss: 0.2383 - val_acc: 0.9101\n",
      "Epoch 18/100\n",
      "Epoch 00017: val_loss did not improve\n",
      "\n",
      "Epoch 00017: reducing learning rate to 9.999999747378752e-06.\n",
      "20s - loss: 0.2604 - acc: 0.8924 - val_loss: 0.2406 - val_acc: 0.9101\n",
      "Epoch 19/100\n",
      "Epoch 00018: val_loss did not improve\n",
      "21s - loss: 0.2151 - acc: 0.9097 - val_loss: 0.3351 - val_acc: 0.8764\n",
      "Epoch 20/100\n",
      "Epoch 00019: val_loss did not improve\n",
      "21s - loss: 0.2749 - acc: 0.8784 - val_loss: 0.3121 - val_acc: 0.8539\n",
      "Epoch 21/100\n",
      "Epoch 00020: val_loss did not improve\n",
      "20s - loss: 0.3030 - acc: 0.8823 - val_loss: 0.2252 - val_acc: 0.9157\n",
      "Epoch 22/100\n",
      "Epoch 00021: val_loss did not improve\n",
      "22s - loss: 0.2405 - acc: 0.9005 - val_loss: 0.2638 - val_acc: 0.8933\n",
      "Epoch 23/100\n",
      "Epoch 00022: val_loss improved from 0.19454 to 0.19344, saving model to 10_mobilenet_from_scratch_save_best_model_2_v2.hdf5\n",
      "20s - loss: 0.2600 - acc: 0.8810 - val_loss: 0.1934 - val_acc: 0.9157\n",
      "Epoch 24/100\n",
      "Epoch 00023: val_loss did not improve\n",
      "23s - loss: 0.2717 - acc: 0.8732 - val_loss: 0.2788 - val_acc: 0.8876\n",
      "Epoch 25/100\n",
      "Epoch 00024: val_loss did not improve\n",
      "19s - loss: 0.2239 - acc: 0.9031 - val_loss: 0.3066 - val_acc: 0.8989\n",
      "Epoch 26/100\n",
      "Epoch 00025: val_loss did not improve\n",
      "22s - loss: 0.2490 - acc: 0.8957 - val_loss: 0.2991 - val_acc: 0.8652\n",
      "Epoch 27/100\n",
      "Epoch 00026: val_loss did not improve\n",
      "22s - loss: 0.2283 - acc: 0.8953 - val_loss: 0.2312 - val_acc: 0.8876\n",
      "Epoch 28/100\n",
      "Epoch 00027: val_loss did not improve\n",
      "21s - loss: 0.2626 - acc: 0.8940 - val_loss: 0.2622 - val_acc: 0.8933\n",
      "Epoch 29/100\n",
      "Epoch 00028: val_loss did not improve\n",
      "\n",
      "Epoch 00028: reducing learning rate to 9.999999747378752e-07.\n",
      "22s - loss: 0.2237 - acc: 0.9152 - val_loss: 0.2385 - val_acc: 0.9101\n",
      "Epoch 30/100\n",
      "Epoch 00029: val_loss did not improve\n",
      "20s - loss: 0.2350 - acc: 0.9139 - val_loss: 0.2469 - val_acc: 0.8989\n",
      "Epoch 31/100\n",
      "Epoch 00030: val_loss did not improve\n",
      "22s - loss: 0.2087 - acc: 0.9191 - val_loss: 0.2504 - val_acc: 0.9045\n",
      "Epoch 32/100\n",
      "Epoch 00031: val_loss did not improve\n",
      "21s - loss: 0.2465 - acc: 0.8996 - val_loss: 0.3115 - val_acc: 0.8596\n",
      "Epoch 33/100\n",
      "Epoch 00032: val_loss did not improve\n",
      "21s - loss: 0.1989 - acc: 0.9283 - val_loss: 0.2423 - val_acc: 0.9045\n",
      "Epoch 34/100\n",
      "Epoch 00033: val_loss did not improve\n",
      "\n",
      "Epoch 00033: reducing learning rate to 9.999999974752428e-08.\n",
      "21s - loss: 0.3176 - acc: 0.8705 - val_loss: 0.2618 - val_acc: 0.8933\n",
      "Epoch 00033: early stopping\n"
     ]
    }
   ],
   "source": [
    "history_2 = model_2.fit_generator(\n",
    "                    train_generator_2,\n",
    "                    steps_per_epoch = int(np.ceil(train_total_2/batch_size_2)),\n",
    "                    epochs=100,\n",
    "                    validation_data=validation_generator_2,\n",
    "                    validation_steps= int(np.ceil(validation_total_2/batch_size_2)),\n",
    "                    verbose=2,\n",
    "                    callbacks=callbacks)"
   ]
  },
  {
   "cell_type": "code",
   "execution_count": 35,
   "metadata": {
    "ExecuteTime": {
     "end_time": "2018-01-05T12:13:13.721790Z",
     "start_time": "2018-01-05T12:13:13.718231Z"
    },
    "collapsed": true
   },
   "outputs": [],
   "source": [
    "callbacks = [ModelCheckpoint(filepath='10_mobilenet_from_scratch_save_best_model_2_v3_temp.hdf5', verbose=1, save_best_only=True, save_weights_only=True),\n",
    "ReduceLROnPlateau(monitor='val_loss', factor=0.1, patience=5, verbose=1),\n",
    "EarlyStopping(monitor='val_loss', patience=10, verbose=1),\n",
    "CSVLogger('./10-metrics_model_2_v2.csv')]"
   ]
  },
  {
   "cell_type": "code",
   "execution_count": 36,
   "metadata": {
    "ExecuteTime": {
     "end_time": "2018-01-05T12:13:14.498298Z",
     "start_time": "2018-01-05T12:13:14.050963Z"
    },
    "collapsed": true
   },
   "outputs": [],
   "source": [
    "model_2.load_weights('10_mobilenet_from_scratch_save_best_model_2_v3.hdf5')"
   ]
  },
  {
   "cell_type": "code",
   "execution_count": 100,
   "metadata": {
    "ExecuteTime": {
     "end_time": "2018-01-05T10:19:12.569337Z",
     "start_time": "2018-01-05T10:19:12.542966Z"
    },
    "collapsed": true
   },
   "outputs": [],
   "source": [
    "model_2.compile(loss='categorical_crossentropy',\n",
    "             optimizer=RMSprop(lr=1e-5),\n",
    "             metrics=['accuracy'])"
   ]
  },
  {
   "cell_type": "code",
   "execution_count": 101,
   "metadata": {
    "ExecuteTime": {
     "end_time": "2018-01-05T10:28:16.961942Z",
     "start_time": "2018-01-05T10:19:27.127326Z"
    }
   },
   "outputs": [
    {
     "name": "stdout",
     "output_type": "stream",
     "text": [
      "Epoch 1/100\n",
      "Epoch 00000: val_loss improved from inf to 0.28032, saving model to 10_mobilenet_from_scratch_save_best_model_2_v2_temp.hdf5\n",
      "24s - loss: 0.2570 - acc: 0.9087 - val_loss: 0.2803 - val_acc: 0.8764\n",
      "Epoch 2/100\n",
      "Epoch 00001: val_loss improved from 0.28032 to 0.22758, saving model to 10_mobilenet_from_scratch_save_best_model_2_v2_temp.hdf5\n",
      "23s - loss: 0.2004 - acc: 0.9191 - val_loss: 0.2276 - val_acc: 0.9270\n",
      "Epoch 3/100\n",
      "Epoch 00002: val_loss improved from 0.22758 to 0.19548, saving model to 10_mobilenet_from_scratch_save_best_model_2_v2_temp.hdf5\n",
      "22s - loss: 0.2401 - acc: 0.8970 - val_loss: 0.1955 - val_acc: 0.9101\n",
      "Epoch 4/100\n",
      "Epoch 00003: val_loss did not improve\n",
      "21s - loss: 0.2041 - acc: 0.9087 - val_loss: 0.2615 - val_acc: 0.9045\n",
      "Epoch 5/100\n",
      "Epoch 00004: val_loss did not improve\n",
      "20s - loss: 0.2867 - acc: 0.8862 - val_loss: 0.2840 - val_acc: 0.8820\n",
      "Epoch 6/100\n",
      "Epoch 00005: val_loss did not improve\n",
      "21s - loss: 0.2385 - acc: 0.8953 - val_loss: 0.2637 - val_acc: 0.8933\n",
      "Epoch 7/100\n",
      "Epoch 00006: val_loss did not improve\n",
      "22s - loss: 0.2254 - acc: 0.9074 - val_loss: 0.2607 - val_acc: 0.8876\n",
      "Epoch 8/100\n",
      "Epoch 00007: val_loss did not improve\n",
      "21s - loss: 0.2717 - acc: 0.8823 - val_loss: 0.3002 - val_acc: 0.8764\n",
      "Epoch 9/100\n",
      "Epoch 00008: val_loss did not improve\n",
      "\n",
      "Epoch 00008: reducing learning rate to 9.999999747378752e-07.\n",
      "22s - loss: 0.1926 - acc: 0.9244 - val_loss: 0.2353 - val_acc: 0.9101\n",
      "Epoch 10/100\n",
      "Epoch 00009: val_loss did not improve\n",
      "20s - loss: 0.2381 - acc: 0.9100 - val_loss: 0.2545 - val_acc: 0.9045\n",
      "Epoch 11/100\n",
      "Epoch 00010: val_loss did not improve\n",
      "21s - loss: 0.2784 - acc: 0.8806 - val_loss: 0.2780 - val_acc: 0.8933\n",
      "Epoch 12/100\n",
      "Epoch 00011: val_loss did not improve\n",
      "22s - loss: 0.2699 - acc: 0.8728 - val_loss: 0.2614 - val_acc: 0.8933\n",
      "Epoch 13/100\n",
      "Epoch 00012: val_loss improved from 0.19548 to 0.18462, saving model to 10_mobilenet_from_scratch_save_best_model_2_v2_temp.hdf5\n",
      "20s - loss: 0.2105 - acc: 0.9126 - val_loss: 0.1846 - val_acc: 0.9101\n",
      "Epoch 14/100\n",
      "Epoch 00013: val_loss did not improve\n",
      "22s - loss: 0.2427 - acc: 0.9035 - val_loss: 0.3107 - val_acc: 0.8708\n",
      "Epoch 15/100\n",
      "Epoch 00014: val_loss did not improve\n",
      "22s - loss: 0.2280 - acc: 0.9074 - val_loss: 0.2011 - val_acc: 0.9101\n",
      "Epoch 16/100\n",
      "Epoch 00015: val_loss did not improve\n",
      "21s - loss: 0.2331 - acc: 0.9165 - val_loss: 0.2366 - val_acc: 0.9045\n",
      "Epoch 17/100\n",
      "Epoch 00016: val_loss did not improve\n",
      "20s - loss: 0.2501 - acc: 0.9035 - val_loss: 0.2851 - val_acc: 0.8933\n",
      "Epoch 18/100\n",
      "Epoch 00017: val_loss did not improve\n",
      "23s - loss: 0.2225 - acc: 0.9087 - val_loss: 0.2611 - val_acc: 0.8933\n",
      "Epoch 19/100\n",
      "Epoch 00018: val_loss did not improve\n",
      "\n",
      "Epoch 00018: reducing learning rate to 9.999999974752428e-08.\n",
      "21s - loss: 0.2445 - acc: 0.9074 - val_loss: 0.2991 - val_acc: 0.8764\n",
      "Epoch 20/100\n",
      "Epoch 00019: val_loss did not improve\n",
      "22s - loss: 0.2827 - acc: 0.8819 - val_loss: 0.2940 - val_acc: 0.8933\n",
      "Epoch 21/100\n",
      "Epoch 00020: val_loss did not improve\n",
      "22s - loss: 0.2335 - acc: 0.9022 - val_loss: 0.2723 - val_acc: 0.8764\n",
      "Epoch 22/100\n",
      "Epoch 00021: val_loss did not improve\n",
      "20s - loss: 0.2845 - acc: 0.8793 - val_loss: 0.2750 - val_acc: 0.8876\n",
      "Epoch 23/100\n",
      "Epoch 00022: val_loss did not improve\n",
      "22s - loss: 0.2442 - acc: 0.8996 - val_loss: 0.2574 - val_acc: 0.8933\n",
      "Epoch 24/100\n",
      "Epoch 00023: val_loss did not improve\n",
      "\n",
      "Epoch 00023: reducing learning rate to 1.0000000116860975e-08.\n",
      "23s - loss: 0.2255 - acc: 0.9035 - val_loss: 0.2607 - val_acc: 0.8933\n",
      "Epoch 00023: early stopping\n"
     ]
    }
   ],
   "source": [
    "history_2 = model_2.fit_generator(\n",
    "                    train_generator_2,\n",
    "                    steps_per_epoch = int(np.ceil(train_total_2/batch_size_2)),\n",
    "                    epochs=100,\n",
    "                    validation_data=validation_generator_2,\n",
    "                    validation_steps= int(np.ceil(validation_total_2/batch_size_2)),\n",
    "                    verbose=2,\n",
    "                    callbacks=callbacks)"
   ]
  },
  {
   "cell_type": "code",
   "execution_count": 102,
   "metadata": {
    "ExecuteTime": {
     "end_time": "2018-01-05T10:29:01.406483Z",
     "start_time": "2018-01-05T10:29:01.322439Z"
    },
    "collapsed": true
   },
   "outputs": [],
   "source": [
    "model_2.load_weights('10_mobilenet_from_scratch_save_best_model_2_v3_temp.hdf5')"
   ]
  },
  {
   "cell_type": "code",
   "execution_count": 37,
   "metadata": {
    "ExecuteTime": {
     "end_time": "2018-01-05T12:13:34.997331Z",
     "start_time": "2018-01-05T12:13:30.479137Z"
    }
   },
   "outputs": [
    {
     "data": {
      "text/plain": [
       "[0.19622431861974424, 0.93258426966292129]"
      ]
     },
     "execution_count": 37,
     "metadata": {},
     "output_type": "execute_result"
    }
   ],
   "source": [
    "model_2.evaluate_generator(validation_generator_2, int(np.ceil(validation_total_2/batch_size_2)))"
   ]
  },
  {
   "cell_type": "code",
   "execution_count": 38,
   "metadata": {
    "ExecuteTime": {
     "end_time": "2018-01-05T12:13:37.702285Z",
     "start_time": "2018-01-05T12:13:37.593871Z"
    }
   },
   "outputs": [
    {
     "name": "stdout",
     "output_type": "stream",
     "text": [
      "Found 178 images belonging to 2 classes.\n"
     ]
    }
   ],
   "source": [
    "validation_generator_2 = validation_datagen.flow_from_directory(\n",
    "                        'validation_2',\n",
    "                        target_size=(image_size_2,image_size_2),\n",
    "                        batch_size=batch_size_2,\n",
    "                        class_mode='categorical',\n",
    "                        shuffle=False)"
   ]
  },
  {
   "cell_type": "code",
   "execution_count": 39,
   "metadata": {
    "ExecuteTime": {
     "end_time": "2018-01-05T12:13:42.449209Z",
     "start_time": "2018-01-05T12:13:37.963736Z"
    },
    "collapsed": true
   },
   "outputs": [],
   "source": [
    "predictions_valid_2 = model_2.predict_generator(validation_generator_2,int(np.ceil(validation_total_2/batch_size_2)))\n",
    "predictions_valid_2 = np.argmax(predictions_valid_2, axis=1)\n"
   ]
  },
  {
   "cell_type": "code",
   "execution_count": 40,
   "metadata": {
    "ExecuteTime": {
     "end_time": "2018-01-05T12:13:42.453552Z",
     "start_time": "2018-01-05T12:13:42.450669Z"
    }
   },
   "outputs": [
    {
     "data": {
      "text/plain": [
       "178"
      ]
     },
     "execution_count": 40,
     "metadata": {},
     "output_type": "execute_result"
    }
   ],
   "source": [
    "len(predictions_valid_2)"
   ]
  },
  {
   "cell_type": "code",
   "execution_count": 41,
   "metadata": {
    "ExecuteTime": {
     "end_time": "2018-01-05T12:13:43.405984Z",
     "start_time": "2018-01-05T12:13:43.397408Z"
    },
    "collapsed": true
   },
   "outputs": [],
   "source": [
    "true_positive_2 = np.zeros(2)\n",
    "false_positive_2 = np.zeros(2)\n",
    "true_negative_2 = np.zeros(2)\n",
    "false_negative_2 = np.zeros(2)\n",
    "for i in range(len(predictions_valid_2)):\n",
    "    if(predictions_valid_2[i]==validation_generator_2.classes[i]):\n",
    "        true_positive_2[predictions_valid_2[i]] = true_positive_2[predictions_valid_2[i]] + 1\n",
    "    else:\n",
    "        false_positive_2[predictions_valid_2[i]] = false_positive_2[predictions_valid_2[i]] + 1\n",
    "        false_negative_2[validation_generator_2.classes[i]] = false_negative_2[validation_generator_2.classes[i]] +1"
   ]
  },
  {
   "cell_type": "code",
   "execution_count": 42,
   "metadata": {
    "ExecuteTime": {
     "end_time": "2018-01-05T12:13:44.649262Z",
     "start_time": "2018-01-05T12:13:44.642813Z"
    }
   },
   "outputs": [
    {
     "name": "stdout",
     "output_type": "stream",
     "text": [
      "true_positive_2\n",
      "[  37.  129.]\n",
      "false_positive_2\n",
      "[  2.  10.]\n",
      "false_negative_2\n",
      "[ 10.   2.]\n",
      "Total_2\n",
      "[  47.  131.]\n"
     ]
    }
   ],
   "source": [
    "print('true_positive_2')\n",
    "print(true_positive_2)\n",
    "print('false_positive_2')\n",
    "print(false_positive_2)\n",
    "print('false_negative_2')\n",
    "print(false_negative_2)\n",
    "print('Total_2')\n",
    "print(true_positive_2+false_negative_2)"
   ]
  },
  {
   "cell_type": "code",
   "execution_count": 43,
   "metadata": {
    "ExecuteTime": {
     "end_time": "2018-01-05T12:13:49.416700Z",
     "start_time": "2018-01-05T12:13:49.307218Z"
    }
   },
   "outputs": [
    {
     "name": "stdout",
     "output_type": "stream",
     "text": [
      "Found 794 images belonging to 1 classes.\n"
     ]
    }
   ],
   "source": [
    "test_datagen = ImageDataGenerator(rescale = 1./255)\n",
    "test_generator = test_datagen.flow_from_directory(\n",
    "                    'test',\n",
    "                    shuffle=False,\n",
    "                    target_size=(image_size,image_size),\n",
    "                    batch_size=batch_size,\n",
    "                    class_mode=None)\n"
   ]
  },
  {
   "cell_type": "code",
   "execution_count": 44,
   "metadata": {
    "ExecuteTime": {
     "end_time": "2018-01-05T12:13:53.584522Z",
     "start_time": "2018-01-05T12:13:50.057112Z"
    },
    "collapsed": true
   },
   "outputs": [],
   "source": [
    "predictions = model.predict_generator(test_generator,int(np.ceil(794/batch_size)))\n",
    "class_ids = {train_generator.class_indices[x]: x for x in train_generator.class_indices}\n",
    "predicted_classes = [class_ids[x] for x in np.argmax(predictions, axis=1)]\n"
   ]
  },
  {
   "cell_type": "code",
   "execution_count": 45,
   "metadata": {
    "ExecuteTime": {
     "end_time": "2018-01-05T12:13:53.591931Z",
     "start_time": "2018-01-05T12:13:53.586078Z"
    },
    "collapsed": true
   },
   "outputs": [],
   "source": [
    "num_class_0 = 0\n",
    "num_class_6 = 0\n",
    "for i in np.argmax(predictions, axis=1):\n",
    "    if(i==0):\n",
    "        num_class_0 = num_class_0 +1\n",
    "    elif(i==6):\n",
    "        num_class_6 = num_class_6 +1\n",
    "        "
   ]
  },
  {
   "cell_type": "code",
   "execution_count": 46,
   "metadata": {
    "ExecuteTime": {
     "end_time": "2018-01-05T12:13:53.768856Z",
     "start_time": "2018-01-05T12:13:53.593723Z"
    },
    "collapsed": true
   },
   "outputs": [],
   "source": [
    "indexes = []\n",
    "for i in range(len(np.argmax(predictions, axis=1))):\n",
    "    if((np.argmax(predictions, axis=1)[i]==0) or (np.argmax(predictions, axis=1)[i]==6)):\n",
    "        indexes.append(i)"
   ]
  },
  {
   "cell_type": "code",
   "execution_count": 47,
   "metadata": {
    "ExecuteTime": {
     "end_time": "2018-01-05T12:13:53.961265Z",
     "start_time": "2018-01-05T12:13:53.850941Z"
    }
   },
   "outputs": [
    {
     "name": "stdout",
     "output_type": "stream",
     "text": [
      "Found 794 images belonging to 1 classes.\n"
     ]
    }
   ],
   "source": [
    "test_datagen = ImageDataGenerator(rescale = 1./255)\n",
    "test_generator = test_datagen.flow_from_directory(\n",
    "                    'test',\n",
    "                    shuffle=False,\n",
    "                    target_size=(image_size_2,image_size_2),\n",
    "                    batch_size=batch_size,\n",
    "                    class_mode=None)\n"
   ]
  },
  {
   "cell_type": "code",
   "execution_count": 48,
   "metadata": {
    "ExecuteTime": {
     "end_time": "2018-01-05T12:13:54.955033Z",
     "start_time": "2018-01-05T12:13:54.944080Z"
    }
   },
   "outputs": [
    {
     "ename": "NameError",
     "evalue": "name 'class_ids_2' is not defined",
     "output_type": "error",
     "traceback": [
      "\u001b[0;31m---------------------------------------------------------------------------\u001b[0m",
      "\u001b[0;31mNameError\u001b[0m                                 Traceback (most recent call last)",
      "\u001b[0;32m<ipython-input-48-2f32ef7bb7ef>\u001b[0m in \u001b[0;36m<module>\u001b[0;34m()\u001b[0m\n\u001b[0;32m----> 1\u001b[0;31m \u001b[0mclass_ids_2\u001b[0m\u001b[0;34m\u001b[0m\u001b[0m\n\u001b[0m",
      "\u001b[0;31mNameError\u001b[0m: name 'class_ids_2' is not defined"
     ]
    }
   ],
   "source": [
    "class_ids_2"
   ]
  },
  {
   "cell_type": "code",
   "execution_count": 49,
   "metadata": {
    "ExecuteTime": {
     "end_time": "2018-01-05T12:14:17.067274Z",
     "start_time": "2018-01-05T12:14:04.796010Z"
    },
    "collapsed": true
   },
   "outputs": [],
   "source": [
    "predictions_2 = model_2.predict_generator(test_generator,int(np.ceil(794/batch_size)))\n",
    "class_ids_2 = {train_generator_2.class_indices[x]: x for x in train_generator_2.class_indices}\n",
    "predicted_classes_2 = [class_ids_2[x] for x in np.argmax(predictions_2, axis=1)]\n"
   ]
  },
  {
   "cell_type": "code",
   "execution_count": 50,
   "metadata": {
    "ExecuteTime": {
     "end_time": "2018-01-05T12:14:17.080422Z",
     "start_time": "2018-01-05T12:14:17.068879Z"
    },
    "collapsed": true
   },
   "outputs": [
    {
     "data": {
      "text/plain": [
       "['Black-grass',\n",
       " 'Loose Silky-bent',\n",
       " 'Black-grass',\n",
       " 'Black-grass',\n",
       " 'Loose Silky-bent',\n",
       " 'Black-grass',\n",
       " 'Loose Silky-bent',\n",
       " 'Black-grass',\n",
       " 'Black-grass',\n",
       " 'Loose Silky-bent',\n",
       " 'Black-grass',\n",
       " 'Black-grass',\n",
       " 'Black-grass',\n",
       " 'Black-grass',\n",
       " 'Black-grass',\n",
       " 'Black-grass',\n",
       " 'Loose Silky-bent',\n",
       " 'Loose Silky-bent',\n",
       " 'Black-grass',\n",
       " 'Black-grass',\n",
       " 'Loose Silky-bent',\n",
       " 'Black-grass',\n",
       " 'Black-grass',\n",
       " 'Black-grass',\n",
       " 'Black-grass',\n",
       " 'Loose Silky-bent',\n",
       " 'Black-grass',\n",
       " 'Black-grass',\n",
       " 'Black-grass',\n",
       " 'Black-grass',\n",
       " 'Loose Silky-bent',\n",
       " 'Black-grass',\n",
       " 'Loose Silky-bent',\n",
       " 'Black-grass',\n",
       " 'Black-grass',\n",
       " 'Black-grass',\n",
       " 'Black-grass',\n",
       " 'Black-grass',\n",
       " 'Loose Silky-bent',\n",
       " 'Loose Silky-bent',\n",
       " 'Black-grass',\n",
       " 'Black-grass',\n",
       " 'Loose Silky-bent',\n",
       " 'Black-grass',\n",
       " 'Black-grass',\n",
       " 'Loose Silky-bent',\n",
       " 'Black-grass',\n",
       " 'Black-grass',\n",
       " 'Black-grass',\n",
       " 'Black-grass',\n",
       " 'Black-grass',\n",
       " 'Loose Silky-bent',\n",
       " 'Loose Silky-bent',\n",
       " 'Black-grass',\n",
       " 'Loose Silky-bent',\n",
       " 'Loose Silky-bent',\n",
       " 'Black-grass',\n",
       " 'Black-grass',\n",
       " 'Black-grass',\n",
       " 'Black-grass',\n",
       " 'Loose Silky-bent',\n",
       " 'Black-grass',\n",
       " 'Black-grass',\n",
       " 'Black-grass',\n",
       " 'Black-grass',\n",
       " 'Black-grass',\n",
       " 'Loose Silky-bent',\n",
       " 'Black-grass',\n",
       " 'Black-grass',\n",
       " 'Black-grass',\n",
       " 'Loose Silky-bent',\n",
       " 'Black-grass',\n",
       " 'Black-grass',\n",
       " 'Black-grass',\n",
       " 'Black-grass',\n",
       " 'Black-grass',\n",
       " 'Black-grass',\n",
       " 'Black-grass',\n",
       " 'Black-grass',\n",
       " 'Black-grass',\n",
       " 'Loose Silky-bent',\n",
       " 'Black-grass',\n",
       " 'Loose Silky-bent',\n",
       " 'Black-grass',\n",
       " 'Black-grass',\n",
       " 'Black-grass',\n",
       " 'Black-grass',\n",
       " 'Black-grass',\n",
       " 'Loose Silky-bent',\n",
       " 'Loose Silky-bent',\n",
       " 'Black-grass',\n",
       " 'Black-grass',\n",
       " 'Black-grass',\n",
       " 'Black-grass',\n",
       " 'Black-grass',\n",
       " 'Black-grass',\n",
       " 'Black-grass',\n",
       " 'Loose Silky-bent',\n",
       " 'Black-grass',\n",
       " 'Black-grass',\n",
       " 'Black-grass',\n",
       " 'Loose Silky-bent',\n",
       " 'Black-grass',\n",
       " 'Black-grass',\n",
       " 'Black-grass',\n",
       " 'Black-grass',\n",
       " 'Loose Silky-bent',\n",
       " 'Black-grass',\n",
       " 'Loose Silky-bent',\n",
       " 'Loose Silky-bent',\n",
       " 'Black-grass',\n",
       " 'Black-grass',\n",
       " 'Black-grass',\n",
       " 'Black-grass',\n",
       " 'Black-grass',\n",
       " 'Black-grass',\n",
       " 'Black-grass',\n",
       " 'Black-grass',\n",
       " 'Black-grass',\n",
       " 'Black-grass',\n",
       " 'Black-grass',\n",
       " 'Black-grass',\n",
       " 'Black-grass',\n",
       " 'Black-grass',\n",
       " 'Loose Silky-bent',\n",
       " 'Black-grass',\n",
       " 'Black-grass',\n",
       " 'Black-grass',\n",
       " 'Black-grass',\n",
       " 'Black-grass',\n",
       " 'Black-grass',\n",
       " 'Black-grass',\n",
       " 'Loose Silky-bent',\n",
       " 'Black-grass',\n",
       " 'Black-grass',\n",
       " 'Loose Silky-bent',\n",
       " 'Loose Silky-bent',\n",
       " 'Black-grass',\n",
       " 'Black-grass',\n",
       " 'Black-grass',\n",
       " 'Black-grass',\n",
       " 'Loose Silky-bent',\n",
       " 'Black-grass',\n",
       " 'Black-grass',\n",
       " 'Black-grass',\n",
       " 'Black-grass',\n",
       " 'Black-grass',\n",
       " 'Black-grass',\n",
       " 'Black-grass',\n",
       " 'Black-grass',\n",
       " 'Black-grass',\n",
       " 'Black-grass',\n",
       " 'Loose Silky-bent',\n",
       " 'Black-grass',\n",
       " 'Black-grass',\n",
       " 'Black-grass',\n",
       " 'Black-grass',\n",
       " 'Black-grass',\n",
       " 'Black-grass',\n",
       " 'Black-grass',\n",
       " 'Loose Silky-bent',\n",
       " 'Black-grass',\n",
       " 'Black-grass',\n",
       " 'Black-grass',\n",
       " 'Black-grass',\n",
       " 'Black-grass',\n",
       " 'Black-grass',\n",
       " 'Black-grass',\n",
       " 'Black-grass',\n",
       " 'Black-grass',\n",
       " 'Black-grass',\n",
       " 'Black-grass',\n",
       " 'Black-grass',\n",
       " 'Black-grass',\n",
       " 'Black-grass',\n",
       " 'Black-grass',\n",
       " 'Loose Silky-bent',\n",
       " 'Black-grass',\n",
       " 'Loose Silky-bent',\n",
       " 'Black-grass',\n",
       " 'Loose Silky-bent',\n",
       " 'Loose Silky-bent',\n",
       " 'Black-grass',\n",
       " 'Black-grass',\n",
       " 'Loose Silky-bent',\n",
       " 'Black-grass',\n",
       " 'Black-grass',\n",
       " 'Loose Silky-bent',\n",
       " 'Black-grass',\n",
       " 'Black-grass',\n",
       " 'Loose Silky-bent',\n",
       " 'Black-grass',\n",
       " 'Black-grass',\n",
       " 'Black-grass',\n",
       " 'Black-grass',\n",
       " 'Black-grass',\n",
       " 'Black-grass',\n",
       " 'Loose Silky-bent',\n",
       " 'Black-grass',\n",
       " 'Black-grass',\n",
       " 'Loose Silky-bent',\n",
       " 'Loose Silky-bent',\n",
       " 'Loose Silky-bent',\n",
       " 'Black-grass',\n",
       " 'Loose Silky-bent',\n",
       " 'Black-grass',\n",
       " 'Black-grass',\n",
       " 'Loose Silky-bent',\n",
       " 'Loose Silky-bent',\n",
       " 'Black-grass',\n",
       " 'Black-grass',\n",
       " 'Black-grass',\n",
       " 'Loose Silky-bent',\n",
       " 'Black-grass',\n",
       " 'Loose Silky-bent',\n",
       " 'Black-grass',\n",
       " 'Black-grass',\n",
       " 'Black-grass',\n",
       " 'Black-grass',\n",
       " 'Black-grass',\n",
       " 'Black-grass',\n",
       " 'Black-grass',\n",
       " 'Black-grass',\n",
       " 'Black-grass',\n",
       " 'Loose Silky-bent',\n",
       " 'Black-grass',\n",
       " 'Black-grass',\n",
       " 'Black-grass',\n",
       " 'Loose Silky-bent',\n",
       " 'Black-grass',\n",
       " 'Black-grass',\n",
       " 'Black-grass',\n",
       " 'Black-grass',\n",
       " 'Black-grass',\n",
       " 'Black-grass',\n",
       " 'Black-grass',\n",
       " 'Black-grass',\n",
       " 'Loose Silky-bent',\n",
       " 'Black-grass',\n",
       " 'Black-grass',\n",
       " 'Black-grass',\n",
       " 'Black-grass',\n",
       " 'Black-grass',\n",
       " 'Black-grass',\n",
       " 'Black-grass',\n",
       " 'Black-grass',\n",
       " 'Black-grass',\n",
       " 'Loose Silky-bent',\n",
       " 'Black-grass',\n",
       " 'Black-grass',\n",
       " 'Loose Silky-bent',\n",
       " 'Black-grass',\n",
       " 'Loose Silky-bent',\n",
       " 'Black-grass',\n",
       " 'Black-grass',\n",
       " 'Black-grass',\n",
       " 'Black-grass',\n",
       " 'Black-grass',\n",
       " 'Loose Silky-bent',\n",
       " 'Loose Silky-bent',\n",
       " 'Black-grass',\n",
       " 'Black-grass',\n",
       " 'Loose Silky-bent',\n",
       " 'Black-grass',\n",
       " 'Loose Silky-bent',\n",
       " 'Black-grass',\n",
       " 'Black-grass',\n",
       " 'Black-grass',\n",
       " 'Black-grass',\n",
       " 'Black-grass',\n",
       " 'Loose Silky-bent',\n",
       " 'Black-grass',\n",
       " 'Black-grass',\n",
       " 'Loose Silky-bent',\n",
       " 'Black-grass',\n",
       " 'Black-grass',\n",
       " 'Loose Silky-bent',\n",
       " 'Loose Silky-bent',\n",
       " 'Black-grass',\n",
       " 'Black-grass',\n",
       " 'Black-grass',\n",
       " 'Loose Silky-bent',\n",
       " 'Loose Silky-bent',\n",
       " 'Loose Silky-bent',\n",
       " 'Black-grass',\n",
       " 'Black-grass',\n",
       " 'Black-grass',\n",
       " 'Black-grass',\n",
       " 'Loose Silky-bent',\n",
       " 'Black-grass',\n",
       " 'Loose Silky-bent',\n",
       " 'Black-grass',\n",
       " 'Loose Silky-bent',\n",
       " 'Black-grass',\n",
       " 'Black-grass',\n",
       " 'Black-grass',\n",
       " 'Black-grass',\n",
       " 'Black-grass',\n",
       " 'Black-grass',\n",
       " 'Black-grass',\n",
       " 'Black-grass',\n",
       " 'Black-grass',\n",
       " 'Loose Silky-bent',\n",
       " 'Black-grass',\n",
       " 'Black-grass',\n",
       " 'Black-grass',\n",
       " 'Loose Silky-bent',\n",
       " 'Loose Silky-bent',\n",
       " 'Loose Silky-bent',\n",
       " 'Loose Silky-bent',\n",
       " 'Black-grass',\n",
       " 'Black-grass',\n",
       " 'Black-grass',\n",
       " 'Black-grass',\n",
       " 'Black-grass',\n",
       " 'Black-grass',\n",
       " 'Black-grass',\n",
       " 'Loose Silky-bent',\n",
       " 'Loose Silky-bent',\n",
       " 'Loose Silky-bent',\n",
       " 'Black-grass',\n",
       " 'Black-grass',\n",
       " 'Black-grass',\n",
       " 'Black-grass',\n",
       " 'Black-grass',\n",
       " 'Black-grass',\n",
       " 'Black-grass',\n",
       " 'Loose Silky-bent',\n",
       " 'Black-grass',\n",
       " 'Black-grass',\n",
       " 'Black-grass',\n",
       " 'Black-grass',\n",
       " 'Loose Silky-bent',\n",
       " 'Black-grass',\n",
       " 'Black-grass',\n",
       " 'Black-grass',\n",
       " 'Loose Silky-bent',\n",
       " 'Black-grass',\n",
       " 'Black-grass',\n",
       " 'Black-grass',\n",
       " 'Black-grass',\n",
       " 'Loose Silky-bent',\n",
       " 'Black-grass',\n",
       " 'Black-grass',\n",
       " 'Loose Silky-bent',\n",
       " 'Loose Silky-bent',\n",
       " 'Black-grass',\n",
       " 'Black-grass',\n",
       " 'Loose Silky-bent',\n",
       " 'Loose Silky-bent',\n",
       " 'Black-grass',\n",
       " 'Loose Silky-bent',\n",
       " 'Black-grass',\n",
       " 'Black-grass',\n",
       " 'Black-grass',\n",
       " 'Black-grass',\n",
       " 'Black-grass',\n",
       " 'Black-grass',\n",
       " 'Black-grass',\n",
       " 'Black-grass',\n",
       " 'Loose Silky-bent',\n",
       " 'Black-grass',\n",
       " 'Black-grass',\n",
       " 'Black-grass',\n",
       " 'Black-grass',\n",
       " 'Loose Silky-bent',\n",
       " 'Black-grass',\n",
       " 'Loose Silky-bent',\n",
       " 'Black-grass',\n",
       " 'Black-grass',\n",
       " 'Black-grass',\n",
       " 'Black-grass',\n",
       " 'Loose Silky-bent',\n",
       " 'Black-grass',\n",
       " 'Black-grass',\n",
       " 'Black-grass',\n",
       " 'Black-grass',\n",
       " 'Black-grass',\n",
       " 'Black-grass',\n",
       " 'Black-grass',\n",
       " 'Black-grass',\n",
       " 'Black-grass',\n",
       " 'Black-grass',\n",
       " 'Loose Silky-bent',\n",
       " 'Black-grass',\n",
       " 'Black-grass',\n",
       " 'Black-grass',\n",
       " 'Black-grass',\n",
       " 'Black-grass',\n",
       " 'Black-grass',\n",
       " 'Black-grass',\n",
       " 'Loose Silky-bent',\n",
       " 'Black-grass',\n",
       " 'Black-grass',\n",
       " 'Black-grass',\n",
       " 'Loose Silky-bent',\n",
       " 'Black-grass',\n",
       " 'Black-grass',\n",
       " 'Black-grass',\n",
       " 'Black-grass',\n",
       " 'Black-grass',\n",
       " 'Black-grass',\n",
       " 'Black-grass',\n",
       " 'Loose Silky-bent',\n",
       " 'Black-grass',\n",
       " 'Black-grass',\n",
       " 'Loose Silky-bent',\n",
       " 'Black-grass',\n",
       " 'Black-grass',\n",
       " 'Black-grass',\n",
       " 'Black-grass',\n",
       " 'Black-grass',\n",
       " 'Black-grass',\n",
       " 'Black-grass',\n",
       " 'Loose Silky-bent',\n",
       " 'Loose Silky-bent',\n",
       " 'Black-grass',\n",
       " 'Loose Silky-bent',\n",
       " 'Black-grass',\n",
       " 'Black-grass',\n",
       " 'Loose Silky-bent',\n",
       " 'Black-grass',\n",
       " 'Black-grass',\n",
       " 'Black-grass',\n",
       " 'Loose Silky-bent',\n",
       " 'Black-grass',\n",
       " 'Black-grass',\n",
       " 'Loose Silky-bent',\n",
       " 'Black-grass',\n",
       " 'Loose Silky-bent',\n",
       " 'Black-grass',\n",
       " 'Black-grass',\n",
       " 'Black-grass',\n",
       " 'Black-grass',\n",
       " 'Black-grass',\n",
       " 'Black-grass',\n",
       " 'Black-grass',\n",
       " 'Black-grass',\n",
       " 'Black-grass',\n",
       " 'Black-grass',\n",
       " 'Black-grass',\n",
       " 'Loose Silky-bent',\n",
       " 'Loose Silky-bent',\n",
       " 'Black-grass',\n",
       " 'Loose Silky-bent',\n",
       " 'Black-grass',\n",
       " 'Loose Silky-bent',\n",
       " 'Loose Silky-bent',\n",
       " 'Black-grass',\n",
       " 'Black-grass',\n",
       " 'Black-grass',\n",
       " 'Loose Silky-bent',\n",
       " 'Black-grass',\n",
       " 'Black-grass',\n",
       " 'Black-grass',\n",
       " 'Black-grass',\n",
       " 'Black-grass',\n",
       " 'Loose Silky-bent',\n",
       " 'Loose Silky-bent',\n",
       " 'Black-grass',\n",
       " 'Black-grass',\n",
       " 'Black-grass',\n",
       " 'Loose Silky-bent',\n",
       " 'Black-grass',\n",
       " 'Black-grass',\n",
       " 'Black-grass',\n",
       " 'Black-grass',\n",
       " 'Black-grass',\n",
       " 'Black-grass',\n",
       " 'Black-grass',\n",
       " 'Loose Silky-bent',\n",
       " 'Black-grass',\n",
       " 'Loose Silky-bent',\n",
       " 'Black-grass',\n",
       " 'Black-grass',\n",
       " 'Black-grass',\n",
       " 'Black-grass',\n",
       " 'Loose Silky-bent',\n",
       " 'Loose Silky-bent',\n",
       " 'Black-grass',\n",
       " 'Loose Silky-bent',\n",
       " 'Black-grass',\n",
       " 'Black-grass',\n",
       " 'Loose Silky-bent',\n",
       " 'Loose Silky-bent',\n",
       " 'Black-grass',\n",
       " 'Loose Silky-bent',\n",
       " 'Loose Silky-bent',\n",
       " 'Loose Silky-bent',\n",
       " 'Black-grass',\n",
       " 'Loose Silky-bent',\n",
       " 'Black-grass',\n",
       " 'Loose Silky-bent',\n",
       " 'Loose Silky-bent',\n",
       " 'Black-grass',\n",
       " 'Loose Silky-bent',\n",
       " 'Black-grass',\n",
       " 'Black-grass',\n",
       " 'Black-grass',\n",
       " 'Black-grass',\n",
       " 'Loose Silky-bent',\n",
       " 'Black-grass',\n",
       " 'Black-grass',\n",
       " 'Black-grass',\n",
       " 'Black-grass',\n",
       " 'Black-grass',\n",
       " 'Black-grass',\n",
       " 'Loose Silky-bent',\n",
       " 'Black-grass',\n",
       " 'Loose Silky-bent',\n",
       " 'Black-grass',\n",
       " 'Black-grass',\n",
       " 'Black-grass',\n",
       " 'Black-grass',\n",
       " 'Loose Silky-bent',\n",
       " 'Black-grass',\n",
       " 'Black-grass',\n",
       " 'Black-grass',\n",
       " 'Loose Silky-bent',\n",
       " 'Black-grass',\n",
       " 'Black-grass',\n",
       " 'Black-grass',\n",
       " 'Black-grass',\n",
       " 'Black-grass',\n",
       " 'Loose Silky-bent',\n",
       " 'Black-grass',\n",
       " 'Black-grass',\n",
       " 'Loose Silky-bent',\n",
       " 'Black-grass',\n",
       " 'Black-grass',\n",
       " 'Black-grass',\n",
       " 'Black-grass',\n",
       " 'Loose Silky-bent',\n",
       " 'Loose Silky-bent',\n",
       " 'Black-grass',\n",
       " 'Loose Silky-bent',\n",
       " 'Loose Silky-bent',\n",
       " 'Black-grass',\n",
       " 'Black-grass',\n",
       " 'Loose Silky-bent',\n",
       " 'Black-grass',\n",
       " 'Loose Silky-bent',\n",
       " 'Loose Silky-bent',\n",
       " 'Loose Silky-bent',\n",
       " 'Loose Silky-bent',\n",
       " 'Loose Silky-bent',\n",
       " 'Black-grass',\n",
       " 'Black-grass',\n",
       " 'Black-grass',\n",
       " 'Black-grass',\n",
       " 'Black-grass',\n",
       " 'Black-grass',\n",
       " 'Black-grass',\n",
       " 'Black-grass',\n",
       " 'Black-grass',\n",
       " 'Loose Silky-bent',\n",
       " 'Black-grass',\n",
       " 'Black-grass',\n",
       " 'Black-grass',\n",
       " 'Black-grass',\n",
       " 'Loose Silky-bent',\n",
       " 'Loose Silky-bent',\n",
       " 'Black-grass',\n",
       " 'Black-grass',\n",
       " 'Black-grass',\n",
       " 'Black-grass',\n",
       " 'Black-grass',\n",
       " 'Black-grass',\n",
       " 'Black-grass',\n",
       " 'Black-grass',\n",
       " 'Black-grass',\n",
       " 'Black-grass',\n",
       " 'Black-grass',\n",
       " 'Black-grass',\n",
       " 'Loose Silky-bent',\n",
       " 'Black-grass',\n",
       " 'Black-grass',\n",
       " 'Black-grass',\n",
       " 'Black-grass',\n",
       " 'Black-grass',\n",
       " 'Black-grass',\n",
       " 'Black-grass',\n",
       " 'Black-grass',\n",
       " 'Loose Silky-bent',\n",
       " 'Loose Silky-bent',\n",
       " 'Black-grass',\n",
       " 'Black-grass',\n",
       " 'Black-grass',\n",
       " 'Loose Silky-bent',\n",
       " 'Loose Silky-bent',\n",
       " 'Loose Silky-bent',\n",
       " 'Black-grass',\n",
       " 'Black-grass',\n",
       " 'Loose Silky-bent',\n",
       " 'Black-grass',\n",
       " 'Loose Silky-bent',\n",
       " 'Black-grass',\n",
       " 'Black-grass',\n",
       " 'Black-grass',\n",
       " 'Black-grass',\n",
       " 'Loose Silky-bent',\n",
       " 'Black-grass',\n",
       " 'Black-grass',\n",
       " 'Loose Silky-bent',\n",
       " 'Black-grass',\n",
       " 'Black-grass',\n",
       " 'Black-grass',\n",
       " 'Loose Silky-bent',\n",
       " 'Black-grass',\n",
       " 'Black-grass',\n",
       " 'Black-grass',\n",
       " 'Black-grass',\n",
       " 'Loose Silky-bent',\n",
       " 'Black-grass',\n",
       " 'Black-grass',\n",
       " 'Black-grass',\n",
       " 'Black-grass',\n",
       " 'Black-grass',\n",
       " 'Black-grass',\n",
       " 'Black-grass',\n",
       " 'Black-grass',\n",
       " 'Black-grass',\n",
       " 'Black-grass',\n",
       " 'Loose Silky-bent',\n",
       " 'Loose Silky-bent',\n",
       " 'Black-grass',\n",
       " 'Loose Silky-bent',\n",
       " 'Loose Silky-bent',\n",
       " 'Loose Silky-bent',\n",
       " 'Black-grass',\n",
       " 'Black-grass',\n",
       " 'Black-grass',\n",
       " 'Black-grass',\n",
       " 'Loose Silky-bent',\n",
       " 'Black-grass',\n",
       " 'Black-grass',\n",
       " 'Black-grass',\n",
       " 'Loose Silky-bent',\n",
       " 'Black-grass',\n",
       " 'Loose Silky-bent',\n",
       " 'Loose Silky-bent',\n",
       " 'Black-grass',\n",
       " 'Loose Silky-bent',\n",
       " 'Black-grass',\n",
       " 'Black-grass',\n",
       " 'Black-grass',\n",
       " 'Black-grass',\n",
       " 'Loose Silky-bent',\n",
       " 'Black-grass',\n",
       " 'Loose Silky-bent',\n",
       " 'Loose Silky-bent',\n",
       " 'Black-grass',\n",
       " 'Black-grass',\n",
       " 'Black-grass',\n",
       " 'Black-grass',\n",
       " 'Black-grass',\n",
       " 'Loose Silky-bent',\n",
       " 'Loose Silky-bent',\n",
       " 'Black-grass',\n",
       " 'Black-grass',\n",
       " 'Loose Silky-bent',\n",
       " 'Loose Silky-bent',\n",
       " 'Black-grass',\n",
       " 'Black-grass',\n",
       " 'Black-grass',\n",
       " 'Black-grass',\n",
       " 'Black-grass',\n",
       " 'Black-grass',\n",
       " 'Loose Silky-bent',\n",
       " 'Black-grass',\n",
       " 'Black-grass',\n",
       " 'Loose Silky-bent',\n",
       " 'Black-grass',\n",
       " 'Black-grass',\n",
       " 'Loose Silky-bent',\n",
       " 'Black-grass',\n",
       " 'Loose Silky-bent',\n",
       " 'Black-grass',\n",
       " 'Loose Silky-bent',\n",
       " 'Black-grass',\n",
       " 'Black-grass',\n",
       " 'Black-grass',\n",
       " 'Black-grass',\n",
       " 'Black-grass',\n",
       " 'Black-grass',\n",
       " 'Black-grass',\n",
       " 'Loose Silky-bent',\n",
       " 'Black-grass',\n",
       " 'Black-grass',\n",
       " 'Black-grass',\n",
       " 'Black-grass',\n",
       " 'Black-grass',\n",
       " 'Black-grass',\n",
       " 'Black-grass',\n",
       " 'Black-grass',\n",
       " 'Loose Silky-bent',\n",
       " 'Black-grass',\n",
       " 'Black-grass',\n",
       " 'Black-grass',\n",
       " 'Loose Silky-bent',\n",
       " 'Loose Silky-bent',\n",
       " 'Black-grass',\n",
       " 'Black-grass',\n",
       " 'Black-grass',\n",
       " 'Black-grass',\n",
       " 'Black-grass',\n",
       " 'Loose Silky-bent',\n",
       " 'Black-grass',\n",
       " 'Loose Silky-bent',\n",
       " 'Black-grass',\n",
       " 'Black-grass',\n",
       " 'Black-grass',\n",
       " 'Black-grass',\n",
       " 'Loose Silky-bent',\n",
       " 'Black-grass',\n",
       " 'Black-grass',\n",
       " 'Black-grass',\n",
       " 'Black-grass',\n",
       " 'Black-grass',\n",
       " 'Black-grass',\n",
       " 'Black-grass',\n",
       " 'Loose Silky-bent',\n",
       " 'Black-grass',\n",
       " 'Black-grass',\n",
       " 'Loose Silky-bent',\n",
       " 'Loose Silky-bent',\n",
       " 'Black-grass',\n",
       " 'Black-grass',\n",
       " 'Loose Silky-bent',\n",
       " 'Black-grass',\n",
       " 'Black-grass',\n",
       " 'Black-grass',\n",
       " 'Loose Silky-bent',\n",
       " 'Black-grass',\n",
       " 'Black-grass',\n",
       " 'Loose Silky-bent',\n",
       " 'Black-grass',\n",
       " 'Loose Silky-bent',\n",
       " 'Black-grass',\n",
       " 'Black-grass',\n",
       " 'Black-grass',\n",
       " 'Loose Silky-bent',\n",
       " 'Black-grass',\n",
       " 'Black-grass',\n",
       " 'Black-grass',\n",
       " 'Black-grass',\n",
       " 'Loose Silky-bent',\n",
       " 'Black-grass',\n",
       " 'Black-grass',\n",
       " 'Black-grass',\n",
       " 'Black-grass',\n",
       " 'Black-grass',\n",
       " 'Loose Silky-bent',\n",
       " 'Loose Silky-bent',\n",
       " 'Loose Silky-bent',\n",
       " 'Black-grass',\n",
       " 'Loose Silky-bent',\n",
       " 'Black-grass',\n",
       " 'Black-grass',\n",
       " 'Loose Silky-bent',\n",
       " 'Loose Silky-bent',\n",
       " 'Black-grass',\n",
       " 'Loose Silky-bent',\n",
       " 'Black-grass',\n",
       " 'Black-grass',\n",
       " 'Loose Silky-bent',\n",
       " 'Black-grass',\n",
       " 'Loose Silky-bent',\n",
       " 'Black-grass',\n",
       " 'Black-grass',\n",
       " 'Loose Silky-bent',\n",
       " 'Black-grass',\n",
       " 'Loose Silky-bent',\n",
       " 'Black-grass',\n",
       " 'Black-grass',\n",
       " 'Loose Silky-bent',\n",
       " 'Black-grass',\n",
       " 'Black-grass',\n",
       " 'Black-grass',\n",
       " 'Black-grass',\n",
       " 'Black-grass',\n",
       " 'Black-grass',\n",
       " 'Loose Silky-bent',\n",
       " 'Black-grass',\n",
       " 'Loose Silky-bent',\n",
       " 'Black-grass',\n",
       " 'Loose Silky-bent',\n",
       " 'Black-grass',\n",
       " 'Black-grass',\n",
       " 'Black-grass',\n",
       " 'Black-grass',\n",
       " 'Black-grass',\n",
       " 'Loose Silky-bent',\n",
       " 'Black-grass']"
      ]
     },
     "execution_count": 50,
     "metadata": {},
     "output_type": "execute_result"
    }
   ],
   "source": [
    "predicted_classes_2"
   ]
  },
  {
   "cell_type": "code",
   "execution_count": 51,
   "metadata": {
    "ExecuteTime": {
     "end_time": "2018-01-05T12:15:17.641442Z",
     "start_time": "2018-01-05T12:15:17.583190Z"
    }
   },
   "outputs": [
    {
     "data": {
      "text/plain": [
       "16"
      ]
     },
     "execution_count": 51,
     "metadata": {},
     "output_type": "execute_result"
    }
   ],
   "source": [
    "jana_sum = 0\n",
    "for i in range(len(indexes)):\n",
    "    if(predicted_classes[indexes[i]] != predicted_classes_2[indexes[i]]):\n",
    "        jana_sum = jana_sum +1\n",
    "        \n",
    "jana_sum"
   ]
  },
  {
   "cell_type": "code",
   "execution_count": 52,
   "metadata": {
    "ExecuteTime": {
     "end_time": "2018-01-05T12:15:22.396523Z",
     "start_time": "2018-01-05T12:15:22.393725Z"
    },
    "collapsed": true
   },
   "outputs": [],
   "source": [
    "for i in range(len(indexes)):\n",
    "    predicted_classes[indexes[i]] = predicted_classes_2[indexes[i]]"
   ]
  },
  {
   "cell_type": "code",
   "execution_count": 53,
   "metadata": {
    "ExecuteTime": {
     "end_time": "2018-01-05T12:15:24.105535Z",
     "start_time": "2018-01-05T12:15:24.100542Z"
    },
    "collapsed": true
   },
   "outputs": [],
   "source": [
    "num_class_0 = 0\n",
    "num_class_6 = 0\n",
    "for i in predicted_classes:\n",
    "    if(i=='Black-grass'):\n",
    "        num_class_0 = num_class_0 +1\n",
    "    elif(i=='Loose Silky-bent'):\n",
    "        num_class_6 = num_class_6 +1\n",
    "        "
   ]
  },
  {
   "cell_type": "code",
   "execution_count": 54,
   "metadata": {
    "ExecuteTime": {
     "end_time": "2018-01-05T12:15:25.288832Z",
     "start_time": "2018-01-05T12:15:25.285620Z"
    }
   },
   "outputs": [
    {
     "data": {
      "text/plain": [
       "35"
      ]
     },
     "execution_count": 54,
     "metadata": {},
     "output_type": "execute_result"
    }
   ],
   "source": [
    "num_class_0"
   ]
  },
  {
   "cell_type": "code",
   "execution_count": 55,
   "metadata": {
    "ExecuteTime": {
     "end_time": "2018-01-05T12:15:26.526822Z",
     "start_time": "2018-01-05T12:15:26.523529Z"
    }
   },
   "outputs": [
    {
     "data": {
      "text/plain": [
       "122"
      ]
     },
     "execution_count": 55,
     "metadata": {},
     "output_type": "execute_result"
    }
   ],
   "source": [
    "num_class_6"
   ]
  },
  {
   "cell_type": "code",
   "execution_count": 56,
   "metadata": {
    "ExecuteTime": {
     "end_time": "2018-01-05T12:15:37.472168Z",
     "start_time": "2018-01-05T12:15:37.451473Z"
    },
    "collapsed": true
   },
   "outputs": [],
   "source": [
    "from os.path import basename\n",
    "test_ids = [basename(x) for x in test_generator.filenames]\n",
    "submission = pd.DataFrame({'file':test_ids,'species':predicted_classes})\n",
    "submission.to_csv('submission_mobilenet_two_models_v3.csv', encoding=\"utf8\", index=False)"
   ]
  },
  {
   "cell_type": "code",
   "execution_count": 57,
   "metadata": {
    "ExecuteTime": {
     "end_time": "2018-01-05T12:15:42.432021Z",
     "start_time": "2018-01-05T12:15:42.427626Z"
    }
   },
   "outputs": [
    {
     "data": {
      "text/html": [
       "<a href='submission_mobilenet_two_models_v3.csv' target='_blank'>submission_mobilenet_two_models_v3.csv</a><br>"
      ],
      "text/plain": [
       "/home/janardhan/plant_seeding/submission_mobilenet_two_models_v3.csv"
      ]
     },
     "execution_count": 57,
     "metadata": {},
     "output_type": "execute_result"
    }
   ],
   "source": [
    "from IPython.display import FileLink\n",
    "FileLink('submission_mobilenet_two_models_v3.csv')"
   ]
  },
  {
   "cell_type": "code",
   "execution_count": null,
   "metadata": {
    "collapsed": true
   },
   "outputs": [],
   "source": []
  }
 ],
 "metadata": {
  "kernelspec": {
   "display_name": "Python 3",
   "language": "python",
   "name": "python3"
  },
  "language_info": {
   "codemirror_mode": {
    "name": "ipython",
    "version": 3
   },
   "file_extension": ".py",
   "mimetype": "text/x-python",
   "name": "python",
   "nbconvert_exporter": "python",
   "pygments_lexer": "ipython3",
   "version": "3.5.4"
  },
  "toc": {
   "nav_menu": {},
   "number_sections": true,
   "sideBar": true,
   "skip_h1_title": false,
   "toc_cell": false,
   "toc_position": {},
   "toc_section_display": "block",
   "toc_window_display": false
  }
 },
 "nbformat": 4,
 "nbformat_minor": 2
}
