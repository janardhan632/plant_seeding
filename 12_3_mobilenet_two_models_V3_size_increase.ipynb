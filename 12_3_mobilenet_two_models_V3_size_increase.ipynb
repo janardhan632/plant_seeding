{
 "cells": [
  {
   "cell_type": "code",
   "execution_count": 1,
   "metadata": {
    "ExecuteTime": {
     "end_time": "2018-01-08T07:05:41.551475Z",
     "start_time": "2018-01-08T07:05:40.576214Z"
    }
   },
   "outputs": [
    {
     "name": "stderr",
     "output_type": "stream",
     "text": [
      "Using TensorFlow backend.\n"
     ]
    }
   ],
   "source": [
    "from keras.preprocessing.image import ImageDataGenerator\n",
    "from keras.models import Sequential, Model\n",
    "from keras.layers import Dropout, Flatten, Dense, Input\n",
    "from keras import applications\n",
    "from keras.layers import AveragePooling2D, GlobalAveragePooling2D\n",
    "from keras.callbacks import ModelCheckpoint, ReduceLROnPlateau, EarlyStopping, CSVLogger\n",
    "from keras.applications.mobilenet import MobileNet\n",
    "from keras.layers import Conv2D, Convolution2D, MaxPooling2D, ZeroPadding2D, BatchNormalization, Activation\n",
    "from keras.optimizers import RMSprop\n",
    "from keras import backend as K\n",
    "import numpy as np\n",
    "import pandas as pd\n",
    "from keras import layers\n",
    "import matplotlib.pyplot as plt\n",
    "import matplotlib.image as mpimg\n",
    "from keras.models import load_model"
   ]
  },
  {
   "cell_type": "code",
   "execution_count": 2,
   "metadata": {
    "ExecuteTime": {
     "end_time": "2018-01-08T07:09:37.695105Z",
     "start_time": "2018-01-08T07:09:37.691924Z"
    },
    "collapsed": true
   },
   "outputs": [],
   "source": [
    "#parameters\n",
    "classes = 12\n",
    "image_size = 1500\n",
    "batch_size= 6\n",
    "train_total = 3820\n",
    "validation_total = 930"
   ]
  },
  {
   "cell_type": "code",
   "execution_count": 3,
   "metadata": {
    "ExecuteTime": {
     "end_time": "2018-01-08T07:09:39.549099Z",
     "start_time": "2018-01-08T07:09:37.962218Z"
    },
    "collapsed": true
   },
   "outputs": [],
   "source": [
    "model_mobilenet = MobileNet(include_top=False, weights = None,input_shape=(image_size,image_size,3), alpha=0.5)"
   ]
  },
  {
   "cell_type": "code",
   "execution_count": 4,
   "metadata": {
    "ExecuteTime": {
     "end_time": "2018-01-08T07:09:39.595375Z",
     "start_time": "2018-01-08T07:09:39.550689Z"
    },
    "collapsed": true
   },
   "outputs": [],
   "source": [
    "x = model_mobilenet.output\n",
    "x = Dropout(0.5)(x)\n",
    "x = GlobalAveragePooling2D()(x)\n",
    "x = Dense(256, activation='relu')(x)\n",
    "x = Dropout(0.5)(x)\n",
    "x = Dense(classes, activation='softmax')(x)"
   ]
  },
  {
   "cell_type": "code",
   "execution_count": 5,
   "metadata": {
    "ExecuteTime": {
     "end_time": "2018-01-08T07:09:39.692100Z",
     "start_time": "2018-01-08T07:09:39.597126Z"
    },
    "collapsed": true
   },
   "outputs": [],
   "source": [
    "model = Model(inputs=model_mobilenet.input, outputs=x)"
   ]
  },
  {
   "cell_type": "code",
   "execution_count": 6,
   "metadata": {
    "ExecuteTime": {
     "end_time": "2018-01-08T07:09:39.861304Z",
     "start_time": "2018-01-08T07:09:39.696096Z"
    }
   },
   "outputs": [
    {
     "name": "stdout",
     "output_type": "stream",
     "text": [
      "_________________________________________________________________\n",
      "Layer (type)                 Output Shape              Param #   \n",
      "=================================================================\n",
      "input_1 (InputLayer)         (None, 1500, 1500, 3)     0         \n",
      "_________________________________________________________________\n",
      "conv1 (Conv2D)               (None, 750, 750, 16)      432       \n",
      "_________________________________________________________________\n",
      "conv1_bn (BatchNormalization (None, 750, 750, 16)      64        \n",
      "_________________________________________________________________\n",
      "conv1_relu (Activation)      (None, 750, 750, 16)      0         \n",
      "_________________________________________________________________\n",
      "conv_dw_1 (DepthwiseConv2D)  (None, 750, 750, 16)      144       \n",
      "_________________________________________________________________\n",
      "conv_dw_1_bn (BatchNormaliza (None, 750, 750, 16)      64        \n",
      "_________________________________________________________________\n",
      "conv_dw_1_relu (Activation)  (None, 750, 750, 16)      0         \n",
      "_________________________________________________________________\n",
      "conv_pw_1 (Conv2D)           (None, 750, 750, 32)      512       \n",
      "_________________________________________________________________\n",
      "conv_pw_1_bn (BatchNormaliza (None, 750, 750, 32)      128       \n",
      "_________________________________________________________________\n",
      "conv_pw_1_relu (Activation)  (None, 750, 750, 32)      0         \n",
      "_________________________________________________________________\n",
      "conv_dw_2 (DepthwiseConv2D)  (None, 375, 375, 32)      288       \n",
      "_________________________________________________________________\n",
      "conv_dw_2_bn (BatchNormaliza (None, 375, 375, 32)      128       \n",
      "_________________________________________________________________\n",
      "conv_dw_2_relu (Activation)  (None, 375, 375, 32)      0         \n",
      "_________________________________________________________________\n",
      "conv_pw_2 (Conv2D)           (None, 375, 375, 64)      2048      \n",
      "_________________________________________________________________\n",
      "conv_pw_2_bn (BatchNormaliza (None, 375, 375, 64)      256       \n",
      "_________________________________________________________________\n",
      "conv_pw_2_relu (Activation)  (None, 375, 375, 64)      0         \n",
      "_________________________________________________________________\n",
      "conv_dw_3 (DepthwiseConv2D)  (None, 375, 375, 64)      576       \n",
      "_________________________________________________________________\n",
      "conv_dw_3_bn (BatchNormaliza (None, 375, 375, 64)      256       \n",
      "_________________________________________________________________\n",
      "conv_dw_3_relu (Activation)  (None, 375, 375, 64)      0         \n",
      "_________________________________________________________________\n",
      "conv_pw_3 (Conv2D)           (None, 375, 375, 64)      4096      \n",
      "_________________________________________________________________\n",
      "conv_pw_3_bn (BatchNormaliza (None, 375, 375, 64)      256       \n",
      "_________________________________________________________________\n",
      "conv_pw_3_relu (Activation)  (None, 375, 375, 64)      0         \n",
      "_________________________________________________________________\n",
      "conv_dw_4 (DepthwiseConv2D)  (None, 188, 188, 64)      576       \n",
      "_________________________________________________________________\n",
      "conv_dw_4_bn (BatchNormaliza (None, 188, 188, 64)      256       \n",
      "_________________________________________________________________\n",
      "conv_dw_4_relu (Activation)  (None, 188, 188, 64)      0         \n",
      "_________________________________________________________________\n",
      "conv_pw_4 (Conv2D)           (None, 188, 188, 128)     8192      \n",
      "_________________________________________________________________\n",
      "conv_pw_4_bn (BatchNormaliza (None, 188, 188, 128)     512       \n",
      "_________________________________________________________________\n",
      "conv_pw_4_relu (Activation)  (None, 188, 188, 128)     0         \n",
      "_________________________________________________________________\n",
      "conv_dw_5 (DepthwiseConv2D)  (None, 188, 188, 128)     1152      \n",
      "_________________________________________________________________\n",
      "conv_dw_5_bn (BatchNormaliza (None, 188, 188, 128)     512       \n",
      "_________________________________________________________________\n",
      "conv_dw_5_relu (Activation)  (None, 188, 188, 128)     0         \n",
      "_________________________________________________________________\n",
      "conv_pw_5 (Conv2D)           (None, 188, 188, 128)     16384     \n",
      "_________________________________________________________________\n",
      "conv_pw_5_bn (BatchNormaliza (None, 188, 188, 128)     512       \n",
      "_________________________________________________________________\n",
      "conv_pw_5_relu (Activation)  (None, 188, 188, 128)     0         \n",
      "_________________________________________________________________\n",
      "conv_dw_6 (DepthwiseConv2D)  (None, 94, 94, 128)       1152      \n",
      "_________________________________________________________________\n",
      "conv_dw_6_bn (BatchNormaliza (None, 94, 94, 128)       512       \n",
      "_________________________________________________________________\n",
      "conv_dw_6_relu (Activation)  (None, 94, 94, 128)       0         \n",
      "_________________________________________________________________\n",
      "conv_pw_6 (Conv2D)           (None, 94, 94, 256)       32768     \n",
      "_________________________________________________________________\n",
      "conv_pw_6_bn (BatchNormaliza (None, 94, 94, 256)       1024      \n",
      "_________________________________________________________________\n",
      "conv_pw_6_relu (Activation)  (None, 94, 94, 256)       0         \n",
      "_________________________________________________________________\n",
      "conv_dw_7 (DepthwiseConv2D)  (None, 94, 94, 256)       2304      \n",
      "_________________________________________________________________\n",
      "conv_dw_7_bn (BatchNormaliza (None, 94, 94, 256)       1024      \n",
      "_________________________________________________________________\n",
      "conv_dw_7_relu (Activation)  (None, 94, 94, 256)       0         \n",
      "_________________________________________________________________\n",
      "conv_pw_7 (Conv2D)           (None, 94, 94, 256)       65536     \n",
      "_________________________________________________________________\n",
      "conv_pw_7_bn (BatchNormaliza (None, 94, 94, 256)       1024      \n",
      "_________________________________________________________________\n",
      "conv_pw_7_relu (Activation)  (None, 94, 94, 256)       0         \n",
      "_________________________________________________________________\n",
      "conv_dw_8 (DepthwiseConv2D)  (None, 94, 94, 256)       2304      \n",
      "_________________________________________________________________\n",
      "conv_dw_8_bn (BatchNormaliza (None, 94, 94, 256)       1024      \n",
      "_________________________________________________________________\n",
      "conv_dw_8_relu (Activation)  (None, 94, 94, 256)       0         \n",
      "_________________________________________________________________\n",
      "conv_pw_8 (Conv2D)           (None, 94, 94, 256)       65536     \n",
      "_________________________________________________________________\n",
      "conv_pw_8_bn (BatchNormaliza (None, 94, 94, 256)       1024      \n",
      "_________________________________________________________________\n",
      "conv_pw_8_relu (Activation)  (None, 94, 94, 256)       0         \n",
      "_________________________________________________________________\n",
      "conv_dw_9 (DepthwiseConv2D)  (None, 94, 94, 256)       2304      \n",
      "_________________________________________________________________\n",
      "conv_dw_9_bn (BatchNormaliza (None, 94, 94, 256)       1024      \n",
      "_________________________________________________________________\n",
      "conv_dw_9_relu (Activation)  (None, 94, 94, 256)       0         \n",
      "_________________________________________________________________\n",
      "conv_pw_9 (Conv2D)           (None, 94, 94, 256)       65536     \n",
      "_________________________________________________________________\n",
      "conv_pw_9_bn (BatchNormaliza (None, 94, 94, 256)       1024      \n",
      "_________________________________________________________________\n",
      "conv_pw_9_relu (Activation)  (None, 94, 94, 256)       0         \n",
      "_________________________________________________________________\n",
      "conv_dw_10 (DepthwiseConv2D) (None, 94, 94, 256)       2304      \n",
      "_________________________________________________________________\n",
      "conv_dw_10_bn (BatchNormaliz (None, 94, 94, 256)       1024      \n",
      "_________________________________________________________________\n",
      "conv_dw_10_relu (Activation) (None, 94, 94, 256)       0         \n",
      "_________________________________________________________________\n",
      "conv_pw_10 (Conv2D)          (None, 94, 94, 256)       65536     \n",
      "_________________________________________________________________\n",
      "conv_pw_10_bn (BatchNormaliz (None, 94, 94, 256)       1024      \n",
      "_________________________________________________________________\n",
      "conv_pw_10_relu (Activation) (None, 94, 94, 256)       0         \n",
      "_________________________________________________________________\n",
      "conv_dw_11 (DepthwiseConv2D) (None, 94, 94, 256)       2304      \n",
      "_________________________________________________________________\n",
      "conv_dw_11_bn (BatchNormaliz (None, 94, 94, 256)       1024      \n",
      "_________________________________________________________________\n",
      "conv_dw_11_relu (Activation) (None, 94, 94, 256)       0         \n",
      "_________________________________________________________________\n",
      "conv_pw_11 (Conv2D)          (None, 94, 94, 256)       65536     \n",
      "_________________________________________________________________\n",
      "conv_pw_11_bn (BatchNormaliz (None, 94, 94, 256)       1024      \n",
      "_________________________________________________________________\n",
      "conv_pw_11_relu (Activation) (None, 94, 94, 256)       0         \n",
      "_________________________________________________________________\n",
      "conv_dw_12 (DepthwiseConv2D) (None, 47, 47, 256)       2304      \n",
      "_________________________________________________________________\n",
      "conv_dw_12_bn (BatchNormaliz (None, 47, 47, 256)       1024      \n",
      "_________________________________________________________________\n",
      "conv_dw_12_relu (Activation) (None, 47, 47, 256)       0         \n",
      "_________________________________________________________________\n",
      "conv_pw_12 (Conv2D)          (None, 47, 47, 512)       131072    \n",
      "_________________________________________________________________\n",
      "conv_pw_12_bn (BatchNormaliz (None, 47, 47, 512)       2048      \n",
      "_________________________________________________________________\n",
      "conv_pw_12_relu (Activation) (None, 47, 47, 512)       0         \n",
      "_________________________________________________________________\n",
      "conv_dw_13 (DepthwiseConv2D) (None, 47, 47, 512)       4608      \n",
      "_________________________________________________________________\n",
      "conv_dw_13_bn (BatchNormaliz (None, 47, 47, 512)       2048      \n",
      "_________________________________________________________________\n",
      "conv_dw_13_relu (Activation) (None, 47, 47, 512)       0         \n",
      "_________________________________________________________________\n",
      "conv_pw_13 (Conv2D)          (None, 47, 47, 512)       262144    \n",
      "_________________________________________________________________\n",
      "conv_pw_13_bn (BatchNormaliz (None, 47, 47, 512)       2048      \n",
      "_________________________________________________________________\n",
      "conv_pw_13_relu (Activation) (None, 47, 47, 512)       0         \n",
      "_________________________________________________________________\n",
      "dropout_1 (Dropout)          (None, 47, 47, 512)       0         \n",
      "_________________________________________________________________\n",
      "global_average_pooling2d_1 ( (None, 512)               0         \n",
      "_________________________________________________________________\n",
      "dense_1 (Dense)              (None, 256)               131328    \n",
      "_________________________________________________________________\n",
      "dropout_2 (Dropout)          (None, 256)               0         \n",
      "_________________________________________________________________\n",
      "dense_2 (Dense)              (None, 12)                3084      \n",
      "=================================================================\n",
      "Total params: 963,948\n",
      "Trainable params: 953,004\n",
      "Non-trainable params: 10,944\n",
      "_________________________________________________________________\n"
     ]
    }
   ],
   "source": [
    "model.summary()"
   ]
  },
  {
   "cell_type": "code",
   "execution_count": 7,
   "metadata": {
    "ExecuteTime": {
     "end_time": "2018-01-08T07:09:39.908869Z",
     "start_time": "2018-01-08T07:09:39.864321Z"
    },
    "collapsed": true
   },
   "outputs": [],
   "source": [
    "train_datagen = ImageDataGenerator(rescale=1./255,\n",
    "                                   shear_range = 0.2,\n",
    "                                   rotation_range = 20,\n",
    "                                   height_shift_range=0.2,\n",
    "                                   width_shift_range=0.2,\n",
    "                                   zoom_range=0.2,\n",
    "                                   fill_mode='reflect',\n",
    "                                   horizontal_flip=True,\n",
    "                                   vertical_flip=True)\n",
    "validation_datagen = ImageDataGenerator(rescale = 1./255)"
   ]
  },
  {
   "cell_type": "code",
   "execution_count": 8,
   "metadata": {
    "ExecuteTime": {
     "end_time": "2018-01-08T07:09:40.336631Z",
     "start_time": "2018-01-08T07:09:39.910639Z"
    }
   },
   "outputs": [
    {
     "name": "stdout",
     "output_type": "stream",
     "text": [
      "Found 3820 images belonging to 12 classes.\n",
      "Found 930 images belonging to 12 classes.\n"
     ]
    }
   ],
   "source": [
    "train_generator = train_datagen.flow_from_directory(\n",
    "                    'train',\n",
    "                    target_size=(image_size,image_size),\n",
    "                    batch_size=batch_size,\n",
    "                    class_mode='categorical',\n",
    "                    shuffle=True\n",
    "                    )\n",
    "validation_generator = validation_datagen.flow_from_directory(\n",
    "                        'validation',\n",
    "                        target_size=(image_size,image_size),\n",
    "                        batch_size=batch_size,\n",
    "                        class_mode='categorical',\n",
    "                        shuffle=False)"
   ]
  },
  {
   "cell_type": "code",
   "execution_count": 9,
   "metadata": {
    "ExecuteTime": {
     "end_time": "2018-01-08T07:09:40.380010Z",
     "start_time": "2018-01-08T07:09:40.339958Z"
    },
    "collapsed": true
   },
   "outputs": [],
   "source": [
    "model.compile(loss='categorical_crossentropy',\n",
    "             optimizer=RMSprop(lr=1e-4),\n",
    "             metrics=['accuracy'])"
   ]
  },
  {
   "cell_type": "code",
   "execution_count": 10,
   "metadata": {
    "ExecuteTime": {
     "end_time": "2018-01-08T07:09:41.343160Z",
     "start_time": "2018-01-08T07:09:40.928747Z"
    },
    "collapsed": true
   },
   "outputs": [],
   "source": [
    "model.load_weights('mobilenet_from_scratch_image_1500_local_split.hdf5')"
   ]
  },
  {
   "cell_type": "code",
   "execution_count": 12,
   "metadata": {
    "ExecuteTime": {
     "end_time": "2018-01-08T07:09:52.225172Z",
     "start_time": "2018-01-08T07:09:42.097964Z"
    }
   },
   "outputs": [
    {
     "data": {
      "text/plain": [
       "[0.087134061432203674, 0.97419354607982023]"
      ]
     },
     "execution_count": 12,
     "metadata": {},
     "output_type": "execute_result"
    }
   ],
   "source": [
    "model.evaluate_generator(validation_generator, int(np.ceil(validation_total/batch_size)))"
   ]
  },
  {
   "cell_type": "code",
   "execution_count": 33,
   "metadata": {
    "ExecuteTime": {
     "end_time": "2018-01-08T07:09:57.492601Z",
     "start_time": "2018-01-08T07:09:57.490621Z"
    },
    "collapsed": true
   },
   "outputs": [],
   "source": [
    "# MODEL SMALL FOR BINARY CLASSIFICATION FOR CLASS 0 AND CLASS 6\n",
    "#V2 - weights from previous model_1, fixed bottom, only fine tuning last layers"
   ]
  },
  {
   "cell_type": "code",
   "execution_count": 11,
   "metadata": {
    "ExecuteTime": {
     "end_time": "2018-01-08T07:10:24.571763Z",
     "start_time": "2018-01-08T07:10:24.566198Z"
    },
    "collapsed": true
   },
   "outputs": [],
   "source": [
    "#parameters\n",
    "classes_2 = 2\n",
    "image_size_2 = 1500\n",
    "batch_size_2 = 6\n",
    "train_total_2 = 739\n",
    "validation_total_2 = 178"
   ]
  },
  {
   "cell_type": "code",
   "execution_count": 12,
   "metadata": {
    "ExecuteTime": {
     "end_time": "2018-01-08T07:10:25.564679Z",
     "start_time": "2018-01-08T07:10:24.818055Z"
    },
    "collapsed": true
   },
   "outputs": [],
   "source": [
    "model_mobilenet_2 = MobileNet(include_top=False, weights = None,input_shape=(image_size_2,image_size_2,3), alpha=0.5)"
   ]
  },
  {
   "cell_type": "code",
   "execution_count": 13,
   "metadata": {
    "ExecuteTime": {
     "end_time": "2018-01-08T07:10:25.605769Z",
     "start_time": "2018-01-08T07:10:25.566399Z"
    },
    "collapsed": true
   },
   "outputs": [],
   "source": [
    "x = model_mobilenet_2.output\n",
    "x = Dropout(0.5)(x)\n",
    "x = GlobalAveragePooling2D()(x)\n",
    "x = Dense(256, activation='relu')(x)\n",
    "x = Dropout(0.5)(x)\n",
    "x = Dense(classes_2, activation='softmax')(x)"
   ]
  },
  {
   "cell_type": "code",
   "execution_count": 14,
   "metadata": {
    "ExecuteTime": {
     "end_time": "2018-01-08T07:10:25.703176Z",
     "start_time": "2018-01-08T07:10:25.607284Z"
    },
    "collapsed": true
   },
   "outputs": [],
   "source": [
    "model_2 = Model(inputs=model_mobilenet_2.input, outputs=x)"
   ]
  },
  {
   "cell_type": "code",
   "execution_count": 15,
   "metadata": {
    "ExecuteTime": {
     "end_time": "2018-01-08T07:10:25.833346Z",
     "start_time": "2018-01-08T07:10:25.704531Z"
    }
   },
   "outputs": [
    {
     "name": "stdout",
     "output_type": "stream",
     "text": [
      "_________________________________________________________________\n",
      "Layer (type)                 Output Shape              Param #   \n",
      "=================================================================\n",
      "input_2 (InputLayer)         (None, 1500, 1500, 3)     0         \n",
      "_________________________________________________________________\n",
      "conv1 (Conv2D)               (None, 750, 750, 16)      432       \n",
      "_________________________________________________________________\n",
      "conv1_bn (BatchNormalization (None, 750, 750, 16)      64        \n",
      "_________________________________________________________________\n",
      "conv1_relu (Activation)      (None, 750, 750, 16)      0         \n",
      "_________________________________________________________________\n",
      "conv_dw_1 (DepthwiseConv2D)  (None, 750, 750, 16)      144       \n",
      "_________________________________________________________________\n",
      "conv_dw_1_bn (BatchNormaliza (None, 750, 750, 16)      64        \n",
      "_________________________________________________________________\n",
      "conv_dw_1_relu (Activation)  (None, 750, 750, 16)      0         \n",
      "_________________________________________________________________\n",
      "conv_pw_1 (Conv2D)           (None, 750, 750, 32)      512       \n",
      "_________________________________________________________________\n",
      "conv_pw_1_bn (BatchNormaliza (None, 750, 750, 32)      128       \n",
      "_________________________________________________________________\n",
      "conv_pw_1_relu (Activation)  (None, 750, 750, 32)      0         \n",
      "_________________________________________________________________\n",
      "conv_dw_2 (DepthwiseConv2D)  (None, 375, 375, 32)      288       \n",
      "_________________________________________________________________\n",
      "conv_dw_2_bn (BatchNormaliza (None, 375, 375, 32)      128       \n",
      "_________________________________________________________________\n",
      "conv_dw_2_relu (Activation)  (None, 375, 375, 32)      0         \n",
      "_________________________________________________________________\n",
      "conv_pw_2 (Conv2D)           (None, 375, 375, 64)      2048      \n",
      "_________________________________________________________________\n",
      "conv_pw_2_bn (BatchNormaliza (None, 375, 375, 64)      256       \n",
      "_________________________________________________________________\n",
      "conv_pw_2_relu (Activation)  (None, 375, 375, 64)      0         \n",
      "_________________________________________________________________\n",
      "conv_dw_3 (DepthwiseConv2D)  (None, 375, 375, 64)      576       \n",
      "_________________________________________________________________\n",
      "conv_dw_3_bn (BatchNormaliza (None, 375, 375, 64)      256       \n",
      "_________________________________________________________________\n",
      "conv_dw_3_relu (Activation)  (None, 375, 375, 64)      0         \n",
      "_________________________________________________________________\n",
      "conv_pw_3 (Conv2D)           (None, 375, 375, 64)      4096      \n",
      "_________________________________________________________________\n",
      "conv_pw_3_bn (BatchNormaliza (None, 375, 375, 64)      256       \n",
      "_________________________________________________________________\n",
      "conv_pw_3_relu (Activation)  (None, 375, 375, 64)      0         \n",
      "_________________________________________________________________\n",
      "conv_dw_4 (DepthwiseConv2D)  (None, 188, 188, 64)      576       \n",
      "_________________________________________________________________\n",
      "conv_dw_4_bn (BatchNormaliza (None, 188, 188, 64)      256       \n",
      "_________________________________________________________________\n",
      "conv_dw_4_relu (Activation)  (None, 188, 188, 64)      0         \n",
      "_________________________________________________________________\n",
      "conv_pw_4 (Conv2D)           (None, 188, 188, 128)     8192      \n",
      "_________________________________________________________________\n",
      "conv_pw_4_bn (BatchNormaliza (None, 188, 188, 128)     512       \n",
      "_________________________________________________________________\n",
      "conv_pw_4_relu (Activation)  (None, 188, 188, 128)     0         \n",
      "_________________________________________________________________\n",
      "conv_dw_5 (DepthwiseConv2D)  (None, 188, 188, 128)     1152      \n",
      "_________________________________________________________________\n",
      "conv_dw_5_bn (BatchNormaliza (None, 188, 188, 128)     512       \n",
      "_________________________________________________________________\n",
      "conv_dw_5_relu (Activation)  (None, 188, 188, 128)     0         \n",
      "_________________________________________________________________\n",
      "conv_pw_5 (Conv2D)           (None, 188, 188, 128)     16384     \n",
      "_________________________________________________________________\n",
      "conv_pw_5_bn (BatchNormaliza (None, 188, 188, 128)     512       \n",
      "_________________________________________________________________\n",
      "conv_pw_5_relu (Activation)  (None, 188, 188, 128)     0         \n",
      "_________________________________________________________________\n",
      "conv_dw_6 (DepthwiseConv2D)  (None, 94, 94, 128)       1152      \n",
      "_________________________________________________________________\n",
      "conv_dw_6_bn (BatchNormaliza (None, 94, 94, 128)       512       \n",
      "_________________________________________________________________\n",
      "conv_dw_6_relu (Activation)  (None, 94, 94, 128)       0         \n",
      "_________________________________________________________________\n",
      "conv_pw_6 (Conv2D)           (None, 94, 94, 256)       32768     \n",
      "_________________________________________________________________\n",
      "conv_pw_6_bn (BatchNormaliza (None, 94, 94, 256)       1024      \n",
      "_________________________________________________________________\n",
      "conv_pw_6_relu (Activation)  (None, 94, 94, 256)       0         \n",
      "_________________________________________________________________\n",
      "conv_dw_7 (DepthwiseConv2D)  (None, 94, 94, 256)       2304      \n",
      "_________________________________________________________________\n",
      "conv_dw_7_bn (BatchNormaliza (None, 94, 94, 256)       1024      \n",
      "_________________________________________________________________\n",
      "conv_dw_7_relu (Activation)  (None, 94, 94, 256)       0         \n",
      "_________________________________________________________________\n",
      "conv_pw_7 (Conv2D)           (None, 94, 94, 256)       65536     \n",
      "_________________________________________________________________\n",
      "conv_pw_7_bn (BatchNormaliza (None, 94, 94, 256)       1024      \n",
      "_________________________________________________________________\n",
      "conv_pw_7_relu (Activation)  (None, 94, 94, 256)       0         \n",
      "_________________________________________________________________\n",
      "conv_dw_8 (DepthwiseConv2D)  (None, 94, 94, 256)       2304      \n",
      "_________________________________________________________________\n",
      "conv_dw_8_bn (BatchNormaliza (None, 94, 94, 256)       1024      \n",
      "_________________________________________________________________\n",
      "conv_dw_8_relu (Activation)  (None, 94, 94, 256)       0         \n",
      "_________________________________________________________________\n",
      "conv_pw_8 (Conv2D)           (None, 94, 94, 256)       65536     \n",
      "_________________________________________________________________\n",
      "conv_pw_8_bn (BatchNormaliza (None, 94, 94, 256)       1024      \n",
      "_________________________________________________________________\n",
      "conv_pw_8_relu (Activation)  (None, 94, 94, 256)       0         \n",
      "_________________________________________________________________\n",
      "conv_dw_9 (DepthwiseConv2D)  (None, 94, 94, 256)       2304      \n",
      "_________________________________________________________________\n",
      "conv_dw_9_bn (BatchNormaliza (None, 94, 94, 256)       1024      \n",
      "_________________________________________________________________\n",
      "conv_dw_9_relu (Activation)  (None, 94, 94, 256)       0         \n",
      "_________________________________________________________________\n",
      "conv_pw_9 (Conv2D)           (None, 94, 94, 256)       65536     \n",
      "_________________________________________________________________\n",
      "conv_pw_9_bn (BatchNormaliza (None, 94, 94, 256)       1024      \n",
      "_________________________________________________________________\n",
      "conv_pw_9_relu (Activation)  (None, 94, 94, 256)       0         \n",
      "_________________________________________________________________\n",
      "conv_dw_10 (DepthwiseConv2D) (None, 94, 94, 256)       2304      \n",
      "_________________________________________________________________\n",
      "conv_dw_10_bn (BatchNormaliz (None, 94, 94, 256)       1024      \n",
      "_________________________________________________________________\n",
      "conv_dw_10_relu (Activation) (None, 94, 94, 256)       0         \n",
      "_________________________________________________________________\n",
      "conv_pw_10 (Conv2D)          (None, 94, 94, 256)       65536     \n",
      "_________________________________________________________________\n",
      "conv_pw_10_bn (BatchNormaliz (None, 94, 94, 256)       1024      \n",
      "_________________________________________________________________\n",
      "conv_pw_10_relu (Activation) (None, 94, 94, 256)       0         \n",
      "_________________________________________________________________\n",
      "conv_dw_11 (DepthwiseConv2D) (None, 94, 94, 256)       2304      \n",
      "_________________________________________________________________\n",
      "conv_dw_11_bn (BatchNormaliz (None, 94, 94, 256)       1024      \n",
      "_________________________________________________________________\n",
      "conv_dw_11_relu (Activation) (None, 94, 94, 256)       0         \n",
      "_________________________________________________________________\n",
      "conv_pw_11 (Conv2D)          (None, 94, 94, 256)       65536     \n",
      "_________________________________________________________________\n",
      "conv_pw_11_bn (BatchNormaliz (None, 94, 94, 256)       1024      \n",
      "_________________________________________________________________\n",
      "conv_pw_11_relu (Activation) (None, 94, 94, 256)       0         \n",
      "_________________________________________________________________\n",
      "conv_dw_12 (DepthwiseConv2D) (None, 47, 47, 256)       2304      \n",
      "_________________________________________________________________\n",
      "conv_dw_12_bn (BatchNormaliz (None, 47, 47, 256)       1024      \n",
      "_________________________________________________________________\n",
      "conv_dw_12_relu (Activation) (None, 47, 47, 256)       0         \n",
      "_________________________________________________________________\n",
      "conv_pw_12 (Conv2D)          (None, 47, 47, 512)       131072    \n",
      "_________________________________________________________________\n",
      "conv_pw_12_bn (BatchNormaliz (None, 47, 47, 512)       2048      \n",
      "_________________________________________________________________\n",
      "conv_pw_12_relu (Activation) (None, 47, 47, 512)       0         \n",
      "_________________________________________________________________\n",
      "conv_dw_13 (DepthwiseConv2D) (None, 47, 47, 512)       4608      \n",
      "_________________________________________________________________\n",
      "conv_dw_13_bn (BatchNormaliz (None, 47, 47, 512)       2048      \n",
      "_________________________________________________________________\n",
      "conv_dw_13_relu (Activation) (None, 47, 47, 512)       0         \n",
      "_________________________________________________________________\n",
      "conv_pw_13 (Conv2D)          (None, 47, 47, 512)       262144    \n",
      "_________________________________________________________________\n",
      "conv_pw_13_bn (BatchNormaliz (None, 47, 47, 512)       2048      \n",
      "_________________________________________________________________\n",
      "conv_pw_13_relu (Activation) (None, 47, 47, 512)       0         \n",
      "_________________________________________________________________\n",
      "dropout_3 (Dropout)          (None, 47, 47, 512)       0         \n",
      "_________________________________________________________________\n",
      "global_average_pooling2d_2 ( (None, 512)               0         \n",
      "_________________________________________________________________\n",
      "dense_3 (Dense)              (None, 256)               131328    \n",
      "_________________________________________________________________\n",
      "dropout_4 (Dropout)          (None, 256)               0         \n",
      "_________________________________________________________________\n",
      "dense_4 (Dense)              (None, 2)                 514       \n",
      "=================================================================\n",
      "Total params: 961,378\n",
      "Trainable params: 950,434\n",
      "Non-trainable params: 10,944\n",
      "_________________________________________________________________\n"
     ]
    }
   ],
   "source": [
    "model_2.summary()"
   ]
  },
  {
   "cell_type": "code",
   "execution_count": 16,
   "metadata": {
    "ExecuteTime": {
     "end_time": "2018-01-08T07:10:25.911035Z",
     "start_time": "2018-01-08T07:10:25.905860Z"
    },
    "collapsed": true
   },
   "outputs": [],
   "source": [
    "train_datagen_2 = ImageDataGenerator(rescale=1./255,\n",
    "                                   shear_range = 0.2,\n",
    "                                   rotation_range = 90,\n",
    "                                   height_shift_range=0.2,\n",
    "                                   width_shift_range=0.2,\n",
    "                                   zoom_range=0.2,\n",
    "                                   fill_mode='reflect',\n",
    "                                   horizontal_flip=True,\n",
    "                                   vertical_flip=True)\n",
    "validation_datagen_2 = ImageDataGenerator(rescale = 1./255)"
   ]
  },
  {
   "cell_type": "code",
   "execution_count": 17,
   "metadata": {
    "ExecuteTime": {
     "end_time": "2018-01-08T07:15:52.117946Z",
     "start_time": "2018-01-08T07:15:51.903395Z"
    }
   },
   "outputs": [
    {
     "name": "stdout",
     "output_type": "stream",
     "text": [
      "Found 739 images belonging to 2 classes.\n",
      "Found 178 images belonging to 2 classes.\n"
     ]
    }
   ],
   "source": [
    "train_generator_2 = train_datagen_2.flow_from_directory(\n",
    "                    'train_2',\n",
    "                    target_size=(image_size_2,image_size_2),\n",
    "                    batch_size=batch_size_2,\n",
    "                    class_mode='categorical',\n",
    "                    shuffle=True\n",
    "                    )\n",
    "validation_generator_2 = validation_datagen_2.flow_from_directory(\n",
    "                        'validation_2',\n",
    "                        target_size=(image_size_2,image_size_2),\n",
    "                        batch_size=batch_size_2,\n",
    "                        class_mode='categorical',\n",
    "                        shuffle=False)"
   ]
  },
  {
   "cell_type": "code",
   "execution_count": 18,
   "metadata": {
    "ExecuteTime": {
     "end_time": "2018-01-08T07:10:30.104310Z",
     "start_time": "2018-01-08T07:10:30.082390Z"
    },
    "collapsed": true
   },
   "outputs": [],
   "source": [
    "model_2.compile(loss='categorical_crossentropy',\n",
    "             optimizer=RMSprop(lr=1e-6),\n",
    "             metrics=['accuracy'])"
   ]
  },
  {
   "cell_type": "code",
   "execution_count": 19,
   "metadata": {
    "ExecuteTime": {
     "end_time": "2018-01-08T07:10:30.373164Z",
     "start_time": "2018-01-08T07:10:30.366047Z"
    },
    "collapsed": true
   },
   "outputs": [],
   "source": [
    "callbacks = [ModelCheckpoint(filepath='11_mobilenet_from_scratch_model_2_v3_increase.hdf5', verbose=1, save_best_only=True, save_weights_only=True),\n",
    "ReduceLROnPlateau(monitor='val_loss', factor=0.1, patience=5, verbose=1),\n",
    "EarlyStopping(monitor='val_loss', patience=10, verbose=1),\n",
    "CSVLogger('./11-metrics_model_2_v3_increase.csv')]"
   ]
  },
  {
   "cell_type": "code",
   "execution_count": 56,
   "metadata": {
    "ExecuteTime": {
     "end_time": "2018-01-08T07:10:30.640360Z",
     "start_time": "2018-01-08T07:10:30.636181Z"
    },
    "collapsed": true
   },
   "outputs": [],
   "source": [
    "# loading weights from model_1 to model_2\n"
   ]
  },
  {
   "cell_type": "code",
   "execution_count": 57,
   "metadata": {
    "ExecuteTime": {
     "end_time": "2018-01-08T07:10:47.324825Z",
     "start_time": "2018-01-08T07:10:30.901051Z"
    },
    "collapsed": true
   },
   "outputs": [],
   "source": [
    "for i in range(len(model.layers)-2):\n",
    "    layer_1 = model.layers[i]\n",
    "    layer_2 = model_2.layers[i]\n",
    "    layer_2.set_weights(layer_1.get_weights())"
   ]
  },
  {
   "cell_type": "code",
   "execution_count": 58,
   "metadata": {
    "ExecuteTime": {
     "end_time": "2018-01-08T07:10:47.329561Z",
     "start_time": "2018-01-08T07:10:47.326275Z"
    }
   },
   "outputs": [
    {
     "data": {
      "text/plain": [
       "(256, 2)"
      ]
     },
     "execution_count": 58,
     "metadata": {},
     "output_type": "execute_result"
    }
   ],
   "source": [
    "x = np.zeros((256,2))\n",
    "x.shape"
   ]
  },
  {
   "cell_type": "code",
   "execution_count": 59,
   "metadata": {
    "ExecuteTime": {
     "end_time": "2018-01-08T07:10:47.483099Z",
     "start_time": "2018-01-08T07:10:47.330730Z"
    },
    "collapsed": true
   },
   "outputs": [],
   "source": [
    "y = np.zeros(2)"
   ]
  },
  {
   "cell_type": "code",
   "execution_count": 60,
   "metadata": {
    "ExecuteTime": {
     "end_time": "2018-01-08T07:10:47.659240Z",
     "start_time": "2018-01-08T07:10:47.486247Z"
    },
    "collapsed": true
   },
   "outputs": [],
   "source": [
    "y[0]=model.layers[-1].get_weights()[1][0]\n",
    "y[1]=model.layers[-1].get_weights()[1][6]"
   ]
  },
  {
   "cell_type": "code",
   "execution_count": 61,
   "metadata": {
    "ExecuteTime": {
     "end_time": "2018-01-08T07:10:47.672931Z",
     "start_time": "2018-01-08T07:10:47.660825Z"
    },
    "collapsed": true
   },
   "outputs": [],
   "source": [
    "x[:,0]=model.layers[-1].get_weights()[0][:,0]\n",
    "x[:,1]=model.layers[-1].get_weights()[0][:,6]"
   ]
  },
  {
   "cell_type": "code",
   "execution_count": 62,
   "metadata": {
    "ExecuteTime": {
     "end_time": "2018-01-08T07:10:48.103764Z",
     "start_time": "2018-01-08T07:10:47.674892Z"
    },
    "collapsed": true
   },
   "outputs": [],
   "source": [
    "model_2.layers[-1].set_weights([x,y])"
   ]
  },
  {
   "cell_type": "code",
   "execution_count": 63,
   "metadata": {
    "ExecuteTime": {
     "end_time": "2018-01-07T08:16:26.511002Z",
     "start_time": "2018-01-07T08:11:53.324109Z"
    }
   },
   "outputs": [
    {
     "name": "stdout",
     "output_type": "stream",
     "text": [
      "Epoch 1/100\n",
      "Epoch 00001: val_loss improved from inf to 0.18521, saving model to 11_mobilenet_from_scratch_model_2_v3_increase.hdf5\n",
      " - 307s - loss: 0.2487 - acc: 0.8938 - val_loss: 0.1852 - val_acc: 0.9494\n",
      "Epoch 2/100\n",
      "Epoch 00002: val_loss did not improve\n",
      " - 292s - loss: 0.2536 - acc: 0.9005 - val_loss: 0.2088 - val_acc: 0.9326\n",
      "Epoch 3/100\n",
      "Epoch 00003: val_loss did not improve\n",
      " - 298s - loss: 0.2539 - acc: 0.9005 - val_loss: 0.2217 - val_acc: 0.9270\n",
      "Epoch 4/100\n",
      "Epoch 00004: val_loss did not improve\n",
      " - 299s - loss: 0.2376 - acc: 0.8925 - val_loss: 0.2221 - val_acc: 0.9270\n",
      "Epoch 5/100\n",
      "Epoch 00005: val_loss did not improve\n",
      " - 290s - loss: 0.2528 - acc: 0.8925 - val_loss: 0.2241 - val_acc: 0.9213\n",
      "Epoch 6/100\n",
      "Epoch 00006: val_loss did not improve\n",
      " - 297s - loss: 0.2255 - acc: 0.9086 - val_loss: 0.2161 - val_acc: 0.9326\n",
      "Epoch 7/100\n",
      "Epoch 00007: val_loss did not improve\n",
      "\n",
      "Epoch 00007: reducing learning rate to 9.999999974752428e-08.\n",
      " - 293s - loss: 0.2056 - acc: 0.9221 - val_loss: 0.2184 - val_acc: 0.9382\n",
      "Epoch 8/100\n",
      "Epoch 00008: val_loss did not improve\n",
      " - 292s - loss: 0.2024 - acc: 0.9234 - val_loss: 0.2198 - val_acc: 0.9382\n",
      "Epoch 9/100\n",
      "Epoch 00009: val_loss did not improve\n",
      " - 294s - loss: 0.2283 - acc: 0.9073 - val_loss: 0.2217 - val_acc: 0.9270\n",
      "Epoch 10/100\n",
      "Epoch 00010: val_loss did not improve\n",
      " - 293s - loss: 0.2078 - acc: 0.9167 - val_loss: 0.2195 - val_acc: 0.9382\n",
      "Epoch 11/100\n",
      "Epoch 00011: val_loss did not improve\n",
      " - 286s - loss: 0.2310 - acc: 0.9220 - val_loss: 0.2193 - val_acc: 0.9270\n",
      "Epoch 00011: early stopping\n"
     ]
    }
   ],
   "source": [
    "history_2 = model_2.fit_generator(\n",
    "                    train_generator_2,\n",
    "                    steps_per_epoch = int(np.ceil(train_total_2/batch_size_2)),\n",
    "                    epochs=100,\n",
    "                    validation_data=validation_generator_2,\n",
    "                    validation_steps= int(np.ceil(validation_total_2/batch_size_2)),\n",
    "                    verbose=2,\n",
    "                    callbacks=callbacks)"
   ]
  },
  {
   "cell_type": "code",
   "execution_count": 20,
   "metadata": {
    "ExecuteTime": {
     "end_time": "2018-01-08T07:12:09.453919Z",
     "start_time": "2018-01-08T07:12:09.323452Z"
    },
    "collapsed": true
   },
   "outputs": [],
   "source": [
    "model_2.load_weights('11_mobilenet_from_scratch_model_2_v3_increase.hdf5')"
   ]
  },
  {
   "cell_type": "code",
   "execution_count": 21,
   "metadata": {
    "ExecuteTime": {
     "end_time": "2018-01-08T07:16:03.158080Z",
     "start_time": "2018-01-08T07:15:59.944732Z"
    }
   },
   "outputs": [
    {
     "data": {
      "text/plain": [
       "[0.18625847358790257, 0.9494381982289003]"
      ]
     },
     "execution_count": 21,
     "metadata": {},
     "output_type": "execute_result"
    }
   ],
   "source": [
    "model_2.evaluate_generator(validation_generator_2, int(np.ceil(validation_total_2/batch_size_2)))"
   ]
  },
  {
   "cell_type": "code",
   "execution_count": 22,
   "metadata": {
    "ExecuteTime": {
     "end_time": "2018-01-08T07:16:06.373036Z",
     "start_time": "2018-01-08T07:16:03.160782Z"
    },
    "collapsed": true
   },
   "outputs": [],
   "source": [
    "predictions_valid_2 = model_2.predict_generator(validation_generator_2,int(np.ceil(validation_total_2/batch_size_2)))\n",
    "predictions_valid_2 = np.argmax(predictions_valid_2, axis=1)\n"
   ]
  },
  {
   "cell_type": "code",
   "execution_count": 23,
   "metadata": {
    "ExecuteTime": {
     "end_time": "2018-01-08T07:16:06.380001Z",
     "start_time": "2018-01-08T07:16:06.375283Z"
    }
   },
   "outputs": [
    {
     "data": {
      "text/plain": [
       "178"
      ]
     },
     "execution_count": 23,
     "metadata": {},
     "output_type": "execute_result"
    }
   ],
   "source": [
    "len(predictions_valid_2)"
   ]
  },
  {
   "cell_type": "code",
   "execution_count": 24,
   "metadata": {
    "ExecuteTime": {
     "end_time": "2018-01-08T07:16:06.495676Z",
     "start_time": "2018-01-08T07:16:06.382042Z"
    },
    "collapsed": true
   },
   "outputs": [],
   "source": [
    "true_positive_2 = np.zeros(2)\n",
    "false_positive_2 = np.zeros(2)\n",
    "true_negative_2 = np.zeros(2)\n",
    "false_negative_2 = np.zeros(2)\n",
    "for i in range(len(predictions_valid_2)):\n",
    "    if(predictions_valid_2[i]==validation_generator_2.classes[i]):\n",
    "        true_positive_2[predictions_valid_2[i]] = true_positive_2[predictions_valid_2[i]] + 1\n",
    "    else:\n",
    "        false_positive_2[predictions_valid_2[i]] = false_positive_2[predictions_valid_2[i]] + 1\n",
    "        false_negative_2[validation_generator_2.classes[i]] = false_negative_2[validation_generator_2.classes[i]] +1"
   ]
  },
  {
   "cell_type": "code",
   "execution_count": 25,
   "metadata": {
    "ExecuteTime": {
     "end_time": "2018-01-08T07:16:06.644917Z",
     "start_time": "2018-01-08T07:16:06.498944Z"
    }
   },
   "outputs": [
    {
     "name": "stdout",
     "output_type": "stream",
     "text": [
      "true_positive_2\n",
      "[  43.  126.]\n",
      "false_positive_2\n",
      "[ 5.  4.]\n",
      "false_negative_2\n",
      "[ 4.  5.]\n",
      "Total_2\n",
      "[  47.  131.]\n"
     ]
    }
   ],
   "source": [
    "print('true_positive_2')\n",
    "print(true_positive_2)\n",
    "print('false_positive_2')\n",
    "print(false_positive_2)\n",
    "print('false_negative_2')\n",
    "print(false_negative_2)\n",
    "print('Total_2')\n",
    "print(true_positive_2+false_negative_2)"
   ]
  },
  {
   "cell_type": "code",
   "execution_count": 27,
   "metadata": {},
   "outputs": [],
   "source": [
    "model.save('binary_local_split_1500.hdf5')"
   ]
  },
  {
   "cell_type": "code",
   "execution_count": 39,
   "metadata": {
    "ExecuteTime": {
     "end_time": "2018-01-07T10:42:32.780204Z",
     "start_time": "2018-01-07T10:42:32.636133Z"
    }
   },
   "outputs": [
    {
     "name": "stdout",
     "output_type": "stream",
     "text": [
      "Found 794 images belonging to 1 classes.\n"
     ]
    }
   ],
   "source": [
    "test_datagen = ImageDataGenerator(rescale = 1./255)\n",
    "test_generator = test_datagen.flow_from_directory(\n",
    "                    'test',\n",
    "                    shuffle=False,\n",
    "                    target_size=(image_size,image_size),\n",
    "                    batch_size=batch_size,\n",
    "                    class_mode=None)\n"
   ]
  },
  {
   "cell_type": "code",
   "execution_count": 40,
   "metadata": {
    "ExecuteTime": {
     "end_time": "2018-01-07T10:42:48.280760Z",
     "start_time": "2018-01-07T10:42:34.289880Z"
    },
    "collapsed": true
   },
   "outputs": [],
   "source": [
    "predictions = model.predict_generator(test_generator,int(np.ceil(794/batch_size)))\n",
    "class_ids = {train_generator.class_indices[x]: x for x in train_generator.class_indices}\n",
    "predicted_classes = [class_ids[x] for x in np.argmax(predictions, axis=1)]\n"
   ]
  },
  {
   "cell_type": "code",
   "execution_count": 42,
   "metadata": {
    "ExecuteTime": {
     "end_time": "2018-01-07T10:42:48.499509Z",
     "start_time": "2018-01-07T10:42:48.288599Z"
    },
    "collapsed": true
   },
   "outputs": [],
   "source": [
    "indexes = []\n",
    "for i in range(len(np.argmax(predictions, axis=1))):\n",
    "    if((np.argmax(predictions, axis=1)[i]==0) or (np.argmax(predictions, axis=1)[i]==6)):\n",
    "        indexes.append(i)"
   ]
  },
  {
   "cell_type": "code",
   "execution_count": 43,
   "metadata": {
    "ExecuteTime": {
     "end_time": "2018-01-07T10:42:48.641230Z",
     "start_time": "2018-01-07T10:42:48.500688Z"
    }
   },
   "outputs": [
    {
     "name": "stdout",
     "output_type": "stream",
     "text": [
      "Found 794 images belonging to 1 classes.\n"
     ]
    }
   ],
   "source": [
    "test_datagen = ImageDataGenerator(rescale = 1./255)\n",
    "test_generator = test_datagen.flow_from_directory(\n",
    "                    'test',\n",
    "                    shuffle=False,\n",
    "                    target_size=(image_size_2,image_size_2),\n",
    "                    batch_size=batch_size,\n",
    "                    class_mode=None)\n"
   ]
  },
  {
   "cell_type": "code",
   "execution_count": 44,
   "metadata": {
    "ExecuteTime": {
     "end_time": "2018-01-07T10:42:51.717609Z",
     "start_time": "2018-01-07T10:42:48.644538Z"
    },
    "collapsed": true
   },
   "outputs": [],
   "source": [
    "predictions_2 = model_2.predict_generator(test_generator,int(np.ceil(794/batch_size)))\n",
    "class_ids_2 = {train_generator_2.class_indices[x]: x for x in train_generator_2.class_indices}\n",
    "predicted_classes_2 = [class_ids_2[x] for x in np.argmax(predictions_2, axis=1)]\n"
   ]
  },
  {
   "cell_type": "code",
   "execution_count": 52,
   "metadata": {
    "ExecuteTime": {
     "end_time": "2018-01-07T10:47:07.362070Z",
     "start_time": "2018-01-07T10:47:07.352772Z"
    },
    "collapsed": true
   },
   "outputs": [],
   "source": [
    "for i in range(len(indexes)):\n",
    "    predicted_classes[indexes[i]] = predicted_classes_2[indexes[i]]"
   ]
  },
  {
   "cell_type": "code",
   "execution_count": 54,
   "metadata": {
    "ExecuteTime": {
     "end_time": "2018-01-07T10:47:13.641946Z",
     "start_time": "2018-01-07T10:47:13.524886Z"
    },
    "collapsed": true
   },
   "outputs": [],
   "source": [
    "from os.path import basename\n",
    "test_ids = [basename(x) for x in test_generator.filenames]\n",
    "submission = pd.DataFrame({'file':test_ids,'species':predicted_classes})\n",
    "submission.to_csv('submission_mobilenet_two_models_v3.csv', encoding=\"utf8\", index=False)"
   ]
  },
  {
   "cell_type": "code",
   "execution_count": 55,
   "metadata": {
    "ExecuteTime": {
     "end_time": "2018-01-07T10:47:15.502801Z",
     "start_time": "2018-01-07T10:47:15.499192Z"
    }
   },
   "outputs": [
    {
     "data": {
      "text/html": [
       "<a href='submission_mobilenet_two_models_v3_second_split.csv' target='_blank'>submission_mobilenet_two_models_v3_second_split.csv</a><br>"
      ],
      "text/plain": [
       "/home/janardhan/plant_seeding/submission_mobilenet_two_models_v3_second_split.csv"
      ]
     },
     "execution_count": 55,
     "metadata": {},
     "output_type": "execute_result"
    }
   ],
   "source": [
    "from IPython.display import FileLink\n",
    "FileLink('submission_mobilenet_two_models_v3.csv')"
   ]
  },
  {
   "cell_type": "code",
   "execution_count": null,
   "metadata": {
    "collapsed": true
   },
   "outputs": [],
   "source": [
    "# 97.229"
   ]
  }
 ],
 "metadata": {
  "kernelspec": {
   "display_name": "Python 3",
   "language": "python",
   "name": "python3"
  },
  "language_info": {
   "codemirror_mode": {
    "name": "ipython",
    "version": 3
   },
   "file_extension": ".py",
   "mimetype": "text/x-python",
   "name": "python",
   "nbconvert_exporter": "python",
   "pygments_lexer": "ipython3",
   "version": "3.5.4"
  },
  "toc": {
   "nav_menu": {},
   "number_sections": true,
   "sideBar": true,
   "skip_h1_title": false,
   "toc_cell": false,
   "toc_position": {},
   "toc_section_display": "block",
   "toc_window_display": false
  }
 },
 "nbformat": 4,
 "nbformat_minor": 2
}
