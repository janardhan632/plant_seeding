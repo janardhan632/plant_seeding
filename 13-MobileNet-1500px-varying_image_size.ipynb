{
 "cells": [
  {
   "cell_type": "code",
   "execution_count": 1,
   "metadata": {},
   "outputs": [
    {
     "name": "stderr",
     "output_type": "stream",
     "text": [
      "Using TensorFlow backend.\n"
     ]
    }
   ],
   "source": [
    "from keras.preprocessing.image import ImageDataGenerator, Iterator\n",
    "from keras.models import Sequential, Model\n",
    "from keras.layers import Dropout, Flatten, Dense, Input\n",
    "from keras import applications\n",
    "from keras.layers import AveragePooling2D, GlobalAveragePooling2D\n",
    "from keras.callbacks import ModelCheckpoint, ReduceLROnPlateau, EarlyStopping, CSVLogger\n",
    "from keras.applications.mobilenet import MobileNet\n",
    "from keras.layers import Conv2D, Convolution2D, MaxPooling2D, ZeroPadding2D, BatchNormalization, Activation\n",
    "from keras.optimizers import RMSprop\n",
    "from keras import backend as K\n",
    "import numpy as np\n",
    "import pandas as pd\n",
    "from keras import layers\n",
    "import matplotlib.pyplot as plt\n",
    "import matplotlib.image as mpimg\n",
    "from keras.models import load_model"
   ]
  },
  {
   "cell_type": "code",
   "execution_count": 2,
   "metadata": {
    "collapsed": true
   },
   "outputs": [],
   "source": [
    "#parameters\n",
    "classes = 12\n",
    "batch_size= 6\n",
    "train_total = 3820\n",
    "validation_total = 930"
   ]
  },
  {
   "cell_type": "code",
   "execution_count": 3,
   "metadata": {
    "collapsed": true
   },
   "outputs": [],
   "source": [
    "model_mobilenet = MobileNet(include_top=False, weights = None,input_shape=(None,None,3), alpha=0.5)"
   ]
  },
  {
   "cell_type": "code",
   "execution_count": 4,
   "metadata": {
    "collapsed": true
   },
   "outputs": [],
   "source": [
    "x = model_mobilenet.output\n",
    "x = Dropout(0.5)(x)\n",
    "x = GlobalAveragePooling2D()(x)\n",
    "x = Dense(256, activation='relu')(x)\n",
    "x = Dropout(0.5)(x)\n",
    "x = Dense(classes, activation='softmax')(x)"
   ]
  },
  {
   "cell_type": "code",
   "execution_count": 5,
   "metadata": {
    "collapsed": true
   },
   "outputs": [],
   "source": [
    "model = Model(inputs=model_mobilenet.input, outputs=x)"
   ]
  },
  {
   "cell_type": "code",
   "execution_count": 6,
   "metadata": {
    "collapsed": true
   },
   "outputs": [],
   "source": [
    "model.load_weights('mobilenet_from_scratch_image_1500_local_split.hdf5')"
   ]
  },
  {
   "cell_type": "code",
   "execution_count": 7,
   "metadata": {},
   "outputs": [
    {
     "name": "stdout",
     "output_type": "stream",
     "text": [
      "_________________________________________________________________\n",
      "Layer (type)                 Output Shape              Param #   \n",
      "=================================================================\n",
      "input_1 (InputLayer)         (None, None, None, 3)     0         \n",
      "_________________________________________________________________\n",
      "conv1 (Conv2D)               (None, None, None, 16)    432       \n",
      "_________________________________________________________________\n",
      "conv1_bn (BatchNormalization (None, None, None, 16)    64        \n",
      "_________________________________________________________________\n",
      "conv1_relu (Activation)      (None, None, None, 16)    0         \n",
      "_________________________________________________________________\n",
      "conv_dw_1 (DepthwiseConv2D)  (None, None, None, 16)    144       \n",
      "_________________________________________________________________\n",
      "conv_dw_1_bn (BatchNormaliza (None, None, None, 16)    64        \n",
      "_________________________________________________________________\n",
      "conv_dw_1_relu (Activation)  (None, None, None, 16)    0         \n",
      "_________________________________________________________________\n",
      "conv_pw_1 (Conv2D)           (None, None, None, 32)    512       \n",
      "_________________________________________________________________\n",
      "conv_pw_1_bn (BatchNormaliza (None, None, None, 32)    128       \n",
      "_________________________________________________________________\n",
      "conv_pw_1_relu (Activation)  (None, None, None, 32)    0         \n",
      "_________________________________________________________________\n",
      "conv_dw_2 (DepthwiseConv2D)  (None, None, None, 32)    288       \n",
      "_________________________________________________________________\n",
      "conv_dw_2_bn (BatchNormaliza (None, None, None, 32)    128       \n",
      "_________________________________________________________________\n",
      "conv_dw_2_relu (Activation)  (None, None, None, 32)    0         \n",
      "_________________________________________________________________\n",
      "conv_pw_2 (Conv2D)           (None, None, None, 64)    2048      \n",
      "_________________________________________________________________\n",
      "conv_pw_2_bn (BatchNormaliza (None, None, None, 64)    256       \n",
      "_________________________________________________________________\n",
      "conv_pw_2_relu (Activation)  (None, None, None, 64)    0         \n",
      "_________________________________________________________________\n",
      "conv_dw_3 (DepthwiseConv2D)  (None, None, None, 64)    576       \n",
      "_________________________________________________________________\n",
      "conv_dw_3_bn (BatchNormaliza (None, None, None, 64)    256       \n",
      "_________________________________________________________________\n",
      "conv_dw_3_relu (Activation)  (None, None, None, 64)    0         \n",
      "_________________________________________________________________\n",
      "conv_pw_3 (Conv2D)           (None, None, None, 64)    4096      \n",
      "_________________________________________________________________\n",
      "conv_pw_3_bn (BatchNormaliza (None, None, None, 64)    256       \n",
      "_________________________________________________________________\n",
      "conv_pw_3_relu (Activation)  (None, None, None, 64)    0         \n",
      "_________________________________________________________________\n",
      "conv_dw_4 (DepthwiseConv2D)  (None, None, None, 64)    576       \n",
      "_________________________________________________________________\n",
      "conv_dw_4_bn (BatchNormaliza (None, None, None, 64)    256       \n",
      "_________________________________________________________________\n",
      "conv_dw_4_relu (Activation)  (None, None, None, 64)    0         \n",
      "_________________________________________________________________\n",
      "conv_pw_4 (Conv2D)           (None, None, None, 128)   8192      \n",
      "_________________________________________________________________\n",
      "conv_pw_4_bn (BatchNormaliza (None, None, None, 128)   512       \n",
      "_________________________________________________________________\n",
      "conv_pw_4_relu (Activation)  (None, None, None, 128)   0         \n",
      "_________________________________________________________________\n",
      "conv_dw_5 (DepthwiseConv2D)  (None, None, None, 128)   1152      \n",
      "_________________________________________________________________\n",
      "conv_dw_5_bn (BatchNormaliza (None, None, None, 128)   512       \n",
      "_________________________________________________________________\n",
      "conv_dw_5_relu (Activation)  (None, None, None, 128)   0         \n",
      "_________________________________________________________________\n",
      "conv_pw_5 (Conv2D)           (None, None, None, 128)   16384     \n",
      "_________________________________________________________________\n",
      "conv_pw_5_bn (BatchNormaliza (None, None, None, 128)   512       \n",
      "_________________________________________________________________\n",
      "conv_pw_5_relu (Activation)  (None, None, None, 128)   0         \n",
      "_________________________________________________________________\n",
      "conv_dw_6 (DepthwiseConv2D)  (None, None, None, 128)   1152      \n",
      "_________________________________________________________________\n",
      "conv_dw_6_bn (BatchNormaliza (None, None, None, 128)   512       \n",
      "_________________________________________________________________\n",
      "conv_dw_6_relu (Activation)  (None, None, None, 128)   0         \n",
      "_________________________________________________________________\n",
      "conv_pw_6 (Conv2D)           (None, None, None, 256)   32768     \n",
      "_________________________________________________________________\n",
      "conv_pw_6_bn (BatchNormaliza (None, None, None, 256)   1024      \n",
      "_________________________________________________________________\n",
      "conv_pw_6_relu (Activation)  (None, None, None, 256)   0         \n",
      "_________________________________________________________________\n",
      "conv_dw_7 (DepthwiseConv2D)  (None, None, None, 256)   2304      \n",
      "_________________________________________________________________\n",
      "conv_dw_7_bn (BatchNormaliza (None, None, None, 256)   1024      \n",
      "_________________________________________________________________\n",
      "conv_dw_7_relu (Activation)  (None, None, None, 256)   0         \n",
      "_________________________________________________________________\n",
      "conv_pw_7 (Conv2D)           (None, None, None, 256)   65536     \n",
      "_________________________________________________________________\n",
      "conv_pw_7_bn (BatchNormaliza (None, None, None, 256)   1024      \n",
      "_________________________________________________________________\n",
      "conv_pw_7_relu (Activation)  (None, None, None, 256)   0         \n",
      "_________________________________________________________________\n",
      "conv_dw_8 (DepthwiseConv2D)  (None, None, None, 256)   2304      \n",
      "_________________________________________________________________\n",
      "conv_dw_8_bn (BatchNormaliza (None, None, None, 256)   1024      \n",
      "_________________________________________________________________\n",
      "conv_dw_8_relu (Activation)  (None, None, None, 256)   0         \n",
      "_________________________________________________________________\n",
      "conv_pw_8 (Conv2D)           (None, None, None, 256)   65536     \n",
      "_________________________________________________________________\n",
      "conv_pw_8_bn (BatchNormaliza (None, None, None, 256)   1024      \n",
      "_________________________________________________________________\n",
      "conv_pw_8_relu (Activation)  (None, None, None, 256)   0         \n",
      "_________________________________________________________________\n",
      "conv_dw_9 (DepthwiseConv2D)  (None, None, None, 256)   2304      \n",
      "_________________________________________________________________\n",
      "conv_dw_9_bn (BatchNormaliza (None, None, None, 256)   1024      \n",
      "_________________________________________________________________\n",
      "conv_dw_9_relu (Activation)  (None, None, None, 256)   0         \n",
      "_________________________________________________________________\n",
      "conv_pw_9 (Conv2D)           (None, None, None, 256)   65536     \n",
      "_________________________________________________________________\n",
      "conv_pw_9_bn (BatchNormaliza (None, None, None, 256)   1024      \n",
      "_________________________________________________________________\n",
      "conv_pw_9_relu (Activation)  (None, None, None, 256)   0         \n",
      "_________________________________________________________________\n",
      "conv_dw_10 (DepthwiseConv2D) (None, None, None, 256)   2304      \n",
      "_________________________________________________________________\n",
      "conv_dw_10_bn (BatchNormaliz (None, None, None, 256)   1024      \n",
      "_________________________________________________________________\n",
      "conv_dw_10_relu (Activation) (None, None, None, 256)   0         \n",
      "_________________________________________________________________\n",
      "conv_pw_10 (Conv2D)          (None, None, None, 256)   65536     \n",
      "_________________________________________________________________\n",
      "conv_pw_10_bn (BatchNormaliz (None, None, None, 256)   1024      \n",
      "_________________________________________________________________\n",
      "conv_pw_10_relu (Activation) (None, None, None, 256)   0         \n",
      "_________________________________________________________________\n",
      "conv_dw_11 (DepthwiseConv2D) (None, None, None, 256)   2304      \n",
      "_________________________________________________________________\n",
      "conv_dw_11_bn (BatchNormaliz (None, None, None, 256)   1024      \n",
      "_________________________________________________________________\n",
      "conv_dw_11_relu (Activation) (None, None, None, 256)   0         \n",
      "_________________________________________________________________\n",
      "conv_pw_11 (Conv2D)          (None, None, None, 256)   65536     \n",
      "_________________________________________________________________\n",
      "conv_pw_11_bn (BatchNormaliz (None, None, None, 256)   1024      \n",
      "_________________________________________________________________\n",
      "conv_pw_11_relu (Activation) (None, None, None, 256)   0         \n",
      "_________________________________________________________________\n",
      "conv_dw_12 (DepthwiseConv2D) (None, None, None, 256)   2304      \n",
      "_________________________________________________________________\n",
      "conv_dw_12_bn (BatchNormaliz (None, None, None, 256)   1024      \n",
      "_________________________________________________________________\n",
      "conv_dw_12_relu (Activation) (None, None, None, 256)   0         \n",
      "_________________________________________________________________\n",
      "conv_pw_12 (Conv2D)          (None, None, None, 512)   131072    \n",
      "_________________________________________________________________\n",
      "conv_pw_12_bn (BatchNormaliz (None, None, None, 512)   2048      \n",
      "_________________________________________________________________\n",
      "conv_pw_12_relu (Activation) (None, None, None, 512)   0         \n",
      "_________________________________________________________________\n",
      "conv_dw_13 (DepthwiseConv2D) (None, None, None, 512)   4608      \n",
      "_________________________________________________________________\n",
      "conv_dw_13_bn (BatchNormaliz (None, None, None, 512)   2048      \n",
      "_________________________________________________________________\n",
      "conv_dw_13_relu (Activation) (None, None, None, 512)   0         \n",
      "_________________________________________________________________\n",
      "conv_pw_13 (Conv2D)          (None, None, None, 512)   262144    \n",
      "_________________________________________________________________\n",
      "conv_pw_13_bn (BatchNormaliz (None, None, None, 512)   2048      \n",
      "_________________________________________________________________\n",
      "conv_pw_13_relu (Activation) (None, None, None, 512)   0         \n",
      "_________________________________________________________________\n",
      "dropout_1 (Dropout)          (None, None, None, 512)   0         \n",
      "_________________________________________________________________\n",
      "global_average_pooling2d_1 ( (None, 512)               0         \n",
      "_________________________________________________________________\n",
      "dense_1 (Dense)              (None, 256)               131328    \n",
      "_________________________________________________________________\n",
      "dropout_2 (Dropout)          (None, 256)               0         \n",
      "_________________________________________________________________\n",
      "dense_2 (Dense)              (None, 12)                3084      \n",
      "=================================================================\n",
      "Total params: 963,948\n",
      "Trainable params: 953,004\n",
      "Non-trainable params: 10,944\n",
      "_________________________________________________________________\n"
     ]
    }
   ],
   "source": [
    "model.summary()"
   ]
  },
  {
   "cell_type": "code",
   "execution_count": 8,
   "metadata": {
    "collapsed": true
   },
   "outputs": [],
   "source": [
    "model.compile(loss='categorical_crossentropy',\n",
    "             optimizer=RMSprop(lr=1e-6),\n",
    "             metrics=['accuracy'])"
   ]
  },
  {
   "cell_type": "code",
   "execution_count": 9,
   "metadata": {
    "collapsed": true
   },
   "outputs": [],
   "source": [
    "train_datagen = ImageDataGenerator(rescale=1./255,\n",
    "                                   shear_range = 0.2,\n",
    "                                   rotation_range = 20,\n",
    "                                   height_shift_range=0.2,\n",
    "                                   width_shift_range=0.2,\n",
    "                                   zoom_range=0.2,\n",
    "                                   fill_mode='reflect',\n",
    "                                   horizontal_flip=True,\n",
    "                                   vertical_flip=True)"
   ]
  },
  {
   "cell_type": "code",
   "execution_count": 10,
   "metadata": {
    "collapsed": true
   },
   "outputs": [],
   "source": [
    "class_indices = {'Black-grass': 0,\n",
    " 'Charlock': 1,\n",
    " 'Cleavers': 2,\n",
    " 'Common Chickweed': 3,\n",
    " 'Common wheat': 4,\n",
    " 'Fat Hen': 5,\n",
    " 'Loose Silky-bent': 6,\n",
    " 'Maize': 7,\n",
    " 'Scentless Mayweed': 8,\n",
    " 'Shepherds Purse': 9,\n",
    " 'Small-flowered Cranesbill': 10,\n",
    " 'Sugar beet': 11}"
   ]
  },
  {
   "cell_type": "code",
   "execution_count": 11,
   "metadata": {
    "collapsed": true
   },
   "outputs": [],
   "source": [
    "from keras.utils import to_categorical\n",
    "import random\n",
    "from keras.preprocessing.image import load_img, img_to_array\n",
    "from random import shuffle\n",
    "\n",
    "def vary_size_gen(files, preds, batch_size, imggen):\n",
    "    this_data = list(zip(files, preds))\n",
    "    while(True):\n",
    "        shuffle(this_data)\n",
    "        for start in range(0, len(this_data), batch_size):\n",
    "            rand_num = random.randint(500,1500)\n",
    "            end = min(start + batch_size, len(this_data))\n",
    "            y_batch = [this_data[i][1] for i in range(start,end)]\n",
    "            \n",
    "            x_batch = [this_data[i][0] for i in range(start,end)]\n",
    "            x_batch = [img_to_array(load_img(x, target_size=(rand_num,rand_num)), 'channels_last') for x in x_batch]\n",
    "            x_batch = [x/255. for x in x_batch]\n",
    "            x_batch = [imggen.random_transform(x) for x in x_batch]\n",
    "            \n",
    "            x_batch = np.array(x_batch, np.float32)\n",
    "            y_batch = np.array(y_batch, np.float32)\n",
    "            \n",
    "            yield (x_batch, y_batch)"
   ]
  },
  {
   "cell_type": "code",
   "execution_count": 12,
   "metadata": {
    "collapsed": true
   },
   "outputs": [],
   "source": [
    "import re\n",
    "import os\n",
    "train_class =[]\n",
    "train_names =[]\n",
    "for i in os.listdir('train'):\n",
    "    for j in os.scandir('train/' + i):\n",
    "        train_class.append(re.sub(r'train\\/(.*)\\/.*',r'\\1',j.path))\n",
    "        train_names.append(j.path)"
   ]
  },
  {
   "cell_type": "code",
   "execution_count": 13,
   "metadata": {
    "collapsed": true
   },
   "outputs": [],
   "source": [
    "train_classes = [class_indices[i] for i in train_class]"
   ]
  },
  {
   "cell_type": "code",
   "execution_count": 14,
   "metadata": {
    "collapsed": true
   },
   "outputs": [],
   "source": [
    "valid_class =[]\n",
    "valid_names =[]\n",
    "for i in os.listdir('validation'):\n",
    "    for j in os.scandir('validation/' + i):\n",
    "        valid_class.append(re.sub(r'validation\\/(.*)\\/.*',r'\\1',j.path))\n",
    "        valid_names.append(j.path)"
   ]
  },
  {
   "cell_type": "code",
   "execution_count": 15,
   "metadata": {
    "collapsed": true
   },
   "outputs": [],
   "source": [
    "validation_classes = [class_indices[i] for i in valid_class]"
   ]
  },
  {
   "cell_type": "code",
   "execution_count": 16,
   "metadata": {
    "collapsed": true
   },
   "outputs": [],
   "source": [
    "def vary_size_gen2(files, preds, batch_size, imggen = None):\n",
    "    this_data = list(zip(files, preds))\n",
    "    sizes = list(range(500,1700,200))\n",
    "    while(True):\n",
    "        shuffle(sizes)\n",
    "        for size in sizes:\n",
    "            shuffle(this_data)\n",
    "            for start in range(0, len(this_data), batch_size):\n",
    "                end = min(start + batch_size, len(this_data))\n",
    "                y_batch = [this_data[i][1] for i in range(start,end)]\n",
    "\n",
    "                x_batch = [this_data[i][0] for i in range(start,end)]\n",
    "                x_batch = [img_to_array(load_img(x, target_size=(size,size)), 'channels_last') for x in x_batch]\n",
    "                x_batch = [x/255. for x in x_batch]\n",
    "                if imggen is not None:\n",
    "                    x_batch = [imggen.random_transform(x) for x in x_batch]\n",
    "\n",
    "                x_batch = np.array(x_batch, np.float32)\n",
    "                y_batch = np.array(y_batch, np.float32)\n",
    "\n",
    "                yield (x_batch, y_batch)"
   ]
  },
  {
   "cell_type": "code",
   "execution_count": null,
   "metadata": {
    "collapsed": true
   },
   "outputs": [],
   "source": []
  },
  {
   "cell_type": "code",
   "execution_count": 17,
   "metadata": {},
   "outputs": [
    {
     "data": {
      "text/plain": [
       "[0.47224498745636917, 0.91792114695340499]"
      ]
     },
     "execution_count": 17,
     "metadata": {},
     "output_type": "execute_result"
    }
   ],
   "source": [
    "model.evaluate_generator(vary_size_gen2(valid_names,\n",
    "                                        to_categorical(validation_classes),\n",
    "                                        16),\n",
    "                         int(6*np.ceil(validation_total/16)))"
   ]
  },
  {
   "cell_type": "code",
   "execution_count": 18,
   "metadata": {},
   "outputs": [
    {
     "data": {
      "text/plain": [
       "[0.47424255480176314, 0.91774193548387095]"
      ]
     },
     "execution_count": 18,
     "metadata": {},
     "output_type": "execute_result"
    }
   ],
   "source": [
    "model.evaluate_generator(vary_size_gen2(valid_names,\n",
    "                                        to_categorical(validation_classes),\n",
    "                                        16),\n",
    "                         int(6*np.ceil(validation_total/16)))"
   ]
  },
  {
   "cell_type": "code",
   "execution_count": null,
   "metadata": {},
   "outputs": [
    {
     "data": {
      "text/plain": [
       "[0.35734229576716536, 0.93869982546952802]"
      ]
     },
     "execution_count": 19,
     "metadata": {},
     "output_type": "execute_result"
    }
   ],
   "source": [
    "model.evaluate_generator(vary_size_gen2(train_names,\n",
    "                                        to_categorical(train_classes),\n",
    "                                        16),\n",
    "                         int(6*np.ceil(train_total/16)))"
   ]
  },
  {
   "cell_type": "code",
   "execution_count": null,
   "metadata": {},
   "outputs": [],
   "source": [
    "model.evaluate_generator(vary_size_gen2(train_names,\n",
    "                                        to_categorical(train_classes),\n",
    "                                        16,\n",
    "                                        train_datagen),\n",
    "                         int(6*np.ceil(train_total/16)))"
   ]
  },
  {
   "cell_type": "code",
   "execution_count": null,
   "metadata": {},
   "outputs": [],
   "source": [
    "1+1"
   ]
  },
  {
   "cell_type": "code",
   "execution_count": null,
   "metadata": {
    "collapsed": true
   },
   "outputs": [],
   "source": []
  },
  {
   "cell_type": "code",
   "execution_count": null,
   "metadata": {
    "collapsed": true
   },
   "outputs": [],
   "source": [
    "train_target_size_generator = vary_size_gen2(train_names,\n",
    "                                             to_categorical(train_classes),\n",
    "                                             batch_size, train_datagen)"
   ]
  },
  {
   "cell_type": "code",
   "execution_count": null,
   "metadata": {
    "collapsed": true
   },
   "outputs": [],
   "source": [
    "validation_target_size_generator = vary_size_gen2(valid_names,\n",
    "                                                       to_categorical(validation_classes),\n",
    "                                                       16)"
   ]
  },
  {
   "cell_type": "code",
   "execution_count": null,
   "metadata": {
    "collapsed": true
   },
   "outputs": [],
   "source": []
  },
  {
   "cell_type": "code",
   "execution_count": null,
   "metadata": {
    "collapsed": true
   },
   "outputs": [],
   "source": [
    "validation_target_size_generator = validation_size_gen(train_names,\n",
    "                                                       to_categorical(train_classes),\n",
    "                                                       16)"
   ]
  },
  {
   "cell_type": "code",
   "execution_count": null,
   "metadata": {
    "collapsed": true
   },
   "outputs": [],
   "source": [
    "model.evaluate_generator(validation_target_size_generator, int(6*np.ceil(train_total/16)))"
   ]
  },
  {
   "cell_type": "code",
   "execution_count": null,
   "metadata": {
    "collapsed": true
   },
   "outputs": [],
   "source": [
    "model.compile(loss='categorical_crossentropy',\n",
    "             optimizer=RMSprop(lr=1e-4),\n",
    "             metrics=['accuracy'])"
   ]
  },
  {
   "cell_type": "code",
   "execution_count": null,
   "metadata": {
    "collapsed": true
   },
   "outputs": [],
   "source": [
    "callbacks = [ModelCheckpoint(filepath='mobilenet_image_1500_local_split_vary_size.hdf5', verbose=1, save_best_only=True, save_weights_only=True),\n",
    "            ReduceLROnPlateau(monitor='val_loss', factor=0.1, patience=5, verbose=1),\n",
    "            EarlyStopping(monitor='val_loss', patience=20, verbose=1),\n",
    "            CSVLogger('./13-metrics_vary_size.csv')]"
   ]
  },
  {
   "cell_type": "code",
   "execution_count": null,
   "metadata": {
    "collapsed": true
   },
   "outputs": [],
   "source": []
  },
  {
   "cell_type": "code",
   "execution_count": null,
   "metadata": {
    "collapsed": true
   },
   "outputs": [],
   "source": [
    "history = model.fit_generator(\n",
    "                    train_target_size_generator,\n",
    "                    steps_per_epoch = int(np.ceil(train_total/batch_size)),\n",
    "                    epochs=100,\n",
    "                    validation_data=validation_target_size_generator,\n",
    "                    validation_steps= int(6*np.ceil(validation_total/16)),\n",
    "                    verbose=2,\n",
    "                    callbacks=callbacks)"
   ]
  },
  {
   "cell_type": "code",
   "execution_count": null,
   "metadata": {
    "collapsed": true
   },
   "outputs": [],
   "source": [
    "model.load_weights('mobilenet_image_1500_local_split_vary_size.hdf5')"
   ]
  },
  {
   "cell_type": "code",
   "execution_count": null,
   "metadata": {
    "collapsed": true
   },
   "outputs": [],
   "source": [
    "model.evaluate_generator(validation_target_size_generator, int(np.ceil(6*validation_total/16)))"
   ]
  },
  {
   "cell_type": "code",
   "execution_count": null,
   "metadata": {
    "collapsed": true
   },
   "outputs": [],
   "source": [
    "test_datagen = ImageDataGenerator(rescale = 1./255)\n",
    "test_generator = test_datagen.flow_from_directory(\n",
    "                    'test',\n",
    "                    shuffle=False,\n",
    "                    target_size=(image_size,image_size),\n",
    "                    batch_size=batch_size,\n",
    "                    class_mode=None)"
   ]
  },
  {
   "cell_type": "code",
   "execution_count": null,
   "metadata": {
    "collapsed": true
   },
   "outputs": [],
   "source": [
    "predictions_2 = model.predict_generator(test_generator,int(np.ceil(794/batch_size)))\n",
    "class_ids = {validation_generator.class_indices[x]: x for x in validation_generator.class_indices}\n",
    "predicted_classes_2 = [class_ids[x] for x in np.argmax(predictions_2, axis=1)]"
   ]
  },
  {
   "cell_type": "code",
   "execution_count": null,
   "metadata": {
    "collapsed": true
   },
   "outputs": [],
   "source": [
    "m = [i for i,j in zip(predicted_classes,predicted_classes_2) if(i!=j)]\n",
    "m"
   ]
  },
  {
   "cell_type": "code",
   "execution_count": null,
   "metadata": {
    "collapsed": true
   },
   "outputs": [],
   "source": [
    "from os.path import basename\n",
    "test_ids = [basename(x) for x in test_generator.filenames]\n",
    "submission = pd.DataFrame({'file':test_ids,'species':predicted_classes_2})\n",
    "submission.to_csv('submission_mobilenet_size_increase_1500_pseudo_label.csv', encoding=\"utf8\", index=False)"
   ]
  },
  {
   "cell_type": "code",
   "execution_count": null,
   "metadata": {
    "collapsed": true
   },
   "outputs": [],
   "source": [
    "from IPython.display import FileLink\n",
    "FileLink('submission_mobilenet_size_increase_1500_pseudo_label.csv')"
   ]
  },
  {
   "cell_type": "code",
   "execution_count": null,
   "metadata": {
    "collapsed": true
   },
   "outputs": [],
   "source": [
    "# 97.607"
   ]
  }
 ],
 "metadata": {
  "kernelspec": {
   "display_name": "Python 3",
   "language": "python",
   "name": "python3"
  },
  "language_info": {
   "codemirror_mode": {
    "name": "ipython",
    "version": 3
   },
   "file_extension": ".py",
   "mimetype": "text/x-python",
   "name": "python",
   "nbconvert_exporter": "python",
   "pygments_lexer": "ipython3",
   "version": "3.5.4"
  }
 },
 "nbformat": 4,
 "nbformat_minor": 2
}
