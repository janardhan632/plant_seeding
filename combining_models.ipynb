{
 "cells": [
  {
   "cell_type": "code",
   "execution_count": 1,
   "metadata": {},
   "outputs": [
    {
     "name": "stderr",
     "output_type": "stream",
     "text": [
      "Using TensorFlow backend.\n"
     ]
    }
   ],
   "source": [
    "from keras.preprocessing.image import ImageDataGenerator\n",
    "from keras.models import Sequential, Model\n",
    "from keras.layers import Dropout, Flatten, Dense, Input\n",
    "from keras import applications\n",
    "from keras.layers import AveragePooling2D, GlobalAveragePooling2D\n",
    "from keras.callbacks import ModelCheckpoint, ReduceLROnPlateau, EarlyStopping, CSVLogger\n",
    "from keras.applications.mobilenet import MobileNet\n",
    "from keras.layers import Conv2D, Convolution2D, MaxPooling2D, ZeroPadding2D, BatchNormalization, Activation\n",
    "from keras.optimizers import RMSprop\n",
    "from keras import backend as K\n",
    "import numpy as np\n",
    "import pandas as pd\n",
    "from keras import layers\n",
    "import matplotlib.pyplot as plt\n",
    "import matplotlib.image as mpimg\n",
    "from keras.models import load_model"
   ]
  },
  {
   "cell_type": "code",
   "execution_count": 2,
   "metadata": {
    "collapsed": true
   },
   "outputs": [],
   "source": [
    "#parameters\n",
    "classes = 12\n",
    "image_size = 1500\n",
    "batch_size= 6\n",
    "train_total = 3820\n",
    "validation_total = 930"
   ]
  },
  {
   "cell_type": "code",
   "execution_count": 3,
   "metadata": {
    "collapsed": true
   },
   "outputs": [],
   "source": [
    "model_mobilenet = MobileNet(include_top=False, weights = None,input_shape=(image_size,image_size,3), alpha=0.5)\n",
    "x = model_mobilenet.output\n",
    "x = Dropout(0.5)(x)\n",
    "x = GlobalAveragePooling2D()(x)\n",
    "x = Dense(256, activation='relu')(x)\n",
    "x = Dropout(0.5)(x)\n",
    "x = Dense(classes, activation='softmax')(x)\n",
    "model = Model(inputs=model_mobilenet.input, outputs=x)\n",
    "model.compile(loss='categorical_crossentropy',\n",
    "             optimizer=RMSprop(lr=1e-6),\n",
    "             metrics=['accuracy'])\n",
    "model.load_weights('mobilenet_from_scratch_image_1500_local_split.hdf5')"
   ]
  },
  {
   "cell_type": "code",
   "execution_count": 4,
   "metadata": {
    "collapsed": true
   },
   "outputs": [],
   "source": [
    "model_mobilenet_2 = MobileNet(include_top=False, weights = None,input_shape=(1000,1000,3), alpha=0.5)\n",
    "x = model_mobilenet_2.output\n",
    "x = Dropout(0.5)(x)\n",
    "x = GlobalAveragePooling2D()(x)\n",
    "x = Dense(256, activation='relu')(x)\n",
    "x = Dropout(0.5)(x)\n",
    "x = Dense(classes, activation='softmax')(x)\n",
    "model_2 = Model(inputs=model_mobilenet_2.input, outputs=x)\n",
    "model_2.load_weights('mobilenet_from_scratch_save_best_image_increase_1000.hdf5')\n",
    "model_2.compile(loss='categorical_crossentropy',\n",
    "             optimizer=RMSprop(lr=1e-6),\n",
    "             metrics=['accuracy'])"
   ]
  },
  {
   "cell_type": "code",
   "execution_count": 5,
   "metadata": {
    "collapsed": true
   },
   "outputs": [],
   "source": [
    "model_mobilenet_3 = MobileNet(include_top=False, weights = None,input_shape=(image_size,image_size,3), alpha=0.5)\n",
    "x = model_mobilenet_3.output\n",
    "x = Dropout(0.5)(x)\n",
    "x = GlobalAveragePooling2D()(x)\n",
    "x = Dense(256, activation='relu')(x)\n",
    "x = Dropout(0.5)(x)\n",
    "x = Dense(2, activation='softmax')(x)\n",
    "model_3 = Model(inputs=model_mobilenet_3.input, outputs=x)\n",
    "model_3.compile(loss='categorical_crossentropy',\n",
    "             optimizer=RMSprop(lr=1e-6),\n",
    "             metrics=['accuracy'])\n",
    "model_3.load_weights('11_mobilenet_from_scratch_model_2_v3_increase.hdf5')"
   ]
  },
  {
   "cell_type": "code",
   "execution_count": 6,
   "metadata": {
    "collapsed": true
   },
   "outputs": [],
   "source": [
    "model_mobilenet_4 = MobileNet(include_top=False, weights = None,input_shape=(image_size,image_size,3), alpha=0.5)\n",
    "x = model_mobilenet_4.output\n",
    "x = Dropout(0.5)(x)\n",
    "x = GlobalAveragePooling2D()(x)\n",
    "x = Dense(256, activation='relu')(x)\n",
    "x = Dropout(0.5)(x)\n",
    "x = Dense(classes, activation='softmax')(x)\n",
    "model_4 = Model(inputs=model_mobilenet_4.input, outputs=x)\n",
    "model_4.compile(loss='categorical_crossentropy',\n",
    "             optimizer=RMSprop(lr=1e-6),\n",
    "             metrics=['accuracy'])\n",
    "model_4.load_weights('mobilenet_image_1500_local_split_pseudo_label.hdf5')"
   ]
  },
  {
   "cell_type": "code",
   "execution_count": 7,
   "metadata": {
    "collapsed": true
   },
   "outputs": [],
   "source": [
    "model_mobilenet_5 = MobileNet(include_top=False, weights = None,input_shape=(1000,1000,3), alpha=0.5)\n",
    "x = model_mobilenet_5.output\n",
    "x = MaxPooling2D((4,4),strides=(4,4))(x)\n",
    "x = Flatten()(x)\n",
    "x = Dense(4096, activation='relu')(x)\n",
    "x = Dropout(0.5)(x)\n",
    "x = Dense(256, activation='relu')(x)\n",
    "x = Dropout(0.5)(x)\n",
    "x = Dense(classes, activation='softmax')(x)\n",
    "model_5 = Model(inputs=model_mobilenet_5.input, outputs=x)\n",
    "model_5.compile(loss='categorical_crossentropy',\n",
    "             optimizer=RMSprop(lr=1e-6),\n",
    "             metrics=['accuracy'])\n",
    "model_5.load_weights('mobilenet_fixed_bottom_image_1500_local_split.hdf5')"
   ]
  },
  {
   "cell_type": "code",
   "execution_count": 8,
   "metadata": {
    "collapsed": true
   },
   "outputs": [],
   "source": [
    "model_mobilenet_6 = MobileNet(include_top=False, weights = None,input_shape=(image_size,image_size,3), alpha=0.5)\n",
    "x = model_mobilenet_6.output\n",
    "x = Dropout(0.5)(x)\n",
    "x = GlobalAveragePooling2D()(x)\n",
    "x = Dense(256, activation='relu')(x)\n",
    "x = Dropout(0.5)(x)\n",
    "x = Dense(2, activation='softmax')(x)\n",
    "model_6 = Model(inputs=model_mobilenet_6.input, outputs=x)\n",
    "model_6.compile(loss='categorical_crossentropy',\n",
    "             optimizer=RMSprop(lr=1e-6),\n",
    "             metrics=['accuracy'])\n",
    "model_6.load_weights('11_mobilenet_from_scratch_model_2_v3_increase_second_split.hdf5')"
   ]
  },
  {
   "cell_type": "code",
   "execution_count": 9,
   "metadata": {
    "collapsed": true
   },
   "outputs": [],
   "source": [
    "model_mobilenet_7 = MobileNet(include_top=False, weights = None,input_shape=(image_size,image_size,3), alpha=0.5)\n",
    "x = model_mobilenet_7.output\n",
    "x = Dropout(0.5)(x)\n",
    "x = GlobalAveragePooling2D()(x)\n",
    "x = Dense(256, activation='relu')(x)\n",
    "x = Dropout(0.5)(x)\n",
    "x = Dense(2, activation='softmax')(x)\n",
    "model_7 = Model(inputs=model_mobilenet_7.input, outputs=x)\n",
    "model_7.compile(loss='categorical_crossentropy',\n",
    "             optimizer=RMSprop(lr=1e-6),\n",
    "             metrics=['accuracy'])"
   ]
  },
  {
   "cell_type": "code",
   "execution_count": 10,
   "metadata": {},
   "outputs": [
    {
     "data": {
      "text/plain": [
       "4"
      ]
     },
     "execution_count": 10,
     "metadata": {},
     "output_type": "execute_result"
    }
   ],
   "source": [
    "len(model_3.layers[2].get_weights())"
   ]
  },
  {
   "cell_type": "code",
   "execution_count": 11,
   "metadata": {},
   "outputs": [],
   "source": [
    "for layer1,layer2,layer3 in zip(model_7.layers,model_6.layers,model_3.layers):\n",
    "    layer1.set_weights([(i+j)/2 for i,j in zip(layer2.get_weights(),layer3.get_weights())])"
   ]
  },
  {
   "cell_type": "code",
   "execution_count": 12,
   "metadata": {},
   "outputs": [
    {
     "name": "stdout",
     "output_type": "stream",
     "text": [
      "Found 3820 images belonging to 12 classes.\n",
      "Found 930 images belonging to 12 classes.\n"
     ]
    }
   ],
   "source": [
    "train_datagen = ImageDataGenerator(rescale=1./255,\n",
    "                                   shear_range = 0.2,\n",
    "                                   rotation_range = 45,\n",
    "                                   height_shift_range=0.2,\n",
    "                                   width_shift_range=0.2,\n",
    "                                   fill_mode='reflect',\n",
    "                                   horizontal_flip=True,\n",
    "                                   vertical_flip=True)\n",
    "validation_datagen = ImageDataGenerator(rescale = 1./255)\n",
    "train_generator = train_datagen.flow_from_directory(\n",
    "                    'train',\n",
    "                    target_size=(image_size,image_size),\n",
    "                    batch_size=batch_size,\n",
    "                    class_mode='categorical',\n",
    "                    shuffle=True\n",
    "                    )\n",
    "validation_generator = validation_datagen.flow_from_directory(\n",
    "                        'validation',\n",
    "                        target_size=(image_size,image_size),\n",
    "                        batch_size=batch_size,\n",
    "                        class_mode='categorical',\n",
    "                        shuffle=False)"
   ]
  },
  {
   "cell_type": "code",
   "execution_count": 13,
   "metadata": {},
   "outputs": [
    {
     "name": "stdout",
     "output_type": "stream",
     "text": [
      "Found 739 images belonging to 2 classes.\n",
      "Found 224 images belonging to 2 classes.\n"
     ]
    }
   ],
   "source": [
    "train_datagen_2 = ImageDataGenerator(rescale=1./255,\n",
    "                                   shear_range = 0.2,\n",
    "                                   rotation_range = 90,\n",
    "                                   height_shift_range=0.2,\n",
    "                                   width_shift_range=0.2,\n",
    "                                   zoom_range=0.2,\n",
    "                                   fill_mode='reflect',\n",
    "                                   horizontal_flip=True,\n",
    "                                   vertical_flip=True)\n",
    "validation_datagen_2 = ImageDataGenerator(rescale = 1./255)\n",
    "train_generator_2 = train_datagen_2.flow_from_directory(\n",
    "                    'train_2',\n",
    "                    target_size=(image_size,image_size),\n",
    "                    batch_size=batch_size,\n",
    "                    class_mode='categorical',\n",
    "                    shuffle=True\n",
    "                    )\n",
    "validation_generator_2 = validation_datagen_2.flow_from_directory(\n",
    "                        'validation_2',\n",
    "                        target_size=(image_size,image_size),\n",
    "                        batch_size=batch_size,\n",
    "                        class_mode='categorical',\n",
    "                        shuffle=False)"
   ]
  },
  {
   "cell_type": "code",
   "execution_count": 14,
   "metadata": {},
   "outputs": [
    {
     "data": {
      "text/plain": [
       "[0.1626936701712631, 0.95535713753529961]"
      ]
     },
     "execution_count": 14,
     "metadata": {},
     "output_type": "execute_result"
    }
   ],
   "source": [
    "model_3.evaluate_generator(validation_generator_2, int(np.ceil(224/batch_size)))"
   ]
  },
  {
   "cell_type": "code",
   "execution_count": 15,
   "metadata": {},
   "outputs": [
    {
     "name": "stdout",
     "output_type": "stream",
     "text": [
      "Found 794 images belonging to 1 classes.\n"
     ]
    }
   ],
   "source": [
    "test_datagen = ImageDataGenerator(rescale = 1./255)\n",
    "test_generator = test_datagen.flow_from_directory(\n",
    "                    'test',\n",
    "                    shuffle=False,\n",
    "                    target_size=(image_size,image_size),\n",
    "                    batch_size=batch_size,\n",
    "                    class_mode=None)\n"
   ]
  },
  {
   "cell_type": "code",
   "execution_count": 16,
   "metadata": {},
   "outputs": [],
   "source": [
    "predictions = model.predict_generator(test_generator,int(np.ceil(794/batch_size)))\n",
    "class_ids = {train_generator.class_indices[x]: x for x in train_generator.class_indices}\n",
    "predicted_classes = [class_ids[x] for x in np.argmax(predictions, axis=1)]\n"
   ]
  },
  {
   "cell_type": "code",
   "execution_count": 17,
   "metadata": {
    "collapsed": true
   },
   "outputs": [],
   "source": [
    "predictions_7 = model_7.predict_generator(test_generator,int(np.ceil(794/batch_size)))\n",
    "class_ids = {train_generator_2.class_indices[x]: x for x in train_generator_2.class_indices}\n",
    "predicted_classes_7 = [class_ids[x] for x in np.argmax(predictions_7, axis=1)]\n"
   ]
  },
  {
   "cell_type": "code",
   "execution_count": 18,
   "metadata": {},
   "outputs": [],
   "source": [
    "predictions_3 = model_3.predict_generator(test_generator,int(np.ceil(794/batch_size)))\n",
    "class_ids = {train_generator_2.class_indices[x]: x for x in train_generator_2.class_indices}\n",
    "predicted_classes_3 = [class_ids[x] for x in np.argmax(predictions_3, axis=1)]\n"
   ]
  },
  {
   "cell_type": "code",
   "execution_count": 19,
   "metadata": {},
   "outputs": [],
   "source": [
    "predictions_4 = model_4.predict_generator(test_generator,int(np.ceil(794/batch_size)))\n",
    "class_ids = {train_generator.class_indices[x]: x for x in train_generator.class_indices}\n",
    "predicted_classes_4 = [class_ids[x] for x in np.argmax(predictions_4, axis=1)]\n"
   ]
  },
  {
   "cell_type": "code",
   "execution_count": 20,
   "metadata": {
    "collapsed": true
   },
   "outputs": [],
   "source": [
    "predictions_6 = model_6.predict_generator(test_generator,int(np.ceil(794/batch_size)))\n",
    "class_ids = {train_generator_2.class_indices[x]: x for x in train_generator_2.class_indices}\n",
    "predicted_classes_6 = [class_ids[x] for x in np.argmax(predictions_6, axis=1)]\n"
   ]
  },
  {
   "cell_type": "code",
   "execution_count": 21,
   "metadata": {},
   "outputs": [
    {
     "name": "stdout",
     "output_type": "stream",
     "text": [
      "Found 794 images belonging to 1 classes.\n"
     ]
    }
   ],
   "source": [
    "test_datagen = ImageDataGenerator(rescale = 1./255)\n",
    "test_generator_1000 = test_datagen.flow_from_directory(\n",
    "                    'test',\n",
    "                    shuffle=False,\n",
    "                    target_size=(1000,1000),\n",
    "                    batch_size=batch_size,\n",
    "                    class_mode=None)\n"
   ]
  },
  {
   "cell_type": "code",
   "execution_count": 22,
   "metadata": {
    "collapsed": true
   },
   "outputs": [],
   "source": [
    "predictions_2 = model_2.predict_generator(test_generator_1000,int(np.ceil(794/batch_size)))\n",
    "class_ids = {train_generator.class_indices[x]: x for x in train_generator.class_indices}\n",
    "predicted_classes_2 = [class_ids[x] for x in np.argmax(predictions_2, axis=1)]\n"
   ]
  },
  {
   "cell_type": "code",
   "execution_count": 23,
   "metadata": {
    "collapsed": true
   },
   "outputs": [],
   "source": [
    "predictions_5 = model_5.predict_generator(test_generator_1000,int(np.ceil(794/batch_size)))\n",
    "class_ids = {train_generator.class_indices[x]: x for x in train_generator.class_indices}\n",
    "predicted_classes_5 = [class_ids[x] for x in np.argmax(predictions_5, axis=1)]\n"
   ]
  },
  {
   "cell_type": "code",
   "execution_count": 54,
   "metadata": {},
   "outputs": [],
   "source": [
    "predictions_max = np.maximum(predictions,predictions_2)"
   ]
  },
  {
   "cell_type": "code",
   "execution_count": 55,
   "metadata": {
    "collapsed": true
   },
   "outputs": [],
   "source": [
    "class_ids = {train_generator.class_indices[x]: x for x in train_generator.class_indices}\n",
    "predicted_classes_max = [class_ids[x] for x in np.argmax(predictions_max, axis=1)]"
   ]
  },
  {
   "cell_type": "code",
   "execution_count": 56,
   "metadata": {
    "collapsed": true
   },
   "outputs": [],
   "source": [
    "predictions_bottom_model = (predictions + predictions_2)/2"
   ]
  },
  {
   "cell_type": "code",
   "execution_count": 57,
   "metadata": {
    "collapsed": true
   },
   "outputs": [],
   "source": [
    "class_ids = {train_generator.class_indices[x]: x for x in train_generator.class_indices}\n",
    "predicted_classes_bottom_model = [class_ids[x] for x in np.argmax(predictions_bottom_model, axis=1)]"
   ]
  },
  {
   "cell_type": "code",
   "execution_count": 58,
   "metadata": {
    "collapsed": true
   },
   "outputs": [],
   "source": [
    "indexes = []\n",
    "for i in range(len(np.argmax(predictions_bottom_model, axis=1))):\n",
    "    if((np.argmax(predictions_bottom_model, axis=1)[i]==0) or (np.argmax(predictions_bottom_model, axis=1)[i]==6)):\n",
    "        indexes.append(i)"
   ]
  },
  {
   "cell_type": "code",
   "execution_count": 59,
   "metadata": {},
   "outputs": [
    {
     "data": {
      "text/plain": [
       "159"
      ]
     },
     "execution_count": 59,
     "metadata": {},
     "output_type": "execute_result"
    }
   ],
   "source": [
    "len(indexes)"
   ]
  },
  {
   "cell_type": "code",
   "execution_count": 103,
   "metadata": {
    "collapsed": true
   },
   "outputs": [],
   "source": [
    "binary_predictions_averaged = np.maximum(predictions_6,predictions_3)"
   ]
  },
  {
   "cell_type": "code",
   "execution_count": 60,
   "metadata": {
    "collapsed": true
   },
   "outputs": [],
   "source": [
    "for i in indexes:\n",
    "    predictions_bottom_model[i][0] = (predictions_bottom_model[i][0] + predictions_3[i][0])/2\n",
    "    predictions_bottom_model[i][6] = (predictions_bottom_model[i][6] + predictions_3[i][1])/2"
   ]
  },
  {
   "cell_type": "code",
   "execution_count": 61,
   "metadata": {
    "collapsed": true
   },
   "outputs": [],
   "source": [
    "class_ids = {train_generator.class_indices[x]: x for x in train_generator.class_indices}\n",
    "predicted_classes_bottom_model = [class_ids[x] for x in np.argmax(predictions_bottom_model, axis=1)]"
   ]
  },
  {
   "cell_type": "code",
   "execution_count": 62,
   "metadata": {},
   "outputs": [],
   "source": [
    "for i in indexes:\n",
    "    predictions_max[i][0] = np.maximum(predictions_max[i][0],predictions_7[i][0])\n",
    "    predictions_max[i][6] = np.maximum(predictions_max[i][6],predictions_7[i][1])"
   ]
  },
  {
   "cell_type": "code",
   "execution_count": 63,
   "metadata": {
    "collapsed": true
   },
   "outputs": [],
   "source": [
    "class_ids = {train_generator.class_indices[x]: x for x in train_generator.class_indices}\n",
    "predicted_classes_max = [class_ids[x] for x in np.argmax(predictions_max, axis=1)]"
   ]
  },
  {
   "cell_type": "code",
   "execution_count": 64,
   "metadata": {
    "collapsed": true
   },
   "outputs": [],
   "source": [
    "for i in indexes:\n",
    "    predictions_bottom_model[i][0] = (predictions_bottom_model[i][0] + predictions_max[i][0])/2\n",
    "    predictions_bottom_model[i][6] = (predictions_bottom_model[i][6] + predictions_max[i][6])/2"
   ]
  },
  {
   "cell_type": "code",
   "execution_count": 65,
   "metadata": {
    "collapsed": true
   },
   "outputs": [],
   "source": [
    "class_ids = {train_generator.class_indices[x]: x for x in train_generator.class_indices}\n",
    "predicted_classes_bottom_model = [class_ids[x] for x in np.argmax(predictions_bottom_model, axis=1)]"
   ]
  },
  {
   "cell_type": "code",
   "execution_count": 51,
   "metadata": {
    "collapsed": true
   },
   "outputs": [],
   "source": [
    "for i in indexes:\n",
    "    predictions_max[i][0] = np.maximum(predictions_max[i][0],predictions_bottom_model[i][0])\n",
    "    predictions_max[i][6] = np.maximum(predictions_max[i][6],predictions_bottom_model[i][6])"
   ]
  },
  {
   "cell_type": "code",
   "execution_count": 52,
   "metadata": {
    "collapsed": true
   },
   "outputs": [],
   "source": [
    "class_ids = {train_generator.class_indices[x]: x for x in train_generator.class_indices}\n",
    "predicted_classes_max = [class_ids[x] for x in np.argmax(predictions_max, axis=1)]"
   ]
  },
  {
   "cell_type": "code",
   "execution_count": 66,
   "metadata": {},
   "outputs": [
    {
     "name": "stdout",
     "output_type": "stream",
     "text": [
      "165\n",
      "688\n"
     ]
    }
   ],
   "source": [
    "for i in indexes:\n",
    "    if(predicted_classes_bottom_model[i]!=predicted_classes_max[i]):\n",
    "        print(i)"
   ]
  },
  {
   "cell_type": "code",
   "execution_count": 67,
   "metadata": {
    "collapsed": true
   },
   "outputs": [],
   "source": [
    "from os.path import basename\n",
    "test_ids = [basename(x) for x in test_generator.filenames]\n",
    "submission = pd.DataFrame({'file':test_ids,'species':predicted_classes_max})\n",
    "submission.to_csv('submission_mobilenet_max_predictions_binary_weights_averaged_average_of_two_ensembles.csv', encoding=\"utf8\", index=False)"
   ]
  },
  {
   "cell_type": "code",
   "execution_count": 68,
   "metadata": {},
   "outputs": [
    {
     "data": {
      "text/html": [
       "<a href='submission_mobilenet_max_predictions_binary_weights_averaged_average_of_two_ensembles.csv' target='_blank'>submission_mobilenet_max_predictions_binary_weights_averaged_average_of_two_ensembles.csv</a><br>"
      ],
      "text/plain": [
       "/home/sainath/plant_seeding/submission_mobilenet_max_predictions_binary_weights_averaged_average_of_two_ensembles.csv"
      ]
     },
     "execution_count": 68,
     "metadata": {},
     "output_type": "execute_result"
    }
   ],
   "source": [
    "from IPython.display import FileLink\n",
    "FileLink('submission_mobilenet_max_predictions_binary_weights_averaged_average_of_two_ensembles.csv')"
   ]
  },
  {
   "cell_type": "code",
   "execution_count": null,
   "metadata": {
    "collapsed": true
   },
   "outputs": [],
   "source": []
  }
 ],
 "metadata": {
  "kernelspec": {
   "display_name": "Python 3",
   "language": "python",
   "name": "python3"
  },
  "language_info": {
   "codemirror_mode": {
    "name": "ipython",
    "version": 3
   },
   "file_extension": ".py",
   "mimetype": "text/x-python",
   "name": "python",
   "nbconvert_exporter": "python",
   "pygments_lexer": "ipython3",
   "version": "3.5.4"
  }
 },
 "nbformat": 4,
 "nbformat_minor": 2
}
